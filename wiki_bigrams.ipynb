{
 "cells": [
  {
   "cell_type": "code",
   "execution_count": 1,
   "metadata": {},
   "outputs": [],
   "source": [
    "from ipywidgets import FloatProgress, IntText\n",
    "import time\n",
    "import collections\n",
    "from math import log \n",
    "import pickle\n",
    "import os\n",
    "import numpy as np\n",
    "import pandas as pd\n",
    "import matplotlib.pyplot as plt\n",
    "\n",
    "def save_object(obj, filename):\n",
    "    with open(filename, 'wb') as outfile:  \n",
    "        pickle.dump(obj, outfile, pickle.HIGHEST_PROTOCOL)"
   ]
  },
  {
   "cell_type": "code",
   "execution_count": null,
   "metadata": {},
   "outputs": [],
   "source": [
    "with open('data/is_male.pkl', 'rb') as infile:\n",
    "    is_male = pickle.load(infile)"
   ]
  },
  {
   "cell_type": "code",
   "execution_count": 4,
   "metadata": {},
   "outputs": [
    {
     "name": "stdout",
     "output_type": "stream",
     "text": [
      "Python version + compiler & build info: 3.6.5 |Anaconda custom (64-bit)| (default, Mar 29 2018, 18:21:58) \n",
      "[GCC 7.2.0]\n",
      "Jupyter notebook version: 5.4.1\n",
      "\n"
     ]
    }
   ],
   "source": [
    "import sys\n",
    "print(\"Python version + compiler & build info:\", sys.version)\n",
    "print(\"Jupyter notebook version:\", os.popen(\"jupyter notebook --version\").readlines()[0])"
   ]
  },
  {
   "cell_type": "markdown",
   "metadata": {},
   "source": [
    "# Create Counters of Bigrams in Biographies of Women and Men, in Batches"
   ]
  },
  {
   "cell_type": "code",
   "execution_count": 3,
   "metadata": {
    "collapsed": true
   },
   "outputs": [],
   "source": [
    "# This is purportedly the fastest way to get bigrams\n",
    "def get_bigrams(text):\n",
    "    return zip(*[text[i:] for i in range(2)])"
   ]
  },
  {
   "cell_type": "code",
   "execution_count": 5,
   "metadata": {},
   "outputs": [
    {
     "name": "stdout",
     "output_type": "stream",
     "text": [
      "Building batches of counters for bigrams found in all Wiki bios of women and of men...\n",
      "Estimated time for completion: 46 minutes\n"
     ]
    },
    {
     "data": {
      "application/vnd.jupyter.widget-view+json": {
       "model_id": "f1d1584e466048f1b6a595c2e7d13e59",
       "version_major": 2,
       "version_minor": 0
      },
      "text/plain": [
       "A Jupyter Widget"
      ]
     },
     "metadata": {},
     "output_type": "display_data"
    },
    {
     "data": {
      "application/vnd.jupyter.widget-view+json": {
       "model_id": "e0105367b8ee44cfb3d72185593afafd",
       "version_major": 2,
       "version_minor": 0
      },
      "text/plain": [
       "A Jupyter Widget"
      ]
     },
     "metadata": {},
     "output_type": "display_data"
    },
    {
     "name": "stdout",
     "output_type": "stream",
     "text": [
      "\n",
      "Articles: 850399 Time: 2681.5078961849213 seconds\n"
     ]
    }
   ],
   "source": [
    "# This cell takes about 46 minutes to run.\n",
    "\n",
    "male_bigrams = collections.Counter()\n",
    "female_bigrams = collections.Counter()\n",
    "\n",
    "print(\"Building batches of counters for bigrams found in all Wiki bios of women and of men...\")\n",
    "print(\"Estimated time for completion: 46 minutes\")\n",
    "\n",
    "fp = FloatProgress(min=0, max=850399)\n",
    "all_articles = IntText(value=0, description=\"Article Count:\")\n",
    "display(fp, all_articles)\n",
    "article_count = 0\n",
    "\n",
    "if not os.path.exists('data/bigrams'):\n",
    "    os.makedirs('data/bigrams')\n",
    "\n",
    "start = time.time()\n",
    "try:\n",
    "    with open(\"data/gendered-labeled-articles.stripped\", 'r') as f:\n",
    "        for line in f:\n",
    "            article_count += 1\n",
    "            all_articles.value += 1\n",
    "            if article_count % 1000 == 0:\n",
    "                fp.value = article_count\n",
    "            line = line.split()\n",
    "            male = is_male[line.pop(0)]\n",
    "            # Read text in batches of 100 words\n",
    "            line = [line[i-1 : i+99] for i in range(1, len(line), 99)]\n",
    "            while line:\n",
    "                bigrams = list(get_bigrams(line.pop(0)))\n",
    "                if male:\n",
    "                    male_bigrams.update(bigrams)\n",
    "                else:\n",
    "                    female_bigrams.update(bigrams)\n",
    "            # Pickle results after every 1000 articles for men; 3000 for women (since we are using\n",
    "            # a total article count, and we know there are fewer bios of women). These numbers seem\n",
    "            # to be about right to prevent memory errors.\n",
    "            if article_count % 1000 == 0:\n",
    "                save_object(male_bigrams, 'data/bigrams/male_bigrams_{}.pkl'.format(article_count // 1000))\n",
    "                male_bigrams = collections.Counter()\n",
    "                if article_count % 3000 == 0:\n",
    "                    save_object(female_bigrams, 'data/bigrams/female_bigrams_{}.pkl'.format(article_count // 3000))\n",
    "                    female_bigrams = collections.Counter()\n",
    "        save_object(male_bigrams, 'data/bigrams/male_bigrams_{}.pkl'.format(article_count // 1000 + 1))\n",
    "        save_object(female_bigrams, 'data/bigrams/female_bigrams_{}.pkl'.format(article_count // 3000 + 1))\n",
    "finally: \n",
    "    print(\"\\nArticles:\", article_count, \"Time:\", (time.time() - start), \"seconds\")"
   ]
  },
  {
   "cell_type": "code",
   "execution_count": 6,
   "metadata": {},
   "outputs": [
    {
     "name": "stdout",
     "output_type": "stream",
     "text": [
      "Number of batches of bigrams for women collected: 284\n",
      "Number of batches of bigrams for men collected: 851\n"
     ]
    }
   ],
   "source": [
    "total_batches_female = article_count // 3000 + 1  \n",
    "total_batches_male = article_count // 1000 + 1 \n",
    "\n",
    "print(\"Number of batches of bigrams for women collected:\", total_batches_female)\n",
    "print(\"Number of batches of bigrams for men collected:\", total_batches_male)"
   ]
  },
  {
   "cell_type": "code",
   "execution_count": 7,
   "metadata": {},
   "outputs": [
    {
     "name": "stdout",
     "output_type": "stream",
     "text": [
      "Merging batches of the female_bigrams counters. Removing bigrams with counts <= 2, six times.\n"
     ]
    },
    {
     "data": {
      "application/vnd.jupyter.widget-view+json": {
       "model_id": "cce57ad8b73f4691a6ebb6e7e056c7aa",
       "version_major": 2,
       "version_minor": 0
      },
      "text/plain": [
       "A Jupyter Widget"
      ]
     },
     "metadata": {},
     "output_type": "display_data"
    },
    {
     "data": {
      "application/vnd.jupyter.widget-view+json": {
       "model_id": "9c73e3a3a21447699c15af73bd382638",
       "version_major": 2,
       "version_minor": 0
      },
      "text/plain": [
       "A Jupyter Widget"
      ]
     },
     "metadata": {},
     "output_type": "display_data"
    },
    {
     "name": "stdout",
     "output_type": "stream",
     "text": [
      "Done.\n",
      "Master counter for female bigrams saved in 'data/bigrams/female_bigrams_master.pkl'\n",
      "Time: 552.6426672935486 seconds\n"
     ]
    }
   ],
   "source": [
    "# This cell takes about 10 minutes to run.\n",
    "\n",
    "print(\"Merging batches of the female_bigrams counters. Removing bigrams with counts <= 2, six times.\")\n",
    "\n",
    "fp = FloatProgress(min=0, max=total_batches_female)\n",
    "count = IntText(value=0, description=\"Count:\")\n",
    "display(fp, count)\n",
    "\n",
    "f_count = 0\n",
    "female_bigrams = collections.Counter()\n",
    "\n",
    "start = time.time()\n",
    "for i in range(1, total_batches_female + 1):\n",
    "    fp.value += 1\n",
    "    count.value += 1\n",
    "    f_count += 1\n",
    "    with open('data/bigrams/female_bigrams_{}.pkl'.format(i), 'rb') as infile:\n",
    "        female_bigrams += pickle.load(infile)\n",
    "        # Remove bigrams with counts <=2 six times.\n",
    "        if f_count % 48 == 0:\n",
    "            for k in set(k for k,v in female_bigrams.items() if v <= 2):\n",
    "                del female_bigrams[k]\n",
    "for k in set(k for k,v in female_bigrams.items() if v <= 2):\n",
    "    del female_bigrams[k]  \n",
    "save_object(female_bigrams, 'data/bigrams/female_bigrams_master.pkl')\n",
    "print(\"Done.\\nMaster counter for female bigrams saved in 'data/bigrams/female_bigrams_master.pkl'\")\n",
    "print(\"Time:\", (time.time() - start), \"seconds\")"
   ]
  },
  {
   "cell_type": "code",
   "execution_count": 8,
   "metadata": {},
   "outputs": [
    {
     "name": "stdout",
     "output_type": "stream",
     "text": [
      "Total number of distinct bigrams collected from bios of women: 2725813\n"
     ]
    }
   ],
   "source": [
    "print(\"Total number of distinct bigrams collected from bios of women:\", len(female_bigrams))"
   ]
  },
  {
   "cell_type": "code",
   "execution_count": 9,
   "metadata": {},
   "outputs": [
    {
     "name": "stdout",
     "output_type": "stream",
     "text": [
      "Deleting temporary batches...\n",
      "Done.\n"
     ]
    }
   ],
   "source": [
    "print(\"Deleting temporary batches...\")\n",
    "for i in range(1, total_batches_female + 1):\n",
    "    os.remove('data/bigrams/female_bigrams_{}.pkl'.format(i))\n",
    "print(\"Done.\")"
   ]
  },
  {
   "cell_type": "code",
   "execution_count": 4,
   "metadata": {
    "scrolled": true
   },
   "outputs": [
    {
     "data": {
      "application/vnd.jupyter.widget-view+json": {
       "model_id": "779b467daaad492a89d8d09d3b218636",
       "version_major": 2,
       "version_minor": 0
      },
      "text/plain": [
       "A Jupyter Widget"
      ]
     },
     "metadata": {},
     "output_type": "display_data"
    },
    {
     "data": {
      "application/vnd.jupyter.widget-view+json": {
       "model_id": "81438b73cf784bba980e571cfe630ef3",
       "version_major": 2,
       "version_minor": 0
      },
      "text/plain": [
       "A Jupyter Widget"
      ]
     },
     "metadata": {},
     "output_type": "display_data"
    },
    {
     "name": "stdout",
     "output_type": "stream",
     "text": [
      "Time: 1240.206268787384 seconds\n",
      "Number of batches of male bigrams reduced to 48\n"
     ]
    }
   ],
   "source": [
    "# This cell takes about 20 minutes to run.\n",
    "\n",
    "# NOTE: If you get a memory error here, restart kernel and re-run first cell of notebook only.\n",
    "# Then try again (a hacky way to solve memory issue that seems to work.)\n",
    "\n",
    "# Delete female_bigrams to save memory.  We can load it later from pickle file.\n",
    "# del female_bigrams\n",
    "total_batches_male = 851\n",
    "\n",
    "fp = FloatProgress(min=0, max=total_batches_male)\n",
    "count = IntText(value=0, description=\"Count:\")\n",
    "m_count = 0\n",
    "display(fp, count)\n",
    "\n",
    "male_bigrams = collections.Counter()\n",
    "n = 7\n",
    "\n",
    "start = time.time()\n",
    "for i in range(1, total_batches_male + 1):\n",
    "    fp.value += 1\n",
    "    count.value += 1\n",
    "    m_count += 1\n",
    "    with open('data/bigrams/male_bigrams_{}.pkl'.format(i), 'rb') as infile:\n",
    "        male_bigrams += pickle.load(infile)\n",
    "        # Remove bigrams with count <= n forty-eight times.\n",
    "        if m_count % 18 == 0:\n",
    "            for k in set(k for k,v in male_bigrams.items() if v <= n ):\n",
    "                del male_bigrams[k]\n",
    "            save_object(male_bigrams, 'data/bigrams/male_bigrams_b_{}.pkl'.format(m_count // 18))\n",
    "            male_bigrams = collections.Counter()\n",
    "# for k in set(k for k,v in male_bigrams.items() if v <= n ):\n",
    "#     del male_bigrams[k]\n",
    "save_object(male_bigrams, 'data/bigrams/male_bigrams_b_{}.pkl'.format(m_count // 18 + 1))\n",
    "male_bigrams = collections.Counter()\n",
    "print(\"Time:\", (time.time() - start), \"seconds\")\n",
    "print(\"Number of batches of male bigrams reduced to\", m_count // 18 + 1)"
   ]
  },
  {
   "cell_type": "code",
   "execution_count": 9,
   "metadata": {},
   "outputs": [
    {
     "data": {
      "application/vnd.jupyter.widget-view+json": {
       "model_id": "82fc2731d2614302923bf363c5123f36",
       "version_major": 2,
       "version_minor": 0
      },
      "text/plain": [
       "A Jupyter Widget"
      ]
     },
     "metadata": {},
     "output_type": "display_data"
    },
    {
     "data": {
      "application/vnd.jupyter.widget-view+json": {
       "model_id": "fa0183d35050417db0ad4a024fd87f10",
       "version_major": 2,
       "version_minor": 0
      },
      "text/plain": [
       "A Jupyter Widget"
      ]
     },
     "metadata": {},
     "output_type": "display_data"
    },
    {
     "name": "stdout",
     "output_type": "stream",
     "text": [
      "Creating final master counter for male bigrams...\n",
      "This should take under 2 minutes...\n",
      "Done.\n",
      "Master counter for male bigrams saved in 'data/bigrams/male_bigrams_master.pkl'\n",
      "Time: 35.66937756538391 seconds\n",
      "Total number of distinct bigrams collected from bios of men: 1612684\n"
     ]
    }
   ],
   "source": [
    "# This cell takes less than 2 minutes to run.\n",
    "\n",
    "fp = FloatProgress(min=0, max=48)\n",
    "count = IntText(value=0, description=\"Count:\")\n",
    "display(fp, count)\n",
    "\n",
    "print(\"Creating final master counter for male bigrams...\")\n",
    "print(\"This should take under 2 minutes...\")\n",
    "\n",
    "start = time.time()\n",
    "for i in range(1, 49):\n",
    "    fp.value += 1\n",
    "    count.value += 1\n",
    "    with open('data/bigrams/male_bigrams_b_{}.pkl'.format(i), 'rb') as infile:\n",
    "        male_bigrams += pickle.load(infile)\n",
    "# Limiting the number of bigrams to those with counts of 8 or more helps save memory\n",
    "for k in set(k for k,v in male_bigrams.items() if v < 8):\n",
    "    del male_bigrams[k]\n",
    "save_object(male_bigrams, 'data/bigrams/male_bigrams_master.pkl')\n",
    "print(\"Done.\\nMaster counter for male bigrams saved in 'data/bigrams/male_bigrams_master.pkl'\")\n",
    "print(\"Time:\", (time.time() - start), \"seconds\")\n",
    "print(\"Total number of distinct bigrams collected from bios of men:\", len(male_bigrams))"
   ]
  },
  {
   "cell_type": "code",
   "execution_count": 12,
   "metadata": {},
   "outputs": [
    {
     "name": "stdout",
     "output_type": "stream",
     "text": [
      "Deleting temporary batches...\n",
      "Done.\n"
     ]
    }
   ],
   "source": [
    "print(\"Deleting temporary batches...\")\n",
    "for i in range(1, total_batches_male + 1):\n",
    "    os.remove('data/bigrams/male_bigrams_{}.pkl'.format(i))\n",
    "for i in range(1, m_count // 18 + 2):\n",
    "    os.remove('data/bigrams/male_bigrams_b_{}.pkl'.format(i))\n",
    "print(\"Done.\")"
   ]
  },
  {
   "cell_type": "code",
   "execution_count": null,
   "metadata": {
    "collapsed": true
   },
   "outputs": [],
   "source": []
  },
  {
   "cell_type": "code",
   "execution_count": 2,
   "metadata": {},
   "outputs": [],
   "source": [
    "# Load female_bigrams_master:\n",
    "with open('data/bigrams/female_bigrams_master.pkl', 'rb') as infile:\n",
    "    female_bigrams = pickle.load(infile)"
   ]
  },
  {
   "cell_type": "code",
   "execution_count": 3,
   "metadata": {},
   "outputs": [
    {
     "data": {
      "text/plain": [
       "1331985"
      ]
     },
     "execution_count": 3,
     "metadata": {},
     "output_type": "execute_result"
    }
   ],
   "source": [
    "for k in set(k for k,v in female_bigrams.items() if v < 8):\n",
    "    del female_bigrams[k]\n",
    "len(female_bigrams)"
   ]
  },
  {
   "cell_type": "code",
   "execution_count": 4,
   "metadata": {},
   "outputs": [
    {
     "data": {
      "text/plain": [
       "1612684"
      ]
     },
     "execution_count": 4,
     "metadata": {},
     "output_type": "execute_result"
    }
   ],
   "source": [
    "# Load male_bigrams_master:\n",
    "with open('data/bigrams/male_bigrams_master.pkl', 'rb') as infile:\n",
    "    male_bigrams = pickle.load(infile)\n",
    "len(male_bigrams)"
   ]
  },
  {
   "cell_type": "code",
   "execution_count": null,
   "metadata": {
    "collapsed": true
   },
   "outputs": [],
   "source": []
  },
  {
   "cell_type": "markdown",
   "metadata": {
    "collapsed": true
   },
   "source": [
    "# Exploratory Data Analysis of Bigrams"
   ]
  },
  {
   "cell_type": "code",
   "execution_count": 14,
   "metadata": {},
   "outputs": [
    {
     "data": {
      "text/plain": [
       "[(('http', 'www'), 813722),\n",
       " (('of', 'the'), 708824),\n",
       " (('ref', 'name'), 683958),\n",
       " (('url', 'http'), 578411),\n",
       " (('in', 'the'), 566040),\n",
       " (('ref', 'cite'), 448580),\n",
       " (('cite', 'web'), 440215),\n",
       " (('at', 'the'), 391527),\n",
       " (('web', 'url'), 299257),\n",
       " (('she', 'was'), 251644),\n",
       " (('women', 's'), 226877),\n",
       " (('for', 'the'), 190627),\n",
       " (('cite', 'news'), 179157),\n",
       " (('new', 'york'), 175253),\n",
       " (('to', 'the'), 173509),\n",
       " (('on', 'the'), 173402),\n",
       " (('and', 'the'), 169740),\n",
       " (('ref', 'http'), 160787),\n",
       " (('as', 'a'), 150900),\n",
       " (('birth', 'date'), 149470),\n",
       " (('ref', 'ref'), 144628),\n",
       " (('align', 'center'), 141886),\n",
       " (('united', 'states'), 121101),\n",
       " (('url', 'https'), 117811),\n",
       " (('in', 'a'), 110508),\n",
       " (('births', 'category'), 109660),\n",
       " (('ref', 'she'), 108566),\n",
       " (('living', 'people'), 107575),\n",
       " (('people', 'category'), 107094),\n",
       " (('archive', 'org'), 104657),\n",
       " (('category', 'american'), 104348),\n",
       " (('of', 'her'), 103947),\n",
       " (('university', 'of'), 102493),\n",
       " (('web', 'archive'), 100422),\n",
       " (('org', 'web'), 100273),\n",
       " (('from', 'the'), 98954),\n",
       " (('https', 'web'), 98542),\n",
       " (('is', 'a'), 97840),\n",
       " (('was', 'a'), 96771),\n",
       " (('tv', 'series'), 95971),\n",
       " (('references', 'reflist'), 95483),\n",
       " (('with', 'the'), 94900),\n",
       " (('ref', 'in'), 94165),\n",
       " (('category', 'living'), 92544),\n",
       " (('external', 'links'), 87502),\n",
       " (('the', 'first'), 86477),\n",
       " (('co', 'uk'), 85168),\n",
       " (('html', 'title'), 82992),\n",
       " (('web', 'title'), 81758),\n",
       " (('style', 'background'), 80678),\n",
       " (('https', 'www'), 79878),\n",
       " (('birth', 'place'), 79359),\n",
       " (('news', 'url'), 79138),\n",
       " (('death', 'date'), 77860),\n",
       " (('by', 'the'), 75581),\n",
       " (('and', 'age'), 73603),\n",
       " (('summer', 'olympics'), 72681),\n",
       " (('the', 'united'), 72487),\n",
       " (('she', 'is'), 72233),\n",
       " (('category', 'people'), 72171),\n",
       " (('as', 'the'), 71198),\n",
       " (('date', 'and'), 70526),\n",
       " (('date', 'birth'), 70489),\n",
       " (('cite', 'book'), 70159),\n",
       " (('was', 'the'), 67701),\n",
       " (('she', 'has'), 67227),\n",
       " (('text', 'align'), 67077),\n",
       " (('people', 'from'), 66838),\n",
       " (('the', 'new'), 65989),\n",
       " (('u', 's'), 65686)]"
      ]
     },
     "execution_count": 14,
     "metadata": {},
     "output_type": "execute_result"
    }
   ],
   "source": [
    "female_bigrams.most_common(70)"
   ]
  },
  {
   "cell_type": "code",
   "execution_count": 15,
   "metadata": {},
   "outputs": [
    {
     "data": {
      "text/plain": [
       "[(('of', 'the'), 10743389),\n",
       " (('http', 'www'), 7115634),\n",
       " (('in', 'the'), 6708376),\n",
       " (('ref', 'name'), 6162263),\n",
       " (('url', 'http'), 4826060),\n",
       " (('ref', 'cite'), 3982254),\n",
       " (('he', 'was'), 3527017),\n",
       " (('cite', 'web'), 3441055),\n",
       " (('at', 'the'), 3024121),\n",
       " (('to', 'the'), 2744050),\n",
       " (('for', 'the'), 2462184),\n",
       " (('web', 'url'), 2362973),\n",
       " (('and', 'the'), 1935295),\n",
       " (('as', 'a'), 1894177),\n",
       " (('on', 'the'), 1864609),\n",
       " (('united', 'states'), 1833942),\n",
       " (('new', 'york'), 1697296),\n",
       " (('cite', 'news'), 1685356),\n",
       " (('birth', 'date'), 1576543),\n",
       " (('align', 'center'), 1555454),\n",
       " (('ref', 'http'), 1532831),\n",
       " (('players', 'category'), 1523481),\n",
       " (('with', 'the'), 1445508),\n",
       " (('f', 'c'), 1414783),\n",
       " (('was', 'a'), 1383429),\n",
       " (('births', 'category'), 1249080),\n",
       " (('university', 'of'), 1191819),\n",
       " (('of', 'his'), 1189126),\n",
       " (('from', 'the'), 1167930),\n",
       " (('in', 'a'), 1155019),\n",
       " (('by', 'the'), 1128407),\n",
       " (('ref', 'ref'), 1123085),\n",
       " (('style', 'background'), 1054393),\n",
       " (('url', 'https'), 1048855),\n",
       " (('ref', 'he'), 1043445),\n",
       " (('the', 'first'), 991601),\n",
       " (('the', 'united'), 971037),\n",
       " (('co', 'uk'), 955335),\n",
       " (('references', 'reflist'), 938507),\n",
       " (('death', 'date'), 923442),\n",
       " (('as', 'the'), 913630),\n",
       " (('cite', 'book'), 909289),\n",
       " (('archive', 'org'), 902547),\n",
       " (('category', 'people'), 893387),\n",
       " (('external', 'links'), 865936),\n",
       " (('birth', 'place'), 843330),\n",
       " (('ref', 'in'), 841856),\n",
       " (('0', '0'), 826471),\n",
       " (('br', 'small'), 808533),\n",
       " (('people', 'category'), 807615),\n",
       " (('was', 'the'), 805645),\n",
       " (('web', 'archive'), 797525),\n",
       " (('org', 'web'), 797152),\n",
       " (('align', 'left'), 794831),\n",
       " (('is', 'a'), 794489),\n",
       " (('https', 'web'), 780078),\n",
       " (('in', 'his'), 774684),\n",
       " (('member', 'of'), 770476),\n",
       " (('of', 'a'), 769138),\n",
       " (('category', 'american'), 768676),\n",
       " (('one', 'of'), 763881),\n",
       " (('and', 'age'), 761586),\n",
       " (('living', 'people'), 760814),\n",
       " (('people', 'from'), 755709),\n",
       " (('and', 'was'), 752151),\n",
       " (('news', 'url'), 751990),\n",
       " (('date', 'and'), 741749),\n",
       " (('html', 'title'), 732643),\n",
       " (('date', 'birth'), 730903),\n",
       " (('the', 'new'), 712533)]"
      ]
     },
     "execution_count": 15,
     "metadata": {},
     "output_type": "execute_result"
    }
   ],
   "source": [
    "male_bigrams.most_common(70)"
   ]
  },
  {
   "cell_type": "code",
   "execution_count": 5,
   "metadata": {},
   "outputs": [],
   "source": [
    "# Load the unigram counters\n",
    "\n",
    "with open('data/female_counter.pkl', 'rb') as infile:\n",
    "    female_counter = pickle.load(infile)\n",
    "with open('data/male_counter.pkl', 'rb') as infile:\n",
    "    male_counter = pickle.load(infile)"
   ]
  },
  {
   "cell_type": "code",
   "execution_count": null,
   "metadata": {
    "collapsed": true
   },
   "outputs": [],
   "source": []
  },
  {
   "cell_type": "code",
   "execution_count": 6,
   "metadata": {},
   "outputs": [],
   "source": [
    "class PMICalculator:\n",
    "    \n",
    "    def __init__(self, counter1, counter2, n1, n2):\n",
    "        self.counter1 = counter1\n",
    "        self.counter2 = counter2\n",
    "        self.n1 = n1\n",
    "        self.n2 = n2\n",
    "        self.lpc1 = log(n1 / (n1 + n2))\n",
    "\n",
    "    def pmi(self, word):\n",
    "        try:\n",
    "            return (log(self.counter1[word]) - \n",
    "            self.lpc1 -\n",
    "            log(self.counter1[word] + self.counter2[word]))\n",
    "        except ValueError:\n",
    "            return 0"
   ]
  },
  {
   "cell_type": "code",
   "execution_count": null,
   "metadata": {},
   "outputs": [],
   "source": [
    "pc1 = PMICalculator(female_counter, male_counter, 130576, 718413)"
   ]
  },
  {
   "cell_type": "code",
   "execution_count": 21,
   "metadata": {},
   "outputs": [
    {
     "data": {
      "text/plain": [
       "-1.9380632450542024"
      ]
     },
     "execution_count": 21,
     "metadata": {},
     "output_type": "execute_result"
    }
   ],
   "source": [
    "pc1.pmi(\"his\")"
   ]
  },
  {
   "cell_type": "code",
   "execution_count": 22,
   "metadata": {},
   "outputs": [
    {
     "data": {
      "text/plain": [
       "1.7940272570088585"
      ]
     },
     "execution_count": 22,
     "metadata": {},
     "output_type": "execute_result"
    }
   ],
   "source": [
    "pc1.pmi(\"she\")"
   ]
  },
  {
   "cell_type": "code",
   "execution_count": 35,
   "metadata": {},
   "outputs": [
    {
     "data": {
      "text/plain": [
       "1.509566866723068"
      ]
     },
     "execution_count": 35,
     "metadata": {},
     "output_type": "execute_result"
    }
   ],
   "source": [
    "pc1.pmi(\"husband\")"
   ]
  },
  {
   "cell_type": "code",
   "execution_count": 36,
   "metadata": {},
   "outputs": [
    {
     "data": {
      "text/plain": [
       "-0.057060278138187925"
      ]
     },
     "execution_count": 36,
     "metadata": {},
     "output_type": "execute_result"
    }
   ],
   "source": [
    "pc1.pmi(\"wife\")"
   ]
  },
  {
   "cell_type": "code",
   "execution_count": 41,
   "metadata": {},
   "outputs": [
    {
     "data": {
      "text/plain": [
       "-0.12356478572158913"
      ]
     },
     "execution_count": 41,
     "metadata": {},
     "output_type": "execute_result"
    }
   ],
   "source": [
    "pc1.pmi(\"career\")"
   ]
  },
  {
   "cell_type": "code",
   "execution_count": 42,
   "metadata": {},
   "outputs": [
    {
     "data": {
      "text/plain": [
       "0.28344799212810123"
      ]
     },
     "execution_count": 42,
     "metadata": {},
     "output_type": "execute_result"
    }
   ],
   "source": [
    "pc1.pmi(\"family\")"
   ]
  },
  {
   "cell_type": "code",
   "execution_count": 53,
   "metadata": {},
   "outputs": [
    {
     "data": {
      "text/plain": [
       "0.20763811546007105"
      ]
     },
     "execution_count": 53,
     "metadata": {},
     "output_type": "execute_result"
    }
   ],
   "source": [
    "pc1.pmi(\"received\")"
   ]
  },
  {
   "cell_type": "code",
   "execution_count": 54,
   "metadata": {},
   "outputs": [
    {
     "data": {
      "text/plain": [
       "0.25115538983372687"
      ]
     },
     "execution_count": 54,
     "metadata": {},
     "output_type": "execute_result"
    }
   ],
   "source": [
    "pc1.pmi(\"felt\")"
   ]
  },
  {
   "cell_type": "code",
   "execution_count": 55,
   "metadata": {},
   "outputs": [
    {
     "data": {
      "text/plain": [
       "-0.04150079746606927"
      ]
     },
     "execution_count": 55,
     "metadata": {},
     "output_type": "execute_result"
    }
   ],
   "source": [
    "pc1.pmi(\"thought\")"
   ]
  },
  {
   "cell_type": "code",
   "execution_count": 56,
   "metadata": {},
   "outputs": [
    {
     "data": {
      "text/plain": [
       "-0.17359434944100727"
      ]
     },
     "execution_count": 56,
     "metadata": {},
     "output_type": "execute_result"
    }
   ],
   "source": [
    "pc1.pmi(\"feared\")"
   ]
  },
  {
   "cell_type": "code",
   "execution_count": 57,
   "metadata": {},
   "outputs": [
    {
     "data": {
      "text/plain": [
       "0.4251156630049806"
      ]
     },
     "execution_count": 57,
     "metadata": {},
     "output_type": "execute_result"
    }
   ],
   "source": [
    "pc1.pmi(\"married\")"
   ]
  },
  {
   "cell_type": "code",
   "execution_count": 58,
   "metadata": {},
   "outputs": [
    {
     "data": {
      "text/plain": [
       "0.49427551126943214"
      ]
     },
     "execution_count": 58,
     "metadata": {},
     "output_type": "execute_result"
    }
   ],
   "source": [
    "pc1.pmi(\"looks\")"
   ]
  },
  {
   "cell_type": "code",
   "execution_count": null,
   "metadata": {},
   "outputs": [],
   "source": [
    "all_unigrams = female_counter + male_counter\n",
    "top_unigrams = all_unigrams.most_common(20000)\n",
    "top_unigrams_with_pmi = [(p[0], p[1], pc1.pmi(p[0])) for p in top_unigrams]\n",
    "top_unigrams_with_pmi.sort(key = lambda x: x[-1])"
   ]
  },
  {
   "cell_type": "code",
   "execution_count": 14,
   "metadata": {},
   "outputs": [],
   "source": [
    "# Men\n",
    "men_top_pmi = top_unigrams_with_pmi[:100]"
   ]
  },
  {
   "cell_type": "code",
   "execution_count": 24,
   "metadata": {},
   "outputs": [],
   "source": [
    "# Women\n",
    "women_top_pmi = top_unigrams_with_pmi[-100:]"
   ]
  },
  {
   "cell_type": "code",
   "execution_count": 23,
   "metadata": {},
   "outputs": [],
   "source": [
    "# men_top_pmi"
   ]
  },
  {
   "cell_type": "code",
   "execution_count": 25,
   "metadata": {},
   "outputs": [
    {
     "data": {
      "text/plain": [
       "[('olga', 9979, 1.4244624807668984),\n",
       " ('karin', 3462, 1.4268502292553649),\n",
       " ('oricon', 6592, 1.4289086990300355),\n",
       " ('cindy', 5564, 1.4294589397572484),\n",
       " ('cheryl', 5233, 1.429642104677562),\n",
       " ('vogue', 14719, 1.4299182901017922),\n",
       " ('carla', 5561, 1.430278025021753),\n",
       " ('nurses', 4627, 1.4321053876736585),\n",
       " ('gymnast', 5323, 1.4326140040684354),\n",
       " ('angie', 2808, 1.4357037786344566),\n",
       " ('nicole', 12228, 1.4358578637140553),\n",
       " ('gymnastics', 27011, 1.4361599930835922),\n",
       " ('ballerina', 2369, 1.4394553364610196),\n",
       " ('melissa', 9778, 1.4416696954133652),\n",
       " ('katie', 9254, 1.4426203806579831),\n",
       " ('adriana', 2478, 1.4427348130173288),\n",
       " ('vanessa', 7303, 1.4432125532717706),\n",
       " ('girls', 57627, 1.443666437110494),\n",
       " ('tanya', 3190, 1.4439568891603312),\n",
       " ('carly', 2751, 1.4440165097617674),\n",
       " ('sopranos', 4737, 1.4471206741306606),\n",
       " ('suffrage', 6558, 1.447225542427251),\n",
       " ('abby', 3365, 1.448028872285004),\n",
       " ('bianca', 3231, 1.45024338952501),\n",
       " ('erika', 3397, 1.4516480233531563),\n",
       " ('jessica', 17538, 1.4518054969917902),\n",
       " ('monique', 2639, 1.4538502268189877),\n",
       " ('justine', 2306, 1.4539700542077787),\n",
       " ('michelle', 17688, 1.4548538222469443),\n",
       " ('tatiana', 3955, 1.4553103308129565),\n",
       " ('chloe', 2841, 1.4560098780253874),\n",
       " ('hye', 2421, 1.4572885529771042),\n",
       " ('megan', 5878, 1.4577397795135614),\n",
       " ('avn', 10121, 1.4594365854005744),\n",
       " ('chanel', 2576, 1.46000443790859),\n",
       " ('nadine', 2535, 1.4600955381334657),\n",
       " ('natalia', 5096, 1.4606226202147763),\n",
       " ('nikki', 5251, 1.4635739986398217),\n",
       " ('natasha', 4623, 1.4675986094324713),\n",
       " ('becky', 3007, 1.4692826151458007),\n",
       " ('melanie', 6026, 1.4695255625823087),\n",
       " ('martina', 4776, 1.4719506819786332),\n",
       " ('lesbian', 11601, 1.4728128703503014),\n",
       " ('nathalie', 2342, 1.4759755233413694),\n",
       " ('danielle', 5043, 1.4778650856087356),\n",
       " ('elle', 6924, 1.478470341287215),\n",
       " ('feminine', 2583, 1.480466740384914),\n",
       " ('kristina', 2815, 1.483708080233165),\n",
       " ('miss', 83631, 1.4843674303589847),\n",
       " ('serena', 4587, 1.485414709474675),\n",
       " ('gabriela', 2511, 1.4884877118158162),\n",
       " ('irina', 4768, 1.4900488761150061),\n",
       " ('sexiest', 3491, 1.4915208926340338),\n",
       " ('ellie', 2464, 1.4944413892355977),\n",
       " ('glamour', 5259, 1.4953035046743786),\n",
       " ('jenna', 2629, 1.505422050171231),\n",
       " ('husband', 75006, 1.509566866723068),\n",
       " ('dames', 2913, 1.5134031379984698),\n",
       " ('selena', 2387, 1.5172694217917977),\n",
       " ('samantha', 7174, 1.5255597765556708),\n",
       " ('daniela', 2709, 1.5402589400164963),\n",
       " ('ussoccer', 2946, 1.5463550152588699),\n",
       " ('ladies', 25061, 1.5567496105259568),\n",
       " ('diva', 5421, 1.565351069726276),\n",
       " ('hostess', 2330, 1.565635610121502),\n",
       " ('heroine', 4026, 1.5805928759512007),\n",
       " ('synchronized', 2695, 1.589220875318496),\n",
       " ('rhythmic', 6578, 1.5907733468114795),\n",
       " ('svetlana', 2508, 1.592878865263411),\n",
       " ('iafd', 2944, 1.5934259182796167),\n",
       " ('divas', 3064, 1.6468235824678423),\n",
       " ('softball', 6747, 1.663732906276806),\n",
       " ('consorts', 4180, 1.6646722397229912),\n",
       " ('heptathlon', 2473, 1.6810781243774144),\n",
       " ('uneven', 2870, 1.684879254993061),\n",
       " ('actress', 147860, 1.7006927238502563),\n",
       " ('princesses', 4711, 1.700704771164233),\n",
       " ('feminists', 4716, 1.7009029585357087),\n",
       " ('feminism', 6297, 1.7079919038089475),\n",
       " ('her', 1308263, 1.7244667675788659),\n",
       " ('pageant', 12683, 1.7338061198679977),\n",
       " ('women', 532471, 1.742348800649344),\n",
       " ('female', 123970, 1.7434816438590204),\n",
       " ('feminist', 15422, 1.7511335550504707),\n",
       " ('herself', 41532, 1.75370262315033),\n",
       " ('f0f8ff', 10135, 1.759633956570056),\n",
       " ('lightblue', 7937, 1.7710188060825605),\n",
       " ('womens', 7542, 1.7808032765943356),\n",
       " ('titleholder', 2282, 1.7851590918440001),\n",
       " ('fhm', 2824, 1.791752956152866),\n",
       " ('wnba', 11362, 1.7925247111220468),\n",
       " ('she', 1412916, 1.7940272570088585),\n",
       " ('camogie', 3807, 1.8108914106971437),\n",
       " ('netball', 4354, 1.8132015771732455),\n",
       " ('aagpbl', 3599, 1.8350128269026094),\n",
       " ('actresses', 93472, 1.8524058451615915),\n",
       " ('lpga', 11572, 1.8595688943358457),\n",
       " ('wta', 15923, 1.864272839097632),\n",
       " ('fbw', 3308, 1.8663305871266829),\n",
       " ('addfad', 3096, 1.8707979720789023)]"
      ]
     },
     "execution_count": 25,
     "metadata": {},
     "output_type": "execute_result"
    }
   ],
   "source": [
    "women_top_pmi"
   ]
  },
  {
   "cell_type": "code",
   "execution_count": null,
   "metadata": {},
   "outputs": [],
   "source": []
  },
  {
   "cell_type": "code",
   "execution_count": 7,
   "metadata": {},
   "outputs": [],
   "source": [
    "pc2 = PMICalculator(female_bigrams, male_bigrams, 130576, 718413)"
   ]
  },
  {
   "cell_type": "code",
   "execution_count": 9,
   "metadata": {},
   "outputs": [],
   "source": [
    "all_bigrams = female_bigrams + male_bigrams"
   ]
  },
  {
   "cell_type": "code",
   "execution_count": 11,
   "metadata": {},
   "outputs": [
    {
     "data": {
      "text/plain": [
       "[(('of', 'aberdeen'), 8253),\n",
       " (('46', 'ref'), 8252),\n",
       " (('the', 'eagles'), 8252),\n",
       " (('pcupdate', 'ntupdate'), 8252),\n",
       " (('houston', 'texans'), 8252)]"
      ]
     },
     "execution_count": 11,
     "metadata": {},
     "output_type": "execute_result"
    }
   ],
   "source": [
    "top_bigrams = all_bigrams.most_common(20000)\n",
    "top_bigrams[-5:]"
   ]
  },
  {
   "cell_type": "code",
   "execution_count": 12,
   "metadata": {},
   "outputs": [],
   "source": [
    "top_bigrams_with_pmi = [(p[0], p[1], pc2.pmi(p[0])) for p in top_bigrams]\n",
    "top_bigrams_with_pmi.sort(key = lambda x: x[-1])"
   ]
  },
  {
   "cell_type": "code",
   "execution_count": 8,
   "metadata": {},
   "outputs": [],
   "source": [
    "# Men\n",
    "top_bigrams_with_pmi[:50]"
   ]
  },
  {
   "cell_type": "code",
   "execution_count": 37,
   "metadata": {},
   "outputs": [
    {
     "data": {
      "text/plain": [
       "[(('american', 'women'), 25328, 1.814727984961209),\n",
       " (('her', 'work'), 22365, 1.818924876053325),\n",
       " (('her', 'debut'), 10883, 1.8210054345701217),\n",
       " (('her', 'career'), 21648, 1.8261513329865693),\n",
       " (('she', 'has'), 70357, 1.8265834685324158),\n",
       " (('supporting', 'actress'), 12378, 1.8268087717543349),\n",
       " (('she', 'then'), 10979, 1.8288141422258697),\n",
       " (('she', 'received'), 17720, 1.8361243766480992),\n",
       " (('she', 'served'), 10180, 1.8412669513945836),\n",
       " (('category', 'women'), 29341, 1.8449019731513019),\n",
       " (('she', 'began'), 15514, 1.8513143813812842),\n",
       " (('she', 'won'), 28102, 1.8550074071748277),\n",
       " (('she', 'joined'), 9000, 1.8569771592711604),\n",
       " (('year', 'she'), 12683, 1.8577169145055379),\n",
       " (('she', 'attended'), 11307, 1.8598108776867885),\n",
       " (('she', 'appeared'), 17848, 1.860425078265246),\n",
       " (('she', 'played'), 19948, 1.8630263780836405),\n",
       " (('century', 'women'), 20836, 1.8657837541957925),\n",
       " (('began', 'her'), 8704, 1.865983028165859),\n",
       " (('she', 'studied'), 9917, 1.8669348436887674),\n",
       " (('female', 'singers'), 8999, 1.8684169827626445),\n",
       " (('she', 'graduated'), 9172, 1.8691427139283778),\n",
       " (('american', 'female'), 11263, 1.8692455919965472),\n",
       " (('women', 'writers'), 19960, 1.8695826442739953),\n",
       " (('olympics', 'women'), 16566, 1.86967329318413),\n",
       " (('actresses', 'category'), 61005, 1.870745740779741),\n",
       " (('championships', 'women'), 17658, 1.8711842814383939),\n",
       " (('category', 'actresses'), 18433, 1.8720907970812082),\n",
       " (('film', 'actresses'), 17840, 1.8720907970812082),\n",
       " (('open', 'women'), 15707, 1.8720907970812082),\n",
       " (('actresses', 'from'), 15092, 1.8720907970812082),\n",
       " (('television', 'actresses'), 13199, 1.8720907970812082),\n",
       " (('occupation', 'actress'), 12172, 1.8720907970812082),\n",
       " (('american', 'actresses'), 10033, 1.8720907970812082),\n",
       " (('category', 'female'), 9876, 1.8720907970812082)]"
      ]
     },
     "execution_count": 37,
     "metadata": {},
     "output_type": "execute_result"
    }
   ],
   "source": [
    "# Women\n",
    "top_bigrams_with_pmi[-35:]"
   ]
  },
  {
   "cell_type": "code",
   "execution_count": 32,
   "metadata": {},
   "outputs": [
    {
     "data": {
      "text/plain": [
       "1.6782626536456213"
      ]
     },
     "execution_count": 32,
     "metadata": {},
     "output_type": "execute_result"
    }
   ],
   "source": [
    "pc2.pmi((\"first\", \"woman\"))"
   ]
  },
  {
   "cell_type": "code",
   "execution_count": 33,
   "metadata": {},
   "outputs": [
    {
     "data": {
      "text/plain": [
       "-2.248461007969188"
      ]
     },
     "execution_count": 33,
     "metadata": {},
     "output_type": "execute_result"
    }
   ],
   "source": [
    "pc2.pmi((\"first\", \"man\"))"
   ]
  },
  {
   "cell_type": "code",
   "execution_count": 34,
   "metadata": {},
   "outputs": [
    {
     "data": {
      "text/plain": [
       "-0.5448207087013106"
      ]
     },
     "execution_count": 34,
     "metadata": {},
     "output_type": "execute_result"
    }
   ],
   "source": [
    "pc2.pmi((\"first\", \"person\"))"
   ]
  },
  {
   "cell_type": "code",
   "execution_count": 39,
   "metadata": {},
   "outputs": [
    {
     "data": {
      "text/plain": [
       "1.677569700476507"
      ]
     },
     "execution_count": 39,
     "metadata": {},
     "output_type": "execute_result"
    }
   ],
   "source": [
    "pc2.pmi((\"her\", \"mother\"))"
   ]
  },
  {
   "cell_type": "code",
   "execution_count": 40,
   "metadata": {},
   "outputs": [
    {
     "data": {
      "text/plain": [
       "-2.3741492182690216"
      ]
     },
     "execution_count": 40,
     "metadata": {},
     "output_type": "execute_result"
    }
   ],
   "source": [
    "pc2.pmi((\"his\", \"mother\"))"
   ]
  },
  {
   "cell_type": "code",
   "execution_count": 43,
   "metadata": {},
   "outputs": [
    {
     "data": {
      "text/plain": [
       "-0.20183556391051916"
      ]
     },
     "execution_count": 43,
     "metadata": {},
     "output_type": "execute_result"
    }
   ],
   "source": [
    "pc2.pmi((\"husband\", \"of\"))"
   ]
  },
  {
   "cell_type": "code",
   "execution_count": 44,
   "metadata": {},
   "outputs": [
    {
     "data": {
      "text/plain": [
       "0.46124905152146845"
      ]
     },
     "execution_count": 44,
     "metadata": {},
     "output_type": "execute_result"
    }
   ],
   "source": [
    "pc2.pmi((\"wife\", \"of\"))"
   ]
  },
  {
   "cell_type": "code",
   "execution_count": 45,
   "metadata": {},
   "outputs": [
    {
     "data": {
      "text/plain": [
       "-1.089677112699471"
      ]
     },
     "execution_count": 45,
     "metadata": {},
     "output_type": "execute_result"
    }
   ],
   "source": [
    "pc2.pmi((\"leader\", \"of\"))"
   ]
  },
  {
   "cell_type": "code",
   "execution_count": 46,
   "metadata": {},
   "outputs": [
    {
     "data": {
      "text/plain": [
       "-0.3949652180862451"
      ]
     },
     "execution_count": 46,
     "metadata": {},
     "output_type": "execute_result"
    }
   ],
   "source": [
    "pc2.pmi((\"known\", \"for\"))"
   ]
  },
  {
   "cell_type": "code",
   "execution_count": 47,
   "metadata": {},
   "outputs": [
    {
     "data": {
      "text/plain": [
       "-0.18826044315597024"
      ]
     },
     "execution_count": 47,
     "metadata": {},
     "output_type": "execute_result"
    }
   ],
   "source": [
    "pc2.pmi((\"recognized\", \"for\"))"
   ]
  },
  {
   "cell_type": "code",
   "execution_count": 48,
   "metadata": {},
   "outputs": [
    {
     "data": {
      "text/plain": [
       "-0.8254634190213821"
      ]
     },
     "execution_count": 48,
     "metadata": {},
     "output_type": "execute_result"
    }
   ],
   "source": [
    "pc2.pmi((\"first\", \"of\"))"
   ]
  },
  {
   "cell_type": "code",
   "execution_count": 49,
   "metadata": {},
   "outputs": [
    {
     "data": {
      "text/plain": [
       "-0.7645317867478543"
      ]
     },
     "execution_count": 49,
     "metadata": {},
     "output_type": "execute_result"
    }
   ],
   "source": [
    "pc2.pmi((\"the\", \"most\"))"
   ]
  },
  {
   "cell_type": "code",
   "execution_count": 50,
   "metadata": {},
   "outputs": [
    {
     "data": {
      "text/plain": [
       "-0.45633540156981844"
      ]
     },
     "execution_count": 50,
     "metadata": {},
     "output_type": "execute_result"
    }
   ],
   "source": [
    "pc2.pmi((\"the\", \"best\"))"
   ]
  },
  {
   "cell_type": "code",
   "execution_count": 51,
   "metadata": {},
   "outputs": [
    {
     "data": {
      "text/plain": [
       "-0.8233678688462245"
      ]
     },
     "execution_count": 51,
     "metadata": {},
     "output_type": "execute_result"
    }
   ],
   "source": [
    "pc2.pmi((\"the\", \"second\"))"
   ]
  },
  {
   "cell_type": "code",
   "execution_count": 52,
   "metadata": {},
   "outputs": [
    {
     "data": {
      "text/plain": [
       "-0.6509658253578845"
      ]
     },
     "execution_count": 52,
     "metadata": {},
     "output_type": "execute_result"
    }
   ],
   "source": [
    "pc2.pmi((\"the\", \"first\"))"
   ]
  },
  {
   "cell_type": "code",
   "execution_count": null,
   "metadata": {},
   "outputs": [],
   "source": []
  },
  {
   "cell_type": "code",
   "execution_count": 97,
   "metadata": {},
   "outputs": [
    {
     "data": {
      "text/plain": [
       "912719349"
      ]
     },
     "execution_count": 97,
     "metadata": {},
     "output_type": "execute_result"
    }
   ],
   "source": [
    "# Number of words we are dealing with in our corpus: \n",
    "sum(female_counter.values()) + sum(male_counter.values())"
   ]
  },
  {
   "cell_type": "code",
   "execution_count": 7,
   "metadata": {},
   "outputs": [],
   "source": [
    "# This makes the kernel die - don't run it\n",
    "\n",
    "# female = female_bigrams + female_counter\n",
    "# male = male_bigrams + male_counter\n",
    "\n",
    "# pc3 = PMICalculator(female, male, 130576, 718413)\n",
    "# all_counters = female + male\n",
    "# top_tokens = all_counters.most_common(10000)\n",
    "# top_tokens_with_pmi = [(p[0], p[1], pc3.pmi(p[0])) for p in top_tokens]\n",
    "# top_tokens_with_pmi.sort(key = lambda x: x[-1])"
   ]
  },
  {
   "cell_type": "code",
   "execution_count": null,
   "metadata": {},
   "outputs": [],
   "source": []
  },
  {
   "cell_type": "markdown",
   "metadata": {},
   "source": [
    "# Comparing Bigrams"
   ]
  },
  {
   "cell_type": "code",
   "execution_count": 8,
   "metadata": {},
   "outputs": [
    {
     "data": {
      "text/plain": [
       "147838368"
      ]
     },
     "execution_count": 8,
     "metadata": {},
     "output_type": "execute_result"
    }
   ],
   "source": [
    "# Number of words in corpus of women's bios: \n",
    "n_women = sum(female_counter.values())\n",
    "n_women"
   ]
  },
  {
   "cell_type": "code",
   "execution_count": 9,
   "metadata": {},
   "outputs": [
    {
     "data": {
      "text/plain": [
       "764880981"
      ]
     },
     "execution_count": 9,
     "metadata": {},
     "output_type": "execute_result"
    }
   ],
   "source": [
    "# Number of words in corpus of men's bios: \n",
    "n_men = sum(male_counter.values())\n",
    "n_men"
   ]
  },
  {
   "cell_type": "code",
   "execution_count": 10,
   "metadata": {},
   "outputs": [],
   "source": [
    "# bigrams beginning with he or she, filtered by words appearing at least 100 times.\n",
    "\n",
    "she = collections.Counter({ k[1]: v for k, v in female_bigrams.items() if v >= 90 and k[0] == \"she\" })\n",
    "he = collections.Counter({ k[1]: v for k, v in male_bigrams.items() if v >= 90 and k[0] == \"he\" })"
   ]
  },
  {
   "cell_type": "code",
   "execution_count": 9,
   "metadata": {},
   "outputs": [
    {
     "data": {
      "text/plain": [
       "615"
      ]
     },
     "execution_count": 9,
     "metadata": {},
     "output_type": "execute_result"
    }
   ],
   "source": [
    "len(she)"
   ]
  },
  {
   "cell_type": "code",
   "execution_count": 10,
   "metadata": {},
   "outputs": [
    {
     "data": {
      "text/plain": [
       "1252344"
      ]
     },
     "execution_count": 10,
     "metadata": {},
     "output_type": "execute_result"
    }
   ],
   "source": [
    "sum(she.values())"
   ]
  },
  {
   "cell_type": "code",
   "execution_count": 11,
   "metadata": {},
   "outputs": [
    {
     "data": {
      "text/plain": [
       "1236"
      ]
     },
     "execution_count": 11,
     "metadata": {},
     "output_type": "execute_result"
    }
   ],
   "source": [
    "len(he)"
   ]
  },
  {
   "cell_type": "code",
   "execution_count": 12,
   "metadata": {},
   "outputs": [
    {
     "data": {
      "text/plain": [
       "14487635"
      ]
     },
     "execution_count": 12,
     "metadata": {},
     "output_type": "execute_result"
    }
   ],
   "source": [
    "sum(he.values())"
   ]
  },
  {
   "cell_type": "code",
   "execution_count": 11,
   "metadata": {},
   "outputs": [
    {
     "name": "stdout",
     "output_type": "stream",
     "text": [
      "Number of times 'he' appears in male bios: 7053558\n",
      "Number of times 'she' appears in female bios: 1306814\n"
     ]
    }
   ],
   "source": [
    "he_count = male_counter['he']\n",
    "she_count = female_counter['she']\n",
    "print(\"Number of times 'he' appears in male bios:\", he_count )\n",
    "print(\"Number of times 'she' appears in female bios:\", she_count)"
   ]
  },
  {
   "cell_type": "code",
   "execution_count": null,
   "metadata": {},
   "outputs": [],
   "source": []
  },
  {
   "cell_type": "code",
   "execution_count": 12,
   "metadata": {},
   "outputs": [],
   "source": [
    "# Look up counts for all words in \"he\" counter not in \"she\" counter and vice versa\n",
    "for word in he:\n",
    "    if word not in she:\n",
    "        she[word] = female_bigrams[(\"she\", word)]\n",
    "for word in she:\n",
    "    if word not in he:\n",
    "        he[word] = male_bigrams[(\"he\", word)]"
   ]
  },
  {
   "cell_type": "code",
   "execution_count": 13,
   "metadata": {},
   "outputs": [],
   "source": [
    "columns = ['Word following he/she', \"she+word count\"]\n",
    "df = pd.DataFrame([(k,v) for k,v in she.items()], columns=columns)\n",
    "df.set_index(['Word following he/she'], inplace=True)"
   ]
  },
  {
   "cell_type": "code",
   "execution_count": 14,
   "metadata": {},
   "outputs": [
    {
     "data": {
      "text/html": [
       "<div>\n",
       "<style scoped>\n",
       "    .dataframe tbody tr th:only-of-type {\n",
       "        vertical-align: middle;\n",
       "    }\n",
       "\n",
       "    .dataframe tbody tr th {\n",
       "        vertical-align: top;\n",
       "    }\n",
       "\n",
       "    .dataframe thead th {\n",
       "        text-align: right;\n",
       "    }\n",
       "</style>\n",
       "<table border=\"1\" class=\"dataframe\">\n",
       "  <thead>\n",
       "    <tr style=\"text-align: right;\">\n",
       "      <th></th>\n",
       "      <th>she+word count</th>\n",
       "    </tr>\n",
       "    <tr>\n",
       "      <th>Word following he/she</th>\n",
       "      <th></th>\n",
       "    </tr>\n",
       "  </thead>\n",
       "  <tbody>\n",
       "    <tr>\n",
       "      <th>is</th>\n",
       "      <td>72233</td>\n",
       "    </tr>\n",
       "    <tr>\n",
       "      <th>called</th>\n",
       "      <td>1325</td>\n",
       "    </tr>\n",
       "    <tr>\n",
       "      <th>moved</th>\n",
       "      <td>9979</td>\n",
       "    </tr>\n",
       "    <tr>\n",
       "      <th>had</th>\n",
       "      <td>44820</td>\n",
       "    </tr>\n",
       "    <tr>\n",
       "      <th>achieved</th>\n",
       "      <td>1092</td>\n",
       "    </tr>\n",
       "  </tbody>\n",
       "</table>\n",
       "</div>"
      ],
      "text/plain": [
       "                       she+word count\n",
       "Word following he/she                \n",
       "is                              72233\n",
       "called                           1325\n",
       "moved                            9979\n",
       "had                             44820\n",
       "achieved                         1092"
      ]
     },
     "execution_count": 14,
     "metadata": {},
     "output_type": "execute_result"
    }
   ],
   "source": [
    "df.head()"
   ]
  },
  {
   "cell_type": "code",
   "execution_count": 15,
   "metadata": {},
   "outputs": [],
   "source": [
    "columns2 = ['Word following he/she', \"he+word count\",]\n",
    "df2 = pd.DataFrame([(k,v) for k,v in he.items()], columns=columns2)\n",
    "df2.set_index(['Word following he/she'], inplace=True)"
   ]
  },
  {
   "cell_type": "code",
   "execution_count": 16,
   "metadata": {},
   "outputs": [],
   "source": [
    "df = pd.concat([df,df2], axis=1)\n",
    "\n",
    "df['total count'] = df.fillna(0)[\"she+word count\"] + df.fillna(0)[\"he+word count\"]\n",
    "\n",
    "df.sort_values(by=['total count'], ascending=False, inplace=True)"
   ]
  },
  {
   "cell_type": "markdown",
   "metadata": {},
   "source": [
    "Pointwise Mutual Information, where $w_1$ is either \"he\" or \"she\", and `N` is the total number of words in the corpus\n",
    "\n",
    "$$\\text{PMI}(w_1 w_2) = \\log_2\\frac{p(w_1 w_2)}{p(w_1)\\ p(w_2)} = \\log_2\\frac{\\frac{C(w_1 w_2)}{N}}{\\frac{C(w_1)}{N} \\cdot \\frac{C(w_2)}{N}} = \\log_2(N * \\frac{C(w_1 w_2)}{C(w_1)\\ C(w_2)} )$$"
   ]
  },
  {
   "cell_type": "code",
   "execution_count": 17,
   "metadata": {},
   "outputs": [],
   "source": [
    "# count of x, count of y, count of xy\n",
    "def pmi(cx, cy, cxy, n):\n",
    "    if cy == 0:\n",
    "        return 0\n",
    "    if cxy == 0:\n",
    "        return -100\n",
    "    else:\n",
    "        return np.log2(n) + np.log2(cxy) - (np.log2(cx) + np.log2(cy))"
   ]
  },
  {
   "cell_type": "code",
   "execution_count": 18,
   "metadata": {},
   "outputs": [
    {
     "data": {
      "text/html": [
       "<div>\n",
       "<style scoped>\n",
       "    .dataframe tbody tr th:only-of-type {\n",
       "        vertical-align: middle;\n",
       "    }\n",
       "\n",
       "    .dataframe tbody tr th {\n",
       "        vertical-align: top;\n",
       "    }\n",
       "\n",
       "    .dataframe thead th {\n",
       "        text-align: right;\n",
       "    }\n",
       "</style>\n",
       "<table border=\"1\" class=\"dataframe\">\n",
       "  <thead>\n",
       "    <tr style=\"text-align: right;\">\n",
       "      <th></th>\n",
       "      <th>she+word count</th>\n",
       "      <th>he+word count</th>\n",
       "      <th>total count</th>\n",
       "      <th>PMI she+word</th>\n",
       "      <th>PMI he+word</th>\n",
       "    </tr>\n",
       "  </thead>\n",
       "  <tbody>\n",
       "    <tr>\n",
       "      <th>was</th>\n",
       "      <td>251644</td>\n",
       "      <td>3527017</td>\n",
       "      <td>3778661</td>\n",
       "      <td>4.865221</td>\n",
       "      <td>5.984816</td>\n",
       "    </tr>\n",
       "    <tr>\n",
       "      <th>is</th>\n",
       "      <td>72233</td>\n",
       "      <td>581205</td>\n",
       "      <td>653438</td>\n",
       "      <td>4.234702</td>\n",
       "      <td>5.079859</td>\n",
       "    </tr>\n",
       "    <tr>\n",
       "      <th>had</th>\n",
       "      <td>44820</td>\n",
       "      <td>532181</td>\n",
       "      <td>577001</td>\n",
       "      <td>4.750093</td>\n",
       "      <td>5.740472</td>\n",
       "    </tr>\n",
       "    <tr>\n",
       "      <th>also</th>\n",
       "      <td>51109</td>\n",
       "      <td>516457</td>\n",
       "      <td>567566</td>\n",
       "      <td>4.753585</td>\n",
       "      <td>5.685964</td>\n",
       "    </tr>\n",
       "    <tr>\n",
       "      <th>has</th>\n",
       "      <td>67227</td>\n",
       "      <td>427506</td>\n",
       "      <td>494733</td>\n",
       "      <td>5.318918</td>\n",
       "      <td>6.043105</td>\n",
       "    </tr>\n",
       "    <tr>\n",
       "      <th>became</th>\n",
       "      <td>24076</td>\n",
       "      <td>321747</td>\n",
       "      <td>345823</td>\n",
       "      <td>5.027487</td>\n",
       "      <td>6.156175</td>\n",
       "    </tr>\n",
       "    <tr>\n",
       "      <th>played</th>\n",
       "      <td>19768</td>\n",
       "      <td>305679</td>\n",
       "      <td>325447</td>\n",
       "      <td>5.346162</td>\n",
       "      <td>6.008191</td>\n",
       "    </tr>\n",
       "    <tr>\n",
       "      <th>served</th>\n",
       "      <td>9871</td>\n",
       "      <td>248302</td>\n",
       "      <td>258173</td>\n",
       "      <td>5.054372</td>\n",
       "      <td>6.313847</td>\n",
       "    </tr>\n",
       "    <tr>\n",
       "      <th>made</th>\n",
       "      <td>14427</td>\n",
       "      <td>205207</td>\n",
       "      <td>219634</td>\n",
       "      <td>4.503840</td>\n",
       "      <td>5.617981</td>\n",
       "    </tr>\n",
       "    <tr>\n",
       "      <th>died</th>\n",
       "      <td>11680</td>\n",
       "      <td>200767</td>\n",
       "      <td>212447</td>\n",
       "      <td>4.594797</td>\n",
       "      <td>5.962816</td>\n",
       "    </tr>\n",
       "  </tbody>\n",
       "</table>\n",
       "</div>"
      ],
      "text/plain": [
       "        she+word count  he+word count  total count  PMI she+word  PMI he+word\n",
       "was             251644        3527017      3778661      4.865221     5.984816\n",
       "is               72233         581205       653438      4.234702     5.079859\n",
       "had              44820         532181       577001      4.750093     5.740472\n",
       "also             51109         516457       567566      4.753585     5.685964\n",
       "has              67227         427506       494733      5.318918     6.043105\n",
       "became           24076         321747       345823      5.027487     6.156175\n",
       "played           19768         305679       325447      5.346162     6.008191\n",
       "served            9871         248302       258173      5.054372     6.313847\n",
       "made             14427         205207       219634      4.503840     5.617981\n",
       "died             11680         200767       212447      4.594797     5.962816"
      ]
     },
     "execution_count": 18,
     "metadata": {},
     "output_type": "execute_result"
    }
   ],
   "source": [
    "df['PMI she+word'] = df.apply(lambda row: pmi(she_count, female_counter[row.name], \n",
    "                                              row[\"she+word count\"], n_women), axis=1)\n",
    "df['PMI he+word'] = df.apply(lambda row: pmi(he_count, male_counter[row.name], \n",
    "                                             row[\"he+word count\"], n_men), axis=1)\n",
    "df.head(10)"
   ]
  },
  {
   "cell_type": "code",
   "execution_count": 19,
   "metadata": {},
   "outputs": [],
   "source": [
    "# Log probabilities of word given he/she. Add 1 for smoothing\n",
    "\n",
    "df['log prob of word | he'] = np.log2(\n",
    "    (df.fillna(0)[\"he+word count\"] + 1)) - np.log2((sum(he.values()) + 1))\n",
    "df['log prob of word | she'] = np.log2(\n",
    "    (df.fillna(0)[\"she+word count\"] + 1)) - np.log2((sum(she.values()) + 1))"
   ]
  },
  {
   "cell_type": "code",
   "execution_count": 20,
   "metadata": {},
   "outputs": [
    {
     "data": {
      "text/html": [
       "<div>\n",
       "<style scoped>\n",
       "    .dataframe tbody tr th:only-of-type {\n",
       "        vertical-align: middle;\n",
       "    }\n",
       "\n",
       "    .dataframe tbody tr th {\n",
       "        vertical-align: top;\n",
       "    }\n",
       "\n",
       "    .dataframe thead th {\n",
       "        text-align: right;\n",
       "    }\n",
       "</style>\n",
       "<table border=\"1\" class=\"dataframe\">\n",
       "  <thead>\n",
       "    <tr style=\"text-align: right;\">\n",
       "      <th></th>\n",
       "      <th>she+word count</th>\n",
       "      <th>he+word count</th>\n",
       "      <th>total count</th>\n",
       "      <th>PMI she+word</th>\n",
       "      <th>PMI he+word</th>\n",
       "      <th>log prob of word | he</th>\n",
       "      <th>log prob of word | she</th>\n",
       "      <th>LLR</th>\n",
       "    </tr>\n",
       "  </thead>\n",
       "  <tbody>\n",
       "    <tr>\n",
       "      <th>herself</th>\n",
       "      <td>744</td>\n",
       "      <td>0</td>\n",
       "      <td>744</td>\n",
       "      <td>1.189844</td>\n",
       "      <td>-100.000000</td>\n",
       "      <td>-23.788790</td>\n",
       "      <td>-10.746928</td>\n",
       "      <td>13.041862</td>\n",
       "    </tr>\n",
       "    <tr>\n",
       "      <th>peaked</th>\n",
       "      <td>242</td>\n",
       "      <td>0</td>\n",
       "      <td>242</td>\n",
       "      <td>2.912550</td>\n",
       "      <td>-100.000000</td>\n",
       "      <td>-23.788790</td>\n",
       "      <td>-12.363212</td>\n",
       "      <td>11.425578</td>\n",
       "    </tr>\n",
       "    <tr>\n",
       "      <th>her</th>\n",
       "      <td>203</td>\n",
       "      <td>0</td>\n",
       "      <td>203</td>\n",
       "      <td>-5.619086</td>\n",
       "      <td>-100.000000</td>\n",
       "      <td>-23.788790</td>\n",
       "      <td>-12.615599</td>\n",
       "      <td>11.173190</td>\n",
       "    </tr>\n",
       "    <tr>\n",
       "      <th>kicks</th>\n",
       "      <td>159</td>\n",
       "      <td>0</td>\n",
       "      <td>159</td>\n",
       "      <td>4.282957</td>\n",
       "      <td>-100.000000</td>\n",
       "      <td>-23.788790</td>\n",
       "      <td>-12.966096</td>\n",
       "      <td>10.822693</td>\n",
       "    </tr>\n",
       "    <tr>\n",
       "      <th>stoops</th>\n",
       "      <td>95</td>\n",
       "      <td>0</td>\n",
       "      <td>95</td>\n",
       "      <td>6.521314</td>\n",
       "      <td>-100.000000</td>\n",
       "      <td>-23.788790</td>\n",
       "      <td>-13.703062</td>\n",
       "      <td>10.085728</td>\n",
       "    </tr>\n",
       "    <tr>\n",
       "      <th>modeled</th>\n",
       "      <td>182</td>\n",
       "      <td>112</td>\n",
       "      <td>294</td>\n",
       "      <td>4.340933</td>\n",
       "      <td>2.627048</td>\n",
       "      <td>-16.968611</td>\n",
       "      <td>-12.772325</td>\n",
       "      <td>4.196286</td>\n",
       "    </tr>\n",
       "    <tr>\n",
       "      <th>contributes</th>\n",
       "      <td>95</td>\n",
       "      <td>60</td>\n",
       "      <td>155</td>\n",
       "      <td>4.352760</td>\n",
       "      <td>1.862693</td>\n",
       "      <td>-17.858052</td>\n",
       "      <td>-13.703062</td>\n",
       "      <td>4.154990</td>\n",
       "    </tr>\n",
       "    <tr>\n",
       "      <th>posed</th>\n",
       "      <td>354</td>\n",
       "      <td>249</td>\n",
       "      <td>603</td>\n",
       "      <td>4.876859</td>\n",
       "      <td>3.254666</td>\n",
       "      <td>-15.823005</td>\n",
       "      <td>-11.816349</td>\n",
       "      <td>4.006656</td>\n",
       "    </tr>\n",
       "    <tr>\n",
       "      <th>danced</th>\n",
       "      <td>513</td>\n",
       "      <td>458</td>\n",
       "      <td>971</td>\n",
       "      <td>5.207171</td>\n",
       "      <td>4.966041</td>\n",
       "      <td>-14.946439</td>\n",
       "      <td>-11.282400</td>\n",
       "      <td>3.664039</td>\n",
       "    </tr>\n",
       "    <tr>\n",
       "      <th>trains</th>\n",
       "      <td>88</td>\n",
       "      <td>91</td>\n",
       "      <td>179</td>\n",
       "      <td>3.745979</td>\n",
       "      <td>1.334844</td>\n",
       "      <td>-17.265228</td>\n",
       "      <td>-13.812291</td>\n",
       "      <td>3.452937</td>\n",
       "    </tr>\n",
       "    <tr>\n",
       "      <th>participates</th>\n",
       "      <td>105</td>\n",
       "      <td>109</td>\n",
       "      <td>214</td>\n",
       "      <td>4.846071</td>\n",
       "      <td>3.339100</td>\n",
       "      <td>-17.007430</td>\n",
       "      <td>-13.560104</td>\n",
       "      <td>3.447326</td>\n",
       "    </tr>\n",
       "    <tr>\n",
       "      <th>studies</th>\n",
       "      <td>109</td>\n",
       "      <td>117</td>\n",
       "      <td>226</td>\n",
       "      <td>-1.103480</td>\n",
       "      <td>-3.370457</td>\n",
       "      <td>-16.906147</td>\n",
       "      <td>-13.506665</td>\n",
       "      <td>3.399482</td>\n",
       "    </tr>\n",
       "    <tr>\n",
       "      <th>moves</th>\n",
       "      <td>80</td>\n",
       "      <td>101</td>\n",
       "      <td>181</td>\n",
       "      <td>1.763290</td>\n",
       "      <td>-0.434748</td>\n",
       "      <td>-17.116364</td>\n",
       "      <td>-13.948175</td>\n",
       "      <td>3.168190</td>\n",
       "    </tr>\n",
       "    <tr>\n",
       "      <th>stars</th>\n",
       "      <td>156</td>\n",
       "      <td>203</td>\n",
       "      <td>359</td>\n",
       "      <td>-0.393679</td>\n",
       "      <td>-1.824888</td>\n",
       "      <td>-16.116364</td>\n",
       "      <td>-12.993404</td>\n",
       "      <td>3.122961</td>\n",
       "    </tr>\n",
       "    <tr>\n",
       "      <th>dated</th>\n",
       "      <td>227</td>\n",
       "      <td>303</td>\n",
       "      <td>530</td>\n",
       "      <td>3.088039</td>\n",
       "      <td>1.189732</td>\n",
       "      <td>-15.540862</td>\n",
       "      <td>-12.455135</td>\n",
       "      <td>3.085728</td>\n",
       "    </tr>\n",
       "    <tr>\n",
       "      <th>interned</th>\n",
       "      <td>90</td>\n",
       "      <td>125</td>\n",
       "      <td>215</td>\n",
       "      <td>4.620189</td>\n",
       "      <td>2.404596</td>\n",
       "      <td>-16.811510</td>\n",
       "      <td>-13.780230</td>\n",
       "      <td>3.031280</td>\n",
       "    </tr>\n",
       "    <tr>\n",
       "      <th>skated</th>\n",
       "      <td>94</td>\n",
       "      <td>132</td>\n",
       "      <td>226</td>\n",
       "      <td>4.821823</td>\n",
       "      <td>4.118634</td>\n",
       "      <td>-16.733507</td>\n",
       "      <td>-13.718169</td>\n",
       "      <td>3.015338</td>\n",
       "    </tr>\n",
       "    <tr>\n",
       "      <th>upset</th>\n",
       "      <td>129</td>\n",
       "      <td>182</td>\n",
       "      <td>311</td>\n",
       "      <td>2.981301</td>\n",
       "      <td>1.234424</td>\n",
       "      <td>-16.273090</td>\n",
       "      <td>-13.265657</td>\n",
       "      <td>3.007433</td>\n",
       "    </tr>\n",
       "    <tr>\n",
       "      <th>explores</th>\n",
       "      <td>123</td>\n",
       "      <td>175</td>\n",
       "      <td>298</td>\n",
       "      <td>3.112389</td>\n",
       "      <td>2.479784</td>\n",
       "      <td>-16.329358</td>\n",
       "      <td>-13.333828</td>\n",
       "      <td>2.995530</td>\n",
       "    </tr>\n",
       "    <tr>\n",
       "      <th>begged</th>\n",
       "      <td>61</td>\n",
       "      <td>90</td>\n",
       "      <td>151</td>\n",
       "      <td>4.686471</td>\n",
       "      <td>3.486064</td>\n",
       "      <td>-17.280995</td>\n",
       "      <td>-14.333828</td>\n",
       "      <td>2.947167</td>\n",
       "    </tr>\n",
       "    <tr>\n",
       "      <th>acts</th>\n",
       "      <td>75</td>\n",
       "      <td>113</td>\n",
       "      <td>188</td>\n",
       "      <td>-0.347033</td>\n",
       "      <td>-1.888532</td>\n",
       "      <td>-16.955900</td>\n",
       "      <td>-14.040097</td>\n",
       "      <td>2.915803</td>\n",
       "    </tr>\n",
       "    <tr>\n",
       "      <th>attends</th>\n",
       "      <td>82</td>\n",
       "      <td>128</td>\n",
       "      <td>210</td>\n",
       "      <td>3.808688</td>\n",
       "      <td>3.181424</td>\n",
       "      <td>-16.777562</td>\n",
       "      <td>-13.912985</td>\n",
       "      <td>2.864577</td>\n",
       "    </tr>\n",
       "    <tr>\n",
       "      <th>choreographed</th>\n",
       "      <td>127</td>\n",
       "      <td>198</td>\n",
       "      <td>325</td>\n",
       "      <td>3.728359</td>\n",
       "      <td>3.613664</td>\n",
       "      <td>-16.152165</td>\n",
       "      <td>-13.288025</td>\n",
       "      <td>2.864141</td>\n",
       "    </tr>\n",
       "    <tr>\n",
       "      <th>chairs</th>\n",
       "      <td>62</td>\n",
       "      <td>97</td>\n",
       "      <td>159</td>\n",
       "      <td>2.511577</td>\n",
       "      <td>0.818589</td>\n",
       "      <td>-17.174080</td>\n",
       "      <td>-14.310745</td>\n",
       "      <td>2.863335</td>\n",
       "    </tr>\n",
       "    <tr>\n",
       "      <th>turns</th>\n",
       "      <td>55</td>\n",
       "      <td>90</td>\n",
       "      <td>145</td>\n",
       "      <td>1.050514</td>\n",
       "      <td>0.151767</td>\n",
       "      <td>-17.280995</td>\n",
       "      <td>-14.480670</td>\n",
       "      <td>2.800325</td>\n",
       "    </tr>\n",
       "  </tbody>\n",
       "</table>\n",
       "</div>"
      ],
      "text/plain": [
       "               she+word count  he+word count  total count  PMI she+word  \\\n",
       "herself                   744              0          744      1.189844   \n",
       "peaked                    242              0          242      2.912550   \n",
       "her                       203              0          203     -5.619086   \n",
       "kicks                     159              0          159      4.282957   \n",
       "stoops                     95              0           95      6.521314   \n",
       "modeled                   182            112          294      4.340933   \n",
       "contributes                95             60          155      4.352760   \n",
       "posed                     354            249          603      4.876859   \n",
       "danced                    513            458          971      5.207171   \n",
       "trains                     88             91          179      3.745979   \n",
       "participates              105            109          214      4.846071   \n",
       "studies                   109            117          226     -1.103480   \n",
       "moves                      80            101          181      1.763290   \n",
       "stars                     156            203          359     -0.393679   \n",
       "dated                     227            303          530      3.088039   \n",
       "interned                   90            125          215      4.620189   \n",
       "skated                     94            132          226      4.821823   \n",
       "upset                     129            182          311      2.981301   \n",
       "explores                  123            175          298      3.112389   \n",
       "begged                     61             90          151      4.686471   \n",
       "acts                       75            113          188     -0.347033   \n",
       "attends                    82            128          210      3.808688   \n",
       "choreographed             127            198          325      3.728359   \n",
       "chairs                     62             97          159      2.511577   \n",
       "turns                      55             90          145      1.050514   \n",
       "\n",
       "               PMI he+word  log prob of word | he  log prob of word | she  \\\n",
       "herself        -100.000000             -23.788790              -10.746928   \n",
       "peaked         -100.000000             -23.788790              -12.363212   \n",
       "her            -100.000000             -23.788790              -12.615599   \n",
       "kicks          -100.000000             -23.788790              -12.966096   \n",
       "stoops         -100.000000             -23.788790              -13.703062   \n",
       "modeled           2.627048             -16.968611              -12.772325   \n",
       "contributes       1.862693             -17.858052              -13.703062   \n",
       "posed             3.254666             -15.823005              -11.816349   \n",
       "danced            4.966041             -14.946439              -11.282400   \n",
       "trains            1.334844             -17.265228              -13.812291   \n",
       "participates      3.339100             -17.007430              -13.560104   \n",
       "studies          -3.370457             -16.906147              -13.506665   \n",
       "moves            -0.434748             -17.116364              -13.948175   \n",
       "stars            -1.824888             -16.116364              -12.993404   \n",
       "dated             1.189732             -15.540862              -12.455135   \n",
       "interned          2.404596             -16.811510              -13.780230   \n",
       "skated            4.118634             -16.733507              -13.718169   \n",
       "upset             1.234424             -16.273090              -13.265657   \n",
       "explores          2.479784             -16.329358              -13.333828   \n",
       "begged            3.486064             -17.280995              -14.333828   \n",
       "acts             -1.888532             -16.955900              -14.040097   \n",
       "attends           3.181424             -16.777562              -13.912985   \n",
       "choreographed     3.613664             -16.152165              -13.288025   \n",
       "chairs            0.818589             -17.174080              -14.310745   \n",
       "turns             0.151767             -17.280995              -14.480670   \n",
       "\n",
       "                     LLR  \n",
       "herself        13.041862  \n",
       "peaked         11.425578  \n",
       "her            11.173190  \n",
       "kicks          10.822693  \n",
       "stoops         10.085728  \n",
       "modeled         4.196286  \n",
       "contributes     4.154990  \n",
       "posed           4.006656  \n",
       "danced          3.664039  \n",
       "trains          3.452937  \n",
       "participates    3.447326  \n",
       "studies         3.399482  \n",
       "moves           3.168190  \n",
       "stars           3.122961  \n",
       "dated           3.085728  \n",
       "interned        3.031280  \n",
       "skated          3.015338  \n",
       "upset           3.007433  \n",
       "explores        2.995530  \n",
       "begged          2.947167  \n",
       "acts            2.915803  \n",
       "attends         2.864577  \n",
       "choreographed   2.864141  \n",
       "chairs          2.863335  \n",
       "turns           2.800325  "
      ]
     },
     "execution_count": 20,
     "metadata": {},
     "output_type": "execute_result"
    }
   ],
   "source": [
    "# Log likelihood ratio she : he\n",
    "\n",
    "df['LLR'] = df['log prob of word | she'] - df['log prob of word | he']\n",
    "df.sort_values(by=['LLR'], ascending=False, inplace=True)\n",
    "df.head(25)"
   ]
  },
  {
   "cell_type": "code",
   "execution_count": 21,
   "metadata": {
    "scrolled": true
   },
   "outputs": [
    {
     "data": {
      "text/html": [
       "<div>\n",
       "<style scoped>\n",
       "    .dataframe tbody tr th:only-of-type {\n",
       "        vertical-align: middle;\n",
       "    }\n",
       "\n",
       "    .dataframe tbody tr th {\n",
       "        vertical-align: top;\n",
       "    }\n",
       "\n",
       "    .dataframe thead th {\n",
       "        text-align: right;\n",
       "    }\n",
       "</style>\n",
       "<table border=\"1\" class=\"dataframe\">\n",
       "  <thead>\n",
       "    <tr style=\"text-align: right;\">\n",
       "      <th></th>\n",
       "      <th>she+word count</th>\n",
       "      <th>he+word count</th>\n",
       "      <th>total count</th>\n",
       "      <th>PMI she+word</th>\n",
       "      <th>PMI he+word</th>\n",
       "      <th>log prob of word | he</th>\n",
       "      <th>log prob of word | she</th>\n",
       "      <th>LLR</th>\n",
       "    </tr>\n",
       "  </thead>\n",
       "  <tbody>\n",
       "    <tr>\n",
       "      <th>rushed</th>\n",
       "      <td>17</td>\n",
       "      <td>3238</td>\n",
       "      <td>3255</td>\n",
       "      <td>1.984473</td>\n",
       "      <td>5.710606</td>\n",
       "      <td>-12.127457</td>\n",
       "      <td>-16.118100</td>\n",
       "      <td>-3.990643</td>\n",
       "    </tr>\n",
       "    <tr>\n",
       "      <th>pronounced</th>\n",
       "      <td>0</td>\n",
       "      <td>180</td>\n",
       "      <td>180</td>\n",
       "      <td>-100.000000</td>\n",
       "      <td>1.929257</td>\n",
       "      <td>-16.288944</td>\n",
       "      <td>-20.288025</td>\n",
       "      <td>-3.999081</td>\n",
       "    </tr>\n",
       "    <tr>\n",
       "      <th>dispatched</th>\n",
       "      <td>0</td>\n",
       "      <td>181</td>\n",
       "      <td>181</td>\n",
       "      <td>-100.000000</td>\n",
       "      <td>2.766231</td>\n",
       "      <td>-16.280995</td>\n",
       "      <td>-20.288025</td>\n",
       "      <td>-4.007029</td>\n",
       "    </tr>\n",
       "    <tr>\n",
       "      <th>captain</th>\n",
       "      <td>0</td>\n",
       "      <td>182</td>\n",
       "      <td>182</td>\n",
       "      <td>-100.000000</td>\n",
       "      <td>-2.714158</td>\n",
       "      <td>-16.273090</td>\n",
       "      <td>-20.288025</td>\n",
       "      <td>-4.014935</td>\n",
       "    </tr>\n",
       "    <tr>\n",
       "      <th>calculated</th>\n",
       "      <td>0</td>\n",
       "      <td>191</td>\n",
       "      <td>191</td>\n",
       "      <td>-100.000000</td>\n",
       "      <td>3.397856</td>\n",
       "      <td>-16.203827</td>\n",
       "      <td>-20.288025</td>\n",
       "      <td>-4.084197</td>\n",
       "    </tr>\n",
       "    <tr>\n",
       "      <th>downed</th>\n",
       "      <td>0</td>\n",
       "      <td>194</td>\n",
       "      <td>194</td>\n",
       "      <td>-100.000000</td>\n",
       "      <td>4.191981</td>\n",
       "      <td>-16.181459</td>\n",
       "      <td>-20.288025</td>\n",
       "      <td>-4.106565</td>\n",
       "    </tr>\n",
       "    <tr>\n",
       "      <th>invaded</th>\n",
       "      <td>0</td>\n",
       "      <td>219</td>\n",
       "      <td>219</td>\n",
       "      <td>-100.000000</td>\n",
       "      <td>2.363412</td>\n",
       "      <td>-16.007430</td>\n",
       "      <td>-20.288025</td>\n",
       "      <td>-4.280595</td>\n",
       "    </tr>\n",
       "    <tr>\n",
       "      <th>farmed</th>\n",
       "      <td>0</td>\n",
       "      <td>221</td>\n",
       "      <td>221</td>\n",
       "      <td>-100.000000</td>\n",
       "      <td>4.412934</td>\n",
       "      <td>-15.994374</td>\n",
       "      <td>-20.288025</td>\n",
       "      <td>-4.293651</td>\n",
       "    </tr>\n",
       "    <tr>\n",
       "      <th>gallantly</th>\n",
       "      <td>0</td>\n",
       "      <td>229</td>\n",
       "      <td>229</td>\n",
       "      <td>-100.000000</td>\n",
       "      <td>5.751321</td>\n",
       "      <td>-15.943300</td>\n",
       "      <td>-20.288025</td>\n",
       "      <td>-4.344725</td>\n",
       "    </tr>\n",
       "    <tr>\n",
       "      <th>trans</th>\n",
       "      <td>0</td>\n",
       "      <td>258</td>\n",
       "      <td>258</td>\n",
       "      <td>-100.000000</td>\n",
       "      <td>-0.914177</td>\n",
       "      <td>-15.771981</td>\n",
       "      <td>-20.288025</td>\n",
       "      <td>-4.516043</td>\n",
       "    </tr>\n",
       "    <tr>\n",
       "      <th>bats</th>\n",
       "      <td>0</td>\n",
       "      <td>271</td>\n",
       "      <td>271</td>\n",
       "      <td>-100.000000</td>\n",
       "      <td>0.522018</td>\n",
       "      <td>-15.701327</td>\n",
       "      <td>-20.288025</td>\n",
       "      <td>-4.586698</td>\n",
       "    </tr>\n",
       "    <tr>\n",
       "      <th>commanded</th>\n",
       "      <td>50</td>\n",
       "      <td>14651</td>\n",
       "      <td>14701</td>\n",
       "      <td>3.969824</td>\n",
       "      <td>6.257655</td>\n",
       "      <td>-9.949980</td>\n",
       "      <td>-14.615599</td>\n",
       "      <td>-4.665619</td>\n",
       "    </tr>\n",
       "    <tr>\n",
       "      <th>111</th>\n",
       "      <td>0</td>\n",
       "      <td>296</td>\n",
       "      <td>296</td>\n",
       "      <td>-100.000000</td>\n",
       "      <td>1.039456</td>\n",
       "      <td>-15.574471</td>\n",
       "      <td>-20.288025</td>\n",
       "      <td>-4.713554</td>\n",
       "    </tr>\n",
       "    <tr>\n",
       "      <th>man</th>\n",
       "      <td>0</td>\n",
       "      <td>370</td>\n",
       "      <td>370</td>\n",
       "      <td>-100.000000</td>\n",
       "      <td>-2.796346</td>\n",
       "      <td>-15.253514</td>\n",
       "      <td>-20.288025</td>\n",
       "      <td>-5.034510</td>\n",
       "    </tr>\n",
       "    <tr>\n",
       "      <th>engraved</th>\n",
       "      <td>0</td>\n",
       "      <td>382</td>\n",
       "      <td>382</td>\n",
       "      <td>-100.000000</td>\n",
       "      <td>3.237178</td>\n",
       "      <td>-15.207589</td>\n",
       "      <td>-20.288025</td>\n",
       "      <td>-5.080435</td>\n",
       "    </tr>\n",
       "    <tr>\n",
       "      <th>erected</th>\n",
       "      <td>0</td>\n",
       "      <td>450</td>\n",
       "      <td>450</td>\n",
       "      <td>-100.000000</td>\n",
       "      <td>2.622690</td>\n",
       "      <td>-14.971806</td>\n",
       "      <td>-20.288025</td>\n",
       "      <td>-5.316218</td>\n",
       "    </tr>\n",
       "    <tr>\n",
       "      <th>intercepted</th>\n",
       "      <td>0</td>\n",
       "      <td>489</td>\n",
       "      <td>489</td>\n",
       "      <td>-100.000000</td>\n",
       "      <td>4.380414</td>\n",
       "      <td>-14.852152</td>\n",
       "      <td>-20.288025</td>\n",
       "      <td>-5.435873</td>\n",
       "    </tr>\n",
       "    <tr>\n",
       "      <th>umpired</th>\n",
       "      <td>0</td>\n",
       "      <td>679</td>\n",
       "      <td>679</td>\n",
       "      <td>-100.000000</td>\n",
       "      <td>5.935587</td>\n",
       "      <td>-14.379399</td>\n",
       "      <td>-20.288025</td>\n",
       "      <td>-5.908626</td>\n",
       "    </tr>\n",
       "    <tr>\n",
       "      <th>fathered</th>\n",
       "      <td>0</td>\n",
       "      <td>699</td>\n",
       "      <td>699</td>\n",
       "      <td>-100.000000</td>\n",
       "      <td>5.375418</td>\n",
       "      <td>-14.337579</td>\n",
       "      <td>-20.288025</td>\n",
       "      <td>-5.950446</td>\n",
       "    </tr>\n",
       "    <tr>\n",
       "      <th>his</th>\n",
       "      <td>0</td>\n",
       "      <td>708</td>\n",
       "      <td>708</td>\n",
       "      <td>-100.000000</td>\n",
       "      <td>-6.023451</td>\n",
       "      <td>-14.319148</td>\n",
       "      <td>-20.288025</td>\n",
       "      <td>-5.968877</td>\n",
       "    </tr>\n",
       "    <tr>\n",
       "      <th>n</th>\n",
       "      <td>0</td>\n",
       "      <td>712</td>\n",
       "      <td>712</td>\n",
       "      <td>-100.000000</td>\n",
       "      <td>-1.612143</td>\n",
       "      <td>-14.311031</td>\n",
       "      <td>-20.288025</td>\n",
       "      <td>-5.976993</td>\n",
       "    </tr>\n",
       "    <tr>\n",
       "      <th>icon</th>\n",
       "      <td>0</td>\n",
       "      <td>797</td>\n",
       "      <td>797</td>\n",
       "      <td>-100.000000</td>\n",
       "      <td>-0.194769</td>\n",
       "      <td>-14.148545</td>\n",
       "      <td>-20.288025</td>\n",
       "      <td>-6.139480</td>\n",
       "    </tr>\n",
       "    <tr>\n",
       "      <th>batting</th>\n",
       "      <td>0</td>\n",
       "      <td>861</td>\n",
       "      <td>861</td>\n",
       "      <td>-100.000000</td>\n",
       "      <td>0.701369</td>\n",
       "      <td>-14.037246</td>\n",
       "      <td>-20.288025</td>\n",
       "      <td>-6.250779</td>\n",
       "    </tr>\n",
       "    <tr>\n",
       "      <th>totaled</th>\n",
       "      <td>0</td>\n",
       "      <td>883</td>\n",
       "      <td>883</td>\n",
       "      <td>-100.000000</td>\n",
       "      <td>5.875469</td>\n",
       "      <td>-14.000887</td>\n",
       "      <td>-20.288025</td>\n",
       "      <td>-6.287137</td>\n",
       "    </tr>\n",
       "    <tr>\n",
       "      <th>himself</th>\n",
       "      <td>0</td>\n",
       "      <td>8331</td>\n",
       "      <td>8331</td>\n",
       "      <td>-100.000000</td>\n",
       "      <td>2.381361</td>\n",
       "      <td>-10.764343</td>\n",
       "      <td>-20.288025</td>\n",
       "      <td>-9.523682</td>\n",
       "    </tr>\n",
       "  </tbody>\n",
       "</table>\n",
       "</div>"
      ],
      "text/plain": [
       "             she+word count  he+word count  total count  PMI she+word  \\\n",
       "rushed                   17           3238         3255      1.984473   \n",
       "pronounced                0            180          180   -100.000000   \n",
       "dispatched                0            181          181   -100.000000   \n",
       "captain                   0            182          182   -100.000000   \n",
       "calculated                0            191          191   -100.000000   \n",
       "downed                    0            194          194   -100.000000   \n",
       "invaded                   0            219          219   -100.000000   \n",
       "farmed                    0            221          221   -100.000000   \n",
       "gallantly                 0            229          229   -100.000000   \n",
       "trans                     0            258          258   -100.000000   \n",
       "bats                      0            271          271   -100.000000   \n",
       "commanded                50          14651        14701      3.969824   \n",
       "111                       0            296          296   -100.000000   \n",
       "man                       0            370          370   -100.000000   \n",
       "engraved                  0            382          382   -100.000000   \n",
       "erected                   0            450          450   -100.000000   \n",
       "intercepted               0            489          489   -100.000000   \n",
       "umpired                   0            679          679   -100.000000   \n",
       "fathered                  0            699          699   -100.000000   \n",
       "his                       0            708          708   -100.000000   \n",
       "n                         0            712          712   -100.000000   \n",
       "icon                      0            797          797   -100.000000   \n",
       "batting                   0            861          861   -100.000000   \n",
       "totaled                   0            883          883   -100.000000   \n",
       "himself                   0           8331         8331   -100.000000   \n",
       "\n",
       "             PMI he+word  log prob of word | he  log prob of word | she  \\\n",
       "rushed          5.710606             -12.127457              -16.118100   \n",
       "pronounced      1.929257             -16.288944              -20.288025   \n",
       "dispatched      2.766231             -16.280995              -20.288025   \n",
       "captain        -2.714158             -16.273090              -20.288025   \n",
       "calculated      3.397856             -16.203827              -20.288025   \n",
       "downed          4.191981             -16.181459              -20.288025   \n",
       "invaded         2.363412             -16.007430              -20.288025   \n",
       "farmed          4.412934             -15.994374              -20.288025   \n",
       "gallantly       5.751321             -15.943300              -20.288025   \n",
       "trans          -0.914177             -15.771981              -20.288025   \n",
       "bats            0.522018             -15.701327              -20.288025   \n",
       "commanded       6.257655              -9.949980              -14.615599   \n",
       "111             1.039456             -15.574471              -20.288025   \n",
       "man            -2.796346             -15.253514              -20.288025   \n",
       "engraved        3.237178             -15.207589              -20.288025   \n",
       "erected         2.622690             -14.971806              -20.288025   \n",
       "intercepted     4.380414             -14.852152              -20.288025   \n",
       "umpired         5.935587             -14.379399              -20.288025   \n",
       "fathered        5.375418             -14.337579              -20.288025   \n",
       "his            -6.023451             -14.319148              -20.288025   \n",
       "n              -1.612143             -14.311031              -20.288025   \n",
       "icon           -0.194769             -14.148545              -20.288025   \n",
       "batting         0.701369             -14.037246              -20.288025   \n",
       "totaled         5.875469             -14.000887              -20.288025   \n",
       "himself         2.381361             -10.764343              -20.288025   \n",
       "\n",
       "                  LLR  \n",
       "rushed      -3.990643  \n",
       "pronounced  -3.999081  \n",
       "dispatched  -4.007029  \n",
       "captain     -4.014935  \n",
       "calculated  -4.084197  \n",
       "downed      -4.106565  \n",
       "invaded     -4.280595  \n",
       "farmed      -4.293651  \n",
       "gallantly   -4.344725  \n",
       "trans       -4.516043  \n",
       "bats        -4.586698  \n",
       "commanded   -4.665619  \n",
       "111         -4.713554  \n",
       "man         -5.034510  \n",
       "engraved    -5.080435  \n",
       "erected     -5.316218  \n",
       "intercepted -5.435873  \n",
       "umpired     -5.908626  \n",
       "fathered    -5.950446  \n",
       "his         -5.968877  \n",
       "n           -5.976993  \n",
       "icon        -6.139480  \n",
       "batting     -6.250779  \n",
       "totaled     -6.287137  \n",
       "himself     -9.523682  "
      ]
     },
     "execution_count": 21,
     "metadata": {},
     "output_type": "execute_result"
    }
   ],
   "source": [
    "df.tail(25)"
   ]
  },
  {
   "cell_type": "code",
   "execution_count": 22,
   "metadata": {},
   "outputs": [],
   "source": [
    "df.drop(['111','n'], axis=0, inplace=True)"
   ]
  },
  {
   "cell_type": "code",
   "execution_count": 23,
   "metadata": {},
   "outputs": [],
   "source": [
    "# We are most interested in words actually having word associativity with he/she (+ PMI)\n",
    "he_words = df.drop(df[df['PMI he+word'] <= 0 ].index).tail(100)"
   ]
  },
  {
   "cell_type": "code",
   "execution_count": 24,
   "metadata": {},
   "outputs": [],
   "source": [
    "she_words = df.drop(df[df['PMI she+word'] <= 0 ].index).head(100)"
   ]
  },
  {
   "cell_type": "code",
   "execution_count": 25,
   "metadata": {},
   "outputs": [
    {
     "data": {
      "text/html": [
       "<div>\n",
       "<style scoped>\n",
       "    .dataframe tbody tr th:only-of-type {\n",
       "        vertical-align: middle;\n",
       "    }\n",
       "\n",
       "    .dataframe tbody tr th {\n",
       "        vertical-align: top;\n",
       "    }\n",
       "\n",
       "    .dataframe thead th {\n",
       "        text-align: right;\n",
       "    }\n",
       "</style>\n",
       "<table border=\"1\" class=\"dataframe\">\n",
       "  <thead>\n",
       "    <tr style=\"text-align: right;\">\n",
       "      <th></th>\n",
       "      <th>she+word count</th>\n",
       "      <th>he+word count</th>\n",
       "      <th>total count</th>\n",
       "      <th>PMI she+word</th>\n",
       "      <th>PMI he+word</th>\n",
       "      <th>log prob of word | he</th>\n",
       "      <th>log prob of word | she</th>\n",
       "      <th>LLR</th>\n",
       "    </tr>\n",
       "  </thead>\n",
       "  <tbody>\n",
       "    <tr>\n",
       "      <th>duly</th>\n",
       "      <td>0</td>\n",
       "      <td>165</td>\n",
       "      <td>165</td>\n",
       "      <td>-100.000000</td>\n",
       "      <td>3.265200</td>\n",
       "      <td>-16.413750</td>\n",
       "      <td>-20.288025</td>\n",
       "      <td>-3.874274</td>\n",
       "    </tr>\n",
       "    <tr>\n",
       "      <th>vetoed</th>\n",
       "      <td>0</td>\n",
       "      <td>175</td>\n",
       "      <td>175</td>\n",
       "      <td>-100.000000</td>\n",
       "      <td>4.091714</td>\n",
       "      <td>-16.329358</td>\n",
       "      <td>-20.288025</td>\n",
       "      <td>-3.958666</td>\n",
       "    </tr>\n",
       "    <tr>\n",
       "      <th>rushed</th>\n",
       "      <td>17</td>\n",
       "      <td>3238</td>\n",
       "      <td>3255</td>\n",
       "      <td>1.984473</td>\n",
       "      <td>5.710606</td>\n",
       "      <td>-12.127457</td>\n",
       "      <td>-16.118100</td>\n",
       "      <td>-3.990643</td>\n",
       "    </tr>\n",
       "    <tr>\n",
       "      <th>pronounced</th>\n",
       "      <td>0</td>\n",
       "      <td>180</td>\n",
       "      <td>180</td>\n",
       "      <td>-100.000000</td>\n",
       "      <td>1.929257</td>\n",
       "      <td>-16.288944</td>\n",
       "      <td>-20.288025</td>\n",
       "      <td>-3.999081</td>\n",
       "    </tr>\n",
       "    <tr>\n",
       "      <th>dispatched</th>\n",
       "      <td>0</td>\n",
       "      <td>181</td>\n",
       "      <td>181</td>\n",
       "      <td>-100.000000</td>\n",
       "      <td>2.766231</td>\n",
       "      <td>-16.280995</td>\n",
       "      <td>-20.288025</td>\n",
       "      <td>-4.007029</td>\n",
       "    </tr>\n",
       "    <tr>\n",
       "      <th>calculated</th>\n",
       "      <td>0</td>\n",
       "      <td>191</td>\n",
       "      <td>191</td>\n",
       "      <td>-100.000000</td>\n",
       "      <td>3.397856</td>\n",
       "      <td>-16.203827</td>\n",
       "      <td>-20.288025</td>\n",
       "      <td>-4.084197</td>\n",
       "    </tr>\n",
       "    <tr>\n",
       "      <th>downed</th>\n",
       "      <td>0</td>\n",
       "      <td>194</td>\n",
       "      <td>194</td>\n",
       "      <td>-100.000000</td>\n",
       "      <td>4.191981</td>\n",
       "      <td>-16.181459</td>\n",
       "      <td>-20.288025</td>\n",
       "      <td>-4.106565</td>\n",
       "    </tr>\n",
       "    <tr>\n",
       "      <th>invaded</th>\n",
       "      <td>0</td>\n",
       "      <td>219</td>\n",
       "      <td>219</td>\n",
       "      <td>-100.000000</td>\n",
       "      <td>2.363412</td>\n",
       "      <td>-16.007430</td>\n",
       "      <td>-20.288025</td>\n",
       "      <td>-4.280595</td>\n",
       "    </tr>\n",
       "    <tr>\n",
       "      <th>farmed</th>\n",
       "      <td>0</td>\n",
       "      <td>221</td>\n",
       "      <td>221</td>\n",
       "      <td>-100.000000</td>\n",
       "      <td>4.412934</td>\n",
       "      <td>-15.994374</td>\n",
       "      <td>-20.288025</td>\n",
       "      <td>-4.293651</td>\n",
       "    </tr>\n",
       "    <tr>\n",
       "      <th>gallantly</th>\n",
       "      <td>0</td>\n",
       "      <td>229</td>\n",
       "      <td>229</td>\n",
       "      <td>-100.000000</td>\n",
       "      <td>5.751321</td>\n",
       "      <td>-15.943300</td>\n",
       "      <td>-20.288025</td>\n",
       "      <td>-4.344725</td>\n",
       "    </tr>\n",
       "    <tr>\n",
       "      <th>bats</th>\n",
       "      <td>0</td>\n",
       "      <td>271</td>\n",
       "      <td>271</td>\n",
       "      <td>-100.000000</td>\n",
       "      <td>0.522018</td>\n",
       "      <td>-15.701327</td>\n",
       "      <td>-20.288025</td>\n",
       "      <td>-4.586698</td>\n",
       "    </tr>\n",
       "    <tr>\n",
       "      <th>commanded</th>\n",
       "      <td>50</td>\n",
       "      <td>14651</td>\n",
       "      <td>14701</td>\n",
       "      <td>3.969824</td>\n",
       "      <td>6.257655</td>\n",
       "      <td>-9.949980</td>\n",
       "      <td>-14.615599</td>\n",
       "      <td>-4.665619</td>\n",
       "    </tr>\n",
       "    <tr>\n",
       "      <th>engraved</th>\n",
       "      <td>0</td>\n",
       "      <td>382</td>\n",
       "      <td>382</td>\n",
       "      <td>-100.000000</td>\n",
       "      <td>3.237178</td>\n",
       "      <td>-15.207589</td>\n",
       "      <td>-20.288025</td>\n",
       "      <td>-5.080435</td>\n",
       "    </tr>\n",
       "    <tr>\n",
       "      <th>erected</th>\n",
       "      <td>0</td>\n",
       "      <td>450</td>\n",
       "      <td>450</td>\n",
       "      <td>-100.000000</td>\n",
       "      <td>2.622690</td>\n",
       "      <td>-14.971806</td>\n",
       "      <td>-20.288025</td>\n",
       "      <td>-5.316218</td>\n",
       "    </tr>\n",
       "    <tr>\n",
       "      <th>intercepted</th>\n",
       "      <td>0</td>\n",
       "      <td>489</td>\n",
       "      <td>489</td>\n",
       "      <td>-100.000000</td>\n",
       "      <td>4.380414</td>\n",
       "      <td>-14.852152</td>\n",
       "      <td>-20.288025</td>\n",
       "      <td>-5.435873</td>\n",
       "    </tr>\n",
       "    <tr>\n",
       "      <th>umpired</th>\n",
       "      <td>0</td>\n",
       "      <td>679</td>\n",
       "      <td>679</td>\n",
       "      <td>-100.000000</td>\n",
       "      <td>5.935587</td>\n",
       "      <td>-14.379399</td>\n",
       "      <td>-20.288025</td>\n",
       "      <td>-5.908626</td>\n",
       "    </tr>\n",
       "    <tr>\n",
       "      <th>fathered</th>\n",
       "      <td>0</td>\n",
       "      <td>699</td>\n",
       "      <td>699</td>\n",
       "      <td>-100.000000</td>\n",
       "      <td>5.375418</td>\n",
       "      <td>-14.337579</td>\n",
       "      <td>-20.288025</td>\n",
       "      <td>-5.950446</td>\n",
       "    </tr>\n",
       "    <tr>\n",
       "      <th>batting</th>\n",
       "      <td>0</td>\n",
       "      <td>861</td>\n",
       "      <td>861</td>\n",
       "      <td>-100.000000</td>\n",
       "      <td>0.701369</td>\n",
       "      <td>-14.037246</td>\n",
       "      <td>-20.288025</td>\n",
       "      <td>-6.250779</td>\n",
       "    </tr>\n",
       "    <tr>\n",
       "      <th>totaled</th>\n",
       "      <td>0</td>\n",
       "      <td>883</td>\n",
       "      <td>883</td>\n",
       "      <td>-100.000000</td>\n",
       "      <td>5.875469</td>\n",
       "      <td>-14.000887</td>\n",
       "      <td>-20.288025</td>\n",
       "      <td>-6.287137</td>\n",
       "    </tr>\n",
       "    <tr>\n",
       "      <th>himself</th>\n",
       "      <td>0</td>\n",
       "      <td>8331</td>\n",
       "      <td>8331</td>\n",
       "      <td>-100.000000</td>\n",
       "      <td>2.381361</td>\n",
       "      <td>-10.764343</td>\n",
       "      <td>-20.288025</td>\n",
       "      <td>-9.523682</td>\n",
       "    </tr>\n",
       "  </tbody>\n",
       "</table>\n",
       "</div>"
      ],
      "text/plain": [
       "             she+word count  he+word count  total count  PMI she+word  \\\n",
       "duly                      0            165          165   -100.000000   \n",
       "vetoed                    0            175          175   -100.000000   \n",
       "rushed                   17           3238         3255      1.984473   \n",
       "pronounced                0            180          180   -100.000000   \n",
       "dispatched                0            181          181   -100.000000   \n",
       "calculated                0            191          191   -100.000000   \n",
       "downed                    0            194          194   -100.000000   \n",
       "invaded                   0            219          219   -100.000000   \n",
       "farmed                    0            221          221   -100.000000   \n",
       "gallantly                 0            229          229   -100.000000   \n",
       "bats                      0            271          271   -100.000000   \n",
       "commanded                50          14651        14701      3.969824   \n",
       "engraved                  0            382          382   -100.000000   \n",
       "erected                   0            450          450   -100.000000   \n",
       "intercepted               0            489          489   -100.000000   \n",
       "umpired                   0            679          679   -100.000000   \n",
       "fathered                  0            699          699   -100.000000   \n",
       "batting                   0            861          861   -100.000000   \n",
       "totaled                   0            883          883   -100.000000   \n",
       "himself                   0           8331         8331   -100.000000   \n",
       "\n",
       "             PMI he+word  log prob of word | he  log prob of word | she  \\\n",
       "duly            3.265200             -16.413750              -20.288025   \n",
       "vetoed          4.091714             -16.329358              -20.288025   \n",
       "rushed          5.710606             -12.127457              -16.118100   \n",
       "pronounced      1.929257             -16.288944              -20.288025   \n",
       "dispatched      2.766231             -16.280995              -20.288025   \n",
       "calculated      3.397856             -16.203827              -20.288025   \n",
       "downed          4.191981             -16.181459              -20.288025   \n",
       "invaded         2.363412             -16.007430              -20.288025   \n",
       "farmed          4.412934             -15.994374              -20.288025   \n",
       "gallantly       5.751321             -15.943300              -20.288025   \n",
       "bats            0.522018             -15.701327              -20.288025   \n",
       "commanded       6.257655              -9.949980              -14.615599   \n",
       "engraved        3.237178             -15.207589              -20.288025   \n",
       "erected         2.622690             -14.971806              -20.288025   \n",
       "intercepted     4.380414             -14.852152              -20.288025   \n",
       "umpired         5.935587             -14.379399              -20.288025   \n",
       "fathered        5.375418             -14.337579              -20.288025   \n",
       "batting         0.701369             -14.037246              -20.288025   \n",
       "totaled         5.875469             -14.000887              -20.288025   \n",
       "himself         2.381361             -10.764343              -20.288025   \n",
       "\n",
       "                  LLR  \n",
       "duly        -3.874274  \n",
       "vetoed      -3.958666  \n",
       "rushed      -3.990643  \n",
       "pronounced  -3.999081  \n",
       "dispatched  -4.007029  \n",
       "calculated  -4.084197  \n",
       "downed      -4.106565  \n",
       "invaded     -4.280595  \n",
       "farmed      -4.293651  \n",
       "gallantly   -4.344725  \n",
       "bats        -4.586698  \n",
       "commanded   -4.665619  \n",
       "engraved    -5.080435  \n",
       "erected     -5.316218  \n",
       "intercepted -5.435873  \n",
       "umpired     -5.908626  \n",
       "fathered    -5.950446  \n",
       "batting     -6.250779  \n",
       "totaled     -6.287137  \n",
       "himself     -9.523682  "
      ]
     },
     "execution_count": 25,
     "metadata": {},
     "output_type": "execute_result"
    }
   ],
   "source": [
    "he_words.tail(20)"
   ]
  },
  {
   "cell_type": "code",
   "execution_count": 26,
   "metadata": {},
   "outputs": [
    {
     "data": {
      "text/html": [
       "<div>\n",
       "<style scoped>\n",
       "    .dataframe tbody tr th:only-of-type {\n",
       "        vertical-align: middle;\n",
       "    }\n",
       "\n",
       "    .dataframe tbody tr th {\n",
       "        vertical-align: top;\n",
       "    }\n",
       "\n",
       "    .dataframe thead th {\n",
       "        text-align: right;\n",
       "    }\n",
       "</style>\n",
       "<table border=\"1\" class=\"dataframe\">\n",
       "  <thead>\n",
       "    <tr style=\"text-align: right;\">\n",
       "      <th></th>\n",
       "      <th>she+word count</th>\n",
       "      <th>he+word count</th>\n",
       "      <th>total count</th>\n",
       "      <th>PMI she+word</th>\n",
       "      <th>PMI he+word</th>\n",
       "      <th>log prob of word | he</th>\n",
       "      <th>log prob of word | she</th>\n",
       "      <th>LLR</th>\n",
       "    </tr>\n",
       "  </thead>\n",
       "  <tbody>\n",
       "    <tr>\n",
       "      <th>herself</th>\n",
       "      <td>744</td>\n",
       "      <td>0</td>\n",
       "      <td>744</td>\n",
       "      <td>1.189844</td>\n",
       "      <td>-100.000000</td>\n",
       "      <td>-23.788790</td>\n",
       "      <td>-10.746928</td>\n",
       "      <td>13.041862</td>\n",
       "    </tr>\n",
       "    <tr>\n",
       "      <th>peaked</th>\n",
       "      <td>242</td>\n",
       "      <td>0</td>\n",
       "      <td>242</td>\n",
       "      <td>2.912550</td>\n",
       "      <td>-100.000000</td>\n",
       "      <td>-23.788790</td>\n",
       "      <td>-12.363212</td>\n",
       "      <td>11.425578</td>\n",
       "    </tr>\n",
       "    <tr>\n",
       "      <th>kicks</th>\n",
       "      <td>159</td>\n",
       "      <td>0</td>\n",
       "      <td>159</td>\n",
       "      <td>4.282957</td>\n",
       "      <td>-100.000000</td>\n",
       "      <td>-23.788790</td>\n",
       "      <td>-12.966096</td>\n",
       "      <td>10.822693</td>\n",
       "    </tr>\n",
       "    <tr>\n",
       "      <th>stoops</th>\n",
       "      <td>95</td>\n",
       "      <td>0</td>\n",
       "      <td>95</td>\n",
       "      <td>6.521314</td>\n",
       "      <td>-100.000000</td>\n",
       "      <td>-23.788790</td>\n",
       "      <td>-13.703062</td>\n",
       "      <td>10.085728</td>\n",
       "    </tr>\n",
       "    <tr>\n",
       "      <th>modeled</th>\n",
       "      <td>182</td>\n",
       "      <td>112</td>\n",
       "      <td>294</td>\n",
       "      <td>4.340933</td>\n",
       "      <td>2.627048</td>\n",
       "      <td>-16.968611</td>\n",
       "      <td>-12.772325</td>\n",
       "      <td>4.196286</td>\n",
       "    </tr>\n",
       "    <tr>\n",
       "      <th>contributes</th>\n",
       "      <td>95</td>\n",
       "      <td>60</td>\n",
       "      <td>155</td>\n",
       "      <td>4.352760</td>\n",
       "      <td>1.862693</td>\n",
       "      <td>-17.858052</td>\n",
       "      <td>-13.703062</td>\n",
       "      <td>4.154990</td>\n",
       "    </tr>\n",
       "    <tr>\n",
       "      <th>posed</th>\n",
       "      <td>354</td>\n",
       "      <td>249</td>\n",
       "      <td>603</td>\n",
       "      <td>4.876859</td>\n",
       "      <td>3.254666</td>\n",
       "      <td>-15.823005</td>\n",
       "      <td>-11.816349</td>\n",
       "      <td>4.006656</td>\n",
       "    </tr>\n",
       "    <tr>\n",
       "      <th>danced</th>\n",
       "      <td>513</td>\n",
       "      <td>458</td>\n",
       "      <td>971</td>\n",
       "      <td>5.207171</td>\n",
       "      <td>4.966041</td>\n",
       "      <td>-14.946439</td>\n",
       "      <td>-11.282400</td>\n",
       "      <td>3.664039</td>\n",
       "    </tr>\n",
       "    <tr>\n",
       "      <th>trains</th>\n",
       "      <td>88</td>\n",
       "      <td>91</td>\n",
       "      <td>179</td>\n",
       "      <td>3.745979</td>\n",
       "      <td>1.334844</td>\n",
       "      <td>-17.265228</td>\n",
       "      <td>-13.812291</td>\n",
       "      <td>3.452937</td>\n",
       "    </tr>\n",
       "    <tr>\n",
       "      <th>participates</th>\n",
       "      <td>105</td>\n",
       "      <td>109</td>\n",
       "      <td>214</td>\n",
       "      <td>4.846071</td>\n",
       "      <td>3.339100</td>\n",
       "      <td>-17.007430</td>\n",
       "      <td>-13.560104</td>\n",
       "      <td>3.447326</td>\n",
       "    </tr>\n",
       "    <tr>\n",
       "      <th>moves</th>\n",
       "      <td>80</td>\n",
       "      <td>101</td>\n",
       "      <td>181</td>\n",
       "      <td>1.763290</td>\n",
       "      <td>-0.434748</td>\n",
       "      <td>-17.116364</td>\n",
       "      <td>-13.948175</td>\n",
       "      <td>3.168190</td>\n",
       "    </tr>\n",
       "    <tr>\n",
       "      <th>dated</th>\n",
       "      <td>227</td>\n",
       "      <td>303</td>\n",
       "      <td>530</td>\n",
       "      <td>3.088039</td>\n",
       "      <td>1.189732</td>\n",
       "      <td>-15.540862</td>\n",
       "      <td>-12.455135</td>\n",
       "      <td>3.085728</td>\n",
       "    </tr>\n",
       "    <tr>\n",
       "      <th>interned</th>\n",
       "      <td>90</td>\n",
       "      <td>125</td>\n",
       "      <td>215</td>\n",
       "      <td>4.620189</td>\n",
       "      <td>2.404596</td>\n",
       "      <td>-16.811510</td>\n",
       "      <td>-13.780230</td>\n",
       "      <td>3.031280</td>\n",
       "    </tr>\n",
       "    <tr>\n",
       "      <th>skated</th>\n",
       "      <td>94</td>\n",
       "      <td>132</td>\n",
       "      <td>226</td>\n",
       "      <td>4.821823</td>\n",
       "      <td>4.118634</td>\n",
       "      <td>-16.733507</td>\n",
       "      <td>-13.718169</td>\n",
       "      <td>3.015338</td>\n",
       "    </tr>\n",
       "    <tr>\n",
       "      <th>upset</th>\n",
       "      <td>129</td>\n",
       "      <td>182</td>\n",
       "      <td>311</td>\n",
       "      <td>2.981301</td>\n",
       "      <td>1.234424</td>\n",
       "      <td>-16.273090</td>\n",
       "      <td>-13.265657</td>\n",
       "      <td>3.007433</td>\n",
       "    </tr>\n",
       "    <tr>\n",
       "      <th>explores</th>\n",
       "      <td>123</td>\n",
       "      <td>175</td>\n",
       "      <td>298</td>\n",
       "      <td>3.112389</td>\n",
       "      <td>2.479784</td>\n",
       "      <td>-16.329358</td>\n",
       "      <td>-13.333828</td>\n",
       "      <td>2.995530</td>\n",
       "    </tr>\n",
       "    <tr>\n",
       "      <th>begged</th>\n",
       "      <td>61</td>\n",
       "      <td>90</td>\n",
       "      <td>151</td>\n",
       "      <td>4.686471</td>\n",
       "      <td>3.486064</td>\n",
       "      <td>-17.280995</td>\n",
       "      <td>-14.333828</td>\n",
       "      <td>2.947167</td>\n",
       "    </tr>\n",
       "    <tr>\n",
       "      <th>attends</th>\n",
       "      <td>82</td>\n",
       "      <td>128</td>\n",
       "      <td>210</td>\n",
       "      <td>3.808688</td>\n",
       "      <td>3.181424</td>\n",
       "      <td>-16.777562</td>\n",
       "      <td>-13.912985</td>\n",
       "      <td>2.864577</td>\n",
       "    </tr>\n",
       "    <tr>\n",
       "      <th>choreographed</th>\n",
       "      <td>127</td>\n",
       "      <td>198</td>\n",
       "      <td>325</td>\n",
       "      <td>3.728359</td>\n",
       "      <td>3.613664</td>\n",
       "      <td>-16.152165</td>\n",
       "      <td>-13.288025</td>\n",
       "      <td>2.864141</td>\n",
       "    </tr>\n",
       "    <tr>\n",
       "      <th>chairs</th>\n",
       "      <td>62</td>\n",
       "      <td>97</td>\n",
       "      <td>159</td>\n",
       "      <td>2.511577</td>\n",
       "      <td>0.818589</td>\n",
       "      <td>-17.174080</td>\n",
       "      <td>-14.310745</td>\n",
       "      <td>2.863335</td>\n",
       "    </tr>\n",
       "    <tr>\n",
       "      <th>turns</th>\n",
       "      <td>55</td>\n",
       "      <td>90</td>\n",
       "      <td>145</td>\n",
       "      <td>1.050514</td>\n",
       "      <td>0.151767</td>\n",
       "      <td>-17.280995</td>\n",
       "      <td>-14.480670</td>\n",
       "      <td>2.800325</td>\n",
       "    </tr>\n",
       "    <tr>\n",
       "      <th>admires</th>\n",
       "      <td>66</td>\n",
       "      <td>112</td>\n",
       "      <td>178</td>\n",
       "      <td>5.499895</td>\n",
       "      <td>5.108664</td>\n",
       "      <td>-16.968611</td>\n",
       "      <td>-14.221935</td>\n",
       "      <td>2.746675</td>\n",
       "    </tr>\n",
       "    <tr>\n",
       "      <th>competes</th>\n",
       "      <td>202</td>\n",
       "      <td>349</td>\n",
       "      <td>551</td>\n",
       "      <td>4.485681</td>\n",
       "      <td>3.976602</td>\n",
       "      <td>-15.337579</td>\n",
       "      <td>-12.622689</td>\n",
       "      <td>2.714890</td>\n",
       "    </tr>\n",
       "    <tr>\n",
       "      <th>lectures</th>\n",
       "      <td>73</td>\n",
       "      <td>130</td>\n",
       "      <td>203</td>\n",
       "      <td>1.574936</td>\n",
       "      <td>-0.553677</td>\n",
       "      <td>-16.755367</td>\n",
       "      <td>-14.078571</td>\n",
       "      <td>2.676796</td>\n",
       "    </tr>\n",
       "    <tr>\n",
       "      <th>sings</th>\n",
       "      <td>552</td>\n",
       "      <td>1000</td>\n",
       "      <td>1552</td>\n",
       "      <td>4.071201</td>\n",
       "      <td>4.248261</td>\n",
       "      <td>-13.821563</td>\n",
       "      <td>-11.176889</td>\n",
       "      <td>2.644675</td>\n",
       "    </tr>\n",
       "    <tr>\n",
       "      <th>heads</th>\n",
       "      <td>78</td>\n",
       "      <td>145</td>\n",
       "      <td>223</td>\n",
       "      <td>1.721902</td>\n",
       "      <td>-0.110645</td>\n",
       "      <td>-16.598965</td>\n",
       "      <td>-13.984244</td>\n",
       "      <td>2.614721</td>\n",
       "    </tr>\n",
       "    <tr>\n",
       "      <th>directs</th>\n",
       "      <td>80</td>\n",
       "      <td>152</td>\n",
       "      <td>232</td>\n",
       "      <td>4.368964</td>\n",
       "      <td>3.421828</td>\n",
       "      <td>-16.531402</td>\n",
       "      <td>-13.948175</td>\n",
       "      <td>2.583227</td>\n",
       "    </tr>\n",
       "    <tr>\n",
       "      <th>headlined</th>\n",
       "      <td>118</td>\n",
       "      <td>224</td>\n",
       "      <td>342</td>\n",
       "      <td>4.527047</td>\n",
       "      <td>4.053381</td>\n",
       "      <td>-15.975009</td>\n",
       "      <td>-13.393207</td>\n",
       "      <td>2.581802</td>\n",
       "    </tr>\n",
       "    <tr>\n",
       "      <th>curated</th>\n",
       "      <td>117</td>\n",
       "      <td>224</td>\n",
       "      <td>341</td>\n",
       "      <td>3.078398</td>\n",
       "      <td>2.719081</td>\n",
       "      <td>-15.975009</td>\n",
       "      <td>-13.405382</td>\n",
       "      <td>2.569627</td>\n",
       "    </tr>\n",
       "    <tr>\n",
       "      <th>rounded</th>\n",
       "      <td>49</td>\n",
       "      <td>95</td>\n",
       "      <td>144</td>\n",
       "      <td>4.302107</td>\n",
       "      <td>2.689447</td>\n",
       "      <td>-17.203827</td>\n",
       "      <td>-14.644168</td>\n",
       "      <td>2.559659</td>\n",
       "    </tr>\n",
       "    <tr>\n",
       "      <th>...</th>\n",
       "      <td>...</td>\n",
       "      <td>...</td>\n",
       "      <td>...</td>\n",
       "      <td>...</td>\n",
       "      <td>...</td>\n",
       "      <td>...</td>\n",
       "      <td>...</td>\n",
       "      <td>...</td>\n",
       "    </tr>\n",
       "    <tr>\n",
       "      <th>separated</th>\n",
       "      <td>113</td>\n",
       "      <td>324</td>\n",
       "      <td>437</td>\n",
       "      <td>1.930765</td>\n",
       "      <td>2.197273</td>\n",
       "      <td>-15.444494</td>\n",
       "      <td>-13.455135</td>\n",
       "      <td>1.989359</td>\n",
       "    </tr>\n",
       "    <tr>\n",
       "      <th>loves</th>\n",
       "      <td>399</td>\n",
       "      <td>1143</td>\n",
       "      <td>1542</td>\n",
       "      <td>3.988870</td>\n",
       "      <td>4.466079</td>\n",
       "      <td>-13.628918</td>\n",
       "      <td>-11.644168</td>\n",
       "      <td>1.984750</td>\n",
       "    </tr>\n",
       "    <tr>\n",
       "      <th>exited</th>\n",
       "      <td>36</td>\n",
       "      <td>106</td>\n",
       "      <td>142</td>\n",
       "      <td>4.753343</td>\n",
       "      <td>3.398548</td>\n",
       "      <td>-17.047323</td>\n",
       "      <td>-15.078571</td>\n",
       "      <td>1.968752</td>\n",
       "    </tr>\n",
       "    <tr>\n",
       "      <th>expresses</th>\n",
       "      <td>60</td>\n",
       "      <td>178</td>\n",
       "      <td>238</td>\n",
       "      <td>4.306649</td>\n",
       "      <td>3.788357</td>\n",
       "      <td>-16.304974</td>\n",
       "      <td>-14.357287</td>\n",
       "      <td>1.947687</td>\n",
       "    </tr>\n",
       "    <tr>\n",
       "      <th>carries</th>\n",
       "      <td>44</td>\n",
       "      <td>132</td>\n",
       "      <td>176</td>\n",
       "      <td>3.228687</td>\n",
       "      <td>1.166472</td>\n",
       "      <td>-16.733507</td>\n",
       "      <td>-14.796171</td>\n",
       "      <td>1.937336</td>\n",
       "    </tr>\n",
       "    <tr>\n",
       "      <th>favors</th>\n",
       "      <td>32</td>\n",
       "      <td>97</td>\n",
       "      <td>129</td>\n",
       "      <td>3.995275</td>\n",
       "      <td>3.167128</td>\n",
       "      <td>-17.174080</td>\n",
       "      <td>-15.243630</td>\n",
       "      <td>1.930449</td>\n",
       "    </tr>\n",
       "    <tr>\n",
       "      <th>manages</th>\n",
       "      <td>73</td>\n",
       "      <td>219</td>\n",
       "      <td>292</td>\n",
       "      <td>4.270181</td>\n",
       "      <td>3.617409</td>\n",
       "      <td>-16.007430</td>\n",
       "      <td>-14.078571</td>\n",
       "      <td>1.928859</td>\n",
       "    </tr>\n",
       "    <tr>\n",
       "      <th>filmed</th>\n",
       "      <td>367</td>\n",
       "      <td>1098</td>\n",
       "      <td>1465</td>\n",
       "      <td>3.437578</td>\n",
       "      <td>3.616890</td>\n",
       "      <td>-13.686814</td>\n",
       "      <td>-11.764463</td>\n",
       "      <td>1.922351</td>\n",
       "    </tr>\n",
       "    <tr>\n",
       "      <th>travels</th>\n",
       "      <td>112</td>\n",
       "      <td>344</td>\n",
       "      <td>456</td>\n",
       "      <td>2.559057</td>\n",
       "      <td>1.796299</td>\n",
       "      <td>-15.358337</td>\n",
       "      <td>-13.467846</td>\n",
       "      <td>1.890492</td>\n",
       "    </tr>\n",
       "    <tr>\n",
       "      <th>publishes</th>\n",
       "      <td>46</td>\n",
       "      <td>144</td>\n",
       "      <td>190</td>\n",
       "      <td>3.617465</td>\n",
       "      <td>3.021522</td>\n",
       "      <td>-16.608881</td>\n",
       "      <td>-14.733436</td>\n",
       "      <td>1.875445</td>\n",
       "    </tr>\n",
       "    <tr>\n",
       "      <th>offers</th>\n",
       "      <td>79</td>\n",
       "      <td>247</td>\n",
       "      <td>326</td>\n",
       "      <td>1.865272</td>\n",
       "      <td>1.268109</td>\n",
       "      <td>-15.834593</td>\n",
       "      <td>-13.966096</td>\n",
       "      <td>1.868497</td>\n",
       "    </tr>\n",
       "    <tr>\n",
       "      <th>confided</th>\n",
       "      <td>38</td>\n",
       "      <td>120</td>\n",
       "      <td>158</td>\n",
       "      <td>4.569905</td>\n",
       "      <td>4.507760</td>\n",
       "      <td>-16.869926</td>\n",
       "      <td>-15.002622</td>\n",
       "      <td>1.867304</td>\n",
       "    </tr>\n",
       "    <tr>\n",
       "      <th>forgot</th>\n",
       "      <td>36</td>\n",
       "      <td>114</td>\n",
       "      <td>150</td>\n",
       "      <td>3.362391</td>\n",
       "      <td>2.972494</td>\n",
       "      <td>-16.943300</td>\n",
       "      <td>-15.078571</td>\n",
       "      <td>1.864728</td>\n",
       "    </tr>\n",
       "    <tr>\n",
       "      <th>reprised</th>\n",
       "      <td>741</td>\n",
       "      <td>2315</td>\n",
       "      <td>3056</td>\n",
       "      <td>5.647794</td>\n",
       "      <td>6.578336</td>\n",
       "      <td>-12.611370</td>\n",
       "      <td>-10.752749</td>\n",
       "      <td>1.858621</td>\n",
       "    </tr>\n",
       "    <tr>\n",
       "      <th>prayed</th>\n",
       "      <td>47</td>\n",
       "      <td>150</td>\n",
       "      <td>197</td>\n",
       "      <td>4.433897</td>\n",
       "      <td>4.031006</td>\n",
       "      <td>-16.550385</td>\n",
       "      <td>-14.703062</td>\n",
       "      <td>1.847323</td>\n",
       "    </tr>\n",
       "    <tr>\n",
       "      <th>attempts</th>\n",
       "      <td>53</td>\n",
       "      <td>169</td>\n",
       "      <td>222</td>\n",
       "      <td>1.491752</td>\n",
       "      <td>-0.079321</td>\n",
       "      <td>-16.379399</td>\n",
       "      <td>-14.533137</td>\n",
       "      <td>1.846262</td>\n",
       "    </tr>\n",
       "    <tr>\n",
       "      <th>benefited</th>\n",
       "      <td>32</td>\n",
       "      <td>103</td>\n",
       "      <td>135</td>\n",
       "      <td>3.370612</td>\n",
       "      <td>2.428345</td>\n",
       "      <td>-17.088350</td>\n",
       "      <td>-15.243630</td>\n",
       "      <td>1.844720</td>\n",
       "    </tr>\n",
       "    <tr>\n",
       "      <th>interpreted</th>\n",
       "      <td>72</td>\n",
       "      <td>235</td>\n",
       "      <td>307</td>\n",
       "      <td>3.694832</td>\n",
       "      <td>2.908912</td>\n",
       "      <td>-15.906147</td>\n",
       "      <td>-14.098200</td>\n",
       "      <td>1.807947</td>\n",
       "    </tr>\n",
       "    <tr>\n",
       "      <th>acknowledges</th>\n",
       "      <td>70</td>\n",
       "      <td>229</td>\n",
       "      <td>299</td>\n",
       "      <td>4.928738</td>\n",
       "      <td>4.442597</td>\n",
       "      <td>-15.943300</td>\n",
       "      <td>-14.138277</td>\n",
       "      <td>1.805022</td>\n",
       "    </tr>\n",
       "    <tr>\n",
       "      <th>suffers</th>\n",
       "      <td>62</td>\n",
       "      <td>204</td>\n",
       "      <td>266</td>\n",
       "      <td>3.798739</td>\n",
       "      <td>3.077815</td>\n",
       "      <td>-16.109310</td>\n",
       "      <td>-14.310745</td>\n",
       "      <td>1.798565</td>\n",
       "    </tr>\n",
       "    <tr>\n",
       "      <th>descended</th>\n",
       "      <td>41</td>\n",
       "      <td>136</td>\n",
       "      <td>177</td>\n",
       "      <td>2.661706</td>\n",
       "      <td>1.508631</td>\n",
       "      <td>-16.690758</td>\n",
       "      <td>-14.895707</td>\n",
       "      <td>1.795050</td>\n",
       "    </tr>\n",
       "    <tr>\n",
       "      <th>joins</th>\n",
       "      <td>58</td>\n",
       "      <td>194</td>\n",
       "      <td>252</td>\n",
       "      <td>0.195988</td>\n",
       "      <td>-0.188229</td>\n",
       "      <td>-16.181459</td>\n",
       "      <td>-14.405382</td>\n",
       "      <td>1.776078</td>\n",
       "    </tr>\n",
       "    <tr>\n",
       "      <th>lists</th>\n",
       "      <td>65</td>\n",
       "      <td>218</td>\n",
       "      <td>283</td>\n",
       "      <td>1.057513</td>\n",
       "      <td>0.514032</td>\n",
       "      <td>-16.014003</td>\n",
       "      <td>-14.243630</td>\n",
       "      <td>1.770372</td>\n",
       "    </tr>\n",
       "    <tr>\n",
       "      <th>reports</th>\n",
       "      <td>72</td>\n",
       "      <td>243</td>\n",
       "      <td>315</td>\n",
       "      <td>0.393463</td>\n",
       "      <td>-0.416833</td>\n",
       "      <td>-15.858052</td>\n",
       "      <td>-14.098200</td>\n",
       "      <td>1.759852</td>\n",
       "    </tr>\n",
       "    <tr>\n",
       "      <th>legally</th>\n",
       "      <td>54</td>\n",
       "      <td>183</td>\n",
       "      <td>237</td>\n",
       "      <td>1.930152</td>\n",
       "      <td>2.224891</td>\n",
       "      <td>-16.265228</td>\n",
       "      <td>-14.506665</td>\n",
       "      <td>1.758563</td>\n",
       "    </tr>\n",
       "    <tr>\n",
       "      <th>hails</th>\n",
       "      <td>84</td>\n",
       "      <td>285</td>\n",
       "      <td>369</td>\n",
       "      <td>4.503334</td>\n",
       "      <td>3.536180</td>\n",
       "      <td>-15.628918</td>\n",
       "      <td>-13.878634</td>\n",
       "      <td>1.750285</td>\n",
       "    </tr>\n",
       "    <tr>\n",
       "      <th>worried</th>\n",
       "      <td>26</td>\n",
       "      <td>90</td>\n",
       "      <td>116</td>\n",
       "      <td>2.349835</td>\n",
       "      <td>1.822664</td>\n",
       "      <td>-17.280995</td>\n",
       "      <td>-15.533137</td>\n",
       "      <td>1.747858</td>\n",
       "    </tr>\n",
       "    <tr>\n",
       "      <th>pleased</th>\n",
       "      <td>35</td>\n",
       "      <td>121</td>\n",
       "      <td>156</td>\n",
       "      <td>2.679643</td>\n",
       "      <td>1.820069</td>\n",
       "      <td>-16.858052</td>\n",
       "      <td>-15.118100</td>\n",
       "      <td>1.739953</td>\n",
       "    </tr>\n",
       "    <tr>\n",
       "      <th>abruptly</th>\n",
       "      <td>31</td>\n",
       "      <td>108</td>\n",
       "      <td>139</td>\n",
       "      <td>3.232988</td>\n",
       "      <td>2.657647</td>\n",
       "      <td>-17.020605</td>\n",
       "      <td>-15.288025</td>\n",
       "      <td>1.732581</td>\n",
       "    </tr>\n",
       "    <tr>\n",
       "      <th>produces</th>\n",
       "      <td>66</td>\n",
       "      <td>228</td>\n",
       "      <td>294</td>\n",
       "      <td>3.165778</td>\n",
       "      <td>2.730993</td>\n",
       "      <td>-15.949586</td>\n",
       "      <td>-14.221935</td>\n",
       "      <td>1.727651</td>\n",
       "    </tr>\n",
       "  </tbody>\n",
       "</table>\n",
       "<p>100 rows × 8 columns</p>\n",
       "</div>"
      ],
      "text/plain": [
       "               she+word count  he+word count  total count  PMI she+word  \\\n",
       "herself                   744              0          744      1.189844   \n",
       "peaked                    242              0          242      2.912550   \n",
       "kicks                     159              0          159      4.282957   \n",
       "stoops                     95              0           95      6.521314   \n",
       "modeled                   182            112          294      4.340933   \n",
       "contributes                95             60          155      4.352760   \n",
       "posed                     354            249          603      4.876859   \n",
       "danced                    513            458          971      5.207171   \n",
       "trains                     88             91          179      3.745979   \n",
       "participates              105            109          214      4.846071   \n",
       "moves                      80            101          181      1.763290   \n",
       "dated                     227            303          530      3.088039   \n",
       "interned                   90            125          215      4.620189   \n",
       "skated                     94            132          226      4.821823   \n",
       "upset                     129            182          311      2.981301   \n",
       "explores                  123            175          298      3.112389   \n",
       "begged                     61             90          151      4.686471   \n",
       "attends                    82            128          210      3.808688   \n",
       "choreographed             127            198          325      3.728359   \n",
       "chairs                     62             97          159      2.511577   \n",
       "turns                      55             90          145      1.050514   \n",
       "admires                    66            112          178      5.499895   \n",
       "competes                  202            349          551      4.485681   \n",
       "lectures                   73            130          203      1.574936   \n",
       "sings                     552           1000         1552      4.071201   \n",
       "heads                      78            145          223      1.721902   \n",
       "directs                    80            152          232      4.368964   \n",
       "headlined                 118            224          342      4.527047   \n",
       "curated                   117            224          341      3.078398   \n",
       "rounded                    49             95          144      4.302107   \n",
       "...                       ...            ...          ...           ...   \n",
       "separated                 113            324          437      1.930765   \n",
       "loves                     399           1143         1542      3.988870   \n",
       "exited                     36            106          142      4.753343   \n",
       "expresses                  60            178          238      4.306649   \n",
       "carries                    44            132          176      3.228687   \n",
       "favors                     32             97          129      3.995275   \n",
       "manages                    73            219          292      4.270181   \n",
       "filmed                    367           1098         1465      3.437578   \n",
       "travels                   112            344          456      2.559057   \n",
       "publishes                  46            144          190      3.617465   \n",
       "offers                     79            247          326      1.865272   \n",
       "confided                   38            120          158      4.569905   \n",
       "forgot                     36            114          150      3.362391   \n",
       "reprised                  741           2315         3056      5.647794   \n",
       "prayed                     47            150          197      4.433897   \n",
       "attempts                   53            169          222      1.491752   \n",
       "benefited                  32            103          135      3.370612   \n",
       "interpreted                72            235          307      3.694832   \n",
       "acknowledges               70            229          299      4.928738   \n",
       "suffers                    62            204          266      3.798739   \n",
       "descended                  41            136          177      2.661706   \n",
       "joins                      58            194          252      0.195988   \n",
       "lists                      65            218          283      1.057513   \n",
       "reports                    72            243          315      0.393463   \n",
       "legally                    54            183          237      1.930152   \n",
       "hails                      84            285          369      4.503334   \n",
       "worried                    26             90          116      2.349835   \n",
       "pleased                    35            121          156      2.679643   \n",
       "abruptly                   31            108          139      3.232988   \n",
       "produces                   66            228          294      3.165778   \n",
       "\n",
       "               PMI he+word  log prob of word | he  log prob of word | she  \\\n",
       "herself        -100.000000             -23.788790              -10.746928   \n",
       "peaked         -100.000000             -23.788790              -12.363212   \n",
       "kicks          -100.000000             -23.788790              -12.966096   \n",
       "stoops         -100.000000             -23.788790              -13.703062   \n",
       "modeled           2.627048             -16.968611              -12.772325   \n",
       "contributes       1.862693             -17.858052              -13.703062   \n",
       "posed             3.254666             -15.823005              -11.816349   \n",
       "danced            4.966041             -14.946439              -11.282400   \n",
       "trains            1.334844             -17.265228              -13.812291   \n",
       "participates      3.339100             -17.007430              -13.560104   \n",
       "moves            -0.434748             -17.116364              -13.948175   \n",
       "dated             1.189732             -15.540862              -12.455135   \n",
       "interned          2.404596             -16.811510              -13.780230   \n",
       "skated            4.118634             -16.733507              -13.718169   \n",
       "upset             1.234424             -16.273090              -13.265657   \n",
       "explores          2.479784             -16.329358              -13.333828   \n",
       "begged            3.486064             -17.280995              -14.333828   \n",
       "attends           3.181424             -16.777562              -13.912985   \n",
       "choreographed     3.613664             -16.152165              -13.288025   \n",
       "chairs            0.818589             -17.174080              -14.310745   \n",
       "turns             0.151767             -17.280995              -14.480670   \n",
       "admires           5.108664             -16.968611              -14.221935   \n",
       "competes          3.976602             -15.337579              -12.622689   \n",
       "lectures         -0.553677             -16.755367              -14.078571   \n",
       "sings             4.248261             -13.821563              -11.176889   \n",
       "heads            -0.110645             -16.598965              -13.984244   \n",
       "directs           3.421828             -16.531402              -13.948175   \n",
       "headlined         4.053381             -15.975009              -13.393207   \n",
       "curated           2.719081             -15.975009              -13.405382   \n",
       "rounded           2.689447             -17.203827              -14.644168   \n",
       "...                    ...                    ...                     ...   \n",
       "separated         2.197273             -15.444494              -13.455135   \n",
       "loves             4.466079             -13.628918              -11.644168   \n",
       "exited            3.398548             -17.047323              -15.078571   \n",
       "expresses         3.788357             -16.304974              -14.357287   \n",
       "carries           1.166472             -16.733507              -14.796171   \n",
       "favors            3.167128             -17.174080              -15.243630   \n",
       "manages           3.617409             -16.007430              -14.078571   \n",
       "filmed            3.616890             -13.686814              -11.764463   \n",
       "travels           1.796299             -15.358337              -13.467846   \n",
       "publishes         3.021522             -16.608881              -14.733436   \n",
       "offers            1.268109             -15.834593              -13.966096   \n",
       "confided          4.507760             -16.869926              -15.002622   \n",
       "forgot            2.972494             -16.943300              -15.078571   \n",
       "reprised          6.578336             -12.611370              -10.752749   \n",
       "prayed            4.031006             -16.550385              -14.703062   \n",
       "attempts         -0.079321             -16.379399              -14.533137   \n",
       "benefited         2.428345             -17.088350              -15.243630   \n",
       "interpreted       2.908912             -15.906147              -14.098200   \n",
       "acknowledges      4.442597             -15.943300              -14.138277   \n",
       "suffers           3.077815             -16.109310              -14.310745   \n",
       "descended         1.508631             -16.690758              -14.895707   \n",
       "joins            -0.188229             -16.181459              -14.405382   \n",
       "lists             0.514032             -16.014003              -14.243630   \n",
       "reports          -0.416833             -15.858052              -14.098200   \n",
       "legally           2.224891             -16.265228              -14.506665   \n",
       "hails             3.536180             -15.628918              -13.878634   \n",
       "worried           1.822664             -17.280995              -15.533137   \n",
       "pleased           1.820069             -16.858052              -15.118100   \n",
       "abruptly          2.657647             -17.020605              -15.288025   \n",
       "produces          2.730993             -15.949586              -14.221935   \n",
       "\n",
       "                     LLR  \n",
       "herself        13.041862  \n",
       "peaked         11.425578  \n",
       "kicks          10.822693  \n",
       "stoops         10.085728  \n",
       "modeled         4.196286  \n",
       "contributes     4.154990  \n",
       "posed           4.006656  \n",
       "danced          3.664039  \n",
       "trains          3.452937  \n",
       "participates    3.447326  \n",
       "moves           3.168190  \n",
       "dated           3.085728  \n",
       "interned        3.031280  \n",
       "skated          3.015338  \n",
       "upset           3.007433  \n",
       "explores        2.995530  \n",
       "begged          2.947167  \n",
       "attends         2.864577  \n",
       "choreographed   2.864141  \n",
       "chairs          2.863335  \n",
       "turns           2.800325  \n",
       "admires         2.746675  \n",
       "competes        2.714890  \n",
       "lectures        2.676796  \n",
       "sings           2.644675  \n",
       "heads           2.614721  \n",
       "directs         2.583227  \n",
       "headlined       2.581802  \n",
       "curated         2.569627  \n",
       "rounded         2.559659  \n",
       "...                  ...  \n",
       "separated       1.989359  \n",
       "loves           1.984750  \n",
       "exited          1.968752  \n",
       "expresses       1.947687  \n",
       "carries         1.937336  \n",
       "favors          1.930449  \n",
       "manages         1.928859  \n",
       "filmed          1.922351  \n",
       "travels         1.890492  \n",
       "publishes       1.875445  \n",
       "offers          1.868497  \n",
       "confided        1.867304  \n",
       "forgot          1.864728  \n",
       "reprised        1.858621  \n",
       "prayed          1.847323  \n",
       "attempts        1.846262  \n",
       "benefited       1.844720  \n",
       "interpreted     1.807947  \n",
       "acknowledges    1.805022  \n",
       "suffers         1.798565  \n",
       "descended       1.795050  \n",
       "joins           1.776078  \n",
       "lists           1.770372  \n",
       "reports         1.759852  \n",
       "legally         1.758563  \n",
       "hails           1.750285  \n",
       "worried         1.747858  \n",
       "pleased         1.739953  \n",
       "abruptly        1.732581  \n",
       "produces        1.727651  \n",
       "\n",
       "[100 rows x 8 columns]"
      ]
     },
     "execution_count": 26,
     "metadata": {},
     "output_type": "execute_result"
    }
   ],
   "source": [
    "she_words\n",
    "# \"She Kicks\" is a women's football magazine\n",
    "# \"She Stoops to Conquer\" is the name of a film"
   ]
  },
  {
   "cell_type": "code",
   "execution_count": 27,
   "metadata": {},
   "outputs": [],
   "source": [
    "he_words.drop(['batting'], axis=0, inplace=True) # Doesn't make sense gramatically?\n",
    "Y2, X2 = he_words.tail(20).index, he_words.tail(20)['LLR']"
   ]
  },
  {
   "cell_type": "code",
   "execution_count": 28,
   "metadata": {},
   "outputs": [],
   "source": [
    "she_top = she_words.drop(she_words[she_words['she+word count'] < 90 ].index).head(20)['LLR']\n",
    "Y1, X1 = she_top.index, she_top "
   ]
  },
  {
   "cell_type": "code",
   "execution_count": 30,
   "metadata": {},
   "outputs": [
    {
     "data": {
      "image/png": "[encoded data removed]",
      "text/plain": [
       "<Figure size 972x1440 with 1 Axes>"
      ]
     },
     "metadata": {},
     "output_type": "display_data"
    }
   ],
   "source": [
    "title=\"Log likelihood ratio that word appears after she/he in articles about women and men, respectively\"\n",
    "subtitle=\"Limited to words appearing at least 90 times after pronoun and with positive word association (PMI) for that gender\"\n",
    "subtitle2=\"\\n\\nHe...                                       She...\"\n",
    "\n",
    "Y = np.arange(40)\n",
    "\n",
    "X_women = np.concatenate((np.zeros(20), np.flip(X1.values, 0)), axis=0)\n",
    "X_men = np.concatenate((np.flip(X2.values, 0), np.zeros(20)), axis=0)\n",
    "\n",
    "plt.figure(figsize=(13.5,20))\n",
    "plt.axes([0.025, 0.025, 0.95, 0.95])\n",
    "plt.barh(Y, X_women, facecolor=\"None\", edgecolor='#2ca79b')\n",
    "plt.barh(Y, X_men, facecolor=\"None\", edgecolor='#a52e3b')\n",
    "\n",
    "for x, y, label in zip(X_women, Y, np.concatenate((np.empty(20, dtype=\"U\") , np.flip(Y1,0)))):\n",
    "    plt.text(x-0.1, y, label, ha='right', va= 'center', color=\"black\", fontsize=13)\n",
    "for x, y, label in zip(X_men, Y, np.concatenate((np.flip(Y2,0), np.empty(20, dtype=\"U\")))):\n",
    "    plt.text(x+0.2, y, label, ha='left', va= 'center', color=\"black\", fontsize=13)\n",
    "\n",
    "\n",
    "plt.title(title, fontsize=17, y=1.09)\n",
    "plt.suptitle(subtitle + subtitle2, fontsize=14, y=1.05)\n",
    "plt.axvline(x=0, color=\"black\")\n",
    "plt.ylim(-.5, 39.6)\n",
    "plt.yticks(())\n",
    "plt.xlim(-12, 13.5)\n",
    "plt.show()"
   ]
  },
  {
   "cell_type": "code",
   "execution_count": null,
   "metadata": {},
   "outputs": [],
   "source": []
  },
  {
   "cell_type": "code",
   "execution_count": null,
   "metadata": {},
   "outputs": [],
   "source": []
  }
 ],
 "metadata": {
  "kernelspec": {
   "display_name": "Python 3",
   "language": "python",
   "name": "python3"
  },
  "language_info": {
   "codemirror_mode": {
    "name": "ipython",
    "version": 3
   },
   "file_extension": ".py",
   "mimetype": "text/x-python",
   "name": "python",
   "nbconvert_exporter": "python",
   "pygments_lexer": "ipython3",
   "version": "3.6.5"
  },
  "varInspector": {
   "cols": {
    "lenName": 16,
    "lenType": 16,
    "lenVar": 40
   },
   "kernels_config": {
    "python": {
     "delete_cmd_postfix": "",
     "delete_cmd_prefix": "del ",
     "library": "var_list.py",
     "varRefreshCmd": "print(var_dic_list())"
    },
    "r": {
     "delete_cmd_postfix": ") ",
     "delete_cmd_prefix": "rm(",
     "library": "var_list.r",
     "varRefreshCmd": "cat(var_dic_list()) "
    }
   },
   "types_to_exclude": [
    "module",
    "function",
    "builtin_function_or_method",
    "instance",
    "_Feature"
   ],
   "window_display": false
  }
 },
 "nbformat": 4,
 "nbformat_minor": 2
}
