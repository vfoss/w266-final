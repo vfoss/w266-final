{
 "cells": [
  {
   "cell_type": "code",
   "execution_count": 163,
   "metadata": {
    "collapsed": true
   },
   "outputs": [],
   "source": [
    "from ipywidgets import FloatProgress, IntText\n",
    "import nltk\n",
    "import time\n",
    "import collections\n",
    "from math import log \n",
    "import pickle\n",
    "import os\n",
    "import numpy as np\n",
    "import pandas as pd\n",
    "\n",
    "def save_object(obj, filename):\n",
    "    with open(filename, 'wb') as outfile:  \n",
    "        pickle.dump(obj, outfile, pickle.HIGHEST_PROTOCOL)\n",
    "\n",
    "with open('data/is_male.pkl', 'rb') as infile:\n",
    "    is_male = pickle.load(infile)"
   ]
  },
  {
   "cell_type": "markdown",
   "metadata": {},
   "source": [
    "# Create Counters of Bigrams in Biographies of Women and Men, in Batches"
   ]
  },
  {
   "cell_type": "code",
   "execution_count": 3,
   "metadata": {
    "collapsed": true
   },
   "outputs": [],
   "source": [
    "# This is purportedly the fastest way to get bigrams\n",
    "def get_bigrams(text):\n",
    "    return zip(*[text[i:] for i in range(2)])"
   ]
  },
  {
   "cell_type": "code",
   "execution_count": 5,
   "metadata": {},
   "outputs": [
    {
     "name": "stdout",
     "output_type": "stream",
     "text": [
      "Building batches of counters for bigrams found in all Wiki bios of women and of men...\n",
      "Estimated time for completion: 46 minutes\n"
     ]
    },
    {
     "data": {
      "application/vnd.jupyter.widget-view+json": {
       "model_id": "f1d1584e466048f1b6a595c2e7d13e59",
       "version_major": 2,
       "version_minor": 0
      },
      "text/plain": [
       "A Jupyter Widget"
      ]
     },
     "metadata": {},
     "output_type": "display_data"
    },
    {
     "data": {
      "application/vnd.jupyter.widget-view+json": {
       "model_id": "e0105367b8ee44cfb3d72185593afafd",
       "version_major": 2,
       "version_minor": 0
      },
      "text/plain": [
       "A Jupyter Widget"
      ]
     },
     "metadata": {},
     "output_type": "display_data"
    },
    {
     "name": "stdout",
     "output_type": "stream",
     "text": [
      "\n",
      "Articles: 850399 Time: 2681.5078961849213 seconds\n"
     ]
    }
   ],
   "source": [
    "# This cell takes about 46 minutes to run.\n",
    "\n",
    "male_bigrams = collections.Counter()\n",
    "female_bigrams = collections.Counter()\n",
    "\n",
    "print(\"Building batches of counters for bigrams found in all Wiki bios of women and of men...\")\n",
    "print(\"Estimated time for completion: 46 minutes\")\n",
    "\n",
    "fp = FloatProgress(min=0, max=850399)\n",
    "all_articles = IntText(value=0, description=\"Article Count:\")\n",
    "display(fp, all_articles)\n",
    "article_count = 0\n",
    "\n",
    "if not os.path.exists('data/bigrams'):\n",
    "    os.makedirs('data/bigrams')\n",
    "\n",
    "start = time.time()\n",
    "try:\n",
    "    with open(\"data/gendered-labeled-articles.stripped\", 'r') as f:\n",
    "        for line in f:\n",
    "            article_count += 1\n",
    "            all_articles.value += 1\n",
    "            if article_count % 1000 == 0:\n",
    "                fp.value = article_count\n",
    "            line = line.split()\n",
    "            male = is_male[line.pop(0)]\n",
    "            # Read text in batches of 100 words\n",
    "            line = [line[i-1 : i+99] for i in range(1, len(line), 99)]\n",
    "            while line:\n",
    "                bigrams = list(get_bigrams(line.pop(0)))\n",
    "                if male:\n",
    "                    male_bigrams.update(bigrams)\n",
    "                else:\n",
    "                    female_bigrams.update(bigrams)\n",
    "            # Pickle results after every 1000 articles for men; 3000 for women (since we are using\n",
    "            # a total article count, and we know there are fewer bios of women). These numbers seem\n",
    "            # to be about right to prevent memory errors.\n",
    "            if article_count % 1000 == 0:\n",
    "                save_object(male_bigrams, 'data/bigrams/male_bigrams_{}.pkl'.format(article_count // 1000))\n",
    "                male_bigrams = collections.Counter()\n",
    "                if article_count % 3000 == 0:\n",
    "                    save_object(female_bigrams, 'data/bigrams/female_bigrams_{}.pkl'.format(article_count // 3000))\n",
    "                    female_bigrams = collections.Counter()\n",
    "        save_object(male_bigrams, 'data/bigrams/male_bigrams_{}.pkl'.format(article_count // 1000 + 1))\n",
    "        save_object(female_bigrams, 'data/bigrams/female_bigrams_{}.pkl'.format(article_count // 3000 + 1))\n",
    "finally: \n",
    "    print(\"\\nArticles:\", article_count, \"Time:\", (time.time() - start), \"seconds\")"
   ]
  },
  {
   "cell_type": "code",
   "execution_count": 6,
   "metadata": {},
   "outputs": [
    {
     "name": "stdout",
     "output_type": "stream",
     "text": [
      "Number of batches of bigrams for women collected: 284\n",
      "Number of batches of bigrams for men collected: 851\n"
     ]
    }
   ],
   "source": [
    "total_batches_female = article_count // 3000 + 1  \n",
    "total_batches_male = article_count // 1000 + 1 \n",
    "\n",
    "print(\"Number of batches of bigrams for women collected:\", total_batches_female)\n",
    "print(\"Number of batches of bigrams for men collected:\", total_batches_male)"
   ]
  },
  {
   "cell_type": "code",
   "execution_count": 7,
   "metadata": {},
   "outputs": [
    {
     "name": "stdout",
     "output_type": "stream",
     "text": [
      "Merging batches of the female_bigrams counters. Removing bigrams with counts <= 2, six times.\n"
     ]
    },
    {
     "data": {
      "application/vnd.jupyter.widget-view+json": {
       "model_id": "cce57ad8b73f4691a6ebb6e7e056c7aa",
       "version_major": 2,
       "version_minor": 0
      },
      "text/plain": [
       "A Jupyter Widget"
      ]
     },
     "metadata": {},
     "output_type": "display_data"
    },
    {
     "data": {
      "application/vnd.jupyter.widget-view+json": {
       "model_id": "9c73e3a3a21447699c15af73bd382638",
       "version_major": 2,
       "version_minor": 0
      },
      "text/plain": [
       "A Jupyter Widget"
      ]
     },
     "metadata": {},
     "output_type": "display_data"
    },
    {
     "name": "stdout",
     "output_type": "stream",
     "text": [
      "Done.\n",
      "Master counter for female bigrams saved in 'data/bigrams/female_bigrams_master.pkl'\n",
      "Time: 552.6426672935486 seconds\n"
     ]
    }
   ],
   "source": [
    "# This cell takes about 10 minutes to run.\n",
    "\n",
    "print(\"Merging batches of the female_bigrams counters. Removing bigrams with counts <= 2, six times.\")\n",
    "\n",
    "fp = FloatProgress(min=0, max=total_batches_female)\n",
    "count = IntText(value=0, description=\"Count:\")\n",
    "display(fp, count)\n",
    "\n",
    "f_count = 0\n",
    "female_bigrams = collections.Counter()\n",
    "\n",
    "start = time.time()\n",
    "for i in range(1, total_batches_female + 1):\n",
    "    fp.value += 1\n",
    "    count.value += 1\n",
    "    f_count += 1\n",
    "    with open('data/bigrams/female_bigrams_{}.pkl'.format(i), 'rb') as infile:\n",
    "        female_bigrams += pickle.load(infile)\n",
    "        # Remove bigrams with counts <=2 six times.\n",
    "        if f_count % 48 == 0:\n",
    "            for k in set(k for k,v in female_bigrams.items() if v <= 2):\n",
    "                del female_bigrams[k]\n",
    "for k in set(k for k,v in female_bigrams.items() if v <= 2):\n",
    "    del female_bigrams[k]  \n",
    "save_object(female_bigrams, 'data/bigrams/female_bigrams_master.pkl')\n",
    "print(\"Done.\\nMaster counter for female bigrams saved in 'data/bigrams/female_bigrams_master.pkl'\")\n",
    "print(\"Time:\", (time.time() - start), \"seconds\")"
   ]
  },
  {
   "cell_type": "code",
   "execution_count": 8,
   "metadata": {},
   "outputs": [
    {
     "name": "stdout",
     "output_type": "stream",
     "text": [
      "Total number of distinct bigrams collected from bios of women: 2725813\n"
     ]
    }
   ],
   "source": [
    "print(\"Total number of distinct bigrams collected from bios of women:\", len(female_bigrams))"
   ]
  },
  {
   "cell_type": "code",
   "execution_count": 9,
   "metadata": {},
   "outputs": [
    {
     "name": "stdout",
     "output_type": "stream",
     "text": [
      "Deleting temporary batches...\n",
      "Done.\n"
     ]
    }
   ],
   "source": [
    "print(\"Deleting temporary batches...\")\n",
    "for i in range(1, total_batches_female + 1):\n",
    "    os.remove('data/bigrams/female_bigrams_{}.pkl'.format(i))\n",
    "print(\"Done.\")"
   ]
  },
  {
   "cell_type": "code",
   "execution_count": 4,
   "metadata": {
    "scrolled": true
   },
   "outputs": [
    {
     "data": {
      "application/vnd.jupyter.widget-view+json": {
       "model_id": "779b467daaad492a89d8d09d3b218636",
       "version_major": 2,
       "version_minor": 0
      },
      "text/plain": [
       "A Jupyter Widget"
      ]
     },
     "metadata": {},
     "output_type": "display_data"
    },
    {
     "data": {
      "application/vnd.jupyter.widget-view+json": {
       "model_id": "81438b73cf784bba980e571cfe630ef3",
       "version_major": 2,
       "version_minor": 0
      },
      "text/plain": [
       "A Jupyter Widget"
      ]
     },
     "metadata": {},
     "output_type": "display_data"
    },
    {
     "name": "stdout",
     "output_type": "stream",
     "text": [
      "Time: 1240.206268787384 seconds\n",
      "Number of batches of male bigrams reduced to 48\n"
     ]
    }
   ],
   "source": [
    "# This cell takes about 20 minutes to run.\n",
    "\n",
    "# NOTE: If you get a memory error here, restart kernel and re-run first cell of notebook only.\n",
    "# Then try again (a hacky way to solve memory issue that seems to work.)\n",
    "\n",
    "# Delete female_bigrams to save memory.  We can load it later from pickle file.\n",
    "# del female_bigrams\n",
    "total_batches_male = 851\n",
    "\n",
    "fp = FloatProgress(min=0, max=total_batches_male)\n",
    "count = IntText(value=0, description=\"Count:\")\n",
    "m_count = 0\n",
    "display(fp, count)\n",
    "\n",
    "male_bigrams = collections.Counter()\n",
    "n = 7\n",
    "\n",
    "start = time.time()\n",
    "for i in range(1, total_batches_male + 1):\n",
    "    fp.value += 1\n",
    "    count.value += 1\n",
    "    m_count += 1\n",
    "    with open('data/bigrams/male_bigrams_{}.pkl'.format(i), 'rb') as infile:\n",
    "        male_bigrams += pickle.load(infile)\n",
    "        # Remove bigrams with count <= n forty-eight times.\n",
    "        if m_count % 18 == 0:\n",
    "            for k in set(k for k,v in male_bigrams.items() if v <= n ):\n",
    "                del male_bigrams[k]\n",
    "            save_object(male_bigrams, 'data/bigrams/male_bigrams_b_{}.pkl'.format(m_count // 18))\n",
    "            male_bigrams = collections.Counter()\n",
    "# for k in set(k for k,v in male_bigrams.items() if v <= n ):\n",
    "#     del male_bigrams[k]\n",
    "save_object(male_bigrams, 'data/bigrams/male_bigrams_b_{}.pkl'.format(m_count // 18 + 1))\n",
    "male_bigrams = collections.Counter()\n",
    "print(\"Time:\", (time.time() - start), \"seconds\")\n",
    "print(\"Number of batches of male bigrams reduced to\", m_count // 18 + 1)"
   ]
  },
  {
   "cell_type": "code",
   "execution_count": 9,
   "metadata": {},
   "outputs": [
    {
     "data": {
      "application/vnd.jupyter.widget-view+json": {
       "model_id": "82fc2731d2614302923bf363c5123f36",
       "version_major": 2,
       "version_minor": 0
      },
      "text/plain": [
       "A Jupyter Widget"
      ]
     },
     "metadata": {},
     "output_type": "display_data"
    },
    {
     "data": {
      "application/vnd.jupyter.widget-view+json": {
       "model_id": "fa0183d35050417db0ad4a024fd87f10",
       "version_major": 2,
       "version_minor": 0
      },
      "text/plain": [
       "A Jupyter Widget"
      ]
     },
     "metadata": {},
     "output_type": "display_data"
    },
    {
     "name": "stdout",
     "output_type": "stream",
     "text": [
      "Creating final master counter for male bigrams...\n",
      "This should take under 2 minutes...\n",
      "Done.\n",
      "Master counter for male bigrams saved in 'data/bigrams/male_bigrams_master.pkl'\n",
      "Time: 35.66937756538391 seconds\n",
      "Total number of distinct bigrams collected from bios of men: 1612684\n"
     ]
    }
   ],
   "source": [
    "# This cell takes less than 2 minutes to run.\n",
    "\n",
    "fp = FloatProgress(min=0, max=48)\n",
    "count = IntText(value=0, description=\"Count:\")\n",
    "display(fp, count)\n",
    "\n",
    "print(\"Creating final master counter for male bigrams...\")\n",
    "print(\"This should take under 2 minutes...\")\n",
    "\n",
    "start = time.time()\n",
    "for i in range(1, 49):\n",
    "    fp.value += 1\n",
    "    count.value += 1\n",
    "    with open('data/bigrams/male_bigrams_b_{}.pkl'.format(i), 'rb') as infile:\n",
    "        male_bigrams += pickle.load(infile)\n",
    "# Limiting the number of bigrams to those with counts of 8 or more helps save memory\n",
    "for k in set(k for k,v in male_bigrams.items() if v < 8):\n",
    "    del male_bigrams[k]\n",
    "save_object(male_bigrams, 'data/bigrams/male_bigrams_master.pkl')\n",
    "print(\"Done.\\nMaster counter for male bigrams saved in 'data/bigrams/male_bigrams_master.pkl'\")\n",
    "print(\"Time:\", (time.time() - start), \"seconds\")\n",
    "print(\"Total number of distinct bigrams collected from bios of men:\", len(male_bigrams))"
   ]
  },
  {
   "cell_type": "code",
   "execution_count": 12,
   "metadata": {},
   "outputs": [
    {
     "name": "stdout",
     "output_type": "stream",
     "text": [
      "Deleting temporary batches...\n",
      "Done.\n"
     ]
    }
   ],
   "source": [
    "print(\"Deleting temporary batches...\")\n",
    "for i in range(1, total_batches_male + 1):\n",
    "    os.remove('data/bigrams/male_bigrams_{}.pkl'.format(i))\n",
    "for i in range(1, m_count // 18 + 2):\n",
    "    os.remove('data/bigrams/male_bigrams_b_{}.pkl'.format(i))\n",
    "print(\"Done.\")"
   ]
  },
  {
   "cell_type": "code",
   "execution_count": null,
   "metadata": {
    "collapsed": true
   },
   "outputs": [],
   "source": []
  },
  {
   "cell_type": "code",
   "execution_count": 7,
   "metadata": {},
   "outputs": [],
   "source": [
    "# Load female_bigrams_master:\n",
    "with open('data/bigrams/female_bigrams_master.pkl', 'rb') as infile:\n",
    "    female_bigrams = pickle.load(infile)"
   ]
  },
  {
   "cell_type": "code",
   "execution_count": 13,
   "metadata": {},
   "outputs": [
    {
     "data": {
      "text/plain": [
       "1331985"
      ]
     },
     "execution_count": 13,
     "metadata": {},
     "output_type": "execute_result"
    }
   ],
   "source": [
    "for k in set(k for k,v in female_bigrams.items() if v < 8):\n",
    "    del female_bigrams[k]\n",
    "len(female_bigrams)"
   ]
  },
  {
   "cell_type": "code",
   "execution_count": 6,
   "metadata": {
    "collapsed": true
   },
   "outputs": [],
   "source": [
    "# Load male_bigrams_master:\n",
    "# with open('data/male_bigrams/male_bigrams_master.pkl', 'rb') as infile:\n",
    "#     male_bigrams = pickle.load(infile)"
   ]
  },
  {
   "cell_type": "code",
   "execution_count": null,
   "metadata": {
    "collapsed": true
   },
   "outputs": [],
   "source": []
  },
  {
   "cell_type": "markdown",
   "metadata": {
    "collapsed": true
   },
   "source": [
    "# Exploratory Data Analysis of Bigrams"
   ]
  },
  {
   "cell_type": "code",
   "execution_count": 14,
   "metadata": {},
   "outputs": [
    {
     "data": {
      "text/plain": [
       "[(('http', 'www'), 813722),\n",
       " (('of', 'the'), 708824),\n",
       " (('ref', 'name'), 683958),\n",
       " (('url', 'http'), 578411),\n",
       " (('in', 'the'), 566040),\n",
       " (('ref', 'cite'), 448580),\n",
       " (('cite', 'web'), 440215),\n",
       " (('at', 'the'), 391527),\n",
       " (('web', 'url'), 299257),\n",
       " (('she', 'was'), 251644),\n",
       " (('women', 's'), 226877),\n",
       " (('for', 'the'), 190627),\n",
       " (('cite', 'news'), 179157),\n",
       " (('new', 'york'), 175253),\n",
       " (('to', 'the'), 173509),\n",
       " (('on', 'the'), 173402),\n",
       " (('and', 'the'), 169740),\n",
       " (('ref', 'http'), 160787),\n",
       " (('as', 'a'), 150900),\n",
       " (('birth', 'date'), 149470),\n",
       " (('ref', 'ref'), 144628),\n",
       " (('align', 'center'), 141886),\n",
       " (('united', 'states'), 121101),\n",
       " (('url', 'https'), 117811),\n",
       " (('in', 'a'), 110508),\n",
       " (('births', 'category'), 109660),\n",
       " (('ref', 'she'), 108566),\n",
       " (('living', 'people'), 107575),\n",
       " (('people', 'category'), 107094),\n",
       " (('archive', 'org'), 104657),\n",
       " (('category', 'american'), 104348),\n",
       " (('of', 'her'), 103947),\n",
       " (('university', 'of'), 102493),\n",
       " (('web', 'archive'), 100422),\n",
       " (('org', 'web'), 100273),\n",
       " (('from', 'the'), 98954),\n",
       " (('https', 'web'), 98542),\n",
       " (('is', 'a'), 97840),\n",
       " (('was', 'a'), 96771),\n",
       " (('tv', 'series'), 95971),\n",
       " (('references', 'reflist'), 95483),\n",
       " (('with', 'the'), 94900),\n",
       " (('ref', 'in'), 94165),\n",
       " (('category', 'living'), 92544),\n",
       " (('external', 'links'), 87502),\n",
       " (('the', 'first'), 86477),\n",
       " (('co', 'uk'), 85168),\n",
       " (('html', 'title'), 82992),\n",
       " (('web', 'title'), 81758),\n",
       " (('style', 'background'), 80678),\n",
       " (('https', 'www'), 79878),\n",
       " (('birth', 'place'), 79359),\n",
       " (('news', 'url'), 79138),\n",
       " (('death', 'date'), 77860),\n",
       " (('by', 'the'), 75581),\n",
       " (('and', 'age'), 73603),\n",
       " (('summer', 'olympics'), 72681),\n",
       " (('the', 'united'), 72487),\n",
       " (('she', 'is'), 72233),\n",
       " (('category', 'people'), 72171),\n",
       " (('as', 'the'), 71198),\n",
       " (('date', 'and'), 70526),\n",
       " (('date', 'birth'), 70489),\n",
       " (('cite', 'book'), 70159),\n",
       " (('was', 'the'), 67701),\n",
       " (('she', 'has'), 67227),\n",
       " (('text', 'align'), 67077),\n",
       " (('people', 'from'), 66838),\n",
       " (('the', 'new'), 65989),\n",
       " (('u', 's'), 65686)]"
      ]
     },
     "execution_count": 14,
     "metadata": {},
     "output_type": "execute_result"
    }
   ],
   "source": [
    "female_bigrams.most_common(70)"
   ]
  },
  {
   "cell_type": "code",
   "execution_count": 15,
   "metadata": {},
   "outputs": [
    {
     "data": {
      "text/plain": [
       "[(('of', 'the'), 10743389),\n",
       " (('http', 'www'), 7115634),\n",
       " (('in', 'the'), 6708376),\n",
       " (('ref', 'name'), 6162263),\n",
       " (('url', 'http'), 4826060),\n",
       " (('ref', 'cite'), 3982254),\n",
       " (('he', 'was'), 3527017),\n",
       " (('cite', 'web'), 3441055),\n",
       " (('at', 'the'), 3024121),\n",
       " (('to', 'the'), 2744050),\n",
       " (('for', 'the'), 2462184),\n",
       " (('web', 'url'), 2362973),\n",
       " (('and', 'the'), 1935295),\n",
       " (('as', 'a'), 1894177),\n",
       " (('on', 'the'), 1864609),\n",
       " (('united', 'states'), 1833942),\n",
       " (('new', 'york'), 1697296),\n",
       " (('cite', 'news'), 1685356),\n",
       " (('birth', 'date'), 1576543),\n",
       " (('align', 'center'), 1555454),\n",
       " (('ref', 'http'), 1532831),\n",
       " (('players', 'category'), 1523481),\n",
       " (('with', 'the'), 1445508),\n",
       " (('f', 'c'), 1414783),\n",
       " (('was', 'a'), 1383429),\n",
       " (('births', 'category'), 1249080),\n",
       " (('university', 'of'), 1191819),\n",
       " (('of', 'his'), 1189126),\n",
       " (('from', 'the'), 1167930),\n",
       " (('in', 'a'), 1155019),\n",
       " (('by', 'the'), 1128407),\n",
       " (('ref', 'ref'), 1123085),\n",
       " (('style', 'background'), 1054393),\n",
       " (('url', 'https'), 1048855),\n",
       " (('ref', 'he'), 1043445),\n",
       " (('the', 'first'), 991601),\n",
       " (('the', 'united'), 971037),\n",
       " (('co', 'uk'), 955335),\n",
       " (('references', 'reflist'), 938507),\n",
       " (('death', 'date'), 923442),\n",
       " (('as', 'the'), 913630),\n",
       " (('cite', 'book'), 909289),\n",
       " (('archive', 'org'), 902547),\n",
       " (('category', 'people'), 893387),\n",
       " (('external', 'links'), 865936),\n",
       " (('birth', 'place'), 843330),\n",
       " (('ref', 'in'), 841856),\n",
       " (('0', '0'), 826471),\n",
       " (('br', 'small'), 808533),\n",
       " (('people', 'category'), 807615),\n",
       " (('was', 'the'), 805645),\n",
       " (('web', 'archive'), 797525),\n",
       " (('org', 'web'), 797152),\n",
       " (('align', 'left'), 794831),\n",
       " (('is', 'a'), 794489),\n",
       " (('https', 'web'), 780078),\n",
       " (('in', 'his'), 774684),\n",
       " (('member', 'of'), 770476),\n",
       " (('of', 'a'), 769138),\n",
       " (('category', 'american'), 768676),\n",
       " (('one', 'of'), 763881),\n",
       " (('and', 'age'), 761586),\n",
       " (('living', 'people'), 760814),\n",
       " (('people', 'from'), 755709),\n",
       " (('and', 'was'), 752151),\n",
       " (('news', 'url'), 751990),\n",
       " (('date', 'and'), 741749),\n",
       " (('html', 'title'), 732643),\n",
       " (('date', 'birth'), 730903),\n",
       " (('the', 'new'), 712533)]"
      ]
     },
     "execution_count": 15,
     "metadata": {},
     "output_type": "execute_result"
    }
   ],
   "source": [
    "male_bigrams.most_common(70)"
   ]
  },
  {
   "cell_type": "code",
   "execution_count": 18,
   "metadata": {
    "collapsed": true
   },
   "outputs": [],
   "source": [
    "# Load the unigram counters\n",
    "\n",
    "with open('data/female_counter.pkl', 'rb') as infile:\n",
    "    female_counter = pickle.load(infile)\n",
    "with open('data/male_counter.pkl', 'rb') as infile:\n",
    "    male_counter = pickle.load(infile)"
   ]
  },
  {
   "cell_type": "code",
   "execution_count": null,
   "metadata": {
    "collapsed": true
   },
   "outputs": [],
   "source": []
  },
  {
   "cell_type": "code",
   "execution_count": 19,
   "metadata": {
    "collapsed": true
   },
   "outputs": [],
   "source": [
    "class PMICalculator:\n",
    "    \n",
    "    def __init__(self, counter1, counter2, n1, n2):\n",
    "        self.counter1 = counter1\n",
    "        self.counter2 = counter2\n",
    "        self.n1 = n1\n",
    "        self.n2 = n2\n",
    "        self.lpc1 = log(n1 / (n1 + n2))\n",
    "\n",
    "    def pmi(self, word):\n",
    "        try:\n",
    "            return (log(self.counter1[word]) - \n",
    "            self.lpc1 -\n",
    "            log(self.counter1[word] + self.counter2[word]))\n",
    "        except ValueError:\n",
    "            return 0"
   ]
  },
  {
   "cell_type": "code",
   "execution_count": 20,
   "metadata": {
    "collapsed": true
   },
   "outputs": [],
   "source": [
    "pc1 = PMICalculator(female_counter, male_counter, 130576, 718413)"
   ]
  },
  {
   "cell_type": "code",
   "execution_count": 21,
   "metadata": {},
   "outputs": [
    {
     "data": {
      "text/plain": [
       "-1.9380632450542024"
      ]
     },
     "execution_count": 21,
     "metadata": {},
     "output_type": "execute_result"
    }
   ],
   "source": [
    "pc1.pmi(\"his\")"
   ]
  },
  {
   "cell_type": "code",
   "execution_count": 22,
   "metadata": {},
   "outputs": [
    {
     "data": {
      "text/plain": [
       "1.7940272570088585"
      ]
     },
     "execution_count": 22,
     "metadata": {},
     "output_type": "execute_result"
    }
   ],
   "source": [
    "pc1.pmi(\"she\")"
   ]
  },
  {
   "cell_type": "code",
   "execution_count": 35,
   "metadata": {},
   "outputs": [
    {
     "data": {
      "text/plain": [
       "1.509566866723068"
      ]
     },
     "execution_count": 35,
     "metadata": {},
     "output_type": "execute_result"
    }
   ],
   "source": [
    "pc1.pmi(\"husband\")"
   ]
  },
  {
   "cell_type": "code",
   "execution_count": 36,
   "metadata": {},
   "outputs": [
    {
     "data": {
      "text/plain": [
       "-0.057060278138187925"
      ]
     },
     "execution_count": 36,
     "metadata": {},
     "output_type": "execute_result"
    }
   ],
   "source": [
    "pc1.pmi(\"wife\")"
   ]
  },
  {
   "cell_type": "code",
   "execution_count": 41,
   "metadata": {},
   "outputs": [
    {
     "data": {
      "text/plain": [
       "-0.12356478572158913"
      ]
     },
     "execution_count": 41,
     "metadata": {},
     "output_type": "execute_result"
    }
   ],
   "source": [
    "pc1.pmi(\"career\")"
   ]
  },
  {
   "cell_type": "code",
   "execution_count": 42,
   "metadata": {},
   "outputs": [
    {
     "data": {
      "text/plain": [
       "0.28344799212810123"
      ]
     },
     "execution_count": 42,
     "metadata": {},
     "output_type": "execute_result"
    }
   ],
   "source": [
    "pc1.pmi(\"family\")"
   ]
  },
  {
   "cell_type": "code",
   "execution_count": 53,
   "metadata": {},
   "outputs": [
    {
     "data": {
      "text/plain": [
       "0.20763811546007105"
      ]
     },
     "execution_count": 53,
     "metadata": {},
     "output_type": "execute_result"
    }
   ],
   "source": [
    "pc1.pmi(\"received\")"
   ]
  },
  {
   "cell_type": "code",
   "execution_count": 54,
   "metadata": {},
   "outputs": [
    {
     "data": {
      "text/plain": [
       "0.25115538983372687"
      ]
     },
     "execution_count": 54,
     "metadata": {},
     "output_type": "execute_result"
    }
   ],
   "source": [
    "pc1.pmi(\"felt\")"
   ]
  },
  {
   "cell_type": "code",
   "execution_count": 55,
   "metadata": {},
   "outputs": [
    {
     "data": {
      "text/plain": [
       "-0.04150079746606927"
      ]
     },
     "execution_count": 55,
     "metadata": {},
     "output_type": "execute_result"
    }
   ],
   "source": [
    "pc1.pmi(\"thought\")"
   ]
  },
  {
   "cell_type": "code",
   "execution_count": 56,
   "metadata": {},
   "outputs": [
    {
     "data": {
      "text/plain": [
       "-0.17359434944100727"
      ]
     },
     "execution_count": 56,
     "metadata": {},
     "output_type": "execute_result"
    }
   ],
   "source": [
    "pc1.pmi(\"feared\")"
   ]
  },
  {
   "cell_type": "code",
   "execution_count": 57,
   "metadata": {},
   "outputs": [
    {
     "data": {
      "text/plain": [
       "0.4251156630049806"
      ]
     },
     "execution_count": 57,
     "metadata": {},
     "output_type": "execute_result"
    }
   ],
   "source": [
    "pc1.pmi(\"married\")"
   ]
  },
  {
   "cell_type": "code",
   "execution_count": 58,
   "metadata": {},
   "outputs": [
    {
     "data": {
      "text/plain": [
       "0.49427551126943214"
      ]
     },
     "execution_count": 58,
     "metadata": {},
     "output_type": "execute_result"
    }
   ],
   "source": [
    "pc1.pmi(\"looks\")"
   ]
  },
  {
   "cell_type": "code",
   "execution_count": null,
   "metadata": {
    "collapsed": true
   },
   "outputs": [],
   "source": []
  },
  {
   "cell_type": "code",
   "execution_count": null,
   "metadata": {
    "collapsed": true
   },
   "outputs": [],
   "source": []
  },
  {
   "cell_type": "code",
   "execution_count": 23,
   "metadata": {
    "collapsed": true
   },
   "outputs": [],
   "source": [
    "pc2 = PMICalculator(female_bigrams, male_bigrams, 130576, 718413)"
   ]
  },
  {
   "cell_type": "code",
   "execution_count": 24,
   "metadata": {
    "collapsed": true
   },
   "outputs": [],
   "source": [
    "all_bigrams = female_bigrams + male_bigrams"
   ]
  },
  {
   "cell_type": "code",
   "execution_count": 26,
   "metadata": {},
   "outputs": [
    {
     "data": {
      "text/plain": [
       "[(('of', 'aberdeen'), 8253),\n",
       " (('46', 'ref'), 8252),\n",
       " (('the', 'eagles'), 8252),\n",
       " (('pcupdate', 'ntupdate'), 8252),\n",
       " (('houston', 'texans'), 8252)]"
      ]
     },
     "execution_count": 26,
     "metadata": {},
     "output_type": "execute_result"
    }
   ],
   "source": [
    "top_bigrams = all_bigrams.most_common(20000)\n",
    "top_bigrams[-5:]"
   ]
  },
  {
   "cell_type": "code",
   "execution_count": 27,
   "metadata": {
    "collapsed": true
   },
   "outputs": [],
   "source": [
    "top_bigrams_with_pmi = [(p[0], p[1], pc2.pmi(p[0])) for p in top_bigrams]\n",
    "top_bigrams_with_pmi.sort(key = lambda x: x[-1])"
   ]
  },
  {
   "cell_type": "code",
   "execution_count": 38,
   "metadata": {},
   "outputs": [
    {
     "data": {
      "text/plain": [
       "[(('season', 'he'), 92920, -7.169508117004767),\n",
       " (('c', 'season'), 89374, -7.130599021242945),\n",
       " (('nhl', 'season'), 107596, -6.941459231976644),\n",
       " (('english', 'male'), 51900, -6.5870879992744005),\n",
       " (('soccerbase', 'com'), 32341, -6.4325587153514885),\n",
       " (('class', 'cricket'), 40502, -6.3391205647118145),\n",
       " (('nfl', 'draft'), 41359, -6.273047884071101),\n",
       " (('town', 'f'), 111024, -6.248903314591642),\n",
       " (('championships', 'men'), 43722, -6.248566532355593),\n",
       " (('league', 'one'), 39728, -6.078663381051481),\n",
       " (('port', 'vale'), 30684, -6.061510555199607),\n",
       " (('male', 'television'), 38810, -6.055285097666484),\n",
       " (('football', 'reference'), 21509, -6.024694392415389),\n",
       " (('county', 'f'), 26149, -5.996890337768831),\n",
       " (('league', 'he'), 23514, -5.996035893010259),\n",
       " (('i', 'men'), 31265, -5.99325709313219),\n",
       " (('pro', 'bowl'), 30146, -5.956810076501267),\n",
       " (('his', 'playing'), 21908, -5.925291771486183),\n",
       " (('football', 'season'), 52560, -5.906577402718968),\n",
       " (('bromwich', 'albion'), 19054, -5.9034999935056796),\n",
       " (('win', 'small'), 25146, -5.862468047273548),\n",
       " (('he', 'finished'), 69450, -5.842284346616135),\n",
       " (('player', 'he'), 27615, -5.789074227792543),\n",
       " (('nba', 'draft'), 18731, -5.768619809878464),\n",
       " (('male', 'novelists'), 18483, -5.755291295265252),\n",
       " (('politician', 'he'), 20515, -5.754235714801033),\n",
       " (('american', 'male'), 181008, -5.745569341352899),\n",
       " (('category', 'male'), 82872, -5.715292112373362),\n",
       " (('he', 'earned'), 48878, -5.706116054528685),\n",
       " (('uefa', 'cup'), 23379, -5.702596015642463),\n",
       " (('male', 'film'), 46678, -5.700883613152014),\n",
       " (('he', 'played'), 305842, -5.664982909827931),\n",
       " (('huddersfield', 'town'), 16389, -5.635050282646398),\n",
       " (('cleveland', 'browns'), 18089, -5.628383407626381),\n",
       " (('team', 'he'), 32481, -5.625948027001635)]"
      ]
     },
     "execution_count": 38,
     "metadata": {},
     "output_type": "execute_result"
    }
   ],
   "source": [
    "# Men\n",
    "top_bigrams_with_pmi[:35]"
   ]
  },
  {
   "cell_type": "code",
   "execution_count": 37,
   "metadata": {},
   "outputs": [
    {
     "data": {
      "text/plain": [
       "[(('american', 'women'), 25328, 1.814727984961209),\n",
       " (('her', 'work'), 22365, 1.818924876053325),\n",
       " (('her', 'debut'), 10883, 1.8210054345701217),\n",
       " (('her', 'career'), 21648, 1.8261513329865693),\n",
       " (('she', 'has'), 70357, 1.8265834685324158),\n",
       " (('supporting', 'actress'), 12378, 1.8268087717543349),\n",
       " (('she', 'then'), 10979, 1.8288141422258697),\n",
       " (('she', 'received'), 17720, 1.8361243766480992),\n",
       " (('she', 'served'), 10180, 1.8412669513945836),\n",
       " (('category', 'women'), 29341, 1.8449019731513019),\n",
       " (('she', 'began'), 15514, 1.8513143813812842),\n",
       " (('she', 'won'), 28102, 1.8550074071748277),\n",
       " (('she', 'joined'), 9000, 1.8569771592711604),\n",
       " (('year', 'she'), 12683, 1.8577169145055379),\n",
       " (('she', 'attended'), 11307, 1.8598108776867885),\n",
       " (('she', 'appeared'), 17848, 1.860425078265246),\n",
       " (('she', 'played'), 19948, 1.8630263780836405),\n",
       " (('century', 'women'), 20836, 1.8657837541957925),\n",
       " (('began', 'her'), 8704, 1.865983028165859),\n",
       " (('she', 'studied'), 9917, 1.8669348436887674),\n",
       " (('female', 'singers'), 8999, 1.8684169827626445),\n",
       " (('she', 'graduated'), 9172, 1.8691427139283778),\n",
       " (('american', 'female'), 11263, 1.8692455919965472),\n",
       " (('women', 'writers'), 19960, 1.8695826442739953),\n",
       " (('olympics', 'women'), 16566, 1.86967329318413),\n",
       " (('actresses', 'category'), 61005, 1.870745740779741),\n",
       " (('championships', 'women'), 17658, 1.8711842814383939),\n",
       " (('category', 'actresses'), 18433, 1.8720907970812082),\n",
       " (('film', 'actresses'), 17840, 1.8720907970812082),\n",
       " (('open', 'women'), 15707, 1.8720907970812082),\n",
       " (('actresses', 'from'), 15092, 1.8720907970812082),\n",
       " (('television', 'actresses'), 13199, 1.8720907970812082),\n",
       " (('occupation', 'actress'), 12172, 1.8720907970812082),\n",
       " (('american', 'actresses'), 10033, 1.8720907970812082),\n",
       " (('category', 'female'), 9876, 1.8720907970812082)]"
      ]
     },
     "execution_count": 37,
     "metadata": {},
     "output_type": "execute_result"
    }
   ],
   "source": [
    "# Women\n",
    "top_bigrams_with_pmi[-35:]"
   ]
  },
  {
   "cell_type": "code",
   "execution_count": 32,
   "metadata": {},
   "outputs": [
    {
     "data": {
      "text/plain": [
       "1.6782626536456213"
      ]
     },
     "execution_count": 32,
     "metadata": {},
     "output_type": "execute_result"
    }
   ],
   "source": [
    "pc2.pmi((\"first\", \"woman\"))"
   ]
  },
  {
   "cell_type": "code",
   "execution_count": 33,
   "metadata": {},
   "outputs": [
    {
     "data": {
      "text/plain": [
       "-2.248461007969188"
      ]
     },
     "execution_count": 33,
     "metadata": {},
     "output_type": "execute_result"
    }
   ],
   "source": [
    "pc2.pmi((\"first\", \"man\"))"
   ]
  },
  {
   "cell_type": "code",
   "execution_count": 34,
   "metadata": {},
   "outputs": [
    {
     "data": {
      "text/plain": [
       "-0.5448207087013106"
      ]
     },
     "execution_count": 34,
     "metadata": {},
     "output_type": "execute_result"
    }
   ],
   "source": [
    "pc2.pmi((\"first\", \"person\"))"
   ]
  },
  {
   "cell_type": "code",
   "execution_count": 39,
   "metadata": {},
   "outputs": [
    {
     "data": {
      "text/plain": [
       "1.677569700476507"
      ]
     },
     "execution_count": 39,
     "metadata": {},
     "output_type": "execute_result"
    }
   ],
   "source": [
    "pc2.pmi((\"her\", \"mother\"))"
   ]
  },
  {
   "cell_type": "code",
   "execution_count": 40,
   "metadata": {},
   "outputs": [
    {
     "data": {
      "text/plain": [
       "-2.3741492182690216"
      ]
     },
     "execution_count": 40,
     "metadata": {},
     "output_type": "execute_result"
    }
   ],
   "source": [
    "pc2.pmi((\"his\", \"mother\"))"
   ]
  },
  {
   "cell_type": "code",
   "execution_count": 43,
   "metadata": {},
   "outputs": [
    {
     "data": {
      "text/plain": [
       "-0.20183556391051916"
      ]
     },
     "execution_count": 43,
     "metadata": {},
     "output_type": "execute_result"
    }
   ],
   "source": [
    "pc2.pmi((\"husband\", \"of\"))"
   ]
  },
  {
   "cell_type": "code",
   "execution_count": 44,
   "metadata": {},
   "outputs": [
    {
     "data": {
      "text/plain": [
       "0.46124905152146845"
      ]
     },
     "execution_count": 44,
     "metadata": {},
     "output_type": "execute_result"
    }
   ],
   "source": [
    "pc2.pmi((\"wife\", \"of\"))"
   ]
  },
  {
   "cell_type": "code",
   "execution_count": 45,
   "metadata": {},
   "outputs": [
    {
     "data": {
      "text/plain": [
       "-1.089677112699471"
      ]
     },
     "execution_count": 45,
     "metadata": {},
     "output_type": "execute_result"
    }
   ],
   "source": [
    "pc2.pmi((\"leader\", \"of\"))"
   ]
  },
  {
   "cell_type": "code",
   "execution_count": 46,
   "metadata": {},
   "outputs": [
    {
     "data": {
      "text/plain": [
       "-0.3949652180862451"
      ]
     },
     "execution_count": 46,
     "metadata": {},
     "output_type": "execute_result"
    }
   ],
   "source": [
    "pc2.pmi((\"known\", \"for\"))"
   ]
  },
  {
   "cell_type": "code",
   "execution_count": 47,
   "metadata": {},
   "outputs": [
    {
     "data": {
      "text/plain": [
       "-0.18826044315597024"
      ]
     },
     "execution_count": 47,
     "metadata": {},
     "output_type": "execute_result"
    }
   ],
   "source": [
    "pc2.pmi((\"recognized\", \"for\"))"
   ]
  },
  {
   "cell_type": "code",
   "execution_count": 48,
   "metadata": {},
   "outputs": [
    {
     "data": {
      "text/plain": [
       "-0.8254634190213821"
      ]
     },
     "execution_count": 48,
     "metadata": {},
     "output_type": "execute_result"
    }
   ],
   "source": [
    "pc2.pmi((\"first\", \"of\"))"
   ]
  },
  {
   "cell_type": "code",
   "execution_count": 49,
   "metadata": {},
   "outputs": [
    {
     "data": {
      "text/plain": [
       "-0.7645317867478543"
      ]
     },
     "execution_count": 49,
     "metadata": {},
     "output_type": "execute_result"
    }
   ],
   "source": [
    "pc2.pmi((\"the\", \"most\"))"
   ]
  },
  {
   "cell_type": "code",
   "execution_count": 50,
   "metadata": {},
   "outputs": [
    {
     "data": {
      "text/plain": [
       "-0.45633540156981844"
      ]
     },
     "execution_count": 50,
     "metadata": {},
     "output_type": "execute_result"
    }
   ],
   "source": [
    "pc2.pmi((\"the\", \"best\"))"
   ]
  },
  {
   "cell_type": "code",
   "execution_count": 51,
   "metadata": {},
   "outputs": [
    {
     "data": {
      "text/plain": [
       "-0.8233678688462245"
      ]
     },
     "execution_count": 51,
     "metadata": {},
     "output_type": "execute_result"
    }
   ],
   "source": [
    "pc2.pmi((\"the\", \"second\"))"
   ]
  },
  {
   "cell_type": "code",
   "execution_count": 52,
   "metadata": {},
   "outputs": [
    {
     "data": {
      "text/plain": [
       "-0.6509658253578845"
      ]
     },
     "execution_count": 52,
     "metadata": {},
     "output_type": "execute_result"
    }
   ],
   "source": [
    "pc2.pmi((\"the\", \"first\"))"
   ]
  },
  {
   "cell_type": "markdown",
   "metadata": {},
   "source": [
    "# Collocations"
   ]
  },
  {
   "cell_type": "code",
   "execution_count": 241,
   "metadata": {},
   "outputs": [],
   "source": [
    "# bigrams beginning with he or she, filtered by words appearing at least 150 times.\n",
    "\n",
    "she = collections.Counter({ k[1]: v for k, v in female_bigrams.items() if v >= 150 and k[0] == \"she\" })\n",
    "he = collections.Counter({ k[1]: v for k, v in male_bigrams.items() if v >= 150 and k[0] == \"he\" })"
   ]
  },
  {
   "cell_type": "code",
   "execution_count": 109,
   "metadata": {},
   "outputs": [
    {
     "data": {
      "text/plain": [
       "496"
      ]
     },
     "execution_count": 109,
     "metadata": {},
     "output_type": "execute_result"
    }
   ],
   "source": [
    "len(she)"
   ]
  },
  {
   "cell_type": "code",
   "execution_count": 110,
   "metadata": {},
   "outputs": [
    {
     "data": {
      "text/plain": [
       "1237776"
      ]
     },
     "execution_count": 110,
     "metadata": {},
     "output_type": "execute_result"
    }
   ],
   "source": [
    "sum(she.values())"
   ]
  },
  {
   "cell_type": "code",
   "execution_count": 102,
   "metadata": {},
   "outputs": [
    {
     "data": {
      "text/plain": [
       "1100"
      ]
     },
     "execution_count": 102,
     "metadata": {},
     "output_type": "execute_result"
    }
   ],
   "source": [
    "len(he)"
   ]
  },
  {
   "cell_type": "code",
   "execution_count": 103,
   "metadata": {},
   "outputs": [
    {
     "data": {
      "text/plain": [
       "14471116"
      ]
     },
     "execution_count": 103,
     "metadata": {},
     "output_type": "execute_result"
    }
   ],
   "source": [
    "sum(he.values())"
   ]
  },
  {
   "cell_type": "code",
   "execution_count": 97,
   "metadata": {},
   "outputs": [
    {
     "data": {
      "text/plain": [
       "912719349"
      ]
     },
     "execution_count": 97,
     "metadata": {},
     "output_type": "execute_result"
    }
   ],
   "source": [
    "# Number of words we are dealing with in our corpus: \n",
    "sum(female_counter.values()) + sum(male_counter.values())"
   ]
  },
  {
   "cell_type": "code",
   "execution_count": 118,
   "metadata": {},
   "outputs": [
    {
     "data": {
      "text/plain": [
       "147838368"
      ]
     },
     "execution_count": 118,
     "metadata": {},
     "output_type": "execute_result"
    }
   ],
   "source": [
    "# Number of words in corpus of women's bios: \n",
    "n_women = sum(female_counter.values())\n",
    "n_women"
   ]
  },
  {
   "cell_type": "code",
   "execution_count": 119,
   "metadata": {},
   "outputs": [
    {
     "data": {
      "text/plain": [
       "764880981"
      ]
     },
     "execution_count": 119,
     "metadata": {},
     "output_type": "execute_result"
    }
   ],
   "source": [
    "# Number of words in corpus of men's bios: \n",
    "n_men = sum(male_counter.values())\n",
    "n_men"
   ]
  },
  {
   "cell_type": "code",
   "execution_count": 228,
   "metadata": {},
   "outputs": [
    {
     "name": "stdout",
     "output_type": "stream",
     "text": [
      "Number of times 'he' appears in male bios: 7053558\n",
      "Number of times 'she' appears in female bios: 1306814\n"
     ]
    }
   ],
   "source": [
    "he_count = male_counter['he']\n",
    "she_count = female_counter['she']\n",
    "print(\"Number of times 'he' appears in male bios:\", he_count )\n",
    "print(\"Number of times 'she' appears in female bios:\", she_count)"
   ]
  },
  {
   "cell_type": "code",
   "execution_count": null,
   "metadata": {
    "collapsed": true
   },
   "outputs": [],
   "source": []
  },
  {
   "cell_type": "code",
   "execution_count": 242,
   "metadata": {
    "collapsed": true
   },
   "outputs": [],
   "source": [
    "# Look up counts for all words in \"he\" counter not in \"she\" counter and vice versa\n",
    "for word in he:\n",
    "    if word not in she:\n",
    "        she[word] = female_bigrams[(\"she\", word)]\n",
    "for word in she:\n",
    "    if word not in he:\n",
    "        he[word] = male_bigrams[(\"he\", word)]"
   ]
  },
  {
   "cell_type": "code",
   "execution_count": 245,
   "metadata": {},
   "outputs": [],
   "source": [
    "columns = ['Word following he/she', \"'she-word' count\"]\n",
    "df = pd.DataFrame([(k,v) for k,v in she.items()], columns=columns)\n",
    "df.set_index(['Word following he/she'], inplace=True)"
   ]
  },
  {
   "cell_type": "code",
   "execution_count": 212,
   "metadata": {},
   "outputs": [
    {
     "data": {
      "text/html": [
       "<div>\n",
       "<style>\n",
       "    .dataframe thead tr:only-child th {\n",
       "        text-align: right;\n",
       "    }\n",
       "\n",
       "    .dataframe thead th {\n",
       "        text-align: left;\n",
       "    }\n",
       "\n",
       "    .dataframe tbody tr th {\n",
       "        vertical-align: top;\n",
       "    }\n",
       "</style>\n",
       "<table border=\"1\" class=\"dataframe\">\n",
       "  <thead>\n",
       "    <tr style=\"text-align: right;\">\n",
       "      <th></th>\n",
       "      <th>'she-word' count</th>\n",
       "    </tr>\n",
       "    <tr>\n",
       "      <th>Word following he/she</th>\n",
       "      <th></th>\n",
       "    </tr>\n",
       "  </thead>\n",
       "  <tbody>\n",
       "    <tr>\n",
       "      <th>is</th>\n",
       "      <td>72233</td>\n",
       "    </tr>\n",
       "    <tr>\n",
       "      <th>called</th>\n",
       "      <td>1325</td>\n",
       "    </tr>\n",
       "    <tr>\n",
       "      <th>moved</th>\n",
       "      <td>9979</td>\n",
       "    </tr>\n",
       "    <tr>\n",
       "      <th>had</th>\n",
       "      <td>44820</td>\n",
       "    </tr>\n",
       "    <tr>\n",
       "      <th>achieved</th>\n",
       "      <td>1092</td>\n",
       "    </tr>\n",
       "  </tbody>\n",
       "</table>\n",
       "</div>"
      ],
      "text/plain": [
       "                       'she-word' count\n",
       "Word following he/she                  \n",
       "is                                72233\n",
       "called                             1325\n",
       "moved                              9979\n",
       "had                               44820\n",
       "achieved                           1092"
      ]
     },
     "execution_count": 212,
     "metadata": {},
     "output_type": "execute_result"
    }
   ],
   "source": [
    "df.head()"
   ]
  },
  {
   "cell_type": "code",
   "execution_count": 246,
   "metadata": {
    "collapsed": true
   },
   "outputs": [],
   "source": [
    "columns2 = ['Word following he/she', \"'he-word' count\",]\n",
    "df2 = pd.DataFrame([(k,v) for k,v in he.items()], columns=columns2)\n",
    "df2.set_index(['Word following he/she'], inplace=True)"
   ]
  },
  {
   "cell_type": "code",
   "execution_count": null,
   "metadata": {
    "collapsed": true
   },
   "outputs": [],
   "source": []
  },
  {
   "cell_type": "code",
   "execution_count": 247,
   "metadata": {},
   "outputs": [],
   "source": [
    "df = pd.concat([df,df2], axis=1)\n",
    "\n",
    "df['total count'] = df.fillna(0)[\"'she-word' count\"] + df.fillna(0)[\"'he-word' count\"]\n",
    "\n",
    "df.sort_values(by=['total count'], ascending=False, inplace=True)"
   ]
  },
  {
   "cell_type": "code",
   "execution_count": 248,
   "metadata": {},
   "outputs": [
    {
     "data": {
      "text/html": [
       "<div>\n",
       "<style>\n",
       "    .dataframe thead tr:only-child th {\n",
       "        text-align: right;\n",
       "    }\n",
       "\n",
       "    .dataframe thead th {\n",
       "        text-align: left;\n",
       "    }\n",
       "\n",
       "    .dataframe tbody tr th {\n",
       "        vertical-align: top;\n",
       "    }\n",
       "</style>\n",
       "<table border=\"1\" class=\"dataframe\">\n",
       "  <thead>\n",
       "    <tr style=\"text-align: right;\">\n",
       "      <th></th>\n",
       "      <th>'she-word' count</th>\n",
       "      <th>'he-word' count</th>\n",
       "      <th>total count</th>\n",
       "      <th>he-normalized count</th>\n",
       "      <th>she-normalized count</th>\n",
       "    </tr>\n",
       "  </thead>\n",
       "  <tbody>\n",
       "    <tr>\n",
       "      <th>abdicated</th>\n",
       "      <td>17</td>\n",
       "      <td>159</td>\n",
       "      <td>176</td>\n",
       "      <td>1.105642e-05</td>\n",
       "      <td>1.411509e-05</td>\n",
       "    </tr>\n",
       "    <tr>\n",
       "      <th>hath</th>\n",
       "      <td>24</td>\n",
       "      <td>152</td>\n",
       "      <td>176</td>\n",
       "      <td>1.057270e-05</td>\n",
       "      <td>1.960429e-05</td>\n",
       "    </tr>\n",
       "    <tr>\n",
       "      <th>vetoed</th>\n",
       "      <td>0</td>\n",
       "      <td>175</td>\n",
       "      <td>175</td>\n",
       "      <td>1.216206e-05</td>\n",
       "      <td>7.841717e-07</td>\n",
       "    </tr>\n",
       "    <tr>\n",
       "      <th>emphasised</th>\n",
       "      <td>20</td>\n",
       "      <td>153</td>\n",
       "      <td>173</td>\n",
       "      <td>1.064181e-05</td>\n",
       "      <td>1.646760e-05</td>\n",
       "    </tr>\n",
       "    <tr>\n",
       "      <th>anticipated</th>\n",
       "      <td>16</td>\n",
       "      <td>156</td>\n",
       "      <td>172</td>\n",
       "      <td>1.084911e-05</td>\n",
       "      <td>1.333092e-05</td>\n",
       "    </tr>\n",
       "    <tr>\n",
       "      <th>entrusted</th>\n",
       "      <td>16</td>\n",
       "      <td>154</td>\n",
       "      <td>170</td>\n",
       "      <td>1.071091e-05</td>\n",
       "      <td>1.333092e-05</td>\n",
       "    </tr>\n",
       "    <tr>\n",
       "      <th>duly</th>\n",
       "      <td>0</td>\n",
       "      <td>165</td>\n",
       "      <td>165</td>\n",
       "      <td>1.147104e-05</td>\n",
       "      <td>7.841717e-07</td>\n",
       "    </tr>\n",
       "    <tr>\n",
       "      <th>united</th>\n",
       "      <td>8</td>\n",
       "      <td>156</td>\n",
       "      <td>164</td>\n",
       "      <td>1.084911e-05</td>\n",
       "      <td>7.057545e-06</td>\n",
       "    </tr>\n",
       "    <tr>\n",
       "      <th>kicks</th>\n",
       "      <td>159</td>\n",
       "      <td>0</td>\n",
       "      <td>159</td>\n",
       "      <td>6.910263e-08</td>\n",
       "      <td>1.254675e-04</td>\n",
       "    </tr>\n",
       "    <tr>\n",
       "      <th>suppressed</th>\n",
       "      <td>0</td>\n",
       "      <td>159</td>\n",
       "      <td>159</td>\n",
       "      <td>1.105642e-05</td>\n",
       "      <td>7.841717e-07</td>\n",
       "    </tr>\n",
       "  </tbody>\n",
       "</table>\n",
       "</div>"
      ],
      "text/plain": [
       "             'she-word' count  'he-word' count  total count  \\\n",
       "abdicated                  17              159          176   \n",
       "hath                       24              152          176   \n",
       "vetoed                      0              175          175   \n",
       "emphasised                 20              153          173   \n",
       "anticipated                16              156          172   \n",
       "entrusted                  16              154          170   \n",
       "duly                        0              165          165   \n",
       "united                      8              156          164   \n",
       "kicks                     159                0          159   \n",
       "suppressed                  0              159          159   \n",
       "\n",
       "             he-normalized count  she-normalized count  \n",
       "abdicated           1.105642e-05          1.411509e-05  \n",
       "hath                1.057270e-05          1.960429e-05  \n",
       "vetoed              1.216206e-05          7.841717e-07  \n",
       "emphasised          1.064181e-05          1.646760e-05  \n",
       "anticipated         1.084911e-05          1.333092e-05  \n",
       "entrusted           1.071091e-05          1.333092e-05  \n",
       "duly                1.147104e-05          7.841717e-07  \n",
       "united              1.084911e-05          7.057545e-06  \n",
       "kicks               6.910263e-08          1.254675e-04  \n",
       "suppressed          1.105642e-05          7.841717e-07  "
      ]
     },
     "execution_count": 248,
     "metadata": {},
     "output_type": "execute_result"
    }
   ],
   "source": [
    "df['he-normalized count'] = (df.fillna(0)[\"'he-word' count\"] + 1) / ( sum(he.values()) + 1)\n",
    "df['she-normalized count'] = (df.fillna(0)[\"'she-word' count\"] + 1) / ( sum(she.values()) + 1)\n",
    "df.tail(10)"
   ]
  },
  {
   "cell_type": "code",
   "execution_count": 249,
   "metadata": {
    "collapsed": true
   },
   "outputs": [],
   "source": [
    "df['log_ratio'] = np.log2(df[\"she-normalized count\"] / df[\"he-normalized count\"])\n",
    "df['abs_ratio'] = abs(df['log_ratio'])\n",
    "\n",
    "# Note: Also consider other metrics besides \"log ratio\""
   ]
  },
  {
   "cell_type": "code",
   "execution_count": 250,
   "metadata": {},
   "outputs": [
    {
     "data": {
      "text/html": [
       "<div>\n",
       "<style>\n",
       "    .dataframe thead tr:only-child th {\n",
       "        text-align: right;\n",
       "    }\n",
       "\n",
       "    .dataframe thead th {\n",
       "        text-align: left;\n",
       "    }\n",
       "\n",
       "    .dataframe tbody tr th {\n",
       "        vertical-align: top;\n",
       "    }\n",
       "</style>\n",
       "<table border=\"1\" class=\"dataframe\">\n",
       "  <thead>\n",
       "    <tr style=\"text-align: right;\">\n",
       "      <th></th>\n",
       "      <th>'she-word' count</th>\n",
       "      <th>'he-word' count</th>\n",
       "      <th>total count</th>\n",
       "      <th>he-normalized count</th>\n",
       "      <th>she-normalized count</th>\n",
       "      <th>log_ratio</th>\n",
       "      <th>abs_ratio</th>\n",
       "    </tr>\n",
       "  </thead>\n",
       "  <tbody>\n",
       "    <tr>\n",
       "      <th>herself</th>\n",
       "      <td>744</td>\n",
       "      <td>0</td>\n",
       "      <td>744</td>\n",
       "      <td>6.910263e-08</td>\n",
       "      <td>0.000584</td>\n",
       "      <td>13.045454</td>\n",
       "      <td>13.045454</td>\n",
       "    </tr>\n",
       "    <tr>\n",
       "      <th>peaked</th>\n",
       "      <td>242</td>\n",
       "      <td>0</td>\n",
       "      <td>242</td>\n",
       "      <td>6.910263e-08</td>\n",
       "      <td>0.000191</td>\n",
       "      <td>11.429169</td>\n",
       "      <td>11.429169</td>\n",
       "    </tr>\n",
       "    <tr>\n",
       "      <th>her</th>\n",
       "      <td>203</td>\n",
       "      <td>0</td>\n",
       "      <td>203</td>\n",
       "      <td>6.910263e-08</td>\n",
       "      <td>0.000160</td>\n",
       "      <td>11.176782</td>\n",
       "      <td>11.176782</td>\n",
       "    </tr>\n",
       "    <tr>\n",
       "      <th>kicks</th>\n",
       "      <td>159</td>\n",
       "      <td>0</td>\n",
       "      <td>159</td>\n",
       "      <td>6.910263e-08</td>\n",
       "      <td>0.000125</td>\n",
       "      <td>10.826285</td>\n",
       "      <td>10.826285</td>\n",
       "    </tr>\n",
       "    <tr>\n",
       "      <th>modeled</th>\n",
       "      <td>182</td>\n",
       "      <td>112</td>\n",
       "      <td>294</td>\n",
       "      <td>7.808597e-06</td>\n",
       "      <td>0.000144</td>\n",
       "      <td>4.199878</td>\n",
       "      <td>4.199878</td>\n",
       "    </tr>\n",
       "    <tr>\n",
       "      <th>posed</th>\n",
       "      <td>354</td>\n",
       "      <td>249</td>\n",
       "      <td>603</td>\n",
       "      <td>1.727566e-05</td>\n",
       "      <td>0.000278</td>\n",
       "      <td>4.010248</td>\n",
       "      <td>4.010248</td>\n",
       "    </tr>\n",
       "    <tr>\n",
       "      <th>danced</th>\n",
       "      <td>513</td>\n",
       "      <td>458</td>\n",
       "      <td>971</td>\n",
       "      <td>3.171811e-05</td>\n",
       "      <td>0.000403</td>\n",
       "      <td>3.667631</td>\n",
       "      <td>3.667631</td>\n",
       "    </tr>\n",
       "    <tr>\n",
       "      <th>stars</th>\n",
       "      <td>156</td>\n",
       "      <td>203</td>\n",
       "      <td>359</td>\n",
       "      <td>1.409694e-05</td>\n",
       "      <td>0.000123</td>\n",
       "      <td>3.126552</td>\n",
       "      <td>3.126552</td>\n",
       "    </tr>\n",
       "    <tr>\n",
       "      <th>dated</th>\n",
       "      <td>227</td>\n",
       "      <td>303</td>\n",
       "      <td>530</td>\n",
       "      <td>2.100720e-05</td>\n",
       "      <td>0.000179</td>\n",
       "      <td>3.089319</td>\n",
       "      <td>3.089319</td>\n",
       "    </tr>\n",
       "    <tr>\n",
       "      <th>upset</th>\n",
       "      <td>129</td>\n",
       "      <td>182</td>\n",
       "      <td>311</td>\n",
       "      <td>1.264578e-05</td>\n",
       "      <td>0.000102</td>\n",
       "      <td>3.011025</td>\n",
       "      <td>3.011025</td>\n",
       "    </tr>\n",
       "    <tr>\n",
       "      <th>explores</th>\n",
       "      <td>123</td>\n",
       "      <td>175</td>\n",
       "      <td>298</td>\n",
       "      <td>1.216206e-05</td>\n",
       "      <td>0.000097</td>\n",
       "      <td>2.999122</td>\n",
       "      <td>2.999122</td>\n",
       "    </tr>\n",
       "    <tr>\n",
       "      <th>choreographed</th>\n",
       "      <td>127</td>\n",
       "      <td>198</td>\n",
       "      <td>325</td>\n",
       "      <td>1.375142e-05</td>\n",
       "      <td>0.000100</td>\n",
       "      <td>2.867732</td>\n",
       "      <td>2.867732</td>\n",
       "    </tr>\n",
       "    <tr>\n",
       "      <th>competes</th>\n",
       "      <td>202</td>\n",
       "      <td>349</td>\n",
       "      <td>551</td>\n",
       "      <td>2.418592e-05</td>\n",
       "      <td>0.000159</td>\n",
       "      <td>2.718482</td>\n",
       "      <td>2.718482</td>\n",
       "    </tr>\n",
       "    <tr>\n",
       "      <th>sings</th>\n",
       "      <td>552</td>\n",
       "      <td>1000</td>\n",
       "      <td>1552</td>\n",
       "      <td>6.917173e-05</td>\n",
       "      <td>0.000434</td>\n",
       "      <td>2.648266</td>\n",
       "      <td>2.648266</td>\n",
       "    </tr>\n",
       "    <tr>\n",
       "      <th>directs</th>\n",
       "      <td>80</td>\n",
       "      <td>152</td>\n",
       "      <td>232</td>\n",
       "      <td>1.057270e-05</td>\n",
       "      <td>0.000064</td>\n",
       "      <td>2.586819</td>\n",
       "      <td>2.586819</td>\n",
       "    </tr>\n",
       "    <tr>\n",
       "      <th>headlined</th>\n",
       "      <td>118</td>\n",
       "      <td>224</td>\n",
       "      <td>342</td>\n",
       "      <td>1.554809e-05</td>\n",
       "      <td>0.000093</td>\n",
       "      <td>2.585394</td>\n",
       "      <td>2.585394</td>\n",
       "    </tr>\n",
       "    <tr>\n",
       "      <th>curated</th>\n",
       "      <td>117</td>\n",
       "      <td>224</td>\n",
       "      <td>341</td>\n",
       "      <td>1.554809e-05</td>\n",
       "      <td>0.000093</td>\n",
       "      <td>2.573219</td>\n",
       "      <td>2.573219</td>\n",
       "    </tr>\n",
       "    <tr>\n",
       "      <th>auditioned</th>\n",
       "      <td>556</td>\n",
       "      <td>1080</td>\n",
       "      <td>1636</td>\n",
       "      <td>7.469994e-05</td>\n",
       "      <td>0.000437</td>\n",
       "      <td>2.547740</td>\n",
       "      <td>2.547740</td>\n",
       "    </tr>\n",
       "    <tr>\n",
       "      <th>cared</th>\n",
       "      <td>96</td>\n",
       "      <td>188</td>\n",
       "      <td>284</td>\n",
       "      <td>1.306040e-05</td>\n",
       "      <td>0.000076</td>\n",
       "      <td>2.542027</td>\n",
       "      <td>2.542027</td>\n",
       "    </tr>\n",
       "    <tr>\n",
       "      <th>sang</th>\n",
       "      <td>5398</td>\n",
       "      <td>10630</td>\n",
       "      <td>16028</td>\n",
       "      <td>7.346301e-04</td>\n",
       "      <td>0.004234</td>\n",
       "      <td>2.526844</td>\n",
       "      <td>2.526844</td>\n",
       "    </tr>\n",
       "    <tr>\n",
       "      <th>cried</th>\n",
       "      <td>82</td>\n",
       "      <td>165</td>\n",
       "      <td>247</td>\n",
       "      <td>1.147104e-05</td>\n",
       "      <td>0.000065</td>\n",
       "      <td>2.504357</td>\n",
       "      <td>2.504357</td>\n",
       "    </tr>\n",
       "    <tr>\n",
       "      <th>skipped</th>\n",
       "      <td>83</td>\n",
       "      <td>167</td>\n",
       "      <td>250</td>\n",
       "      <td>1.160924e-05</td>\n",
       "      <td>0.000066</td>\n",
       "      <td>2.504357</td>\n",
       "      <td>2.504357</td>\n",
       "    </tr>\n",
       "    <tr>\n",
       "      <th>bore</th>\n",
       "      <td>257</td>\n",
       "      <td>522</td>\n",
       "      <td>779</td>\n",
       "      <td>3.614068e-05</td>\n",
       "      <td>0.000202</td>\n",
       "      <td>2.484917</td>\n",
       "      <td>2.484917</td>\n",
       "    </tr>\n",
       "    <tr>\n",
       "      <th>wed</th>\n",
       "      <td>120</td>\n",
       "      <td>256</td>\n",
       "      <td>376</td>\n",
       "      <td>1.775938e-05</td>\n",
       "      <td>0.000095</td>\n",
       "      <td>2.417596</td>\n",
       "      <td>2.417596</td>\n",
       "    </tr>\n",
       "    <tr>\n",
       "      <th>paints</th>\n",
       "      <td>72</td>\n",
       "      <td>162</td>\n",
       "      <td>234</td>\n",
       "      <td>1.126373e-05</td>\n",
       "      <td>0.000057</td>\n",
       "      <td>2.345453</td>\n",
       "      <td>2.345453</td>\n",
       "    </tr>\n",
       "  </tbody>\n",
       "</table>\n",
       "</div>"
      ],
      "text/plain": [
       "               'she-word' count  'he-word' count  total count  \\\n",
       "herself                     744                0          744   \n",
       "peaked                      242                0          242   \n",
       "her                         203                0          203   \n",
       "kicks                       159                0          159   \n",
       "modeled                     182              112          294   \n",
       "posed                       354              249          603   \n",
       "danced                      513              458          971   \n",
       "stars                       156              203          359   \n",
       "dated                       227              303          530   \n",
       "upset                       129              182          311   \n",
       "explores                    123              175          298   \n",
       "choreographed               127              198          325   \n",
       "competes                    202              349          551   \n",
       "sings                       552             1000         1552   \n",
       "directs                      80              152          232   \n",
       "headlined                   118              224          342   \n",
       "curated                     117              224          341   \n",
       "auditioned                  556             1080         1636   \n",
       "cared                        96              188          284   \n",
       "sang                       5398            10630        16028   \n",
       "cried                        82              165          247   \n",
       "skipped                      83              167          250   \n",
       "bore                        257              522          779   \n",
       "wed                         120              256          376   \n",
       "paints                       72              162          234   \n",
       "\n",
       "               he-normalized count  she-normalized count  log_ratio  abs_ratio  \n",
       "herself               6.910263e-08              0.000584  13.045454  13.045454  \n",
       "peaked                6.910263e-08              0.000191  11.429169  11.429169  \n",
       "her                   6.910263e-08              0.000160  11.176782  11.176782  \n",
       "kicks                 6.910263e-08              0.000125  10.826285  10.826285  \n",
       "modeled               7.808597e-06              0.000144   4.199878   4.199878  \n",
       "posed                 1.727566e-05              0.000278   4.010248   4.010248  \n",
       "danced                3.171811e-05              0.000403   3.667631   3.667631  \n",
       "stars                 1.409694e-05              0.000123   3.126552   3.126552  \n",
       "dated                 2.100720e-05              0.000179   3.089319   3.089319  \n",
       "upset                 1.264578e-05              0.000102   3.011025   3.011025  \n",
       "explores              1.216206e-05              0.000097   2.999122   2.999122  \n",
       "choreographed         1.375142e-05              0.000100   2.867732   2.867732  \n",
       "competes              2.418592e-05              0.000159   2.718482   2.718482  \n",
       "sings                 6.917173e-05              0.000434   2.648266   2.648266  \n",
       "directs               1.057270e-05              0.000064   2.586819   2.586819  \n",
       "headlined             1.554809e-05              0.000093   2.585394   2.585394  \n",
       "curated               1.554809e-05              0.000093   2.573219   2.573219  \n",
       "auditioned            7.469994e-05              0.000437   2.547740   2.547740  \n",
       "cared                 1.306040e-05              0.000076   2.542027   2.542027  \n",
       "sang                  7.346301e-04              0.004234   2.526844   2.526844  \n",
       "cried                 1.147104e-05              0.000065   2.504357   2.504357  \n",
       "skipped               1.160924e-05              0.000066   2.504357   2.504357  \n",
       "bore                  3.614068e-05              0.000202   2.484917   2.484917  \n",
       "wed                   1.775938e-05              0.000095   2.417596   2.417596  \n",
       "paints                1.126373e-05              0.000057   2.345453   2.345453  "
      ]
     },
     "execution_count": 250,
     "metadata": {},
     "output_type": "execute_result"
    }
   ],
   "source": [
    "df.sort_values(by=['log_ratio'], ascending=False, inplace=True)\n",
    "df.head(25)"
   ]
  },
  {
   "cell_type": "code",
   "execution_count": 251,
   "metadata": {},
   "outputs": [
    {
     "data": {
      "text/html": [
       "<div>\n",
       "<style>\n",
       "    .dataframe thead tr:only-child th {\n",
       "        text-align: right;\n",
       "    }\n",
       "\n",
       "    .dataframe thead th {\n",
       "        text-align: left;\n",
       "    }\n",
       "\n",
       "    .dataframe tbody tr th {\n",
       "        vertical-align: top;\n",
       "    }\n",
       "</style>\n",
       "<table border=\"1\" class=\"dataframe\">\n",
       "  <thead>\n",
       "    <tr style=\"text-align: right;\">\n",
       "      <th></th>\n",
       "      <th>'she-word' count</th>\n",
       "      <th>'he-word' count</th>\n",
       "      <th>total count</th>\n",
       "      <th>he-normalized count</th>\n",
       "      <th>she-normalized count</th>\n",
       "      <th>log_ratio</th>\n",
       "      <th>abs_ratio</th>\n",
       "    </tr>\n",
       "  </thead>\n",
       "  <tbody>\n",
       "    <tr>\n",
       "      <th>rushed</th>\n",
       "      <td>17</td>\n",
       "      <td>3238</td>\n",
       "      <td>3255</td>\n",
       "      <td>0.000224</td>\n",
       "      <td>1.411509e-05</td>\n",
       "      <td>-3.987051</td>\n",
       "      <td>3.987051</td>\n",
       "    </tr>\n",
       "    <tr>\n",
       "      <th>pronounced</th>\n",
       "      <td>0</td>\n",
       "      <td>180</td>\n",
       "      <td>180</td>\n",
       "      <td>0.000013</td>\n",
       "      <td>7.841717e-07</td>\n",
       "      <td>-3.995489</td>\n",
       "      <td>3.995489</td>\n",
       "    </tr>\n",
       "    <tr>\n",
       "      <th>dispatched</th>\n",
       "      <td>0</td>\n",
       "      <td>181</td>\n",
       "      <td>181</td>\n",
       "      <td>0.000013</td>\n",
       "      <td>7.841717e-07</td>\n",
       "      <td>-4.003438</td>\n",
       "      <td>4.003438</td>\n",
       "    </tr>\n",
       "    <tr>\n",
       "      <th>captain</th>\n",
       "      <td>0</td>\n",
       "      <td>182</td>\n",
       "      <td>182</td>\n",
       "      <td>0.000013</td>\n",
       "      <td>7.841717e-07</td>\n",
       "      <td>-4.011343</td>\n",
       "      <td>4.011343</td>\n",
       "    </tr>\n",
       "    <tr>\n",
       "      <th>calculated</th>\n",
       "      <td>0</td>\n",
       "      <td>191</td>\n",
       "      <td>191</td>\n",
       "      <td>0.000013</td>\n",
       "      <td>7.841717e-07</td>\n",
       "      <td>-4.080606</td>\n",
       "      <td>4.080606</td>\n",
       "    </tr>\n",
       "    <tr>\n",
       "      <th>downed</th>\n",
       "      <td>0</td>\n",
       "      <td>194</td>\n",
       "      <td>194</td>\n",
       "      <td>0.000013</td>\n",
       "      <td>7.841717e-07</td>\n",
       "      <td>-4.102973</td>\n",
       "      <td>4.102973</td>\n",
       "    </tr>\n",
       "    <tr>\n",
       "      <th>invaded</th>\n",
       "      <td>0</td>\n",
       "      <td>219</td>\n",
       "      <td>219</td>\n",
       "      <td>0.000015</td>\n",
       "      <td>7.841717e-07</td>\n",
       "      <td>-4.277003</td>\n",
       "      <td>4.277003</td>\n",
       "    </tr>\n",
       "    <tr>\n",
       "      <th>farmed</th>\n",
       "      <td>0</td>\n",
       "      <td>221</td>\n",
       "      <td>221</td>\n",
       "      <td>0.000015</td>\n",
       "      <td>7.841717e-07</td>\n",
       "      <td>-4.290059</td>\n",
       "      <td>4.290059</td>\n",
       "    </tr>\n",
       "    <tr>\n",
       "      <th>gallantly</th>\n",
       "      <td>0</td>\n",
       "      <td>229</td>\n",
       "      <td>229</td>\n",
       "      <td>0.000016</td>\n",
       "      <td>7.841717e-07</td>\n",
       "      <td>-4.341133</td>\n",
       "      <td>4.341133</td>\n",
       "    </tr>\n",
       "    <tr>\n",
       "      <th>trans</th>\n",
       "      <td>0</td>\n",
       "      <td>258</td>\n",
       "      <td>258</td>\n",
       "      <td>0.000018</td>\n",
       "      <td>7.841717e-07</td>\n",
       "      <td>-4.512451</td>\n",
       "      <td>4.512451</td>\n",
       "    </tr>\n",
       "    <tr>\n",
       "      <th>bats</th>\n",
       "      <td>0</td>\n",
       "      <td>271</td>\n",
       "      <td>271</td>\n",
       "      <td>0.000019</td>\n",
       "      <td>7.841717e-07</td>\n",
       "      <td>-4.583106</td>\n",
       "      <td>4.583106</td>\n",
       "    </tr>\n",
       "    <tr>\n",
       "      <th>commanded</th>\n",
       "      <td>50</td>\n",
       "      <td>14651</td>\n",
       "      <td>14701</td>\n",
       "      <td>0.001012</td>\n",
       "      <td>3.999275e-05</td>\n",
       "      <td>-4.662028</td>\n",
       "      <td>4.662028</td>\n",
       "    </tr>\n",
       "    <tr>\n",
       "      <th>111</th>\n",
       "      <td>0</td>\n",
       "      <td>296</td>\n",
       "      <td>296</td>\n",
       "      <td>0.000021</td>\n",
       "      <td>7.841717e-07</td>\n",
       "      <td>-4.709962</td>\n",
       "      <td>4.709962</td>\n",
       "    </tr>\n",
       "    <tr>\n",
       "      <th>man</th>\n",
       "      <td>0</td>\n",
       "      <td>370</td>\n",
       "      <td>370</td>\n",
       "      <td>0.000026</td>\n",
       "      <td>7.841717e-07</td>\n",
       "      <td>-5.030918</td>\n",
       "      <td>5.030918</td>\n",
       "    </tr>\n",
       "    <tr>\n",
       "      <th>engraved</th>\n",
       "      <td>0</td>\n",
       "      <td>382</td>\n",
       "      <td>382</td>\n",
       "      <td>0.000026</td>\n",
       "      <td>7.841717e-07</td>\n",
       "      <td>-5.076844</td>\n",
       "      <td>5.076844</td>\n",
       "    </tr>\n",
       "    <tr>\n",
       "      <th>erected</th>\n",
       "      <td>0</td>\n",
       "      <td>450</td>\n",
       "      <td>450</td>\n",
       "      <td>0.000031</td>\n",
       "      <td>7.841717e-07</td>\n",
       "      <td>-5.312627</td>\n",
       "      <td>5.312627</td>\n",
       "    </tr>\n",
       "    <tr>\n",
       "      <th>intercepted</th>\n",
       "      <td>0</td>\n",
       "      <td>489</td>\n",
       "      <td>489</td>\n",
       "      <td>0.000034</td>\n",
       "      <td>7.841717e-07</td>\n",
       "      <td>-5.432281</td>\n",
       "      <td>5.432281</td>\n",
       "    </tr>\n",
       "    <tr>\n",
       "      <th>umpired</th>\n",
       "      <td>0</td>\n",
       "      <td>679</td>\n",
       "      <td>679</td>\n",
       "      <td>0.000047</td>\n",
       "      <td>7.841717e-07</td>\n",
       "      <td>-5.905034</td>\n",
       "      <td>5.905034</td>\n",
       "    </tr>\n",
       "    <tr>\n",
       "      <th>fathered</th>\n",
       "      <td>0</td>\n",
       "      <td>699</td>\n",
       "      <td>699</td>\n",
       "      <td>0.000048</td>\n",
       "      <td>7.841717e-07</td>\n",
       "      <td>-5.946854</td>\n",
       "      <td>5.946854</td>\n",
       "    </tr>\n",
       "    <tr>\n",
       "      <th>his</th>\n",
       "      <td>0</td>\n",
       "      <td>708</td>\n",
       "      <td>708</td>\n",
       "      <td>0.000049</td>\n",
       "      <td>7.841717e-07</td>\n",
       "      <td>-5.965285</td>\n",
       "      <td>5.965285</td>\n",
       "    </tr>\n",
       "    <tr>\n",
       "      <th>n</th>\n",
       "      <td>0</td>\n",
       "      <td>712</td>\n",
       "      <td>712</td>\n",
       "      <td>0.000049</td>\n",
       "      <td>7.841717e-07</td>\n",
       "      <td>-5.973401</td>\n",
       "      <td>5.973401</td>\n",
       "    </tr>\n",
       "    <tr>\n",
       "      <th>icon</th>\n",
       "      <td>0</td>\n",
       "      <td>797</td>\n",
       "      <td>797</td>\n",
       "      <td>0.000055</td>\n",
       "      <td>7.841717e-07</td>\n",
       "      <td>-6.135888</td>\n",
       "      <td>6.135888</td>\n",
       "    </tr>\n",
       "    <tr>\n",
       "      <th>batting</th>\n",
       "      <td>0</td>\n",
       "      <td>861</td>\n",
       "      <td>861</td>\n",
       "      <td>0.000060</td>\n",
       "      <td>7.841717e-07</td>\n",
       "      <td>-6.247187</td>\n",
       "      <td>6.247187</td>\n",
       "    </tr>\n",
       "    <tr>\n",
       "      <th>totaled</th>\n",
       "      <td>0</td>\n",
       "      <td>883</td>\n",
       "      <td>883</td>\n",
       "      <td>0.000061</td>\n",
       "      <td>7.841717e-07</td>\n",
       "      <td>-6.283546</td>\n",
       "      <td>6.283546</td>\n",
       "    </tr>\n",
       "    <tr>\n",
       "      <th>himself</th>\n",
       "      <td>0</td>\n",
       "      <td>8331</td>\n",
       "      <td>8331</td>\n",
       "      <td>0.000576</td>\n",
       "      <td>7.841717e-07</td>\n",
       "      <td>-9.520090</td>\n",
       "      <td>9.520090</td>\n",
       "    </tr>\n",
       "  </tbody>\n",
       "</table>\n",
       "</div>"
      ],
      "text/plain": [
       "             'she-word' count  'he-word' count  total count  \\\n",
       "rushed                     17             3238         3255   \n",
       "pronounced                  0              180          180   \n",
       "dispatched                  0              181          181   \n",
       "captain                     0              182          182   \n",
       "calculated                  0              191          191   \n",
       "downed                      0              194          194   \n",
       "invaded                     0              219          219   \n",
       "farmed                      0              221          221   \n",
       "gallantly                   0              229          229   \n",
       "trans                       0              258          258   \n",
       "bats                        0              271          271   \n",
       "commanded                  50            14651        14701   \n",
       "111                         0              296          296   \n",
       "man                         0              370          370   \n",
       "engraved                    0              382          382   \n",
       "erected                     0              450          450   \n",
       "intercepted                 0              489          489   \n",
       "umpired                     0              679          679   \n",
       "fathered                    0              699          699   \n",
       "his                         0              708          708   \n",
       "n                           0              712          712   \n",
       "icon                        0              797          797   \n",
       "batting                     0              861          861   \n",
       "totaled                     0              883          883   \n",
       "himself                     0             8331         8331   \n",
       "\n",
       "             he-normalized count  she-normalized count  log_ratio  abs_ratio  \n",
       "rushed                  0.000224          1.411509e-05  -3.987051   3.987051  \n",
       "pronounced              0.000013          7.841717e-07  -3.995489   3.995489  \n",
       "dispatched              0.000013          7.841717e-07  -4.003438   4.003438  \n",
       "captain                 0.000013          7.841717e-07  -4.011343   4.011343  \n",
       "calculated              0.000013          7.841717e-07  -4.080606   4.080606  \n",
       "downed                  0.000013          7.841717e-07  -4.102973   4.102973  \n",
       "invaded                 0.000015          7.841717e-07  -4.277003   4.277003  \n",
       "farmed                  0.000015          7.841717e-07  -4.290059   4.290059  \n",
       "gallantly               0.000016          7.841717e-07  -4.341133   4.341133  \n",
       "trans                   0.000018          7.841717e-07  -4.512451   4.512451  \n",
       "bats                    0.000019          7.841717e-07  -4.583106   4.583106  \n",
       "commanded               0.001012          3.999275e-05  -4.662028   4.662028  \n",
       "111                     0.000021          7.841717e-07  -4.709962   4.709962  \n",
       "man                     0.000026          7.841717e-07  -5.030918   5.030918  \n",
       "engraved                0.000026          7.841717e-07  -5.076844   5.076844  \n",
       "erected                 0.000031          7.841717e-07  -5.312627   5.312627  \n",
       "intercepted             0.000034          7.841717e-07  -5.432281   5.432281  \n",
       "umpired                 0.000047          7.841717e-07  -5.905034   5.905034  \n",
       "fathered                0.000048          7.841717e-07  -5.946854   5.946854  \n",
       "his                     0.000049          7.841717e-07  -5.965285   5.965285  \n",
       "n                       0.000049          7.841717e-07  -5.973401   5.973401  \n",
       "icon                    0.000055          7.841717e-07  -6.135888   6.135888  \n",
       "batting                 0.000060          7.841717e-07  -6.247187   6.247187  \n",
       "totaled                 0.000061          7.841717e-07  -6.283546   6.283546  \n",
       "himself                 0.000576          7.841717e-07  -9.520090   9.520090  "
      ]
     },
     "execution_count": 251,
     "metadata": {},
     "output_type": "execute_result"
    }
   ],
   "source": [
    "df.tail(25)"
   ]
  },
  {
   "cell_type": "code",
   "execution_count": 253,
   "metadata": {},
   "outputs": [
    {
     "data": {
      "text/html": [
       "<div>\n",
       "<style>\n",
       "    .dataframe thead tr:only-child th {\n",
       "        text-align: right;\n",
       "    }\n",
       "\n",
       "    .dataframe thead th {\n",
       "        text-align: left;\n",
       "    }\n",
       "\n",
       "    .dataframe tbody tr th {\n",
       "        vertical-align: top;\n",
       "    }\n",
       "</style>\n",
       "<table border=\"1\" class=\"dataframe\">\n",
       "  <thead>\n",
       "    <tr style=\"text-align: right;\">\n",
       "      <th></th>\n",
       "      <th>'she-word' count</th>\n",
       "      <th>'he-word' count</th>\n",
       "      <th>total count</th>\n",
       "      <th>he-normalized count</th>\n",
       "      <th>she-normalized count</th>\n",
       "      <th>log_ratio</th>\n",
       "      <th>abs_ratio</th>\n",
       "    </tr>\n",
       "  </thead>\n",
       "  <tbody>\n",
       "    <tr>\n",
       "      <th>vetoed</th>\n",
       "      <td>0</td>\n",
       "      <td>175</td>\n",
       "      <td>175</td>\n",
       "      <td>0.000012</td>\n",
       "      <td>7.841717e-07</td>\n",
       "      <td>-3.955075</td>\n",
       "      <td>3.955075</td>\n",
       "    </tr>\n",
       "    <tr>\n",
       "      <th>born</th>\n",
       "      <td>16</td>\n",
       "      <td>3045</td>\n",
       "      <td>3061</td>\n",
       "      <td>0.000210</td>\n",
       "      <td>1.333092e-05</td>\n",
       "      <td>-3.980880</td>\n",
       "      <td>3.980880</td>\n",
       "    </tr>\n",
       "    <tr>\n",
       "      <th>rushed</th>\n",
       "      <td>17</td>\n",
       "      <td>3238</td>\n",
       "      <td>3255</td>\n",
       "      <td>0.000224</td>\n",
       "      <td>1.411509e-05</td>\n",
       "      <td>-3.987051</td>\n",
       "      <td>3.987051</td>\n",
       "    </tr>\n",
       "    <tr>\n",
       "      <th>pronounced</th>\n",
       "      <td>0</td>\n",
       "      <td>180</td>\n",
       "      <td>180</td>\n",
       "      <td>0.000013</td>\n",
       "      <td>7.841717e-07</td>\n",
       "      <td>-3.995489</td>\n",
       "      <td>3.995489</td>\n",
       "    </tr>\n",
       "    <tr>\n",
       "      <th>dispatched</th>\n",
       "      <td>0</td>\n",
       "      <td>181</td>\n",
       "      <td>181</td>\n",
       "      <td>0.000013</td>\n",
       "      <td>7.841717e-07</td>\n",
       "      <td>-4.003438</td>\n",
       "      <td>4.003438</td>\n",
       "    </tr>\n",
       "    <tr>\n",
       "      <th>captain</th>\n",
       "      <td>0</td>\n",
       "      <td>182</td>\n",
       "      <td>182</td>\n",
       "      <td>0.000013</td>\n",
       "      <td>7.841717e-07</td>\n",
       "      <td>-4.011343</td>\n",
       "      <td>4.011343</td>\n",
       "    </tr>\n",
       "    <tr>\n",
       "      <th>calculated</th>\n",
       "      <td>0</td>\n",
       "      <td>191</td>\n",
       "      <td>191</td>\n",
       "      <td>0.000013</td>\n",
       "      <td>7.841717e-07</td>\n",
       "      <td>-4.080606</td>\n",
       "      <td>4.080606</td>\n",
       "    </tr>\n",
       "    <tr>\n",
       "      <th>downed</th>\n",
       "      <td>0</td>\n",
       "      <td>194</td>\n",
       "      <td>194</td>\n",
       "      <td>0.000013</td>\n",
       "      <td>7.841717e-07</td>\n",
       "      <td>-4.102973</td>\n",
       "      <td>4.102973</td>\n",
       "    </tr>\n",
       "    <tr>\n",
       "      <th>invaded</th>\n",
       "      <td>0</td>\n",
       "      <td>219</td>\n",
       "      <td>219</td>\n",
       "      <td>0.000015</td>\n",
       "      <td>7.841717e-07</td>\n",
       "      <td>-4.277003</td>\n",
       "      <td>4.277003</td>\n",
       "    </tr>\n",
       "    <tr>\n",
       "      <th>farmed</th>\n",
       "      <td>0</td>\n",
       "      <td>221</td>\n",
       "      <td>221</td>\n",
       "      <td>0.000015</td>\n",
       "      <td>7.841717e-07</td>\n",
       "      <td>-4.290059</td>\n",
       "      <td>4.290059</td>\n",
       "    </tr>\n",
       "    <tr>\n",
       "      <th>gallantly</th>\n",
       "      <td>0</td>\n",
       "      <td>229</td>\n",
       "      <td>229</td>\n",
       "      <td>0.000016</td>\n",
       "      <td>7.841717e-07</td>\n",
       "      <td>-4.341133</td>\n",
       "      <td>4.341133</td>\n",
       "    </tr>\n",
       "    <tr>\n",
       "      <th>trans</th>\n",
       "      <td>0</td>\n",
       "      <td>258</td>\n",
       "      <td>258</td>\n",
       "      <td>0.000018</td>\n",
       "      <td>7.841717e-07</td>\n",
       "      <td>-4.512451</td>\n",
       "      <td>4.512451</td>\n",
       "    </tr>\n",
       "    <tr>\n",
       "      <th>bats</th>\n",
       "      <td>0</td>\n",
       "      <td>271</td>\n",
       "      <td>271</td>\n",
       "      <td>0.000019</td>\n",
       "      <td>7.841717e-07</td>\n",
       "      <td>-4.583106</td>\n",
       "      <td>4.583106</td>\n",
       "    </tr>\n",
       "    <tr>\n",
       "      <th>commanded</th>\n",
       "      <td>50</td>\n",
       "      <td>14651</td>\n",
       "      <td>14701</td>\n",
       "      <td>0.001012</td>\n",
       "      <td>3.999275e-05</td>\n",
       "      <td>-4.662028</td>\n",
       "      <td>4.662028</td>\n",
       "    </tr>\n",
       "    <tr>\n",
       "      <th>man</th>\n",
       "      <td>0</td>\n",
       "      <td>370</td>\n",
       "      <td>370</td>\n",
       "      <td>0.000026</td>\n",
       "      <td>7.841717e-07</td>\n",
       "      <td>-5.030918</td>\n",
       "      <td>5.030918</td>\n",
       "    </tr>\n",
       "    <tr>\n",
       "      <th>engraved</th>\n",
       "      <td>0</td>\n",
       "      <td>382</td>\n",
       "      <td>382</td>\n",
       "      <td>0.000026</td>\n",
       "      <td>7.841717e-07</td>\n",
       "      <td>-5.076844</td>\n",
       "      <td>5.076844</td>\n",
       "    </tr>\n",
       "    <tr>\n",
       "      <th>erected</th>\n",
       "      <td>0</td>\n",
       "      <td>450</td>\n",
       "      <td>450</td>\n",
       "      <td>0.000031</td>\n",
       "      <td>7.841717e-07</td>\n",
       "      <td>-5.312627</td>\n",
       "      <td>5.312627</td>\n",
       "    </tr>\n",
       "    <tr>\n",
       "      <th>intercepted</th>\n",
       "      <td>0</td>\n",
       "      <td>489</td>\n",
       "      <td>489</td>\n",
       "      <td>0.000034</td>\n",
       "      <td>7.841717e-07</td>\n",
       "      <td>-5.432281</td>\n",
       "      <td>5.432281</td>\n",
       "    </tr>\n",
       "    <tr>\n",
       "      <th>umpired</th>\n",
       "      <td>0</td>\n",
       "      <td>679</td>\n",
       "      <td>679</td>\n",
       "      <td>0.000047</td>\n",
       "      <td>7.841717e-07</td>\n",
       "      <td>-5.905034</td>\n",
       "      <td>5.905034</td>\n",
       "    </tr>\n",
       "    <tr>\n",
       "      <th>fathered</th>\n",
       "      <td>0</td>\n",
       "      <td>699</td>\n",
       "      <td>699</td>\n",
       "      <td>0.000048</td>\n",
       "      <td>7.841717e-07</td>\n",
       "      <td>-5.946854</td>\n",
       "      <td>5.946854</td>\n",
       "    </tr>\n",
       "    <tr>\n",
       "      <th>his</th>\n",
       "      <td>0</td>\n",
       "      <td>708</td>\n",
       "      <td>708</td>\n",
       "      <td>0.000049</td>\n",
       "      <td>7.841717e-07</td>\n",
       "      <td>-5.965285</td>\n",
       "      <td>5.965285</td>\n",
       "    </tr>\n",
       "    <tr>\n",
       "      <th>icon</th>\n",
       "      <td>0</td>\n",
       "      <td>797</td>\n",
       "      <td>797</td>\n",
       "      <td>0.000055</td>\n",
       "      <td>7.841717e-07</td>\n",
       "      <td>-6.135888</td>\n",
       "      <td>6.135888</td>\n",
       "    </tr>\n",
       "    <tr>\n",
       "      <th>batting</th>\n",
       "      <td>0</td>\n",
       "      <td>861</td>\n",
       "      <td>861</td>\n",
       "      <td>0.000060</td>\n",
       "      <td>7.841717e-07</td>\n",
       "      <td>-6.247187</td>\n",
       "      <td>6.247187</td>\n",
       "    </tr>\n",
       "    <tr>\n",
       "      <th>totaled</th>\n",
       "      <td>0</td>\n",
       "      <td>883</td>\n",
       "      <td>883</td>\n",
       "      <td>0.000061</td>\n",
       "      <td>7.841717e-07</td>\n",
       "      <td>-6.283546</td>\n",
       "      <td>6.283546</td>\n",
       "    </tr>\n",
       "    <tr>\n",
       "      <th>himself</th>\n",
       "      <td>0</td>\n",
       "      <td>8331</td>\n",
       "      <td>8331</td>\n",
       "      <td>0.000576</td>\n",
       "      <td>7.841717e-07</td>\n",
       "      <td>-9.520090</td>\n",
       "      <td>9.520090</td>\n",
       "    </tr>\n",
       "  </tbody>\n",
       "</table>\n",
       "</div>"
      ],
      "text/plain": [
       "             'she-word' count  'he-word' count  total count  \\\n",
       "vetoed                      0              175          175   \n",
       "born                       16             3045         3061   \n",
       "rushed                     17             3238         3255   \n",
       "pronounced                  0              180          180   \n",
       "dispatched                  0              181          181   \n",
       "captain                     0              182          182   \n",
       "calculated                  0              191          191   \n",
       "downed                      0              194          194   \n",
       "invaded                     0              219          219   \n",
       "farmed                      0              221          221   \n",
       "gallantly                   0              229          229   \n",
       "trans                       0              258          258   \n",
       "bats                        0              271          271   \n",
       "commanded                  50            14651        14701   \n",
       "man                         0              370          370   \n",
       "engraved                    0              382          382   \n",
       "erected                     0              450          450   \n",
       "intercepted                 0              489          489   \n",
       "umpired                     0              679          679   \n",
       "fathered                    0              699          699   \n",
       "his                         0              708          708   \n",
       "icon                        0              797          797   \n",
       "batting                     0              861          861   \n",
       "totaled                     0              883          883   \n",
       "himself                     0             8331         8331   \n",
       "\n",
       "             he-normalized count  she-normalized count  log_ratio  abs_ratio  \n",
       "vetoed                  0.000012          7.841717e-07  -3.955075   3.955075  \n",
       "born                    0.000210          1.333092e-05  -3.980880   3.980880  \n",
       "rushed                  0.000224          1.411509e-05  -3.987051   3.987051  \n",
       "pronounced              0.000013          7.841717e-07  -3.995489   3.995489  \n",
       "dispatched              0.000013          7.841717e-07  -4.003438   4.003438  \n",
       "captain                 0.000013          7.841717e-07  -4.011343   4.011343  \n",
       "calculated              0.000013          7.841717e-07  -4.080606   4.080606  \n",
       "downed                  0.000013          7.841717e-07  -4.102973   4.102973  \n",
       "invaded                 0.000015          7.841717e-07  -4.277003   4.277003  \n",
       "farmed                  0.000015          7.841717e-07  -4.290059   4.290059  \n",
       "gallantly               0.000016          7.841717e-07  -4.341133   4.341133  \n",
       "trans                   0.000018          7.841717e-07  -4.512451   4.512451  \n",
       "bats                    0.000019          7.841717e-07  -4.583106   4.583106  \n",
       "commanded               0.001012          3.999275e-05  -4.662028   4.662028  \n",
       "man                     0.000026          7.841717e-07  -5.030918   5.030918  \n",
       "engraved                0.000026          7.841717e-07  -5.076844   5.076844  \n",
       "erected                 0.000031          7.841717e-07  -5.312627   5.312627  \n",
       "intercepted             0.000034          7.841717e-07  -5.432281   5.432281  \n",
       "umpired                 0.000047          7.841717e-07  -5.905034   5.905034  \n",
       "fathered                0.000048          7.841717e-07  -5.946854   5.946854  \n",
       "his                     0.000049          7.841717e-07  -5.965285   5.965285  \n",
       "icon                    0.000055          7.841717e-07  -6.135888   6.135888  \n",
       "batting                 0.000060          7.841717e-07  -6.247187   6.247187  \n",
       "totaled                 0.000061          7.841717e-07  -6.283546   6.283546  \n",
       "himself                 0.000576          7.841717e-07  -9.520090   9.520090  "
      ]
     },
     "execution_count": 253,
     "metadata": {},
     "output_type": "execute_result"
    }
   ],
   "source": [
    "df.drop(['111','n'], axis=0, inplace=True)\n",
    "df.tail(25)"
   ]
  },
  {
   "cell_type": "code",
   "execution_count": 254,
   "metadata": {
    "collapsed": true
   },
   "outputs": [],
   "source": [
    "# Some of these bigrams don't make much sense...may be because of \n",
    "# sentence endings/ beginnings being joined, or wikipedia tags"
   ]
  },
  {
   "cell_type": "code",
   "execution_count": null,
   "metadata": {
    "collapsed": true
   },
   "outputs": [],
   "source": []
  }
 ],
 "metadata": {
  "kernelspec": {
   "display_name": "Python 3",
   "language": "python",
   "name": "python3"
  },
  "language_info": {
   "codemirror_mode": {
    "name": "ipython",
    "version": 3
   },
   "file_extension": ".py",
   "mimetype": "text/x-python",
   "name": "python",
   "nbconvert_exporter": "python",
   "pygments_lexer": "ipython3",
   "version": "3.6.3"
  },
  "varInspector": {
   "cols": {
    "lenName": 16,
    "lenType": 16,
    "lenVar": 40
   },
   "kernels_config": {
    "python": {
     "delete_cmd_postfix": "",
     "delete_cmd_prefix": "del ",
     "library": "var_list.py",
     "varRefreshCmd": "print(var_dic_list())"
    },
    "r": {
     "delete_cmd_postfix": ") ",
     "delete_cmd_prefix": "rm(",
     "library": "var_list.r",
     "varRefreshCmd": "cat(var_dic_list()) "
    }
   },
   "types_to_exclude": [
    "module",
    "function",
    "builtin_function_or_method",
    "instance",
    "_Feature"
   ],
   "window_display": false
  }
 },
 "nbformat": 4,
 "nbformat_minor": 2
}
