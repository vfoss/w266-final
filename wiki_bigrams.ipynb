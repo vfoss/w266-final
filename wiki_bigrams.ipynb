{
 "cells": [
  {
   "cell_type": "code",
   "execution_count": 3,
   "metadata": {},
   "outputs": [],
   "source": [
    "from ipywidgets import FloatProgress, IntText\n",
    "import nltk\n",
    "import time\n",
    "import collections\n",
    "from math import log \n",
    "import pickle\n",
    "import os\n",
    "import numpy as np\n",
    "import pandas as pd\n",
    "import matplotlib.pyplot as plt\n",
    "import sys\n",
    "\n",
    "def save_object(obj, filename):\n",
    "    with open(filename, 'wb') as outfile:  \n",
    "        pickle.dump(obj, outfile, pickle.HIGHEST_PROTOCOL)\n",
    "\n",
    "with open('data/is_male.pkl', 'rb') as infile:\n",
    "    is_male = pickle.load(infile)"
   ]
  },
  {
   "cell_type": "code",
   "execution_count": 4,
   "metadata": {},
   "outputs": [
    {
     "name": "stdout",
     "output_type": "stream",
     "text": [
      "Python version + compiler & build info: 3.6.5 |Anaconda custom (64-bit)| (default, Mar 29 2018, 18:21:58) \n",
      "[GCC 7.2.0]\n",
      "Jupyter notebook version: 5.4.1\n",
      "\n"
     ]
    }
   ],
   "source": [
    "print(\"Python version + compiler & build info:\", sys.version)\n",
    "print(\"Jupyter notebook version:\", os.popen(\"jupyter notebook --version\").readlines()[0])"
   ]
  },
  {
   "cell_type": "markdown",
   "metadata": {},
   "source": [
    "# Create Counters of Bigrams in Biographies of Women and Men, in Batches"
   ]
  },
  {
   "cell_type": "code",
   "execution_count": 3,
   "metadata": {
    "collapsed": true
   },
   "outputs": [],
   "source": [
    "# This is purportedly the fastest way to get bigrams\n",
    "def get_bigrams(text):\n",
    "    return zip(*[text[i:] for i in range(2)])"
   ]
  },
  {
   "cell_type": "code",
   "execution_count": 5,
   "metadata": {},
   "outputs": [
    {
     "name": "stdout",
     "output_type": "stream",
     "text": [
      "Building batches of counters for bigrams found in all Wiki bios of women and of men...\n",
      "Estimated time for completion: 46 minutes\n"
     ]
    },
    {
     "data": {
      "application/vnd.jupyter.widget-view+json": {
       "model_id": "f1d1584e466048f1b6a595c2e7d13e59",
       "version_major": 2,
       "version_minor": 0
      },
      "text/plain": [
       "A Jupyter Widget"
      ]
     },
     "metadata": {},
     "output_type": "display_data"
    },
    {
     "data": {
      "application/vnd.jupyter.widget-view+json": {
       "model_id": "e0105367b8ee44cfb3d72185593afafd",
       "version_major": 2,
       "version_minor": 0
      },
      "text/plain": [
       "A Jupyter Widget"
      ]
     },
     "metadata": {},
     "output_type": "display_data"
    },
    {
     "name": "stdout",
     "output_type": "stream",
     "text": [
      "\n",
      "Articles: 850399 Time: 2681.5078961849213 seconds\n"
     ]
    }
   ],
   "source": [
    "# This cell takes about 46 minutes to run.\n",
    "\n",
    "male_bigrams = collections.Counter()\n",
    "female_bigrams = collections.Counter()\n",
    "\n",
    "print(\"Building batches of counters for bigrams found in all Wiki bios of women and of men...\")\n",
    "print(\"Estimated time for completion: 46 minutes\")\n",
    "\n",
    "fp = FloatProgress(min=0, max=850399)\n",
    "all_articles = IntText(value=0, description=\"Article Count:\")\n",
    "display(fp, all_articles)\n",
    "article_count = 0\n",
    "\n",
    "if not os.path.exists('data/bigrams'):\n",
    "    os.makedirs('data/bigrams')\n",
    "\n",
    "start = time.time()\n",
    "try:\n",
    "    with open(\"data/gendered-labeled-articles.stripped\", 'r') as f:\n",
    "        for line in f:\n",
    "            article_count += 1\n",
    "            all_articles.value += 1\n",
    "            if article_count % 1000 == 0:\n",
    "                fp.value = article_count\n",
    "            line = line.split()\n",
    "            male = is_male[line.pop(0)]\n",
    "            # Read text in batches of 100 words\n",
    "            line = [line[i-1 : i+99] for i in range(1, len(line), 99)]\n",
    "            while line:\n",
    "                bigrams = list(get_bigrams(line.pop(0)))\n",
    "                if male:\n",
    "                    male_bigrams.update(bigrams)\n",
    "                else:\n",
    "                    female_bigrams.update(bigrams)\n",
    "            # Pickle results after every 1000 articles for men; 3000 for women (since we are using\n",
    "            # a total article count, and we know there are fewer bios of women). These numbers seem\n",
    "            # to be about right to prevent memory errors.\n",
    "            if article_count % 1000 == 0:\n",
    "                save_object(male_bigrams, 'data/bigrams/male_bigrams_{}.pkl'.format(article_count // 1000))\n",
    "                male_bigrams = collections.Counter()\n",
    "                if article_count % 3000 == 0:\n",
    "                    save_object(female_bigrams, 'data/bigrams/female_bigrams_{}.pkl'.format(article_count // 3000))\n",
    "                    female_bigrams = collections.Counter()\n",
    "        save_object(male_bigrams, 'data/bigrams/male_bigrams_{}.pkl'.format(article_count // 1000 + 1))\n",
    "        save_object(female_bigrams, 'data/bigrams/female_bigrams_{}.pkl'.format(article_count // 3000 + 1))\n",
    "finally: \n",
    "    print(\"\\nArticles:\", article_count, \"Time:\", (time.time() - start), \"seconds\")"
   ]
  },
  {
   "cell_type": "code",
   "execution_count": 6,
   "metadata": {},
   "outputs": [
    {
     "name": "stdout",
     "output_type": "stream",
     "text": [
      "Number of batches of bigrams for women collected: 284\n",
      "Number of batches of bigrams for men collected: 851\n"
     ]
    }
   ],
   "source": [
    "total_batches_female = article_count // 3000 + 1  \n",
    "total_batches_male = article_count // 1000 + 1 \n",
    "\n",
    "print(\"Number of batches of bigrams for women collected:\", total_batches_female)\n",
    "print(\"Number of batches of bigrams for men collected:\", total_batches_male)"
   ]
  },
  {
   "cell_type": "code",
   "execution_count": 7,
   "metadata": {},
   "outputs": [
    {
     "name": "stdout",
     "output_type": "stream",
     "text": [
      "Merging batches of the female_bigrams counters. Removing bigrams with counts <= 2, six times.\n"
     ]
    },
    {
     "data": {
      "application/vnd.jupyter.widget-view+json": {
       "model_id": "cce57ad8b73f4691a6ebb6e7e056c7aa",
       "version_major": 2,
       "version_minor": 0
      },
      "text/plain": [
       "A Jupyter Widget"
      ]
     },
     "metadata": {},
     "output_type": "display_data"
    },
    {
     "data": {
      "application/vnd.jupyter.widget-view+json": {
       "model_id": "9c73e3a3a21447699c15af73bd382638",
       "version_major": 2,
       "version_minor": 0
      },
      "text/plain": [
       "A Jupyter Widget"
      ]
     },
     "metadata": {},
     "output_type": "display_data"
    },
    {
     "name": "stdout",
     "output_type": "stream",
     "text": [
      "Done.\n",
      "Master counter for female bigrams saved in 'data/bigrams/female_bigrams_master.pkl'\n",
      "Time: 552.6426672935486 seconds\n"
     ]
    }
   ],
   "source": [
    "# This cell takes about 10 minutes to run.\n",
    "\n",
    "print(\"Merging batches of the female_bigrams counters. Removing bigrams with counts <= 2, six times.\")\n",
    "\n",
    "fp = FloatProgress(min=0, max=total_batches_female)\n",
    "count = IntText(value=0, description=\"Count:\")\n",
    "display(fp, count)\n",
    "\n",
    "f_count = 0\n",
    "female_bigrams = collections.Counter()\n",
    "\n",
    "start = time.time()\n",
    "for i in range(1, total_batches_female + 1):\n",
    "    fp.value += 1\n",
    "    count.value += 1\n",
    "    f_count += 1\n",
    "    with open('data/bigrams/female_bigrams_{}.pkl'.format(i), 'rb') as infile:\n",
    "        female_bigrams += pickle.load(infile)\n",
    "        # Remove bigrams with counts <=2 six times.\n",
    "        if f_count % 48 == 0:\n",
    "            for k in set(k for k,v in female_bigrams.items() if v <= 2):\n",
    "                del female_bigrams[k]\n",
    "for k in set(k for k,v in female_bigrams.items() if v <= 2):\n",
    "    del female_bigrams[k]  \n",
    "save_object(female_bigrams, 'data/bigrams/female_bigrams_master.pkl')\n",
    "print(\"Done.\\nMaster counter for female bigrams saved in 'data/bigrams/female_bigrams_master.pkl'\")\n",
    "print(\"Time:\", (time.time() - start), \"seconds\")"
   ]
  },
  {
   "cell_type": "code",
   "execution_count": 8,
   "metadata": {},
   "outputs": [
    {
     "name": "stdout",
     "output_type": "stream",
     "text": [
      "Total number of distinct bigrams collected from bios of women: 2725813\n"
     ]
    }
   ],
   "source": [
    "print(\"Total number of distinct bigrams collected from bios of women:\", len(female_bigrams))"
   ]
  },
  {
   "cell_type": "code",
   "execution_count": 9,
   "metadata": {},
   "outputs": [
    {
     "name": "stdout",
     "output_type": "stream",
     "text": [
      "Deleting temporary batches...\n",
      "Done.\n"
     ]
    }
   ],
   "source": [
    "print(\"Deleting temporary batches...\")\n",
    "for i in range(1, total_batches_female + 1):\n",
    "    os.remove('data/bigrams/female_bigrams_{}.pkl'.format(i))\n",
    "print(\"Done.\")"
   ]
  },
  {
   "cell_type": "code",
   "execution_count": 4,
   "metadata": {
    "scrolled": true
   },
   "outputs": [
    {
     "data": {
      "application/vnd.jupyter.widget-view+json": {
       "model_id": "779b467daaad492a89d8d09d3b218636",
       "version_major": 2,
       "version_minor": 0
      },
      "text/plain": [
       "A Jupyter Widget"
      ]
     },
     "metadata": {},
     "output_type": "display_data"
    },
    {
     "data": {
      "application/vnd.jupyter.widget-view+json": {
       "model_id": "81438b73cf784bba980e571cfe630ef3",
       "version_major": 2,
       "version_minor": 0
      },
      "text/plain": [
       "A Jupyter Widget"
      ]
     },
     "metadata": {},
     "output_type": "display_data"
    },
    {
     "name": "stdout",
     "output_type": "stream",
     "text": [
      "Time: 1240.206268787384 seconds\n",
      "Number of batches of male bigrams reduced to 48\n"
     ]
    }
   ],
   "source": [
    "# This cell takes about 20 minutes to run.\n",
    "\n",
    "# NOTE: If you get a memory error here, restart kernel and re-run first cell of notebook only.\n",
    "# Then try again (a hacky way to solve memory issue that seems to work.)\n",
    "\n",
    "# Delete female_bigrams to save memory.  We can load it later from pickle file.\n",
    "# del female_bigrams\n",
    "total_batches_male = 851\n",
    "\n",
    "fp = FloatProgress(min=0, max=total_batches_male)\n",
    "count = IntText(value=0, description=\"Count:\")\n",
    "m_count = 0\n",
    "display(fp, count)\n",
    "\n",
    "male_bigrams = collections.Counter()\n",
    "n = 7\n",
    "\n",
    "start = time.time()\n",
    "for i in range(1, total_batches_male + 1):\n",
    "    fp.value += 1\n",
    "    count.value += 1\n",
    "    m_count += 1\n",
    "    with open('data/bigrams/male_bigrams_{}.pkl'.format(i), 'rb') as infile:\n",
    "        male_bigrams += pickle.load(infile)\n",
    "        # Remove bigrams with count <= n forty-eight times.\n",
    "        if m_count % 18 == 0:\n",
    "            for k in set(k for k,v in male_bigrams.items() if v <= n ):\n",
    "                del male_bigrams[k]\n",
    "            save_object(male_bigrams, 'data/bigrams/male_bigrams_b_{}.pkl'.format(m_count // 18))\n",
    "            male_bigrams = collections.Counter()\n",
    "# for k in set(k for k,v in male_bigrams.items() if v <= n ):\n",
    "#     del male_bigrams[k]\n",
    "save_object(male_bigrams, 'data/bigrams/male_bigrams_b_{}.pkl'.format(m_count // 18 + 1))\n",
    "male_bigrams = collections.Counter()\n",
    "print(\"Time:\", (time.time() - start), \"seconds\")\n",
    "print(\"Number of batches of male bigrams reduced to\", m_count // 18 + 1)"
   ]
  },
  {
   "cell_type": "code",
   "execution_count": 9,
   "metadata": {},
   "outputs": [
    {
     "data": {
      "application/vnd.jupyter.widget-view+json": {
       "model_id": "82fc2731d2614302923bf363c5123f36",
       "version_major": 2,
       "version_minor": 0
      },
      "text/plain": [
       "A Jupyter Widget"
      ]
     },
     "metadata": {},
     "output_type": "display_data"
    },
    {
     "data": {
      "application/vnd.jupyter.widget-view+json": {
       "model_id": "fa0183d35050417db0ad4a024fd87f10",
       "version_major": 2,
       "version_minor": 0
      },
      "text/plain": [
       "A Jupyter Widget"
      ]
     },
     "metadata": {},
     "output_type": "display_data"
    },
    {
     "name": "stdout",
     "output_type": "stream",
     "text": [
      "Creating final master counter for male bigrams...\n",
      "This should take under 2 minutes...\n",
      "Done.\n",
      "Master counter for male bigrams saved in 'data/bigrams/male_bigrams_master.pkl'\n",
      "Time: 35.66937756538391 seconds\n",
      "Total number of distinct bigrams collected from bios of men: 1612684\n"
     ]
    }
   ],
   "source": [
    "# This cell takes less than 2 minutes to run.\n",
    "\n",
    "fp = FloatProgress(min=0, max=48)\n",
    "count = IntText(value=0, description=\"Count:\")\n",
    "display(fp, count)\n",
    "\n",
    "print(\"Creating final master counter for male bigrams...\")\n",
    "print(\"This should take under 2 minutes...\")\n",
    "\n",
    "start = time.time()\n",
    "for i in range(1, 49):\n",
    "    fp.value += 1\n",
    "    count.value += 1\n",
    "    with open('data/bigrams/male_bigrams_b_{}.pkl'.format(i), 'rb') as infile:\n",
    "        male_bigrams += pickle.load(infile)\n",
    "# Limiting the number of bigrams to those with counts of 8 or more helps save memory\n",
    "for k in set(k for k,v in male_bigrams.items() if v < 8):\n",
    "    del male_bigrams[k]\n",
    "save_object(male_bigrams, 'data/bigrams/male_bigrams_master.pkl')\n",
    "print(\"Done.\\nMaster counter for male bigrams saved in 'data/bigrams/male_bigrams_master.pkl'\")\n",
    "print(\"Time:\", (time.time() - start), \"seconds\")\n",
    "print(\"Total number of distinct bigrams collected from bios of men:\", len(male_bigrams))"
   ]
  },
  {
   "cell_type": "code",
   "execution_count": 12,
   "metadata": {},
   "outputs": [
    {
     "name": "stdout",
     "output_type": "stream",
     "text": [
      "Deleting temporary batches...\n",
      "Done.\n"
     ]
    }
   ],
   "source": [
    "print(\"Deleting temporary batches...\")\n",
    "for i in range(1, total_batches_male + 1):\n",
    "    os.remove('data/bigrams/male_bigrams_{}.pkl'.format(i))\n",
    "for i in range(1, m_count // 18 + 2):\n",
    "    os.remove('data/bigrams/male_bigrams_b_{}.pkl'.format(i))\n",
    "print(\"Done.\")"
   ]
  },
  {
   "cell_type": "code",
   "execution_count": null,
   "metadata": {
    "collapsed": true
   },
   "outputs": [],
   "source": []
  },
  {
   "cell_type": "code",
   "execution_count": 5,
   "metadata": {},
   "outputs": [],
   "source": [
    "# Load female_bigrams_master:\n",
    "with open('data/bigrams/female_bigrams_master.pkl', 'rb') as infile:\n",
    "    female_bigrams = pickle.load(infile)"
   ]
  },
  {
   "cell_type": "code",
   "execution_count": 6,
   "metadata": {},
   "outputs": [
    {
     "data": {
      "text/plain": [
       "1331985"
      ]
     },
     "execution_count": 6,
     "metadata": {},
     "output_type": "execute_result"
    }
   ],
   "source": [
    "for k in set(k for k,v in female_bigrams.items() if v < 8):\n",
    "    del female_bigrams[k]\n",
    "len(female_bigrams)"
   ]
  },
  {
   "cell_type": "code",
   "execution_count": 7,
   "metadata": {},
   "outputs": [
    {
     "ename": "FileNotFoundError",
     "evalue": "[Errno 2] No such file or directory: 'data/bigrams/bigrams_master.pkl'",
     "output_type": "error",
     "traceback": [
      "\u001b[0;31m---------------------------------------------------------------------------\u001b[0m",
      "\u001b[0;31mFileNotFoundError\u001b[0m                         Traceback (most recent call last)",
      "\u001b[0;32m<ipython-input-7-b81914e37447>\u001b[0m in \u001b[0;36m<module>\u001b[0;34m()\u001b[0m\n\u001b[1;32m      1\u001b[0m \u001b[0;31m# Load male_bigrams_master:\u001b[0m\u001b[0;34m\u001b[0m\u001b[0;34m\u001b[0m\u001b[0m\n\u001b[0;32m----> 2\u001b[0;31m \u001b[0;32mwith\u001b[0m \u001b[0mopen\u001b[0m\u001b[0;34m(\u001b[0m\u001b[0;34m'data/bigrams/bigrams_master.pkl'\u001b[0m\u001b[0;34m,\u001b[0m \u001b[0;34m'rb'\u001b[0m\u001b[0;34m)\u001b[0m \u001b[0;32mas\u001b[0m \u001b[0minfile\u001b[0m\u001b[0;34m:\u001b[0m\u001b[0;34m\u001b[0m\u001b[0m\n\u001b[0m\u001b[1;32m      3\u001b[0m     \u001b[0mmale_bigrams\u001b[0m \u001b[0;34m=\u001b[0m \u001b[0mpickle\u001b[0m\u001b[0;34m.\u001b[0m\u001b[0mload\u001b[0m\u001b[0;34m(\u001b[0m\u001b[0minfile\u001b[0m\u001b[0;34m)\u001b[0m\u001b[0;34m\u001b[0m\u001b[0m\n\u001b[1;32m      4\u001b[0m \u001b[0mlen\u001b[0m\u001b[0;34m(\u001b[0m\u001b[0mmale_bigrams\u001b[0m\u001b[0;34m)\u001b[0m\u001b[0;34m\u001b[0m\u001b[0m\n",
      "\u001b[0;31mFileNotFoundError\u001b[0m: [Errno 2] No such file or directory: 'data/bigrams/bigrams_master.pkl'"
     ]
    }
   ],
   "source": [
    "# Load male_bigrams_master:\n",
    "with open('data/bigrams/bigrams_master.pkl', 'rb') as infile:\n",
    "    male_bigrams = pickle.load(infile)\n",
    "len(male_bigrams)"
   ]
  },
  {
   "cell_type": "code",
   "execution_count": null,
   "metadata": {
    "collapsed": true
   },
   "outputs": [],
   "source": []
  },
  {
   "cell_type": "markdown",
   "metadata": {
    "collapsed": true
   },
   "source": [
    "# Exploratory Data Analysis of Bigrams"
   ]
  },
  {
   "cell_type": "code",
   "execution_count": 14,
   "metadata": {},
   "outputs": [
    {
     "data": {
      "text/plain": [
       "[(('http', 'www'), 813722),\n",
       " (('of', 'the'), 708824),\n",
       " (('ref', 'name'), 683958),\n",
       " (('url', 'http'), 578411),\n",
       " (('in', 'the'), 566040),\n",
       " (('ref', 'cite'), 448580),\n",
       " (('cite', 'web'), 440215),\n",
       " (('at', 'the'), 391527),\n",
       " (('web', 'url'), 299257),\n",
       " (('she', 'was'), 251644),\n",
       " (('women', 's'), 226877),\n",
       " (('for', 'the'), 190627),\n",
       " (('cite', 'news'), 179157),\n",
       " (('new', 'york'), 175253),\n",
       " (('to', 'the'), 173509),\n",
       " (('on', 'the'), 173402),\n",
       " (('and', 'the'), 169740),\n",
       " (('ref', 'http'), 160787),\n",
       " (('as', 'a'), 150900),\n",
       " (('birth', 'date'), 149470),\n",
       " (('ref', 'ref'), 144628),\n",
       " (('align', 'center'), 141886),\n",
       " (('united', 'states'), 121101),\n",
       " (('url', 'https'), 117811),\n",
       " (('in', 'a'), 110508),\n",
       " (('births', 'category'), 109660),\n",
       " (('ref', 'she'), 108566),\n",
       " (('living', 'people'), 107575),\n",
       " (('people', 'category'), 107094),\n",
       " (('archive', 'org'), 104657),\n",
       " (('category', 'american'), 104348),\n",
       " (('of', 'her'), 103947),\n",
       " (('university', 'of'), 102493),\n",
       " (('web', 'archive'), 100422),\n",
       " (('org', 'web'), 100273),\n",
       " (('from', 'the'), 98954),\n",
       " (('https', 'web'), 98542),\n",
       " (('is', 'a'), 97840),\n",
       " (('was', 'a'), 96771),\n",
       " (('tv', 'series'), 95971),\n",
       " (('references', 'reflist'), 95483),\n",
       " (('with', 'the'), 94900),\n",
       " (('ref', 'in'), 94165),\n",
       " (('category', 'living'), 92544),\n",
       " (('external', 'links'), 87502),\n",
       " (('the', 'first'), 86477),\n",
       " (('co', 'uk'), 85168),\n",
       " (('html', 'title'), 82992),\n",
       " (('web', 'title'), 81758),\n",
       " (('style', 'background'), 80678),\n",
       " (('https', 'www'), 79878),\n",
       " (('birth', 'place'), 79359),\n",
       " (('news', 'url'), 79138),\n",
       " (('death', 'date'), 77860),\n",
       " (('by', 'the'), 75581),\n",
       " (('and', 'age'), 73603),\n",
       " (('summer', 'olympics'), 72681),\n",
       " (('the', 'united'), 72487),\n",
       " (('she', 'is'), 72233),\n",
       " (('category', 'people'), 72171),\n",
       " (('as', 'the'), 71198),\n",
       " (('date', 'and'), 70526),\n",
       " (('date', 'birth'), 70489),\n",
       " (('cite', 'book'), 70159),\n",
       " (('was', 'the'), 67701),\n",
       " (('she', 'has'), 67227),\n",
       " (('text', 'align'), 67077),\n",
       " (('people', 'from'), 66838),\n",
       " (('the', 'new'), 65989),\n",
       " (('u', 's'), 65686)]"
      ]
     },
     "execution_count": 14,
     "metadata": {},
     "output_type": "execute_result"
    }
   ],
   "source": [
    "female_bigrams.most_common(70)"
   ]
  },
  {
   "cell_type": "code",
   "execution_count": 15,
   "metadata": {},
   "outputs": [
    {
     "data": {
      "text/plain": [
       "[(('of', 'the'), 10743389),\n",
       " (('http', 'www'), 7115634),\n",
       " (('in', 'the'), 6708376),\n",
       " (('ref', 'name'), 6162263),\n",
       " (('url', 'http'), 4826060),\n",
       " (('ref', 'cite'), 3982254),\n",
       " (('he', 'was'), 3527017),\n",
       " (('cite', 'web'), 3441055),\n",
       " (('at', 'the'), 3024121),\n",
       " (('to', 'the'), 2744050),\n",
       " (('for', 'the'), 2462184),\n",
       " (('web', 'url'), 2362973),\n",
       " (('and', 'the'), 1935295),\n",
       " (('as', 'a'), 1894177),\n",
       " (('on', 'the'), 1864609),\n",
       " (('united', 'states'), 1833942),\n",
       " (('new', 'york'), 1697296),\n",
       " (('cite', 'news'), 1685356),\n",
       " (('birth', 'date'), 1576543),\n",
       " (('align', 'center'), 1555454),\n",
       " (('ref', 'http'), 1532831),\n",
       " (('players', 'category'), 1523481),\n",
       " (('with', 'the'), 1445508),\n",
       " (('f', 'c'), 1414783),\n",
       " (('was', 'a'), 1383429),\n",
       " (('births', 'category'), 1249080),\n",
       " (('university', 'of'), 1191819),\n",
       " (('of', 'his'), 1189126),\n",
       " (('from', 'the'), 1167930),\n",
       " (('in', 'a'), 1155019),\n",
       " (('by', 'the'), 1128407),\n",
       " (('ref', 'ref'), 1123085),\n",
       " (('style', 'background'), 1054393),\n",
       " (('url', 'https'), 1048855),\n",
       " (('ref', 'he'), 1043445),\n",
       " (('the', 'first'), 991601),\n",
       " (('the', 'united'), 971037),\n",
       " (('co', 'uk'), 955335),\n",
       " (('references', 'reflist'), 938507),\n",
       " (('death', 'date'), 923442),\n",
       " (('as', 'the'), 913630),\n",
       " (('cite', 'book'), 909289),\n",
       " (('archive', 'org'), 902547),\n",
       " (('category', 'people'), 893387),\n",
       " (('external', 'links'), 865936),\n",
       " (('birth', 'place'), 843330),\n",
       " (('ref', 'in'), 841856),\n",
       " (('0', '0'), 826471),\n",
       " (('br', 'small'), 808533),\n",
       " (('people', 'category'), 807615),\n",
       " (('was', 'the'), 805645),\n",
       " (('web', 'archive'), 797525),\n",
       " (('org', 'web'), 797152),\n",
       " (('align', 'left'), 794831),\n",
       " (('is', 'a'), 794489),\n",
       " (('https', 'web'), 780078),\n",
       " (('in', 'his'), 774684),\n",
       " (('member', 'of'), 770476),\n",
       " (('of', 'a'), 769138),\n",
       " (('category', 'american'), 768676),\n",
       " (('one', 'of'), 763881),\n",
       " (('and', 'age'), 761586),\n",
       " (('living', 'people'), 760814),\n",
       " (('people', 'from'), 755709),\n",
       " (('and', 'was'), 752151),\n",
       " (('news', 'url'), 751990),\n",
       " (('date', 'and'), 741749),\n",
       " (('html', 'title'), 732643),\n",
       " (('date', 'birth'), 730903),\n",
       " (('the', 'new'), 712533)]"
      ]
     },
     "execution_count": 15,
     "metadata": {},
     "output_type": "execute_result"
    }
   ],
   "source": [
    "male_bigrams.most_common(70)"
   ]
  },
  {
   "cell_type": "code",
   "execution_count": 5,
   "metadata": {},
   "outputs": [],
   "source": [
    "# Load the unigram counters\n",
    "\n",
    "with open('data/female_counter.pkl', 'rb') as infile:\n",
    "    female_counter = pickle.load(infile)\n",
    "with open('data/male_counter.pkl', 'rb') as infile:\n",
    "    male_counter = pickle.load(infile)"
   ]
  },
  {
   "cell_type": "code",
   "execution_count": null,
   "metadata": {
    "collapsed": true
   },
   "outputs": [],
   "source": []
  },
  {
   "cell_type": "code",
   "execution_count": 6,
   "metadata": {},
   "outputs": [],
   "source": [
    "class PMICalculator:\n",
    "    \n",
    "    def __init__(self, counter1, counter2, n1, n2):\n",
    "        self.counter1 = counter1\n",
    "        self.counter2 = counter2\n",
    "        self.n1 = n1\n",
    "        self.n2 = n2\n",
    "        self.lpc1 = log(n1 / (n1 + n2))\n",
    "\n",
    "    def pmi(self, word):\n",
    "        try:\n",
    "            return (log(self.counter1[word]) - \n",
    "            self.lpc1 -\n",
    "            log(self.counter1[word] + self.counter2[word]))\n",
    "        except ValueError:\n",
    "            return 0"
   ]
  },
  {
   "cell_type": "code",
   "execution_count": 7,
   "metadata": {},
   "outputs": [],
   "source": [
    "pc1 = PMICalculator(female_counter, male_counter, 130576, 718413)"
   ]
  },
  {
   "cell_type": "code",
   "execution_count": 21,
   "metadata": {},
   "outputs": [
    {
     "data": {
      "text/plain": [
       "-1.9380632450542024"
      ]
     },
     "execution_count": 21,
     "metadata": {},
     "output_type": "execute_result"
    }
   ],
   "source": [
    "pc1.pmi(\"his\")"
   ]
  },
  {
   "cell_type": "code",
   "execution_count": 22,
   "metadata": {},
   "outputs": [
    {
     "data": {
      "text/plain": [
       "1.7940272570088585"
      ]
     },
     "execution_count": 22,
     "metadata": {},
     "output_type": "execute_result"
    }
   ],
   "source": [
    "pc1.pmi(\"she\")"
   ]
  },
  {
   "cell_type": "code",
   "execution_count": 35,
   "metadata": {},
   "outputs": [
    {
     "data": {
      "text/plain": [
       "1.509566866723068"
      ]
     },
     "execution_count": 35,
     "metadata": {},
     "output_type": "execute_result"
    }
   ],
   "source": [
    "pc1.pmi(\"husband\")"
   ]
  },
  {
   "cell_type": "code",
   "execution_count": 36,
   "metadata": {},
   "outputs": [
    {
     "data": {
      "text/plain": [
       "-0.057060278138187925"
      ]
     },
     "execution_count": 36,
     "metadata": {},
     "output_type": "execute_result"
    }
   ],
   "source": [
    "pc1.pmi(\"wife\")"
   ]
  },
  {
   "cell_type": "code",
   "execution_count": 41,
   "metadata": {},
   "outputs": [
    {
     "data": {
      "text/plain": [
       "-0.12356478572158913"
      ]
     },
     "execution_count": 41,
     "metadata": {},
     "output_type": "execute_result"
    }
   ],
   "source": [
    "pc1.pmi(\"career\")"
   ]
  },
  {
   "cell_type": "code",
   "execution_count": 42,
   "metadata": {},
   "outputs": [
    {
     "data": {
      "text/plain": [
       "0.28344799212810123"
      ]
     },
     "execution_count": 42,
     "metadata": {},
     "output_type": "execute_result"
    }
   ],
   "source": [
    "pc1.pmi(\"family\")"
   ]
  },
  {
   "cell_type": "code",
   "execution_count": 53,
   "metadata": {},
   "outputs": [
    {
     "data": {
      "text/plain": [
       "0.20763811546007105"
      ]
     },
     "execution_count": 53,
     "metadata": {},
     "output_type": "execute_result"
    }
   ],
   "source": [
    "pc1.pmi(\"received\")"
   ]
  },
  {
   "cell_type": "code",
   "execution_count": 54,
   "metadata": {},
   "outputs": [
    {
     "data": {
      "text/plain": [
       "0.25115538983372687"
      ]
     },
     "execution_count": 54,
     "metadata": {},
     "output_type": "execute_result"
    }
   ],
   "source": [
    "pc1.pmi(\"felt\")"
   ]
  },
  {
   "cell_type": "code",
   "execution_count": 55,
   "metadata": {},
   "outputs": [
    {
     "data": {
      "text/plain": [
       "-0.04150079746606927"
      ]
     },
     "execution_count": 55,
     "metadata": {},
     "output_type": "execute_result"
    }
   ],
   "source": [
    "pc1.pmi(\"thought\")"
   ]
  },
  {
   "cell_type": "code",
   "execution_count": 56,
   "metadata": {},
   "outputs": [
    {
     "data": {
      "text/plain": [
       "-0.17359434944100727"
      ]
     },
     "execution_count": 56,
     "metadata": {},
     "output_type": "execute_result"
    }
   ],
   "source": [
    "pc1.pmi(\"feared\")"
   ]
  },
  {
   "cell_type": "code",
   "execution_count": 57,
   "metadata": {},
   "outputs": [
    {
     "data": {
      "text/plain": [
       "0.4251156630049806"
      ]
     },
     "execution_count": 57,
     "metadata": {},
     "output_type": "execute_result"
    }
   ],
   "source": [
    "pc1.pmi(\"married\")"
   ]
  },
  {
   "cell_type": "code",
   "execution_count": 58,
   "metadata": {},
   "outputs": [
    {
     "data": {
      "text/plain": [
       "0.49427551126943214"
      ]
     },
     "execution_count": 58,
     "metadata": {},
     "output_type": "execute_result"
    }
   ],
   "source": [
    "pc1.pmi(\"looks\")"
   ]
  },
  {
   "cell_type": "code",
   "execution_count": 13,
   "metadata": {},
   "outputs": [],
   "source": [
    "all_unigrams = female_counter + male_counter\n",
    "top_unigrams = all_unigrams.most_common(20000)\n",
    "top_unigrams_with_pmi = [(p[0], p[1], pc1.pmi(p[0])) for p in top_unigrams]\n",
    "top_unigrams_with_pmi.sort(key = lambda x: x[-1])"
   ]
  },
  {
   "cell_type": "code",
   "execution_count": 14,
   "metadata": {},
   "outputs": [],
   "source": [
    "# Men\n",
    "men_top_pmi = top_unigrams_with_pmi[:100]"
   ]
  },
  {
   "cell_type": "code",
   "execution_count": 24,
   "metadata": {},
   "outputs": [],
   "source": [
    "# Women\n",
    "women_top_pmi = top_unigrams_with_pmi[-100:]"
   ]
  },
  {
   "cell_type": "code",
   "execution_count": 23,
   "metadata": {},
   "outputs": [],
   "source": [
    "# men_top_pmi"
   ]
  },
  {
   "cell_type": "code",
   "execution_count": 25,
   "metadata": {},
   "outputs": [
    {
     "data": {
      "text/plain": [
       "[('olga', 9979, 1.4244624807668984),\n",
       " ('karin', 3462, 1.4268502292553649),\n",
       " ('oricon', 6592, 1.4289086990300355),\n",
       " ('cindy', 5564, 1.4294589397572484),\n",
       " ('cheryl', 5233, 1.429642104677562),\n",
       " ('vogue', 14719, 1.4299182901017922),\n",
       " ('carla', 5561, 1.430278025021753),\n",
       " ('nurses', 4627, 1.4321053876736585),\n",
       " ('gymnast', 5323, 1.4326140040684354),\n",
       " ('angie', 2808, 1.4357037786344566),\n",
       " ('nicole', 12228, 1.4358578637140553),\n",
       " ('gymnastics', 27011, 1.4361599930835922),\n",
       " ('ballerina', 2369, 1.4394553364610196),\n",
       " ('melissa', 9778, 1.4416696954133652),\n",
       " ('katie', 9254, 1.4426203806579831),\n",
       " ('adriana', 2478, 1.4427348130173288),\n",
       " ('vanessa', 7303, 1.4432125532717706),\n",
       " ('girls', 57627, 1.443666437110494),\n",
       " ('tanya', 3190, 1.4439568891603312),\n",
       " ('carly', 2751, 1.4440165097617674),\n",
       " ('sopranos', 4737, 1.4471206741306606),\n",
       " ('suffrage', 6558, 1.447225542427251),\n",
       " ('abby', 3365, 1.448028872285004),\n",
       " ('bianca', 3231, 1.45024338952501),\n",
       " ('erika', 3397, 1.4516480233531563),\n",
       " ('jessica', 17538, 1.4518054969917902),\n",
       " ('monique', 2639, 1.4538502268189877),\n",
       " ('justine', 2306, 1.4539700542077787),\n",
       " ('michelle', 17688, 1.4548538222469443),\n",
       " ('tatiana', 3955, 1.4553103308129565),\n",
       " ('chloe', 2841, 1.4560098780253874),\n",
       " ('hye', 2421, 1.4572885529771042),\n",
       " ('megan', 5878, 1.4577397795135614),\n",
       " ('avn', 10121, 1.4594365854005744),\n",
       " ('chanel', 2576, 1.46000443790859),\n",
       " ('nadine', 2535, 1.4600955381334657),\n",
       " ('natalia', 5096, 1.4606226202147763),\n",
       " ('nikki', 5251, 1.4635739986398217),\n",
       " ('natasha', 4623, 1.4675986094324713),\n",
       " ('becky', 3007, 1.4692826151458007),\n",
       " ('melanie', 6026, 1.4695255625823087),\n",
       " ('martina', 4776, 1.4719506819786332),\n",
       " ('lesbian', 11601, 1.4728128703503014),\n",
       " ('nathalie', 2342, 1.4759755233413694),\n",
       " ('danielle', 5043, 1.4778650856087356),\n",
       " ('elle', 6924, 1.478470341287215),\n",
       " ('feminine', 2583, 1.480466740384914),\n",
       " ('kristina', 2815, 1.483708080233165),\n",
       " ('miss', 83631, 1.4843674303589847),\n",
       " ('serena', 4587, 1.485414709474675),\n",
       " ('gabriela', 2511, 1.4884877118158162),\n",
       " ('irina', 4768, 1.4900488761150061),\n",
       " ('sexiest', 3491, 1.4915208926340338),\n",
       " ('ellie', 2464, 1.4944413892355977),\n",
       " ('glamour', 5259, 1.4953035046743786),\n",
       " ('jenna', 2629, 1.505422050171231),\n",
       " ('husband', 75006, 1.509566866723068),\n",
       " ('dames', 2913, 1.5134031379984698),\n",
       " ('selena', 2387, 1.5172694217917977),\n",
       " ('samantha', 7174, 1.5255597765556708),\n",
       " ('daniela', 2709, 1.5402589400164963),\n",
       " ('ussoccer', 2946, 1.5463550152588699),\n",
       " ('ladies', 25061, 1.5567496105259568),\n",
       " ('diva', 5421, 1.565351069726276),\n",
       " ('hostess', 2330, 1.565635610121502),\n",
       " ('heroine', 4026, 1.5805928759512007),\n",
       " ('synchronized', 2695, 1.589220875318496),\n",
       " ('rhythmic', 6578, 1.5907733468114795),\n",
       " ('svetlana', 2508, 1.592878865263411),\n",
       " ('iafd', 2944, 1.5934259182796167),\n",
       " ('divas', 3064, 1.6468235824678423),\n",
       " ('softball', 6747, 1.663732906276806),\n",
       " ('consorts', 4180, 1.6646722397229912),\n",
       " ('heptathlon', 2473, 1.6810781243774144),\n",
       " ('uneven', 2870, 1.684879254993061),\n",
       " ('actress', 147860, 1.7006927238502563),\n",
       " ('princesses', 4711, 1.700704771164233),\n",
       " ('feminists', 4716, 1.7009029585357087),\n",
       " ('feminism', 6297, 1.7079919038089475),\n",
       " ('her', 1308263, 1.7244667675788659),\n",
       " ('pageant', 12683, 1.7338061198679977),\n",
       " ('women', 532471, 1.742348800649344),\n",
       " ('female', 123970, 1.7434816438590204),\n",
       " ('feminist', 15422, 1.7511335550504707),\n",
       " ('herself', 41532, 1.75370262315033),\n",
       " ('f0f8ff', 10135, 1.759633956570056),\n",
       " ('lightblue', 7937, 1.7710188060825605),\n",
       " ('womens', 7542, 1.7808032765943356),\n",
       " ('titleholder', 2282, 1.7851590918440001),\n",
       " ('fhm', 2824, 1.791752956152866),\n",
       " ('wnba', 11362, 1.7925247111220468),\n",
       " ('she', 1412916, 1.7940272570088585),\n",
       " ('camogie', 3807, 1.8108914106971437),\n",
       " ('netball', 4354, 1.8132015771732455),\n",
       " ('aagpbl', 3599, 1.8350128269026094),\n",
       " ('actresses', 93472, 1.8524058451615915),\n",
       " ('lpga', 11572, 1.8595688943358457),\n",
       " ('wta', 15923, 1.864272839097632),\n",
       " ('fbw', 3308, 1.8663305871266829),\n",
       " ('addfad', 3096, 1.8707979720789023)]"
      ]
     },
     "execution_count": 25,
     "metadata": {},
     "output_type": "execute_result"
    }
   ],
   "source": [
    "women_top_pmi"
   ]
  },
  {
   "cell_type": "code",
   "execution_count": null,
   "metadata": {},
   "outputs": [],
   "source": []
  },
  {
   "cell_type": "code",
   "execution_count": 8,
   "metadata": {},
   "outputs": [],
   "source": [
    "pc2 = PMICalculator(female_bigrams, male_bigrams, 130576, 718413)"
   ]
  },
  {
   "cell_type": "code",
   "execution_count": 9,
   "metadata": {},
   "outputs": [],
   "source": [
    "all_bigrams = female_bigrams + male_bigrams"
   ]
  },
  {
   "cell_type": "code",
   "execution_count": 11,
   "metadata": {},
   "outputs": [
    {
     "data": {
      "text/plain": [
       "[(('of', 'aberdeen'), 8253),\n",
       " (('46', 'ref'), 8252),\n",
       " (('the', 'eagles'), 8252),\n",
       " (('pcupdate', 'ntupdate'), 8252),\n",
       " (('houston', 'texans'), 8252)]"
      ]
     },
     "execution_count": 11,
     "metadata": {},
     "output_type": "execute_result"
    }
   ],
   "source": [
    "top_bigrams = all_bigrams.most_common(20000)\n",
    "top_bigrams[-5:]"
   ]
  },
  {
   "cell_type": "code",
   "execution_count": 12,
   "metadata": {},
   "outputs": [],
   "source": [
    "top_bigrams_with_pmi = [(p[0], p[1], pc2.pmi(p[0])) for p in top_bigrams]\n",
    "top_bigrams_with_pmi.sort(key = lambda x: x[-1])"
   ]
  },
  {
   "cell_type": "code",
   "execution_count": 8,
   "metadata": {},
   "outputs": [],
   "source": [
    "# Men\n",
    "top_bigrams_with_pmi[:50]"
   ]
  },
  {
   "cell_type": "code",
   "execution_count": 37,
   "metadata": {},
   "outputs": [
    {
     "data": {
      "text/plain": [
       "[(('american', 'women'), 25328, 1.814727984961209),\n",
       " (('her', 'work'), 22365, 1.818924876053325),\n",
       " (('her', 'debut'), 10883, 1.8210054345701217),\n",
       " (('her', 'career'), 21648, 1.8261513329865693),\n",
       " (('she', 'has'), 70357, 1.8265834685324158),\n",
       " (('supporting', 'actress'), 12378, 1.8268087717543349),\n",
       " (('she', 'then'), 10979, 1.8288141422258697),\n",
       " (('she', 'received'), 17720, 1.8361243766480992),\n",
       " (('she', 'served'), 10180, 1.8412669513945836),\n",
       " (('category', 'women'), 29341, 1.8449019731513019),\n",
       " (('she', 'began'), 15514, 1.8513143813812842),\n",
       " (('she', 'won'), 28102, 1.8550074071748277),\n",
       " (('she', 'joined'), 9000, 1.8569771592711604),\n",
       " (('year', 'she'), 12683, 1.8577169145055379),\n",
       " (('she', 'attended'), 11307, 1.8598108776867885),\n",
       " (('she', 'appeared'), 17848, 1.860425078265246),\n",
       " (('she', 'played'), 19948, 1.8630263780836405),\n",
       " (('century', 'women'), 20836, 1.8657837541957925),\n",
       " (('began', 'her'), 8704, 1.865983028165859),\n",
       " (('she', 'studied'), 9917, 1.8669348436887674),\n",
       " (('female', 'singers'), 8999, 1.8684169827626445),\n",
       " (('she', 'graduated'), 9172, 1.8691427139283778),\n",
       " (('american', 'female'), 11263, 1.8692455919965472),\n",
       " (('women', 'writers'), 19960, 1.8695826442739953),\n",
       " (('olympics', 'women'), 16566, 1.86967329318413),\n",
       " (('actresses', 'category'), 61005, 1.870745740779741),\n",
       " (('championships', 'women'), 17658, 1.8711842814383939),\n",
       " (('category', 'actresses'), 18433, 1.8720907970812082),\n",
       " (('film', 'actresses'), 17840, 1.8720907970812082),\n",
       " (('open', 'women'), 15707, 1.8720907970812082),\n",
       " (('actresses', 'from'), 15092, 1.8720907970812082),\n",
       " (('television', 'actresses'), 13199, 1.8720907970812082),\n",
       " (('occupation', 'actress'), 12172, 1.8720907970812082),\n",
       " (('american', 'actresses'), 10033, 1.8720907970812082),\n",
       " (('category', 'female'), 9876, 1.8720907970812082)]"
      ]
     },
     "execution_count": 37,
     "metadata": {},
     "output_type": "execute_result"
    }
   ],
   "source": [
    "# Women\n",
    "top_bigrams_with_pmi[-35:]"
   ]
  },
  {
   "cell_type": "code",
   "execution_count": 32,
   "metadata": {},
   "outputs": [
    {
     "data": {
      "text/plain": [
       "1.6782626536456213"
      ]
     },
     "execution_count": 32,
     "metadata": {},
     "output_type": "execute_result"
    }
   ],
   "source": [
    "pc2.pmi((\"first\", \"woman\"))"
   ]
  },
  {
   "cell_type": "code",
   "execution_count": 33,
   "metadata": {},
   "outputs": [
    {
     "data": {
      "text/plain": [
       "-2.248461007969188"
      ]
     },
     "execution_count": 33,
     "metadata": {},
     "output_type": "execute_result"
    }
   ],
   "source": [
    "pc2.pmi((\"first\", \"man\"))"
   ]
  },
  {
   "cell_type": "code",
   "execution_count": 34,
   "metadata": {},
   "outputs": [
    {
     "data": {
      "text/plain": [
       "-0.5448207087013106"
      ]
     },
     "execution_count": 34,
     "metadata": {},
     "output_type": "execute_result"
    }
   ],
   "source": [
    "pc2.pmi((\"first\", \"person\"))"
   ]
  },
  {
   "cell_type": "code",
   "execution_count": 39,
   "metadata": {},
   "outputs": [
    {
     "data": {
      "text/plain": [
       "1.677569700476507"
      ]
     },
     "execution_count": 39,
     "metadata": {},
     "output_type": "execute_result"
    }
   ],
   "source": [
    "pc2.pmi((\"her\", \"mother\"))"
   ]
  },
  {
   "cell_type": "code",
   "execution_count": 40,
   "metadata": {},
   "outputs": [
    {
     "data": {
      "text/plain": [
       "-2.3741492182690216"
      ]
     },
     "execution_count": 40,
     "metadata": {},
     "output_type": "execute_result"
    }
   ],
   "source": [
    "pc2.pmi((\"his\", \"mother\"))"
   ]
  },
  {
   "cell_type": "code",
   "execution_count": 43,
   "metadata": {},
   "outputs": [
    {
     "data": {
      "text/plain": [
       "-0.20183556391051916"
      ]
     },
     "execution_count": 43,
     "metadata": {},
     "output_type": "execute_result"
    }
   ],
   "source": [
    "pc2.pmi((\"husband\", \"of\"))"
   ]
  },
  {
   "cell_type": "code",
   "execution_count": 44,
   "metadata": {},
   "outputs": [
    {
     "data": {
      "text/plain": [
       "0.46124905152146845"
      ]
     },
     "execution_count": 44,
     "metadata": {},
     "output_type": "execute_result"
    }
   ],
   "source": [
    "pc2.pmi((\"wife\", \"of\"))"
   ]
  },
  {
   "cell_type": "code",
   "execution_count": 45,
   "metadata": {},
   "outputs": [
    {
     "data": {
      "text/plain": [
       "-1.089677112699471"
      ]
     },
     "execution_count": 45,
     "metadata": {},
     "output_type": "execute_result"
    }
   ],
   "source": [
    "pc2.pmi((\"leader\", \"of\"))"
   ]
  },
  {
   "cell_type": "code",
   "execution_count": 46,
   "metadata": {},
   "outputs": [
    {
     "data": {
      "text/plain": [
       "-0.3949652180862451"
      ]
     },
     "execution_count": 46,
     "metadata": {},
     "output_type": "execute_result"
    }
   ],
   "source": [
    "pc2.pmi((\"known\", \"for\"))"
   ]
  },
  {
   "cell_type": "code",
   "execution_count": 47,
   "metadata": {},
   "outputs": [
    {
     "data": {
      "text/plain": [
       "-0.18826044315597024"
      ]
     },
     "execution_count": 47,
     "metadata": {},
     "output_type": "execute_result"
    }
   ],
   "source": [
    "pc2.pmi((\"recognized\", \"for\"))"
   ]
  },
  {
   "cell_type": "code",
   "execution_count": 48,
   "metadata": {},
   "outputs": [
    {
     "data": {
      "text/plain": [
       "-0.8254634190213821"
      ]
     },
     "execution_count": 48,
     "metadata": {},
     "output_type": "execute_result"
    }
   ],
   "source": [
    "pc2.pmi((\"first\", \"of\"))"
   ]
  },
  {
   "cell_type": "code",
   "execution_count": 49,
   "metadata": {},
   "outputs": [
    {
     "data": {
      "text/plain": [
       "-0.7645317867478543"
      ]
     },
     "execution_count": 49,
     "metadata": {},
     "output_type": "execute_result"
    }
   ],
   "source": [
    "pc2.pmi((\"the\", \"most\"))"
   ]
  },
  {
   "cell_type": "code",
   "execution_count": 50,
   "metadata": {},
   "outputs": [
    {
     "data": {
      "text/plain": [
       "-0.45633540156981844"
      ]
     },
     "execution_count": 50,
     "metadata": {},
     "output_type": "execute_result"
    }
   ],
   "source": [
    "pc2.pmi((\"the\", \"best\"))"
   ]
  },
  {
   "cell_type": "code",
   "execution_count": 51,
   "metadata": {},
   "outputs": [
    {
     "data": {
      "text/plain": [
       "-0.8233678688462245"
      ]
     },
     "execution_count": 51,
     "metadata": {},
     "output_type": "execute_result"
    }
   ],
   "source": [
    "pc2.pmi((\"the\", \"second\"))"
   ]
  },
  {
   "cell_type": "code",
   "execution_count": 52,
   "metadata": {},
   "outputs": [
    {
     "data": {
      "text/plain": [
       "-0.6509658253578845"
      ]
     },
     "execution_count": 52,
     "metadata": {},
     "output_type": "execute_result"
    }
   ],
   "source": [
    "pc2.pmi((\"the\", \"first\"))"
   ]
  },
  {
   "cell_type": "code",
   "execution_count": null,
   "metadata": {},
   "outputs": [],
   "source": []
  },
  {
   "cell_type": "code",
   "execution_count": 97,
   "metadata": {},
   "outputs": [
    {
     "data": {
      "text/plain": [
       "912719349"
      ]
     },
     "execution_count": 97,
     "metadata": {},
     "output_type": "execute_result"
    }
   ],
   "source": [
    "# Number of words we are dealing with in our corpus: \n",
    "sum(female_counter.values()) + sum(male_counter.values())"
   ]
  },
  {
   "cell_type": "code",
   "execution_count": 7,
   "metadata": {},
   "outputs": [],
   "source": [
    "# This makes the kernel die - don't run it\n",
    "\n",
    "# female = female_bigrams + female_counter\n",
    "# male = male_bigrams + male_counter\n",
    "\n",
    "# pc3 = PMICalculator(female, male, 130576, 718413)\n",
    "# all_counters = female + male\n",
    "# top_tokens = all_counters.most_common(10000)\n",
    "# top_tokens_with_pmi = [(p[0], p[1], pc3.pmi(p[0])) for p in top_tokens]\n",
    "# top_tokens_with_pmi.sort(key = lambda x: x[-1])"
   ]
  },
  {
   "cell_type": "code",
   "execution_count": null,
   "metadata": {},
   "outputs": [],
   "source": []
  },
  {
   "cell_type": "markdown",
   "metadata": {},
   "source": [
    "# Comparing Bigrams"
   ]
  },
  {
   "cell_type": "code",
   "execution_count": 6,
   "metadata": {},
   "outputs": [
    {
     "data": {
      "text/plain": [
       "147838368"
      ]
     },
     "execution_count": 6,
     "metadata": {},
     "output_type": "execute_result"
    }
   ],
   "source": [
    "# Number of words in corpus of women's bios: \n",
    "n_women = sum(female_counter.values())\n",
    "n_women"
   ]
  },
  {
   "cell_type": "code",
   "execution_count": 7,
   "metadata": {},
   "outputs": [
    {
     "data": {
      "text/plain": [
       "764880981"
      ]
     },
     "execution_count": 7,
     "metadata": {},
     "output_type": "execute_result"
    }
   ],
   "source": [
    "# Number of words in corpus of men's bios: \n",
    "n_men = sum(male_counter.values())\n",
    "n_men"
   ]
  },
  {
   "cell_type": "code",
   "execution_count": 8,
   "metadata": {},
   "outputs": [],
   "source": [
    "# bigrams beginning with he or she, filtered by words appearing at least 100 times.\n",
    "\n",
    "she = collections.Counter({ k[1]: v for k, v in female_bigrams.items() if v >= 100 and k[0] == \"she\" })\n",
    "he = collections.Counter({ k[1]: v for k, v in male_bigrams.items() if v >= 100 and k[0] == \"he\" })"
   ]
  },
  {
   "cell_type": "code",
   "execution_count": 9,
   "metadata": {},
   "outputs": [
    {
     "data": {
      "text/plain": [
       "615"
      ]
     },
     "execution_count": 9,
     "metadata": {},
     "output_type": "execute_result"
    }
   ],
   "source": [
    "len(she)"
   ]
  },
  {
   "cell_type": "code",
   "execution_count": 10,
   "metadata": {},
   "outputs": [
    {
     "data": {
      "text/plain": [
       "1252344"
      ]
     },
     "execution_count": 10,
     "metadata": {},
     "output_type": "execute_result"
    }
   ],
   "source": [
    "sum(she.values())"
   ]
  },
  {
   "cell_type": "code",
   "execution_count": 11,
   "metadata": {},
   "outputs": [
    {
     "data": {
      "text/plain": [
       "1236"
      ]
     },
     "execution_count": 11,
     "metadata": {},
     "output_type": "execute_result"
    }
   ],
   "source": [
    "len(he)"
   ]
  },
  {
   "cell_type": "code",
   "execution_count": 12,
   "metadata": {},
   "outputs": [
    {
     "data": {
      "text/plain": [
       "14487635"
      ]
     },
     "execution_count": 12,
     "metadata": {},
     "output_type": "execute_result"
    }
   ],
   "source": [
    "sum(he.values())"
   ]
  },
  {
   "cell_type": "code",
   "execution_count": 13,
   "metadata": {},
   "outputs": [
    {
     "name": "stdout",
     "output_type": "stream",
     "text": [
      "Number of times 'he' appears in male bios: 7053558\n",
      "Number of times 'she' appears in female bios: 1306814\n"
     ]
    }
   ],
   "source": [
    "he_count = male_counter['he']\n",
    "she_count = female_counter['she']\n",
    "print(\"Number of times 'he' appears in male bios:\", he_count )\n",
    "print(\"Number of times 'she' appears in female bios:\", she_count)"
   ]
  },
  {
   "cell_type": "code",
   "execution_count": null,
   "metadata": {},
   "outputs": [],
   "source": []
  },
  {
   "cell_type": "code",
   "execution_count": 14,
   "metadata": {},
   "outputs": [],
   "source": [
    "# Look up counts for all words in \"he\" counter not in \"she\" counter and vice versa\n",
    "for word in he:\n",
    "    if word not in she:\n",
    "        she[word] = female_bigrams[(\"she\", word)]\n",
    "for word in she:\n",
    "    if word not in he:\n",
    "        he[word] = male_bigrams[(\"he\", word)]"
   ]
  },
  {
   "cell_type": "code",
   "execution_count": 26,
   "metadata": {},
   "outputs": [],
   "source": [
    "columns = ['Word following he/she', \"she+word count\"]\n",
    "df = pd.DataFrame([(k,v) for k,v in she.items()], columns=columns)\n",
    "df.set_index(['Word following he/she'], inplace=True)"
   ]
  },
  {
   "cell_type": "code",
   "execution_count": 27,
   "metadata": {},
   "outputs": [
    {
     "data": {
      "text/html": [
       "<div>\n",
       "<style scoped>\n",
       "    .dataframe tbody tr th:only-of-type {\n",
       "        vertical-align: middle;\n",
       "    }\n",
       "\n",
       "    .dataframe tbody tr th {\n",
       "        vertical-align: top;\n",
       "    }\n",
       "\n",
       "    .dataframe thead th {\n",
       "        text-align: right;\n",
       "    }\n",
       "</style>\n",
       "<table border=\"1\" class=\"dataframe\">\n",
       "  <thead>\n",
       "    <tr style=\"text-align: right;\">\n",
       "      <th></th>\n",
       "      <th>she+word count</th>\n",
       "    </tr>\n",
       "    <tr>\n",
       "      <th>Word following he/she</th>\n",
       "      <th></th>\n",
       "    </tr>\n",
       "  </thead>\n",
       "  <tbody>\n",
       "    <tr>\n",
       "      <th>is</th>\n",
       "      <td>72233</td>\n",
       "    </tr>\n",
       "    <tr>\n",
       "      <th>called</th>\n",
       "      <td>1325</td>\n",
       "    </tr>\n",
       "    <tr>\n",
       "      <th>moved</th>\n",
       "      <td>9979</td>\n",
       "    </tr>\n",
       "    <tr>\n",
       "      <th>had</th>\n",
       "      <td>44820</td>\n",
       "    </tr>\n",
       "    <tr>\n",
       "      <th>achieved</th>\n",
       "      <td>1092</td>\n",
       "    </tr>\n",
       "  </tbody>\n",
       "</table>\n",
       "</div>"
      ],
      "text/plain": [
       "                       she+word count\n",
       "Word following he/she                \n",
       "is                              72233\n",
       "called                           1325\n",
       "moved                            9979\n",
       "had                             44820\n",
       "achieved                         1092"
      ]
     },
     "execution_count": 27,
     "metadata": {},
     "output_type": "execute_result"
    }
   ],
   "source": [
    "df.head()"
   ]
  },
  {
   "cell_type": "code",
   "execution_count": 28,
   "metadata": {},
   "outputs": [],
   "source": [
    "columns2 = ['Word following he/she', \"he+word count\",]\n",
    "df2 = pd.DataFrame([(k,v) for k,v in he.items()], columns=columns2)\n",
    "df2.set_index(['Word following he/she'], inplace=True)"
   ]
  },
  {
   "cell_type": "code",
   "execution_count": 29,
   "metadata": {},
   "outputs": [],
   "source": [
    "df = pd.concat([df,df2], axis=1)\n",
    "\n",
    "df['total count'] = df.fillna(0)[\"she+word count\"] + df.fillna(0)[\"he+word count\"]\n",
    "\n",
    "df.sort_values(by=['total count'], ascending=False, inplace=True)"
   ]
  },
  {
   "cell_type": "markdown",
   "metadata": {},
   "source": [
    "Pointwise Mutual Information, where $w_1$ is either \"he\" or \"she\", and `N` is the total number of words in the corpus\n",
    "\n",
    "$$\\text{PMI}(w_1 w_2) = \\log_2\\frac{p(w_1 w_2)}{p(w_1)\\ p(w_2)} = \\log_2\\frac{\\frac{C(w_1 w_2)}{N}}{\\frac{C(w_1)}{N} \\cdot \\frac{C(w_2)}{N}} = \\log_2(N * \\frac{C(w_1 w_2)}{C(w_1)\\ C(w_2)} )$$"
   ]
  },
  {
   "cell_type": "code",
   "execution_count": 30,
   "metadata": {},
   "outputs": [],
   "source": [
    "# count of x, count of y, count of xy\n",
    "def pmi(cx, cy, cxy, n):\n",
    "    if cy == 0:\n",
    "        return 0\n",
    "    if cxy == 0:\n",
    "        return -100\n",
    "    else:\n",
    "        return np.log2(n) + np.log2(cxy) - (np.log2(cx) + np.log2(cy))"
   ]
  },
  {
   "cell_type": "code",
   "execution_count": 31,
   "metadata": {},
   "outputs": [
    {
     "data": {
      "text/html": [
       "<div>\n",
       "<style scoped>\n",
       "    .dataframe tbody tr th:only-of-type {\n",
       "        vertical-align: middle;\n",
       "    }\n",
       "\n",
       "    .dataframe tbody tr th {\n",
       "        vertical-align: top;\n",
       "    }\n",
       "\n",
       "    .dataframe thead th {\n",
       "        text-align: right;\n",
       "    }\n",
       "</style>\n",
       "<table border=\"1\" class=\"dataframe\">\n",
       "  <thead>\n",
       "    <tr style=\"text-align: right;\">\n",
       "      <th></th>\n",
       "      <th>she+word count</th>\n",
       "      <th>he+word count</th>\n",
       "      <th>total count</th>\n",
       "      <th>PMI she+word</th>\n",
       "      <th>PMI he+word</th>\n",
       "    </tr>\n",
       "  </thead>\n",
       "  <tbody>\n",
       "    <tr>\n",
       "      <th>was</th>\n",
       "      <td>251644</td>\n",
       "      <td>3527017</td>\n",
       "      <td>3778661</td>\n",
       "      <td>4.865221</td>\n",
       "      <td>5.984816</td>\n",
       "    </tr>\n",
       "    <tr>\n",
       "      <th>is</th>\n",
       "      <td>72233</td>\n",
       "      <td>581205</td>\n",
       "      <td>653438</td>\n",
       "      <td>4.234702</td>\n",
       "      <td>5.079859</td>\n",
       "    </tr>\n",
       "    <tr>\n",
       "      <th>had</th>\n",
       "      <td>44820</td>\n",
       "      <td>532181</td>\n",
       "      <td>577001</td>\n",
       "      <td>4.750093</td>\n",
       "      <td>5.740472</td>\n",
       "    </tr>\n",
       "    <tr>\n",
       "      <th>also</th>\n",
       "      <td>51109</td>\n",
       "      <td>516457</td>\n",
       "      <td>567566</td>\n",
       "      <td>4.753585</td>\n",
       "      <td>5.685964</td>\n",
       "    </tr>\n",
       "    <tr>\n",
       "      <th>has</th>\n",
       "      <td>67227</td>\n",
       "      <td>427506</td>\n",
       "      <td>494733</td>\n",
       "      <td>5.318918</td>\n",
       "      <td>6.043105</td>\n",
       "    </tr>\n",
       "    <tr>\n",
       "      <th>became</th>\n",
       "      <td>24076</td>\n",
       "      <td>321747</td>\n",
       "      <td>345823</td>\n",
       "      <td>5.027487</td>\n",
       "      <td>6.156175</td>\n",
       "    </tr>\n",
       "    <tr>\n",
       "      <th>played</th>\n",
       "      <td>19768</td>\n",
       "      <td>305679</td>\n",
       "      <td>325447</td>\n",
       "      <td>5.346162</td>\n",
       "      <td>6.008191</td>\n",
       "    </tr>\n",
       "    <tr>\n",
       "      <th>served</th>\n",
       "      <td>9871</td>\n",
       "      <td>248302</td>\n",
       "      <td>258173</td>\n",
       "      <td>5.054372</td>\n",
       "      <td>6.313847</td>\n",
       "    </tr>\n",
       "    <tr>\n",
       "      <th>made</th>\n",
       "      <td>14427</td>\n",
       "      <td>205207</td>\n",
       "      <td>219634</td>\n",
       "      <td>4.503840</td>\n",
       "      <td>5.617981</td>\n",
       "    </tr>\n",
       "    <tr>\n",
       "      <th>died</th>\n",
       "      <td>11680</td>\n",
       "      <td>200767</td>\n",
       "      <td>212447</td>\n",
       "      <td>4.594797</td>\n",
       "      <td>5.962816</td>\n",
       "    </tr>\n",
       "  </tbody>\n",
       "</table>\n",
       "</div>"
      ],
      "text/plain": [
       "        she+word count  he+word count  total count  PMI she+word  PMI he+word\n",
       "was             251644        3527017      3778661      4.865221     5.984816\n",
       "is               72233         581205       653438      4.234702     5.079859\n",
       "had              44820         532181       577001      4.750093     5.740472\n",
       "also             51109         516457       567566      4.753585     5.685964\n",
       "has              67227         427506       494733      5.318918     6.043105\n",
       "became           24076         321747       345823      5.027487     6.156175\n",
       "played           19768         305679       325447      5.346162     6.008191\n",
       "served            9871         248302       258173      5.054372     6.313847\n",
       "made             14427         205207       219634      4.503840     5.617981\n",
       "died             11680         200767       212447      4.594797     5.962816"
      ]
     },
     "execution_count": 31,
     "metadata": {},
     "output_type": "execute_result"
    }
   ],
   "source": [
    "df['PMI she+word'] = df.apply(lambda row: pmi(she_count, female_counter[row.name], \n",
    "                                              row[\"she+word count\"], n_women), axis=1)\n",
    "df['PMI he+word'] = df.apply(lambda row: pmi(he_count, male_counter[row.name], \n",
    "                                             row[\"he+word count\"], n_men), axis=1)\n",
    "df.head(10)"
   ]
  },
  {
   "cell_type": "code",
   "execution_count": 32,
   "metadata": {},
   "outputs": [],
   "source": [
    "# Log probabilities of word given he/she. Add 1 for smoothing\n",
    "\n",
    "df['log prob of word | he'] = np.log2(\n",
    "    (df.fillna(0)[\"he+word count\"] + 1)) - np.log2((sum(he.values()) + 1))\n",
    "df['log prob of word | she'] = np.log2(\n",
    "    (df.fillna(0)[\"she+word count\"] + 1)) - np.log2((sum(she.values()) + 1))"
   ]
  },
  {
   "cell_type": "code",
   "execution_count": 33,
   "metadata": {},
   "outputs": [
    {
     "data": {
      "text/html": [
       "<div>\n",
       "<style scoped>\n",
       "    .dataframe tbody tr th:only-of-type {\n",
       "        vertical-align: middle;\n",
       "    }\n",
       "\n",
       "    .dataframe tbody tr th {\n",
       "        vertical-align: top;\n",
       "    }\n",
       "\n",
       "    .dataframe thead th {\n",
       "        text-align: right;\n",
       "    }\n",
       "</style>\n",
       "<table border=\"1\" class=\"dataframe\">\n",
       "  <thead>\n",
       "    <tr style=\"text-align: right;\">\n",
       "      <th></th>\n",
       "      <th>she+word count</th>\n",
       "      <th>he+word count</th>\n",
       "      <th>total count</th>\n",
       "      <th>PMI she+word</th>\n",
       "      <th>PMI he+word</th>\n",
       "      <th>log prob of word | he</th>\n",
       "      <th>log prob of word | she</th>\n",
       "      <th>LLR</th>\n",
       "      <th>abs_ratio</th>\n",
       "    </tr>\n",
       "  </thead>\n",
       "  <tbody>\n",
       "    <tr>\n",
       "      <th>herself</th>\n",
       "      <td>744</td>\n",
       "      <td>0</td>\n",
       "      <td>744</td>\n",
       "      <td>1.189844</td>\n",
       "      <td>-100.000000</td>\n",
       "      <td>-23.788319</td>\n",
       "      <td>-10.745433</td>\n",
       "      <td>13.042886</td>\n",
       "      <td>13.042886</td>\n",
       "    </tr>\n",
       "    <tr>\n",
       "      <th>peaked</th>\n",
       "      <td>242</td>\n",
       "      <td>0</td>\n",
       "      <td>242</td>\n",
       "      <td>2.912550</td>\n",
       "      <td>-100.000000</td>\n",
       "      <td>-23.788319</td>\n",
       "      <td>-12.361717</td>\n",
       "      <td>11.426602</td>\n",
       "      <td>11.426602</td>\n",
       "    </tr>\n",
       "    <tr>\n",
       "      <th>her</th>\n",
       "      <td>203</td>\n",
       "      <td>0</td>\n",
       "      <td>203</td>\n",
       "      <td>-5.619086</td>\n",
       "      <td>-100.000000</td>\n",
       "      <td>-23.788319</td>\n",
       "      <td>-12.614104</td>\n",
       "      <td>11.174215</td>\n",
       "      <td>11.174215</td>\n",
       "    </tr>\n",
       "    <tr>\n",
       "      <th>kicks</th>\n",
       "      <td>159</td>\n",
       "      <td>0</td>\n",
       "      <td>159</td>\n",
       "      <td>4.282957</td>\n",
       "      <td>-100.000000</td>\n",
       "      <td>-23.788319</td>\n",
       "      <td>-12.964601</td>\n",
       "      <td>10.823717</td>\n",
       "      <td>10.823717</td>\n",
       "    </tr>\n",
       "    <tr>\n",
       "      <th>modeled</th>\n",
       "      <td>182</td>\n",
       "      <td>112</td>\n",
       "      <td>294</td>\n",
       "      <td>4.340933</td>\n",
       "      <td>2.627048</td>\n",
       "      <td>-16.968140</td>\n",
       "      <td>-12.770830</td>\n",
       "      <td>4.197310</td>\n",
       "      <td>4.197310</td>\n",
       "    </tr>\n",
       "    <tr>\n",
       "      <th>posed</th>\n",
       "      <td>354</td>\n",
       "      <td>249</td>\n",
       "      <td>603</td>\n",
       "      <td>4.876859</td>\n",
       "      <td>3.254666</td>\n",
       "      <td>-15.822535</td>\n",
       "      <td>-11.814854</td>\n",
       "      <td>4.007680</td>\n",
       "      <td>4.007680</td>\n",
       "    </tr>\n",
       "    <tr>\n",
       "      <th>danced</th>\n",
       "      <td>513</td>\n",
       "      <td>458</td>\n",
       "      <td>971</td>\n",
       "      <td>5.207171</td>\n",
       "      <td>4.966041</td>\n",
       "      <td>-14.945969</td>\n",
       "      <td>-11.280905</td>\n",
       "      <td>3.665064</td>\n",
       "      <td>3.665064</td>\n",
       "    </tr>\n",
       "    <tr>\n",
       "      <th>participates</th>\n",
       "      <td>105</td>\n",
       "      <td>109</td>\n",
       "      <td>214</td>\n",
       "      <td>4.846071</td>\n",
       "      <td>3.339100</td>\n",
       "      <td>-17.006959</td>\n",
       "      <td>-13.558609</td>\n",
       "      <td>3.448350</td>\n",
       "      <td>3.448350</td>\n",
       "    </tr>\n",
       "    <tr>\n",
       "      <th>studies</th>\n",
       "      <td>109</td>\n",
       "      <td>117</td>\n",
       "      <td>226</td>\n",
       "      <td>-1.103480</td>\n",
       "      <td>-3.370457</td>\n",
       "      <td>-16.905676</td>\n",
       "      <td>-13.505170</td>\n",
       "      <td>3.400506</td>\n",
       "      <td>3.400506</td>\n",
       "    </tr>\n",
       "    <tr>\n",
       "      <th>moves</th>\n",
       "      <td>80</td>\n",
       "      <td>101</td>\n",
       "      <td>181</td>\n",
       "      <td>1.763290</td>\n",
       "      <td>-0.434748</td>\n",
       "      <td>-17.115894</td>\n",
       "      <td>-13.946680</td>\n",
       "      <td>3.169214</td>\n",
       "      <td>3.169214</td>\n",
       "    </tr>\n",
       "    <tr>\n",
       "      <th>stars</th>\n",
       "      <td>156</td>\n",
       "      <td>203</td>\n",
       "      <td>359</td>\n",
       "      <td>-0.393679</td>\n",
       "      <td>-1.824888</td>\n",
       "      <td>-16.115894</td>\n",
       "      <td>-12.991909</td>\n",
       "      <td>3.123985</td>\n",
       "      <td>3.123985</td>\n",
       "    </tr>\n",
       "    <tr>\n",
       "      <th>dated</th>\n",
       "      <td>227</td>\n",
       "      <td>303</td>\n",
       "      <td>530</td>\n",
       "      <td>3.088039</td>\n",
       "      <td>1.189732</td>\n",
       "      <td>-15.540391</td>\n",
       "      <td>-12.453640</td>\n",
       "      <td>3.086752</td>\n",
       "      <td>3.086752</td>\n",
       "    </tr>\n",
       "    <tr>\n",
       "      <th>interned</th>\n",
       "      <td>90</td>\n",
       "      <td>125</td>\n",
       "      <td>215</td>\n",
       "      <td>4.620189</td>\n",
       "      <td>2.404596</td>\n",
       "      <td>-16.811039</td>\n",
       "      <td>-13.778735</td>\n",
       "      <td>3.032304</td>\n",
       "      <td>3.032304</td>\n",
       "    </tr>\n",
       "    <tr>\n",
       "      <th>skated</th>\n",
       "      <td>94</td>\n",
       "      <td>132</td>\n",
       "      <td>226</td>\n",
       "      <td>4.821823</td>\n",
       "      <td>4.118634</td>\n",
       "      <td>-16.733036</td>\n",
       "      <td>-13.716674</td>\n",
       "      <td>3.016362</td>\n",
       "      <td>3.016362</td>\n",
       "    </tr>\n",
       "    <tr>\n",
       "      <th>upset</th>\n",
       "      <td>129</td>\n",
       "      <td>182</td>\n",
       "      <td>311</td>\n",
       "      <td>2.981301</td>\n",
       "      <td>1.234424</td>\n",
       "      <td>-16.272619</td>\n",
       "      <td>-13.264162</td>\n",
       "      <td>3.008457</td>\n",
       "      <td>3.008457</td>\n",
       "    </tr>\n",
       "    <tr>\n",
       "      <th>explores</th>\n",
       "      <td>123</td>\n",
       "      <td>175</td>\n",
       "      <td>298</td>\n",
       "      <td>3.112389</td>\n",
       "      <td>2.479784</td>\n",
       "      <td>-16.328887</td>\n",
       "      <td>-13.332333</td>\n",
       "      <td>2.996554</td>\n",
       "      <td>2.996554</td>\n",
       "    </tr>\n",
       "    <tr>\n",
       "      <th>acts</th>\n",
       "      <td>75</td>\n",
       "      <td>113</td>\n",
       "      <td>188</td>\n",
       "      <td>-0.347033</td>\n",
       "      <td>-1.888532</td>\n",
       "      <td>-16.955429</td>\n",
       "      <td>-14.038602</td>\n",
       "      <td>2.916827</td>\n",
       "      <td>2.916827</td>\n",
       "    </tr>\n",
       "    <tr>\n",
       "      <th>attends</th>\n",
       "      <td>82</td>\n",
       "      <td>128</td>\n",
       "      <td>210</td>\n",
       "      <td>3.808688</td>\n",
       "      <td>3.181424</td>\n",
       "      <td>-16.777092</td>\n",
       "      <td>-13.911490</td>\n",
       "      <td>2.865601</td>\n",
       "      <td>2.865601</td>\n",
       "    </tr>\n",
       "    <tr>\n",
       "      <th>choreographed</th>\n",
       "      <td>127</td>\n",
       "      <td>198</td>\n",
       "      <td>325</td>\n",
       "      <td>3.728359</td>\n",
       "      <td>3.613664</td>\n",
       "      <td>-16.151694</td>\n",
       "      <td>-13.286530</td>\n",
       "      <td>2.865165</td>\n",
       "      <td>2.865165</td>\n",
       "    </tr>\n",
       "    <tr>\n",
       "      <th>wins</th>\n",
       "      <td>71</td>\n",
       "      <td>116</td>\n",
       "      <td>187</td>\n",
       "      <td>-1.183406</td>\n",
       "      <td>-3.068654</td>\n",
       "      <td>-16.917954</td>\n",
       "      <td>-14.116605</td>\n",
       "      <td>2.801350</td>\n",
       "      <td>2.801350</td>\n",
       "    </tr>\n",
       "    <tr>\n",
       "      <th>admires</th>\n",
       "      <td>66</td>\n",
       "      <td>112</td>\n",
       "      <td>178</td>\n",
       "      <td>5.499895</td>\n",
       "      <td>5.108664</td>\n",
       "      <td>-16.968140</td>\n",
       "      <td>-14.220440</td>\n",
       "      <td>2.747700</td>\n",
       "      <td>2.747700</td>\n",
       "    </tr>\n",
       "    <tr>\n",
       "      <th>competes</th>\n",
       "      <td>202</td>\n",
       "      <td>349</td>\n",
       "      <td>551</td>\n",
       "      <td>4.485681</td>\n",
       "      <td>3.976602</td>\n",
       "      <td>-15.337108</td>\n",
       "      <td>-12.621194</td>\n",
       "      <td>2.715914</td>\n",
       "      <td>2.715914</td>\n",
       "    </tr>\n",
       "    <tr>\n",
       "      <th>lectures</th>\n",
       "      <td>73</td>\n",
       "      <td>130</td>\n",
       "      <td>203</td>\n",
       "      <td>1.574936</td>\n",
       "      <td>-0.553677</td>\n",
       "      <td>-16.754896</td>\n",
       "      <td>-14.077076</td>\n",
       "      <td>2.677820</td>\n",
       "      <td>2.677820</td>\n",
       "    </tr>\n",
       "    <tr>\n",
       "      <th>sings</th>\n",
       "      <td>552</td>\n",
       "      <td>1000</td>\n",
       "      <td>1552</td>\n",
       "      <td>4.071201</td>\n",
       "      <td>4.248261</td>\n",
       "      <td>-13.821093</td>\n",
       "      <td>-11.175394</td>\n",
       "      <td>2.645699</td>\n",
       "      <td>2.645699</td>\n",
       "    </tr>\n",
       "    <tr>\n",
       "      <th>heads</th>\n",
       "      <td>78</td>\n",
       "      <td>145</td>\n",
       "      <td>223</td>\n",
       "      <td>1.721902</td>\n",
       "      <td>-0.110645</td>\n",
       "      <td>-16.598494</td>\n",
       "      <td>-13.982749</td>\n",
       "      <td>2.615745</td>\n",
       "      <td>2.615745</td>\n",
       "    </tr>\n",
       "  </tbody>\n",
       "</table>\n",
       "</div>"
      ],
      "text/plain": [
       "               she+word count  he+word count  total count  PMI she+word  \\\n",
       "herself                   744              0          744      1.189844   \n",
       "peaked                    242              0          242      2.912550   \n",
       "her                       203              0          203     -5.619086   \n",
       "kicks                     159              0          159      4.282957   \n",
       "modeled                   182            112          294      4.340933   \n",
       "posed                     354            249          603      4.876859   \n",
       "danced                    513            458          971      5.207171   \n",
       "participates              105            109          214      4.846071   \n",
       "studies                   109            117          226     -1.103480   \n",
       "moves                      80            101          181      1.763290   \n",
       "stars                     156            203          359     -0.393679   \n",
       "dated                     227            303          530      3.088039   \n",
       "interned                   90            125          215      4.620189   \n",
       "skated                     94            132          226      4.821823   \n",
       "upset                     129            182          311      2.981301   \n",
       "explores                  123            175          298      3.112389   \n",
       "acts                       75            113          188     -0.347033   \n",
       "attends                    82            128          210      3.808688   \n",
       "choreographed             127            198          325      3.728359   \n",
       "wins                       71            116          187     -1.183406   \n",
       "admires                    66            112          178      5.499895   \n",
       "competes                  202            349          551      4.485681   \n",
       "lectures                   73            130          203      1.574936   \n",
       "sings                     552           1000         1552      4.071201   \n",
       "heads                      78            145          223      1.721902   \n",
       "\n",
       "               PMI he+word  log prob of word | he  log prob of word | she  \\\n",
       "herself        -100.000000             -23.788319              -10.745433   \n",
       "peaked         -100.000000             -23.788319              -12.361717   \n",
       "her            -100.000000             -23.788319              -12.614104   \n",
       "kicks          -100.000000             -23.788319              -12.964601   \n",
       "modeled           2.627048             -16.968140              -12.770830   \n",
       "posed             3.254666             -15.822535              -11.814854   \n",
       "danced            4.966041             -14.945969              -11.280905   \n",
       "participates      3.339100             -17.006959              -13.558609   \n",
       "studies          -3.370457             -16.905676              -13.505170   \n",
       "moves            -0.434748             -17.115894              -13.946680   \n",
       "stars            -1.824888             -16.115894              -12.991909   \n",
       "dated             1.189732             -15.540391              -12.453640   \n",
       "interned          2.404596             -16.811039              -13.778735   \n",
       "skated            4.118634             -16.733036              -13.716674   \n",
       "upset             1.234424             -16.272619              -13.264162   \n",
       "explores          2.479784             -16.328887              -13.332333   \n",
       "acts             -1.888532             -16.955429              -14.038602   \n",
       "attends           3.181424             -16.777092              -13.911490   \n",
       "choreographed     3.613664             -16.151694              -13.286530   \n",
       "wins             -3.068654             -16.917954              -14.116605   \n",
       "admires           5.108664             -16.968140              -14.220440   \n",
       "competes          3.976602             -15.337108              -12.621194   \n",
       "lectures         -0.553677             -16.754896              -14.077076   \n",
       "sings             4.248261             -13.821093              -11.175394   \n",
       "heads            -0.110645             -16.598494              -13.982749   \n",
       "\n",
       "                     LLR  abs_ratio  \n",
       "herself        13.042886  13.042886  \n",
       "peaked         11.426602  11.426602  \n",
       "her            11.174215  11.174215  \n",
       "kicks          10.823717  10.823717  \n",
       "modeled         4.197310   4.197310  \n",
       "posed           4.007680   4.007680  \n",
       "danced          3.665064   3.665064  \n",
       "participates    3.448350   3.448350  \n",
       "studies         3.400506   3.400506  \n",
       "moves           3.169214   3.169214  \n",
       "stars           3.123985   3.123985  \n",
       "dated           3.086752   3.086752  \n",
       "interned        3.032304   3.032304  \n",
       "skated          3.016362   3.016362  \n",
       "upset           3.008457   3.008457  \n",
       "explores        2.996554   2.996554  \n",
       "acts            2.916827   2.916827  \n",
       "attends         2.865601   2.865601  \n",
       "choreographed   2.865165   2.865165  \n",
       "wins            2.801350   2.801350  \n",
       "admires         2.747700   2.747700  \n",
       "competes        2.715914   2.715914  \n",
       "lectures        2.677820   2.677820  \n",
       "sings           2.645699   2.645699  \n",
       "heads           2.615745   2.615745  "
      ]
     },
     "execution_count": 33,
     "metadata": {},
     "output_type": "execute_result"
    }
   ],
   "source": [
    "# Log likelihood ratio she : he\n",
    "\n",
    "df['LLR'] = df['log prob of word | she'] - df['log prob of word | he']\n",
    "df['abs_ratio'] = abs(df['LLR'])\n",
    "df.sort_values(by=['LLR'], ascending=False, inplace=True)\n",
    "df.head(25)"
   ]
  },
  {
   "cell_type": "code",
   "execution_count": 34,
   "metadata": {
    "scrolled": true
   },
   "outputs": [
    {
     "data": {
      "text/html": [
       "<div>\n",
       "<style scoped>\n",
       "    .dataframe tbody tr th:only-of-type {\n",
       "        vertical-align: middle;\n",
       "    }\n",
       "\n",
       "    .dataframe tbody tr th {\n",
       "        vertical-align: top;\n",
       "    }\n",
       "\n",
       "    .dataframe thead th {\n",
       "        text-align: right;\n",
       "    }\n",
       "</style>\n",
       "<table border=\"1\" class=\"dataframe\">\n",
       "  <thead>\n",
       "    <tr style=\"text-align: right;\">\n",
       "      <th></th>\n",
       "      <th>she+word count</th>\n",
       "      <th>he+word count</th>\n",
       "      <th>total count</th>\n",
       "      <th>PMI she+word</th>\n",
       "      <th>PMI he+word</th>\n",
       "      <th>log prob of word | he</th>\n",
       "      <th>log prob of word | she</th>\n",
       "      <th>LLR</th>\n",
       "      <th>abs_ratio</th>\n",
       "    </tr>\n",
       "  </thead>\n",
       "  <tbody>\n",
       "    <tr>\n",
       "      <th>rushed</th>\n",
       "      <td>17</td>\n",
       "      <td>3238</td>\n",
       "      <td>3255</td>\n",
       "      <td>1.984473</td>\n",
       "      <td>5.710606</td>\n",
       "      <td>-12.126986</td>\n",
       "      <td>-16.116605</td>\n",
       "      <td>-3.989618</td>\n",
       "      <td>3.989618</td>\n",
       "    </tr>\n",
       "    <tr>\n",
       "      <th>pronounced</th>\n",
       "      <td>0</td>\n",
       "      <td>180</td>\n",
       "      <td>180</td>\n",
       "      <td>-100.000000</td>\n",
       "      <td>1.929257</td>\n",
       "      <td>-16.288473</td>\n",
       "      <td>-20.286530</td>\n",
       "      <td>-3.998057</td>\n",
       "      <td>3.998057</td>\n",
       "    </tr>\n",
       "    <tr>\n",
       "      <th>dispatched</th>\n",
       "      <td>0</td>\n",
       "      <td>181</td>\n",
       "      <td>181</td>\n",
       "      <td>-100.000000</td>\n",
       "      <td>2.766231</td>\n",
       "      <td>-16.280524</td>\n",
       "      <td>-20.286530</td>\n",
       "      <td>-4.006005</td>\n",
       "      <td>4.006005</td>\n",
       "    </tr>\n",
       "    <tr>\n",
       "      <th>captain</th>\n",
       "      <td>0</td>\n",
       "      <td>182</td>\n",
       "      <td>182</td>\n",
       "      <td>-100.000000</td>\n",
       "      <td>-2.714158</td>\n",
       "      <td>-16.272619</td>\n",
       "      <td>-20.286530</td>\n",
       "      <td>-4.013911</td>\n",
       "      <td>4.013911</td>\n",
       "    </tr>\n",
       "    <tr>\n",
       "      <th>calculated</th>\n",
       "      <td>0</td>\n",
       "      <td>191</td>\n",
       "      <td>191</td>\n",
       "      <td>-100.000000</td>\n",
       "      <td>3.397856</td>\n",
       "      <td>-16.203356</td>\n",
       "      <td>-20.286530</td>\n",
       "      <td>-4.083173</td>\n",
       "      <td>4.083173</td>\n",
       "    </tr>\n",
       "    <tr>\n",
       "      <th>downed</th>\n",
       "      <td>0</td>\n",
       "      <td>194</td>\n",
       "      <td>194</td>\n",
       "      <td>-100.000000</td>\n",
       "      <td>4.191981</td>\n",
       "      <td>-16.180989</td>\n",
       "      <td>-20.286530</td>\n",
       "      <td>-4.105541</td>\n",
       "      <td>4.105541</td>\n",
       "    </tr>\n",
       "    <tr>\n",
       "      <th>invaded</th>\n",
       "      <td>0</td>\n",
       "      <td>219</td>\n",
       "      <td>219</td>\n",
       "      <td>-100.000000</td>\n",
       "      <td>2.363412</td>\n",
       "      <td>-16.006959</td>\n",
       "      <td>-20.286530</td>\n",
       "      <td>-4.279570</td>\n",
       "      <td>4.279570</td>\n",
       "    </tr>\n",
       "    <tr>\n",
       "      <th>farmed</th>\n",
       "      <td>0</td>\n",
       "      <td>221</td>\n",
       "      <td>221</td>\n",
       "      <td>-100.000000</td>\n",
       "      <td>4.412934</td>\n",
       "      <td>-15.993903</td>\n",
       "      <td>-20.286530</td>\n",
       "      <td>-4.292627</td>\n",
       "      <td>4.292627</td>\n",
       "    </tr>\n",
       "    <tr>\n",
       "      <th>gallantly</th>\n",
       "      <td>0</td>\n",
       "      <td>229</td>\n",
       "      <td>229</td>\n",
       "      <td>-100.000000</td>\n",
       "      <td>5.751321</td>\n",
       "      <td>-15.942829</td>\n",
       "      <td>-20.286530</td>\n",
       "      <td>-4.343701</td>\n",
       "      <td>4.343701</td>\n",
       "    </tr>\n",
       "    <tr>\n",
       "      <th>trans</th>\n",
       "      <td>0</td>\n",
       "      <td>258</td>\n",
       "      <td>258</td>\n",
       "      <td>-100.000000</td>\n",
       "      <td>-0.914177</td>\n",
       "      <td>-15.771511</td>\n",
       "      <td>-20.286530</td>\n",
       "      <td>-4.515019</td>\n",
       "      <td>4.515019</td>\n",
       "    </tr>\n",
       "    <tr>\n",
       "      <th>bats</th>\n",
       "      <td>0</td>\n",
       "      <td>271</td>\n",
       "      <td>271</td>\n",
       "      <td>-100.000000</td>\n",
       "      <td>0.522018</td>\n",
       "      <td>-15.700856</td>\n",
       "      <td>-20.286530</td>\n",
       "      <td>-4.585674</td>\n",
       "      <td>4.585674</td>\n",
       "    </tr>\n",
       "    <tr>\n",
       "      <th>commanded</th>\n",
       "      <td>50</td>\n",
       "      <td>14651</td>\n",
       "      <td>14701</td>\n",
       "      <td>3.969824</td>\n",
       "      <td>6.257655</td>\n",
       "      <td>-9.949509</td>\n",
       "      <td>-14.614104</td>\n",
       "      <td>-4.664595</td>\n",
       "      <td>4.664595</td>\n",
       "    </tr>\n",
       "    <tr>\n",
       "      <th>111</th>\n",
       "      <td>0</td>\n",
       "      <td>296</td>\n",
       "      <td>296</td>\n",
       "      <td>-100.000000</td>\n",
       "      <td>1.039456</td>\n",
       "      <td>-15.574000</td>\n",
       "      <td>-20.286530</td>\n",
       "      <td>-4.712530</td>\n",
       "      <td>4.712530</td>\n",
       "    </tr>\n",
       "    <tr>\n",
       "      <th>man</th>\n",
       "      <td>0</td>\n",
       "      <td>370</td>\n",
       "      <td>370</td>\n",
       "      <td>-100.000000</td>\n",
       "      <td>-2.796346</td>\n",
       "      <td>-15.253043</td>\n",
       "      <td>-20.286530</td>\n",
       "      <td>-5.033486</td>\n",
       "      <td>5.033486</td>\n",
       "    </tr>\n",
       "    <tr>\n",
       "      <th>engraved</th>\n",
       "      <td>0</td>\n",
       "      <td>382</td>\n",
       "      <td>382</td>\n",
       "      <td>-100.000000</td>\n",
       "      <td>3.237178</td>\n",
       "      <td>-15.207118</td>\n",
       "      <td>-20.286530</td>\n",
       "      <td>-5.079411</td>\n",
       "      <td>5.079411</td>\n",
       "    </tr>\n",
       "    <tr>\n",
       "      <th>erected</th>\n",
       "      <td>0</td>\n",
       "      <td>450</td>\n",
       "      <td>450</td>\n",
       "      <td>-100.000000</td>\n",
       "      <td>2.622690</td>\n",
       "      <td>-14.971335</td>\n",
       "      <td>-20.286530</td>\n",
       "      <td>-5.315194</td>\n",
       "      <td>5.315194</td>\n",
       "    </tr>\n",
       "    <tr>\n",
       "      <th>intercepted</th>\n",
       "      <td>0</td>\n",
       "      <td>489</td>\n",
       "      <td>489</td>\n",
       "      <td>-100.000000</td>\n",
       "      <td>4.380414</td>\n",
       "      <td>-14.851681</td>\n",
       "      <td>-20.286530</td>\n",
       "      <td>-5.434849</td>\n",
       "      <td>5.434849</td>\n",
       "    </tr>\n",
       "    <tr>\n",
       "      <th>umpired</th>\n",
       "      <td>0</td>\n",
       "      <td>679</td>\n",
       "      <td>679</td>\n",
       "      <td>-100.000000</td>\n",
       "      <td>5.935587</td>\n",
       "      <td>-14.378928</td>\n",
       "      <td>-20.286530</td>\n",
       "      <td>-5.907602</td>\n",
       "      <td>5.907602</td>\n",
       "    </tr>\n",
       "    <tr>\n",
       "      <th>fathered</th>\n",
       "      <td>0</td>\n",
       "      <td>699</td>\n",
       "      <td>699</td>\n",
       "      <td>-100.000000</td>\n",
       "      <td>5.375418</td>\n",
       "      <td>-14.337108</td>\n",
       "      <td>-20.286530</td>\n",
       "      <td>-5.949422</td>\n",
       "      <td>5.949422</td>\n",
       "    </tr>\n",
       "    <tr>\n",
       "      <th>his</th>\n",
       "      <td>0</td>\n",
       "      <td>708</td>\n",
       "      <td>708</td>\n",
       "      <td>-100.000000</td>\n",
       "      <td>-6.023451</td>\n",
       "      <td>-14.318677</td>\n",
       "      <td>-20.286530</td>\n",
       "      <td>-5.967853</td>\n",
       "      <td>5.967853</td>\n",
       "    </tr>\n",
       "    <tr>\n",
       "      <th>n</th>\n",
       "      <td>0</td>\n",
       "      <td>712</td>\n",
       "      <td>712</td>\n",
       "      <td>-100.000000</td>\n",
       "      <td>-1.612143</td>\n",
       "      <td>-14.310561</td>\n",
       "      <td>-20.286530</td>\n",
       "      <td>-5.975969</td>\n",
       "      <td>5.975969</td>\n",
       "    </tr>\n",
       "    <tr>\n",
       "      <th>icon</th>\n",
       "      <td>0</td>\n",
       "      <td>797</td>\n",
       "      <td>797</td>\n",
       "      <td>-100.000000</td>\n",
       "      <td>-0.194769</td>\n",
       "      <td>-14.148074</td>\n",
       "      <td>-20.286530</td>\n",
       "      <td>-6.138456</td>\n",
       "      <td>6.138456</td>\n",
       "    </tr>\n",
       "    <tr>\n",
       "      <th>batting</th>\n",
       "      <td>0</td>\n",
       "      <td>861</td>\n",
       "      <td>861</td>\n",
       "      <td>-100.000000</td>\n",
       "      <td>0.701369</td>\n",
       "      <td>-14.036775</td>\n",
       "      <td>-20.286530</td>\n",
       "      <td>-6.249755</td>\n",
       "      <td>6.249755</td>\n",
       "    </tr>\n",
       "    <tr>\n",
       "      <th>totaled</th>\n",
       "      <td>0</td>\n",
       "      <td>883</td>\n",
       "      <td>883</td>\n",
       "      <td>-100.000000</td>\n",
       "      <td>5.875469</td>\n",
       "      <td>-14.000416</td>\n",
       "      <td>-20.286530</td>\n",
       "      <td>-6.286113</td>\n",
       "      <td>6.286113</td>\n",
       "    </tr>\n",
       "    <tr>\n",
       "      <th>himself</th>\n",
       "      <td>0</td>\n",
       "      <td>8331</td>\n",
       "      <td>8331</td>\n",
       "      <td>-100.000000</td>\n",
       "      <td>2.381361</td>\n",
       "      <td>-10.763872</td>\n",
       "      <td>-20.286530</td>\n",
       "      <td>-9.522658</td>\n",
       "      <td>9.522658</td>\n",
       "    </tr>\n",
       "  </tbody>\n",
       "</table>\n",
       "</div>"
      ],
      "text/plain": [
       "             she+word count  he+word count  total count  PMI she+word  \\\n",
       "rushed                   17           3238         3255      1.984473   \n",
       "pronounced                0            180          180   -100.000000   \n",
       "dispatched                0            181          181   -100.000000   \n",
       "captain                   0            182          182   -100.000000   \n",
       "calculated                0            191          191   -100.000000   \n",
       "downed                    0            194          194   -100.000000   \n",
       "invaded                   0            219          219   -100.000000   \n",
       "farmed                    0            221          221   -100.000000   \n",
       "gallantly                 0            229          229   -100.000000   \n",
       "trans                     0            258          258   -100.000000   \n",
       "bats                      0            271          271   -100.000000   \n",
       "commanded                50          14651        14701      3.969824   \n",
       "111                       0            296          296   -100.000000   \n",
       "man                       0            370          370   -100.000000   \n",
       "engraved                  0            382          382   -100.000000   \n",
       "erected                   0            450          450   -100.000000   \n",
       "intercepted               0            489          489   -100.000000   \n",
       "umpired                   0            679          679   -100.000000   \n",
       "fathered                  0            699          699   -100.000000   \n",
       "his                       0            708          708   -100.000000   \n",
       "n                         0            712          712   -100.000000   \n",
       "icon                      0            797          797   -100.000000   \n",
       "batting                   0            861          861   -100.000000   \n",
       "totaled                   0            883          883   -100.000000   \n",
       "himself                   0           8331         8331   -100.000000   \n",
       "\n",
       "             PMI he+word  log prob of word | he  log prob of word | she  \\\n",
       "rushed          5.710606             -12.126986              -16.116605   \n",
       "pronounced      1.929257             -16.288473              -20.286530   \n",
       "dispatched      2.766231             -16.280524              -20.286530   \n",
       "captain        -2.714158             -16.272619              -20.286530   \n",
       "calculated      3.397856             -16.203356              -20.286530   \n",
       "downed          4.191981             -16.180989              -20.286530   \n",
       "invaded         2.363412             -16.006959              -20.286530   \n",
       "farmed          4.412934             -15.993903              -20.286530   \n",
       "gallantly       5.751321             -15.942829              -20.286530   \n",
       "trans          -0.914177             -15.771511              -20.286530   \n",
       "bats            0.522018             -15.700856              -20.286530   \n",
       "commanded       6.257655              -9.949509              -14.614104   \n",
       "111             1.039456             -15.574000              -20.286530   \n",
       "man            -2.796346             -15.253043              -20.286530   \n",
       "engraved        3.237178             -15.207118              -20.286530   \n",
       "erected         2.622690             -14.971335              -20.286530   \n",
       "intercepted     4.380414             -14.851681              -20.286530   \n",
       "umpired         5.935587             -14.378928              -20.286530   \n",
       "fathered        5.375418             -14.337108              -20.286530   \n",
       "his            -6.023451             -14.318677              -20.286530   \n",
       "n              -1.612143             -14.310561              -20.286530   \n",
       "icon           -0.194769             -14.148074              -20.286530   \n",
       "batting         0.701369             -14.036775              -20.286530   \n",
       "totaled         5.875469             -14.000416              -20.286530   \n",
       "himself         2.381361             -10.763872              -20.286530   \n",
       "\n",
       "                  LLR  abs_ratio  \n",
       "rushed      -3.989618   3.989618  \n",
       "pronounced  -3.998057   3.998057  \n",
       "dispatched  -4.006005   4.006005  \n",
       "captain     -4.013911   4.013911  \n",
       "calculated  -4.083173   4.083173  \n",
       "downed      -4.105541   4.105541  \n",
       "invaded     -4.279570   4.279570  \n",
       "farmed      -4.292627   4.292627  \n",
       "gallantly   -4.343701   4.343701  \n",
       "trans       -4.515019   4.515019  \n",
       "bats        -4.585674   4.585674  \n",
       "commanded   -4.664595   4.664595  \n",
       "111         -4.712530   4.712530  \n",
       "man         -5.033486   5.033486  \n",
       "engraved    -5.079411   5.079411  \n",
       "erected     -5.315194   5.315194  \n",
       "intercepted -5.434849   5.434849  \n",
       "umpired     -5.907602   5.907602  \n",
       "fathered    -5.949422   5.949422  \n",
       "his         -5.967853   5.967853  \n",
       "n           -5.975969   5.975969  \n",
       "icon        -6.138456   6.138456  \n",
       "batting     -6.249755   6.249755  \n",
       "totaled     -6.286113   6.286113  \n",
       "himself     -9.522658   9.522658  "
      ]
     },
     "execution_count": 34,
     "metadata": {},
     "output_type": "execute_result"
    }
   ],
   "source": [
    "df.tail(25)"
   ]
  },
  {
   "cell_type": "code",
   "execution_count": 35,
   "metadata": {},
   "outputs": [],
   "source": [
    "df.drop(['111','n'], axis=0, inplace=True)"
   ]
  },
  {
   "cell_type": "code",
   "execution_count": 37,
   "metadata": {},
   "outputs": [],
   "source": [
    "# We are most interested in words actually having word associativity with he/she (+ PMI)\n",
    "he_words = df.drop(df[df['PMI he+word'] <= 0 ].index).tail(100)"
   ]
  },
  {
   "cell_type": "code",
   "execution_count": 38,
   "metadata": {},
   "outputs": [],
   "source": [
    "she_words = df.drop(df[df['PMI she+word'] <= 0 ].index).head(100)"
   ]
  },
  {
   "cell_type": "code",
   "execution_count": 50,
   "metadata": {},
   "outputs": [
    {
     "data": {
      "text/html": [
       "<div>\n",
       "<style scoped>\n",
       "    .dataframe tbody tr th:only-of-type {\n",
       "        vertical-align: middle;\n",
       "    }\n",
       "\n",
       "    .dataframe tbody tr th {\n",
       "        vertical-align: top;\n",
       "    }\n",
       "\n",
       "    .dataframe thead th {\n",
       "        text-align: right;\n",
       "    }\n",
       "</style>\n",
       "<table border=\"1\" class=\"dataframe\">\n",
       "  <thead>\n",
       "    <tr style=\"text-align: right;\">\n",
       "      <th></th>\n",
       "      <th>she+word count</th>\n",
       "      <th>he+word count</th>\n",
       "      <th>total count</th>\n",
       "      <th>PMI she+word</th>\n",
       "      <th>PMI he+word</th>\n",
       "      <th>log prob of word | he</th>\n",
       "      <th>log prob of word | she</th>\n",
       "      <th>LLR</th>\n",
       "      <th>abs_ratio</th>\n",
       "    </tr>\n",
       "  </thead>\n",
       "  <tbody>\n",
       "    <tr>\n",
       "      <th>duly</th>\n",
       "      <td>0</td>\n",
       "      <td>165</td>\n",
       "      <td>165</td>\n",
       "      <td>-100.000000</td>\n",
       "      <td>3.265200</td>\n",
       "      <td>-16.413279</td>\n",
       "      <td>-20.286530</td>\n",
       "      <td>-3.873250</td>\n",
       "      <td>3.873250</td>\n",
       "    </tr>\n",
       "    <tr>\n",
       "      <th>vetoed</th>\n",
       "      <td>0</td>\n",
       "      <td>175</td>\n",
       "      <td>175</td>\n",
       "      <td>-100.000000</td>\n",
       "      <td>4.091714</td>\n",
       "      <td>-16.328887</td>\n",
       "      <td>-20.286530</td>\n",
       "      <td>-3.957642</td>\n",
       "      <td>3.957642</td>\n",
       "    </tr>\n",
       "    <tr>\n",
       "      <th>rushed</th>\n",
       "      <td>17</td>\n",
       "      <td>3238</td>\n",
       "      <td>3255</td>\n",
       "      <td>1.984473</td>\n",
       "      <td>5.710606</td>\n",
       "      <td>-12.126986</td>\n",
       "      <td>-16.116605</td>\n",
       "      <td>-3.989618</td>\n",
       "      <td>3.989618</td>\n",
       "    </tr>\n",
       "    <tr>\n",
       "      <th>pronounced</th>\n",
       "      <td>0</td>\n",
       "      <td>180</td>\n",
       "      <td>180</td>\n",
       "      <td>-100.000000</td>\n",
       "      <td>1.929257</td>\n",
       "      <td>-16.288473</td>\n",
       "      <td>-20.286530</td>\n",
       "      <td>-3.998057</td>\n",
       "      <td>3.998057</td>\n",
       "    </tr>\n",
       "    <tr>\n",
       "      <th>dispatched</th>\n",
       "      <td>0</td>\n",
       "      <td>181</td>\n",
       "      <td>181</td>\n",
       "      <td>-100.000000</td>\n",
       "      <td>2.766231</td>\n",
       "      <td>-16.280524</td>\n",
       "      <td>-20.286530</td>\n",
       "      <td>-4.006005</td>\n",
       "      <td>4.006005</td>\n",
       "    </tr>\n",
       "    <tr>\n",
       "      <th>calculated</th>\n",
       "      <td>0</td>\n",
       "      <td>191</td>\n",
       "      <td>191</td>\n",
       "      <td>-100.000000</td>\n",
       "      <td>3.397856</td>\n",
       "      <td>-16.203356</td>\n",
       "      <td>-20.286530</td>\n",
       "      <td>-4.083173</td>\n",
       "      <td>4.083173</td>\n",
       "    </tr>\n",
       "    <tr>\n",
       "      <th>downed</th>\n",
       "      <td>0</td>\n",
       "      <td>194</td>\n",
       "      <td>194</td>\n",
       "      <td>-100.000000</td>\n",
       "      <td>4.191981</td>\n",
       "      <td>-16.180989</td>\n",
       "      <td>-20.286530</td>\n",
       "      <td>-4.105541</td>\n",
       "      <td>4.105541</td>\n",
       "    </tr>\n",
       "    <tr>\n",
       "      <th>invaded</th>\n",
       "      <td>0</td>\n",
       "      <td>219</td>\n",
       "      <td>219</td>\n",
       "      <td>-100.000000</td>\n",
       "      <td>2.363412</td>\n",
       "      <td>-16.006959</td>\n",
       "      <td>-20.286530</td>\n",
       "      <td>-4.279570</td>\n",
       "      <td>4.279570</td>\n",
       "    </tr>\n",
       "    <tr>\n",
       "      <th>farmed</th>\n",
       "      <td>0</td>\n",
       "      <td>221</td>\n",
       "      <td>221</td>\n",
       "      <td>-100.000000</td>\n",
       "      <td>4.412934</td>\n",
       "      <td>-15.993903</td>\n",
       "      <td>-20.286530</td>\n",
       "      <td>-4.292627</td>\n",
       "      <td>4.292627</td>\n",
       "    </tr>\n",
       "    <tr>\n",
       "      <th>gallantly</th>\n",
       "      <td>0</td>\n",
       "      <td>229</td>\n",
       "      <td>229</td>\n",
       "      <td>-100.000000</td>\n",
       "      <td>5.751321</td>\n",
       "      <td>-15.942829</td>\n",
       "      <td>-20.286530</td>\n",
       "      <td>-4.343701</td>\n",
       "      <td>4.343701</td>\n",
       "    </tr>\n",
       "    <tr>\n",
       "      <th>bats</th>\n",
       "      <td>0</td>\n",
       "      <td>271</td>\n",
       "      <td>271</td>\n",
       "      <td>-100.000000</td>\n",
       "      <td>0.522018</td>\n",
       "      <td>-15.700856</td>\n",
       "      <td>-20.286530</td>\n",
       "      <td>-4.585674</td>\n",
       "      <td>4.585674</td>\n",
       "    </tr>\n",
       "    <tr>\n",
       "      <th>commanded</th>\n",
       "      <td>50</td>\n",
       "      <td>14651</td>\n",
       "      <td>14701</td>\n",
       "      <td>3.969824</td>\n",
       "      <td>6.257655</td>\n",
       "      <td>-9.949509</td>\n",
       "      <td>-14.614104</td>\n",
       "      <td>-4.664595</td>\n",
       "      <td>4.664595</td>\n",
       "    </tr>\n",
       "    <tr>\n",
       "      <th>engraved</th>\n",
       "      <td>0</td>\n",
       "      <td>382</td>\n",
       "      <td>382</td>\n",
       "      <td>-100.000000</td>\n",
       "      <td>3.237178</td>\n",
       "      <td>-15.207118</td>\n",
       "      <td>-20.286530</td>\n",
       "      <td>-5.079411</td>\n",
       "      <td>5.079411</td>\n",
       "    </tr>\n",
       "    <tr>\n",
       "      <th>erected</th>\n",
       "      <td>0</td>\n",
       "      <td>450</td>\n",
       "      <td>450</td>\n",
       "      <td>-100.000000</td>\n",
       "      <td>2.622690</td>\n",
       "      <td>-14.971335</td>\n",
       "      <td>-20.286530</td>\n",
       "      <td>-5.315194</td>\n",
       "      <td>5.315194</td>\n",
       "    </tr>\n",
       "    <tr>\n",
       "      <th>intercepted</th>\n",
       "      <td>0</td>\n",
       "      <td>489</td>\n",
       "      <td>489</td>\n",
       "      <td>-100.000000</td>\n",
       "      <td>4.380414</td>\n",
       "      <td>-14.851681</td>\n",
       "      <td>-20.286530</td>\n",
       "      <td>-5.434849</td>\n",
       "      <td>5.434849</td>\n",
       "    </tr>\n",
       "    <tr>\n",
       "      <th>umpired</th>\n",
       "      <td>0</td>\n",
       "      <td>679</td>\n",
       "      <td>679</td>\n",
       "      <td>-100.000000</td>\n",
       "      <td>5.935587</td>\n",
       "      <td>-14.378928</td>\n",
       "      <td>-20.286530</td>\n",
       "      <td>-5.907602</td>\n",
       "      <td>5.907602</td>\n",
       "    </tr>\n",
       "    <tr>\n",
       "      <th>fathered</th>\n",
       "      <td>0</td>\n",
       "      <td>699</td>\n",
       "      <td>699</td>\n",
       "      <td>-100.000000</td>\n",
       "      <td>5.375418</td>\n",
       "      <td>-14.337108</td>\n",
       "      <td>-20.286530</td>\n",
       "      <td>-5.949422</td>\n",
       "      <td>5.949422</td>\n",
       "    </tr>\n",
       "    <tr>\n",
       "      <th>batting</th>\n",
       "      <td>0</td>\n",
       "      <td>861</td>\n",
       "      <td>861</td>\n",
       "      <td>-100.000000</td>\n",
       "      <td>0.701369</td>\n",
       "      <td>-14.036775</td>\n",
       "      <td>-20.286530</td>\n",
       "      <td>-6.249755</td>\n",
       "      <td>6.249755</td>\n",
       "    </tr>\n",
       "    <tr>\n",
       "      <th>totaled</th>\n",
       "      <td>0</td>\n",
       "      <td>883</td>\n",
       "      <td>883</td>\n",
       "      <td>-100.000000</td>\n",
       "      <td>5.875469</td>\n",
       "      <td>-14.000416</td>\n",
       "      <td>-20.286530</td>\n",
       "      <td>-6.286113</td>\n",
       "      <td>6.286113</td>\n",
       "    </tr>\n",
       "    <tr>\n",
       "      <th>himself</th>\n",
       "      <td>0</td>\n",
       "      <td>8331</td>\n",
       "      <td>8331</td>\n",
       "      <td>-100.000000</td>\n",
       "      <td>2.381361</td>\n",
       "      <td>-10.763872</td>\n",
       "      <td>-20.286530</td>\n",
       "      <td>-9.522658</td>\n",
       "      <td>9.522658</td>\n",
       "    </tr>\n",
       "  </tbody>\n",
       "</table>\n",
       "</div>"
      ],
      "text/plain": [
       "             she+word count  he+word count  total count  PMI she+word  \\\n",
       "duly                      0            165          165   -100.000000   \n",
       "vetoed                    0            175          175   -100.000000   \n",
       "rushed                   17           3238         3255      1.984473   \n",
       "pronounced                0            180          180   -100.000000   \n",
       "dispatched                0            181          181   -100.000000   \n",
       "calculated                0            191          191   -100.000000   \n",
       "downed                    0            194          194   -100.000000   \n",
       "invaded                   0            219          219   -100.000000   \n",
       "farmed                    0            221          221   -100.000000   \n",
       "gallantly                 0            229          229   -100.000000   \n",
       "bats                      0            271          271   -100.000000   \n",
       "commanded                50          14651        14701      3.969824   \n",
       "engraved                  0            382          382   -100.000000   \n",
       "erected                   0            450          450   -100.000000   \n",
       "intercepted               0            489          489   -100.000000   \n",
       "umpired                   0            679          679   -100.000000   \n",
       "fathered                  0            699          699   -100.000000   \n",
       "batting                   0            861          861   -100.000000   \n",
       "totaled                   0            883          883   -100.000000   \n",
       "himself                   0           8331         8331   -100.000000   \n",
       "\n",
       "             PMI he+word  log prob of word | he  log prob of word | she  \\\n",
       "duly            3.265200             -16.413279              -20.286530   \n",
       "vetoed          4.091714             -16.328887              -20.286530   \n",
       "rushed          5.710606             -12.126986              -16.116605   \n",
       "pronounced      1.929257             -16.288473              -20.286530   \n",
       "dispatched      2.766231             -16.280524              -20.286530   \n",
       "calculated      3.397856             -16.203356              -20.286530   \n",
       "downed          4.191981             -16.180989              -20.286530   \n",
       "invaded         2.363412             -16.006959              -20.286530   \n",
       "farmed          4.412934             -15.993903              -20.286530   \n",
       "gallantly       5.751321             -15.942829              -20.286530   \n",
       "bats            0.522018             -15.700856              -20.286530   \n",
       "commanded       6.257655              -9.949509              -14.614104   \n",
       "engraved        3.237178             -15.207118              -20.286530   \n",
       "erected         2.622690             -14.971335              -20.286530   \n",
       "intercepted     4.380414             -14.851681              -20.286530   \n",
       "umpired         5.935587             -14.378928              -20.286530   \n",
       "fathered        5.375418             -14.337108              -20.286530   \n",
       "batting         0.701369             -14.036775              -20.286530   \n",
       "totaled         5.875469             -14.000416              -20.286530   \n",
       "himself         2.381361             -10.763872              -20.286530   \n",
       "\n",
       "                  LLR  abs_ratio  \n",
       "duly        -3.873250   3.873250  \n",
       "vetoed      -3.957642   3.957642  \n",
       "rushed      -3.989618   3.989618  \n",
       "pronounced  -3.998057   3.998057  \n",
       "dispatched  -4.006005   4.006005  \n",
       "calculated  -4.083173   4.083173  \n",
       "downed      -4.105541   4.105541  \n",
       "invaded     -4.279570   4.279570  \n",
       "farmed      -4.292627   4.292627  \n",
       "gallantly   -4.343701   4.343701  \n",
       "bats        -4.585674   4.585674  \n",
       "commanded   -4.664595   4.664595  \n",
       "engraved    -5.079411   5.079411  \n",
       "erected     -5.315194   5.315194  \n",
       "intercepted -5.434849   5.434849  \n",
       "umpired     -5.907602   5.907602  \n",
       "fathered    -5.949422   5.949422  \n",
       "batting     -6.249755   6.249755  \n",
       "totaled     -6.286113   6.286113  \n",
       "himself     -9.522658   9.522658  "
      ]
     },
     "execution_count": 50,
     "metadata": {},
     "output_type": "execute_result"
    }
   ],
   "source": [
    "he_words.tail(20)"
   ]
  },
  {
   "cell_type": "code",
   "execution_count": 40,
   "metadata": {},
   "outputs": [
    {
     "data": {
      "text/html": [
       "<div>\n",
       "<style scoped>\n",
       "    .dataframe tbody tr th:only-of-type {\n",
       "        vertical-align: middle;\n",
       "    }\n",
       "\n",
       "    .dataframe tbody tr th {\n",
       "        vertical-align: top;\n",
       "    }\n",
       "\n",
       "    .dataframe thead th {\n",
       "        text-align: right;\n",
       "    }\n",
       "</style>\n",
       "<table border=\"1\" class=\"dataframe\">\n",
       "  <thead>\n",
       "    <tr style=\"text-align: right;\">\n",
       "      <th></th>\n",
       "      <th>she+word count</th>\n",
       "      <th>he+word count</th>\n",
       "      <th>total count</th>\n",
       "      <th>PMI she+word</th>\n",
       "      <th>PMI he+word</th>\n",
       "      <th>log prob of word | he</th>\n",
       "      <th>log prob of word | she</th>\n",
       "      <th>LLR</th>\n",
       "      <th>abs_ratio</th>\n",
       "    </tr>\n",
       "  </thead>\n",
       "  <tbody>\n",
       "    <tr>\n",
       "      <th>herself</th>\n",
       "      <td>744</td>\n",
       "      <td>0</td>\n",
       "      <td>744</td>\n",
       "      <td>1.189844</td>\n",
       "      <td>-100.000000</td>\n",
       "      <td>-23.788319</td>\n",
       "      <td>-10.745433</td>\n",
       "      <td>13.042886</td>\n",
       "      <td>13.042886</td>\n",
       "    </tr>\n",
       "    <tr>\n",
       "      <th>peaked</th>\n",
       "      <td>242</td>\n",
       "      <td>0</td>\n",
       "      <td>242</td>\n",
       "      <td>2.912550</td>\n",
       "      <td>-100.000000</td>\n",
       "      <td>-23.788319</td>\n",
       "      <td>-12.361717</td>\n",
       "      <td>11.426602</td>\n",
       "      <td>11.426602</td>\n",
       "    </tr>\n",
       "    <tr>\n",
       "      <th>kicks</th>\n",
       "      <td>159</td>\n",
       "      <td>0</td>\n",
       "      <td>159</td>\n",
       "      <td>4.282957</td>\n",
       "      <td>-100.000000</td>\n",
       "      <td>-23.788319</td>\n",
       "      <td>-12.964601</td>\n",
       "      <td>10.823717</td>\n",
       "      <td>10.823717</td>\n",
       "    </tr>\n",
       "    <tr>\n",
       "      <th>modeled</th>\n",
       "      <td>182</td>\n",
       "      <td>112</td>\n",
       "      <td>294</td>\n",
       "      <td>4.340933</td>\n",
       "      <td>2.627048</td>\n",
       "      <td>-16.968140</td>\n",
       "      <td>-12.770830</td>\n",
       "      <td>4.197310</td>\n",
       "      <td>4.197310</td>\n",
       "    </tr>\n",
       "    <tr>\n",
       "      <th>posed</th>\n",
       "      <td>354</td>\n",
       "      <td>249</td>\n",
       "      <td>603</td>\n",
       "      <td>4.876859</td>\n",
       "      <td>3.254666</td>\n",
       "      <td>-15.822535</td>\n",
       "      <td>-11.814854</td>\n",
       "      <td>4.007680</td>\n",
       "      <td>4.007680</td>\n",
       "    </tr>\n",
       "    <tr>\n",
       "      <th>danced</th>\n",
       "      <td>513</td>\n",
       "      <td>458</td>\n",
       "      <td>971</td>\n",
       "      <td>5.207171</td>\n",
       "      <td>4.966041</td>\n",
       "      <td>-14.945969</td>\n",
       "      <td>-11.280905</td>\n",
       "      <td>3.665064</td>\n",
       "      <td>3.665064</td>\n",
       "    </tr>\n",
       "    <tr>\n",
       "      <th>participates</th>\n",
       "      <td>105</td>\n",
       "      <td>109</td>\n",
       "      <td>214</td>\n",
       "      <td>4.846071</td>\n",
       "      <td>3.339100</td>\n",
       "      <td>-17.006959</td>\n",
       "      <td>-13.558609</td>\n",
       "      <td>3.448350</td>\n",
       "      <td>3.448350</td>\n",
       "    </tr>\n",
       "    <tr>\n",
       "      <th>moves</th>\n",
       "      <td>80</td>\n",
       "      <td>101</td>\n",
       "      <td>181</td>\n",
       "      <td>1.763290</td>\n",
       "      <td>-0.434748</td>\n",
       "      <td>-17.115894</td>\n",
       "      <td>-13.946680</td>\n",
       "      <td>3.169214</td>\n",
       "      <td>3.169214</td>\n",
       "    </tr>\n",
       "    <tr>\n",
       "      <th>dated</th>\n",
       "      <td>227</td>\n",
       "      <td>303</td>\n",
       "      <td>530</td>\n",
       "      <td>3.088039</td>\n",
       "      <td>1.189732</td>\n",
       "      <td>-15.540391</td>\n",
       "      <td>-12.453640</td>\n",
       "      <td>3.086752</td>\n",
       "      <td>3.086752</td>\n",
       "    </tr>\n",
       "    <tr>\n",
       "      <th>interned</th>\n",
       "      <td>90</td>\n",
       "      <td>125</td>\n",
       "      <td>215</td>\n",
       "      <td>4.620189</td>\n",
       "      <td>2.404596</td>\n",
       "      <td>-16.811039</td>\n",
       "      <td>-13.778735</td>\n",
       "      <td>3.032304</td>\n",
       "      <td>3.032304</td>\n",
       "    </tr>\n",
       "    <tr>\n",
       "      <th>skated</th>\n",
       "      <td>94</td>\n",
       "      <td>132</td>\n",
       "      <td>226</td>\n",
       "      <td>4.821823</td>\n",
       "      <td>4.118634</td>\n",
       "      <td>-16.733036</td>\n",
       "      <td>-13.716674</td>\n",
       "      <td>3.016362</td>\n",
       "      <td>3.016362</td>\n",
       "    </tr>\n",
       "    <tr>\n",
       "      <th>upset</th>\n",
       "      <td>129</td>\n",
       "      <td>182</td>\n",
       "      <td>311</td>\n",
       "      <td>2.981301</td>\n",
       "      <td>1.234424</td>\n",
       "      <td>-16.272619</td>\n",
       "      <td>-13.264162</td>\n",
       "      <td>3.008457</td>\n",
       "      <td>3.008457</td>\n",
       "    </tr>\n",
       "    <tr>\n",
       "      <th>explores</th>\n",
       "      <td>123</td>\n",
       "      <td>175</td>\n",
       "      <td>298</td>\n",
       "      <td>3.112389</td>\n",
       "      <td>2.479784</td>\n",
       "      <td>-16.328887</td>\n",
       "      <td>-13.332333</td>\n",
       "      <td>2.996554</td>\n",
       "      <td>2.996554</td>\n",
       "    </tr>\n",
       "    <tr>\n",
       "      <th>attends</th>\n",
       "      <td>82</td>\n",
       "      <td>128</td>\n",
       "      <td>210</td>\n",
       "      <td>3.808688</td>\n",
       "      <td>3.181424</td>\n",
       "      <td>-16.777092</td>\n",
       "      <td>-13.911490</td>\n",
       "      <td>2.865601</td>\n",
       "      <td>2.865601</td>\n",
       "    </tr>\n",
       "    <tr>\n",
       "      <th>choreographed</th>\n",
       "      <td>127</td>\n",
       "      <td>198</td>\n",
       "      <td>325</td>\n",
       "      <td>3.728359</td>\n",
       "      <td>3.613664</td>\n",
       "      <td>-16.151694</td>\n",
       "      <td>-13.286530</td>\n",
       "      <td>2.865165</td>\n",
       "      <td>2.865165</td>\n",
       "    </tr>\n",
       "    <tr>\n",
       "      <th>admires</th>\n",
       "      <td>66</td>\n",
       "      <td>112</td>\n",
       "      <td>178</td>\n",
       "      <td>5.499895</td>\n",
       "      <td>5.108664</td>\n",
       "      <td>-16.968140</td>\n",
       "      <td>-14.220440</td>\n",
       "      <td>2.747700</td>\n",
       "      <td>2.747700</td>\n",
       "    </tr>\n",
       "    <tr>\n",
       "      <th>competes</th>\n",
       "      <td>202</td>\n",
       "      <td>349</td>\n",
       "      <td>551</td>\n",
       "      <td>4.485681</td>\n",
       "      <td>3.976602</td>\n",
       "      <td>-15.337108</td>\n",
       "      <td>-12.621194</td>\n",
       "      <td>2.715914</td>\n",
       "      <td>2.715914</td>\n",
       "    </tr>\n",
       "    <tr>\n",
       "      <th>lectures</th>\n",
       "      <td>73</td>\n",
       "      <td>130</td>\n",
       "      <td>203</td>\n",
       "      <td>1.574936</td>\n",
       "      <td>-0.553677</td>\n",
       "      <td>-16.754896</td>\n",
       "      <td>-14.077076</td>\n",
       "      <td>2.677820</td>\n",
       "      <td>2.677820</td>\n",
       "    </tr>\n",
       "    <tr>\n",
       "      <th>sings</th>\n",
       "      <td>552</td>\n",
       "      <td>1000</td>\n",
       "      <td>1552</td>\n",
       "      <td>4.071201</td>\n",
       "      <td>4.248261</td>\n",
       "      <td>-13.821093</td>\n",
       "      <td>-11.175394</td>\n",
       "      <td>2.645699</td>\n",
       "      <td>2.645699</td>\n",
       "    </tr>\n",
       "    <tr>\n",
       "      <th>heads</th>\n",
       "      <td>78</td>\n",
       "      <td>145</td>\n",
       "      <td>223</td>\n",
       "      <td>1.721902</td>\n",
       "      <td>-0.110645</td>\n",
       "      <td>-16.598494</td>\n",
       "      <td>-13.982749</td>\n",
       "      <td>2.615745</td>\n",
       "      <td>2.615745</td>\n",
       "    </tr>\n",
       "    <tr>\n",
       "      <th>directs</th>\n",
       "      <td>80</td>\n",
       "      <td>152</td>\n",
       "      <td>232</td>\n",
       "      <td>4.368964</td>\n",
       "      <td>3.421828</td>\n",
       "      <td>-16.530931</td>\n",
       "      <td>-13.946680</td>\n",
       "      <td>2.584251</td>\n",
       "      <td>2.584251</td>\n",
       "    </tr>\n",
       "    <tr>\n",
       "      <th>headlined</th>\n",
       "      <td>118</td>\n",
       "      <td>224</td>\n",
       "      <td>342</td>\n",
       "      <td>4.527047</td>\n",
       "      <td>4.053381</td>\n",
       "      <td>-15.974538</td>\n",
       "      <td>-13.391712</td>\n",
       "      <td>2.582826</td>\n",
       "      <td>2.582826</td>\n",
       "    </tr>\n",
       "    <tr>\n",
       "      <th>curated</th>\n",
       "      <td>117</td>\n",
       "      <td>224</td>\n",
       "      <td>341</td>\n",
       "      <td>3.078398</td>\n",
       "      <td>2.719081</td>\n",
       "      <td>-15.974538</td>\n",
       "      <td>-13.403887</td>\n",
       "      <td>2.570651</td>\n",
       "      <td>2.570651</td>\n",
       "    </tr>\n",
       "    <tr>\n",
       "      <th>auditioned</th>\n",
       "      <td>556</td>\n",
       "      <td>1080</td>\n",
       "      <td>1636</td>\n",
       "      <td>5.239458</td>\n",
       "      <td>5.808959</td>\n",
       "      <td>-13.710168</td>\n",
       "      <td>-11.164996</td>\n",
       "      <td>2.545172</td>\n",
       "      <td>2.545172</td>\n",
       "    </tr>\n",
       "    <tr>\n",
       "      <th>cared</th>\n",
       "      <td>96</td>\n",
       "      <td>188</td>\n",
       "      <td>284</td>\n",
       "      <td>3.980521</td>\n",
       "      <td>3.519290</td>\n",
       "      <td>-16.226076</td>\n",
       "      <td>-13.686617</td>\n",
       "      <td>2.539460</td>\n",
       "      <td>2.539460</td>\n",
       "    </tr>\n",
       "    <tr>\n",
       "      <th>sang</th>\n",
       "      <td>5398</td>\n",
       "      <td>10630</td>\n",
       "      <td>16028</td>\n",
       "      <td>5.506109</td>\n",
       "      <td>5.948083</td>\n",
       "      <td>-10.412329</td>\n",
       "      <td>-7.888053</td>\n",
       "      <td>2.524276</td>\n",
       "      <td>2.524276</td>\n",
       "    </tr>\n",
       "    <tr>\n",
       "      <th>skipped</th>\n",
       "      <td>83</td>\n",
       "      <td>167</td>\n",
       "      <td>250</td>\n",
       "      <td>4.634620</td>\n",
       "      <td>4.271000</td>\n",
       "      <td>-16.396001</td>\n",
       "      <td>-13.894212</td>\n",
       "      <td>2.501789</td>\n",
       "      <td>2.501789</td>\n",
       "    </tr>\n",
       "    <tr>\n",
       "      <th>cried</th>\n",
       "      <td>82</td>\n",
       "      <td>165</td>\n",
       "      <td>247</td>\n",
       "      <td>3.989551</td>\n",
       "      <td>3.818723</td>\n",
       "      <td>-16.413279</td>\n",
       "      <td>-13.911490</td>\n",
       "      <td>2.501789</td>\n",
       "      <td>2.501789</td>\n",
       "    </tr>\n",
       "    <tr>\n",
       "      <th>visits</th>\n",
       "      <td>61</td>\n",
       "      <td>124</td>\n",
       "      <td>185</td>\n",
       "      <td>1.546767</td>\n",
       "      <td>0.668495</td>\n",
       "      <td>-16.822535</td>\n",
       "      <td>-14.332333</td>\n",
       "      <td>2.490201</td>\n",
       "      <td>2.490201</td>\n",
       "    </tr>\n",
       "    <tr>\n",
       "      <th>bore</th>\n",
       "      <td>257</td>\n",
       "      <td>522</td>\n",
       "      <td>779</td>\n",
       "      <td>4.879080</td>\n",
       "      <td>3.490584</td>\n",
       "      <td>-14.757652</td>\n",
       "      <td>-12.275302</td>\n",
       "      <td>2.482349</td>\n",
       "      <td>2.482349</td>\n",
       "    </tr>\n",
       "    <tr>\n",
       "      <th>...</th>\n",
       "      <td>...</td>\n",
       "      <td>...</td>\n",
       "      <td>...</td>\n",
       "      <td>...</td>\n",
       "      <td>...</td>\n",
       "      <td>...</td>\n",
       "      <td>...</td>\n",
       "      <td>...</td>\n",
       "      <td>...</td>\n",
       "    </tr>\n",
       "    <tr>\n",
       "      <th>prayed</th>\n",
       "      <td>47</td>\n",
       "      <td>150</td>\n",
       "      <td>197</td>\n",
       "      <td>4.433897</td>\n",
       "      <td>4.031006</td>\n",
       "      <td>-16.549914</td>\n",
       "      <td>-14.701567</td>\n",
       "      <td>1.848347</td>\n",
       "      <td>1.848347</td>\n",
       "    </tr>\n",
       "    <tr>\n",
       "      <th>attempts</th>\n",
       "      <td>53</td>\n",
       "      <td>169</td>\n",
       "      <td>222</td>\n",
       "      <td>1.491752</td>\n",
       "      <td>-0.079321</td>\n",
       "      <td>-16.378928</td>\n",
       "      <td>-14.531642</td>\n",
       "      <td>1.847286</td>\n",
       "      <td>1.847286</td>\n",
       "    </tr>\n",
       "    <tr>\n",
       "      <th>benefited</th>\n",
       "      <td>32</td>\n",
       "      <td>103</td>\n",
       "      <td>135</td>\n",
       "      <td>3.370612</td>\n",
       "      <td>2.428345</td>\n",
       "      <td>-17.087879</td>\n",
       "      <td>-15.242135</td>\n",
       "      <td>1.845744</td>\n",
       "      <td>1.845744</td>\n",
       "    </tr>\n",
       "    <tr>\n",
       "      <th>interpreted</th>\n",
       "      <td>72</td>\n",
       "      <td>235</td>\n",
       "      <td>307</td>\n",
       "      <td>3.694832</td>\n",
       "      <td>2.908912</td>\n",
       "      <td>-15.905676</td>\n",
       "      <td>-14.096705</td>\n",
       "      <td>1.808971</td>\n",
       "      <td>1.808971</td>\n",
       "    </tr>\n",
       "    <tr>\n",
       "      <th>acknowledges</th>\n",
       "      <td>70</td>\n",
       "      <td>229</td>\n",
       "      <td>299</td>\n",
       "      <td>4.928738</td>\n",
       "      <td>4.442597</td>\n",
       "      <td>-15.942829</td>\n",
       "      <td>-14.136782</td>\n",
       "      <td>1.806046</td>\n",
       "      <td>1.806046</td>\n",
       "    </tr>\n",
       "    <tr>\n",
       "      <th>suffers</th>\n",
       "      <td>62</td>\n",
       "      <td>204</td>\n",
       "      <td>266</td>\n",
       "      <td>3.798739</td>\n",
       "      <td>3.077815</td>\n",
       "      <td>-16.108839</td>\n",
       "      <td>-14.309250</td>\n",
       "      <td>1.799589</td>\n",
       "      <td>1.799589</td>\n",
       "    </tr>\n",
       "    <tr>\n",
       "      <th>descended</th>\n",
       "      <td>41</td>\n",
       "      <td>136</td>\n",
       "      <td>177</td>\n",
       "      <td>2.661706</td>\n",
       "      <td>1.508631</td>\n",
       "      <td>-16.690287</td>\n",
       "      <td>-14.894212</td>\n",
       "      <td>1.796075</td>\n",
       "      <td>1.796075</td>\n",
       "    </tr>\n",
       "    <tr>\n",
       "      <th>joins</th>\n",
       "      <td>58</td>\n",
       "      <td>194</td>\n",
       "      <td>252</td>\n",
       "      <td>0.195988</td>\n",
       "      <td>-0.188229</td>\n",
       "      <td>-16.180989</td>\n",
       "      <td>-14.403887</td>\n",
       "      <td>1.777102</td>\n",
       "      <td>1.777102</td>\n",
       "    </tr>\n",
       "    <tr>\n",
       "      <th>lists</th>\n",
       "      <td>65</td>\n",
       "      <td>218</td>\n",
       "      <td>283</td>\n",
       "      <td>1.057513</td>\n",
       "      <td>0.514032</td>\n",
       "      <td>-16.013532</td>\n",
       "      <td>-14.242135</td>\n",
       "      <td>1.771396</td>\n",
       "      <td>1.771396</td>\n",
       "    </tr>\n",
       "    <tr>\n",
       "      <th>reports</th>\n",
       "      <td>72</td>\n",
       "      <td>243</td>\n",
       "      <td>315</td>\n",
       "      <td>0.393463</td>\n",
       "      <td>-0.416833</td>\n",
       "      <td>-15.857582</td>\n",
       "      <td>-14.096705</td>\n",
       "      <td>1.760877</td>\n",
       "      <td>1.760877</td>\n",
       "    </tr>\n",
       "    <tr>\n",
       "      <th>legally</th>\n",
       "      <td>54</td>\n",
       "      <td>183</td>\n",
       "      <td>237</td>\n",
       "      <td>1.930152</td>\n",
       "      <td>2.224891</td>\n",
       "      <td>-16.264757</td>\n",
       "      <td>-14.505170</td>\n",
       "      <td>1.759587</td>\n",
       "      <td>1.759587</td>\n",
       "    </tr>\n",
       "    <tr>\n",
       "      <th>hails</th>\n",
       "      <td>84</td>\n",
       "      <td>285</td>\n",
       "      <td>369</td>\n",
       "      <td>4.503334</td>\n",
       "      <td>3.536180</td>\n",
       "      <td>-15.628448</td>\n",
       "      <td>-13.877139</td>\n",
       "      <td>1.751309</td>\n",
       "      <td>1.751309</td>\n",
       "    </tr>\n",
       "    <tr>\n",
       "      <th>pleased</th>\n",
       "      <td>35</td>\n",
       "      <td>121</td>\n",
       "      <td>156</td>\n",
       "      <td>2.679643</td>\n",
       "      <td>1.820069</td>\n",
       "      <td>-16.857582</td>\n",
       "      <td>-15.116605</td>\n",
       "      <td>1.740977</td>\n",
       "      <td>1.740977</td>\n",
       "    </tr>\n",
       "    <tr>\n",
       "      <th>abruptly</th>\n",
       "      <td>31</td>\n",
       "      <td>108</td>\n",
       "      <td>139</td>\n",
       "      <td>3.232988</td>\n",
       "      <td>2.657647</td>\n",
       "      <td>-17.020135</td>\n",
       "      <td>-15.286530</td>\n",
       "      <td>1.733605</td>\n",
       "      <td>1.733605</td>\n",
       "    </tr>\n",
       "    <tr>\n",
       "      <th>produces</th>\n",
       "      <td>66</td>\n",
       "      <td>228</td>\n",
       "      <td>294</td>\n",
       "      <td>3.165778</td>\n",
       "      <td>2.730993</td>\n",
       "      <td>-15.949115</td>\n",
       "      <td>-14.220440</td>\n",
       "      <td>1.728675</td>\n",
       "      <td>1.728675</td>\n",
       "    </tr>\n",
       "    <tr>\n",
       "      <th>detailed</th>\n",
       "      <td>30</td>\n",
       "      <td>105</td>\n",
       "      <td>135</td>\n",
       "      <td>0.815824</td>\n",
       "      <td>-0.115484</td>\n",
       "      <td>-17.060398</td>\n",
       "      <td>-15.332333</td>\n",
       "      <td>1.728065</td>\n",
       "      <td>1.728065</td>\n",
       "    </tr>\n",
       "    <tr>\n",
       "      <th>hopes</th>\n",
       "      <td>156</td>\n",
       "      <td>539</td>\n",
       "      <td>695</td>\n",
       "      <td>3.063514</td>\n",
       "      <td>2.450908</td>\n",
       "      <td>-14.711503</td>\n",
       "      <td>-12.991909</td>\n",
       "      <td>1.719594</td>\n",
       "      <td>1.719594</td>\n",
       "    </tr>\n",
       "    <tr>\n",
       "      <th>follows</th>\n",
       "      <td>43</td>\n",
       "      <td>151</td>\n",
       "      <td>194</td>\n",
       "      <td>1.320310</td>\n",
       "      <td>0.867449</td>\n",
       "      <td>-16.540391</td>\n",
       "      <td>-14.827098</td>\n",
       "      <td>1.713293</td>\n",
       "      <td>1.713293</td>\n",
       "    </tr>\n",
       "    <tr>\n",
       "      <th>guest</th>\n",
       "      <td>861</td>\n",
       "      <td>2981</td>\n",
       "      <td>3842</td>\n",
       "      <td>1.984501</td>\n",
       "      <td>2.632218</td>\n",
       "      <td>-12.246254</td>\n",
       "      <td>-10.534986</td>\n",
       "      <td>1.711269</td>\n",
       "      <td>1.711269</td>\n",
       "    </tr>\n",
       "    <tr>\n",
       "      <th>intends</th>\n",
       "      <td>77</td>\n",
       "      <td>272</td>\n",
       "      <td>349</td>\n",
       "      <td>5.580815</td>\n",
       "      <td>5.229818</td>\n",
       "      <td>-15.695562</td>\n",
       "      <td>-14.001127</td>\n",
       "      <td>1.694434</td>\n",
       "      <td>1.694434</td>\n",
       "    </tr>\n",
       "    <tr>\n",
       "      <th>intervened</th>\n",
       "      <td>29</td>\n",
       "      <td>105</td>\n",
       "      <td>134</td>\n",
       "      <td>3.602989</td>\n",
       "      <td>2.378930</td>\n",
       "      <td>-17.060398</td>\n",
       "      <td>-15.379639</td>\n",
       "      <td>1.680759</td>\n",
       "      <td>1.680759</td>\n",
       "    </tr>\n",
       "    <tr>\n",
       "      <th>talks</th>\n",
       "      <td>157</td>\n",
       "      <td>561</td>\n",
       "      <td>718</td>\n",
       "      <td>1.388949</td>\n",
       "      <td>1.322089</td>\n",
       "      <td>-14.653893</td>\n",
       "      <td>-12.982749</td>\n",
       "      <td>1.671144</td>\n",
       "      <td>1.671144</td>\n",
       "    </tr>\n",
       "    <tr>\n",
       "      <th>remembers</th>\n",
       "      <td>74</td>\n",
       "      <td>270</td>\n",
       "      <td>344</td>\n",
       "      <td>3.289809</td>\n",
       "      <td>3.228839</td>\n",
       "      <td>-15.706170</td>\n",
       "      <td>-14.057711</td>\n",
       "      <td>1.648459</td>\n",
       "      <td>1.648459</td>\n",
       "    </tr>\n",
       "    <tr>\n",
       "      <th>premiered</th>\n",
       "      <td>162</td>\n",
       "      <td>588</td>\n",
       "      <td>750</td>\n",
       "      <td>1.759460</td>\n",
       "      <td>2.149239</td>\n",
       "      <td>-14.586195</td>\n",
       "      <td>-12.937801</td>\n",
       "      <td>1.648394</td>\n",
       "      <td>1.648394</td>\n",
       "    </tr>\n",
       "    <tr>\n",
       "      <th>competed</th>\n",
       "      <td>6792</td>\n",
       "      <td>24629</td>\n",
       "      <td>31421</td>\n",
       "      <td>5.387165</td>\n",
       "      <td>5.904216</td>\n",
       "      <td>-9.200190</td>\n",
       "      <td>-7.556696</td>\n",
       "      <td>1.643493</td>\n",
       "      <td>1.643493</td>\n",
       "    </tr>\n",
       "    <tr>\n",
       "      <th>reappeared</th>\n",
       "      <td>59</td>\n",
       "      <td>217</td>\n",
       "      <td>276</td>\n",
       "      <td>5.165307</td>\n",
       "      <td>4.806330</td>\n",
       "      <td>-16.020135</td>\n",
       "      <td>-14.379639</td>\n",
       "      <td>1.640496</td>\n",
       "      <td>1.640496</td>\n",
       "    </tr>\n",
       "    <tr>\n",
       "      <th>unveiled</th>\n",
       "      <td>27</td>\n",
       "      <td>102</td>\n",
       "      <td>129</td>\n",
       "      <td>1.074873</td>\n",
       "      <td>0.831163</td>\n",
       "      <td>-17.101818</td>\n",
       "      <td>-15.479175</td>\n",
       "      <td>1.622644</td>\n",
       "      <td>1.622644</td>\n",
       "    </tr>\n",
       "    <tr>\n",
       "      <th>searched</th>\n",
       "      <td>31</td>\n",
       "      <td>117</td>\n",
       "      <td>148</td>\n",
       "      <td>2.685907</td>\n",
       "      <td>2.540331</td>\n",
       "      <td>-16.905676</td>\n",
       "      <td>-15.286530</td>\n",
       "      <td>1.619146</td>\n",
       "      <td>1.619146</td>\n",
       "    </tr>\n",
       "    <tr>\n",
       "      <th>draws</th>\n",
       "      <td>113</td>\n",
       "      <td>422</td>\n",
       "      <td>535</td>\n",
       "      <td>2.721649</td>\n",
       "      <td>2.034756</td>\n",
       "      <td>-15.063805</td>\n",
       "      <td>-13.453640</td>\n",
       "      <td>1.610165</td>\n",
       "      <td>1.610165</td>\n",
       "    </tr>\n",
       "    <tr>\n",
       "      <th>portrayed</th>\n",
       "      <td>1775</td>\n",
       "      <td>6611</td>\n",
       "      <td>8386</td>\n",
       "      <td>5.029525</td>\n",
       "      <td>5.523800</td>\n",
       "      <td>-11.097448</td>\n",
       "      <td>-9.492114</td>\n",
       "      <td>1.605334</td>\n",
       "      <td>1.605334</td>\n",
       "    </tr>\n",
       "  </tbody>\n",
       "</table>\n",
       "<p>100 rows × 9 columns</p>\n",
       "</div>"
      ],
      "text/plain": [
       "               she+word count  he+word count  total count  PMI she+word  \\\n",
       "herself                   744              0          744      1.189844   \n",
       "peaked                    242              0          242      2.912550   \n",
       "kicks                     159              0          159      4.282957   \n",
       "modeled                   182            112          294      4.340933   \n",
       "posed                     354            249          603      4.876859   \n",
       "danced                    513            458          971      5.207171   \n",
       "participates              105            109          214      4.846071   \n",
       "moves                      80            101          181      1.763290   \n",
       "dated                     227            303          530      3.088039   \n",
       "interned                   90            125          215      4.620189   \n",
       "skated                     94            132          226      4.821823   \n",
       "upset                     129            182          311      2.981301   \n",
       "explores                  123            175          298      3.112389   \n",
       "attends                    82            128          210      3.808688   \n",
       "choreographed             127            198          325      3.728359   \n",
       "admires                    66            112          178      5.499895   \n",
       "competes                  202            349          551      4.485681   \n",
       "lectures                   73            130          203      1.574936   \n",
       "sings                     552           1000         1552      4.071201   \n",
       "heads                      78            145          223      1.721902   \n",
       "directs                    80            152          232      4.368964   \n",
       "headlined                 118            224          342      4.527047   \n",
       "curated                   117            224          341      3.078398   \n",
       "auditioned                556           1080         1636      5.239458   \n",
       "cared                      96            188          284      3.980521   \n",
       "sang                     5398          10630        16028      5.506109   \n",
       "skipped                    83            167          250      4.634620   \n",
       "cried                      82            165          247      3.989551   \n",
       "visits                     61            124          185      1.546767   \n",
       "bore                      257            522          779      4.879080   \n",
       "...                       ...            ...          ...           ...   \n",
       "prayed                     47            150          197      4.433897   \n",
       "attempts                   53            169          222      1.491752   \n",
       "benefited                  32            103          135      3.370612   \n",
       "interpreted                72            235          307      3.694832   \n",
       "acknowledges               70            229          299      4.928738   \n",
       "suffers                    62            204          266      3.798739   \n",
       "descended                  41            136          177      2.661706   \n",
       "joins                      58            194          252      0.195988   \n",
       "lists                      65            218          283      1.057513   \n",
       "reports                    72            243          315      0.393463   \n",
       "legally                    54            183          237      1.930152   \n",
       "hails                      84            285          369      4.503334   \n",
       "pleased                    35            121          156      2.679643   \n",
       "abruptly                   31            108          139      3.232988   \n",
       "produces                   66            228          294      3.165778   \n",
       "detailed                   30            105          135      0.815824   \n",
       "hopes                     156            539          695      3.063514   \n",
       "follows                    43            151          194      1.320310   \n",
       "guest                     861           2981         3842      1.984501   \n",
       "intends                    77            272          349      5.580815   \n",
       "intervened                 29            105          134      3.602989   \n",
       "talks                     157            561          718      1.388949   \n",
       "remembers                  74            270          344      3.289809   \n",
       "premiered                 162            588          750      1.759460   \n",
       "competed                 6792          24629        31421      5.387165   \n",
       "reappeared                 59            217          276      5.165307   \n",
       "unveiled                   27            102          129      1.074873   \n",
       "searched                   31            117          148      2.685907   \n",
       "draws                     113            422          535      2.721649   \n",
       "portrayed                1775           6611         8386      5.029525   \n",
       "\n",
       "               PMI he+word  log prob of word | he  log prob of word | she  \\\n",
       "herself        -100.000000             -23.788319              -10.745433   \n",
       "peaked         -100.000000             -23.788319              -12.361717   \n",
       "kicks          -100.000000             -23.788319              -12.964601   \n",
       "modeled           2.627048             -16.968140              -12.770830   \n",
       "posed             3.254666             -15.822535              -11.814854   \n",
       "danced            4.966041             -14.945969              -11.280905   \n",
       "participates      3.339100             -17.006959              -13.558609   \n",
       "moves            -0.434748             -17.115894              -13.946680   \n",
       "dated             1.189732             -15.540391              -12.453640   \n",
       "interned          2.404596             -16.811039              -13.778735   \n",
       "skated            4.118634             -16.733036              -13.716674   \n",
       "upset             1.234424             -16.272619              -13.264162   \n",
       "explores          2.479784             -16.328887              -13.332333   \n",
       "attends           3.181424             -16.777092              -13.911490   \n",
       "choreographed     3.613664             -16.151694              -13.286530   \n",
       "admires           5.108664             -16.968140              -14.220440   \n",
       "competes          3.976602             -15.337108              -12.621194   \n",
       "lectures         -0.553677             -16.754896              -14.077076   \n",
       "sings             4.248261             -13.821093              -11.175394   \n",
       "heads            -0.110645             -16.598494              -13.982749   \n",
       "directs           3.421828             -16.530931              -13.946680   \n",
       "headlined         4.053381             -15.974538              -13.391712   \n",
       "curated           2.719081             -15.974538              -13.403887   \n",
       "auditioned        5.808959             -13.710168              -11.164996   \n",
       "cared             3.519290             -16.226076              -13.686617   \n",
       "sang              5.948083             -10.412329               -7.888053   \n",
       "skipped           4.271000             -16.396001              -13.894212   \n",
       "cried             3.818723             -16.413279              -13.911490   \n",
       "visits            0.668495             -16.822535              -14.332333   \n",
       "bore              3.490584             -14.757652              -12.275302   \n",
       "...                    ...                    ...                     ...   \n",
       "prayed            4.031006             -16.549914              -14.701567   \n",
       "attempts         -0.079321             -16.378928              -14.531642   \n",
       "benefited         2.428345             -17.087879              -15.242135   \n",
       "interpreted       2.908912             -15.905676              -14.096705   \n",
       "acknowledges      4.442597             -15.942829              -14.136782   \n",
       "suffers           3.077815             -16.108839              -14.309250   \n",
       "descended         1.508631             -16.690287              -14.894212   \n",
       "joins            -0.188229             -16.180989              -14.403887   \n",
       "lists             0.514032             -16.013532              -14.242135   \n",
       "reports          -0.416833             -15.857582              -14.096705   \n",
       "legally           2.224891             -16.264757              -14.505170   \n",
       "hails             3.536180             -15.628448              -13.877139   \n",
       "pleased           1.820069             -16.857582              -15.116605   \n",
       "abruptly          2.657647             -17.020135              -15.286530   \n",
       "produces          2.730993             -15.949115              -14.220440   \n",
       "detailed         -0.115484             -17.060398              -15.332333   \n",
       "hopes             2.450908             -14.711503              -12.991909   \n",
       "follows           0.867449             -16.540391              -14.827098   \n",
       "guest             2.632218             -12.246254              -10.534986   \n",
       "intends           5.229818             -15.695562              -14.001127   \n",
       "intervened        2.378930             -17.060398              -15.379639   \n",
       "talks             1.322089             -14.653893              -12.982749   \n",
       "remembers         3.228839             -15.706170              -14.057711   \n",
       "premiered         2.149239             -14.586195              -12.937801   \n",
       "competed          5.904216              -9.200190               -7.556696   \n",
       "reappeared        4.806330             -16.020135              -14.379639   \n",
       "unveiled          0.831163             -17.101818              -15.479175   \n",
       "searched          2.540331             -16.905676              -15.286530   \n",
       "draws             2.034756             -15.063805              -13.453640   \n",
       "portrayed         5.523800             -11.097448               -9.492114   \n",
       "\n",
       "                     LLR  abs_ratio  \n",
       "herself        13.042886  13.042886  \n",
       "peaked         11.426602  11.426602  \n",
       "kicks          10.823717  10.823717  \n",
       "modeled         4.197310   4.197310  \n",
       "posed           4.007680   4.007680  \n",
       "danced          3.665064   3.665064  \n",
       "participates    3.448350   3.448350  \n",
       "moves           3.169214   3.169214  \n",
       "dated           3.086752   3.086752  \n",
       "interned        3.032304   3.032304  \n",
       "skated          3.016362   3.016362  \n",
       "upset           3.008457   3.008457  \n",
       "explores        2.996554   2.996554  \n",
       "attends         2.865601   2.865601  \n",
       "choreographed   2.865165   2.865165  \n",
       "admires         2.747700   2.747700  \n",
       "competes        2.715914   2.715914  \n",
       "lectures        2.677820   2.677820  \n",
       "sings           2.645699   2.645699  \n",
       "heads           2.615745   2.615745  \n",
       "directs         2.584251   2.584251  \n",
       "headlined       2.582826   2.582826  \n",
       "curated         2.570651   2.570651  \n",
       "auditioned      2.545172   2.545172  \n",
       "cared           2.539460   2.539460  \n",
       "sang            2.524276   2.524276  \n",
       "skipped         2.501789   2.501789  \n",
       "cried           2.501789   2.501789  \n",
       "visits          2.490201   2.490201  \n",
       "bore            2.482349   2.482349  \n",
       "...                  ...        ...  \n",
       "prayed          1.848347   1.848347  \n",
       "attempts        1.847286   1.847286  \n",
       "benefited       1.845744   1.845744  \n",
       "interpreted     1.808971   1.808971  \n",
       "acknowledges    1.806046   1.806046  \n",
       "suffers         1.799589   1.799589  \n",
       "descended       1.796075   1.796075  \n",
       "joins           1.777102   1.777102  \n",
       "lists           1.771396   1.771396  \n",
       "reports         1.760877   1.760877  \n",
       "legally         1.759587   1.759587  \n",
       "hails           1.751309   1.751309  \n",
       "pleased         1.740977   1.740977  \n",
       "abruptly        1.733605   1.733605  \n",
       "produces        1.728675   1.728675  \n",
       "detailed        1.728065   1.728065  \n",
       "hopes           1.719594   1.719594  \n",
       "follows         1.713293   1.713293  \n",
       "guest           1.711269   1.711269  \n",
       "intends         1.694434   1.694434  \n",
       "intervened      1.680759   1.680759  \n",
       "talks           1.671144   1.671144  \n",
       "remembers       1.648459   1.648459  \n",
       "premiered       1.648394   1.648394  \n",
       "competed        1.643493   1.643493  \n",
       "reappeared      1.640496   1.640496  \n",
       "unveiled        1.622644   1.622644  \n",
       "searched        1.619146   1.619146  \n",
       "draws           1.610165   1.610165  \n",
       "portrayed       1.605334   1.605334  \n",
       "\n",
       "[100 rows x 9 columns]"
      ]
     },
     "execution_count": 40,
     "metadata": {},
     "output_type": "execute_result"
    }
   ],
   "source": [
    "she_words\n",
    "# \"She Kicks\" is a women's football magazine"
   ]
  },
  {
   "cell_type": "code",
   "execution_count": 135,
   "metadata": {},
   "outputs": [],
   "source": [
    "she_top = she_words.drop(she_words[she_words['she+word count'] < 90 ].index).head(10)['LLR']\n",
    "Y1, X1 = she_top.index, she_top "
   ]
  },
  {
   "cell_type": "code",
   "execution_count": 137,
   "metadata": {},
   "outputs": [],
   "source": [
    "he_words.drop(['batting'], axis=0, inplace=True) # Doesn't make sense gramatically?\n",
    "Y2, X2 = he_words.tail(10).index, he_words.tail(10)['LLR']"
   ]
  },
  {
   "cell_type": "code",
   "execution_count": 145,
   "metadata": {},
   "outputs": [
    {
     "data": {
      "image/png": "[encoded data removed]",
      "text/plain": [
       "<Figure size 972x720 with 1 Axes>"
      ]
     },
     "metadata": {},
     "output_type": "display_data"
    }
   ],
   "source": [
    "title=\"Log likelihood ratio that word appears after she/he in articles about women and men, respectively\"\n",
    "subtitle=\"Limited to words appearing at least 90 times after pronoun and with positive word association (PMI) for that gender\"\n",
    "subtitle2=\"\\n\\nHe...                                       She...\"\n",
    "\n",
    "Y = np.arange(20)\n",
    "\n",
    "X_women = np.concatenate((np.zeros(10), np.flip(X1.values, 0)), axis=0)\n",
    "X_men = np.concatenate((np.flip(X2.values, 0), np.zeros(10)), axis=0)\n",
    "\n",
    "plt.figure(figsize=(13.5,10))\n",
    "plt.axes([0.025, 0.025, 0.95, 0.95])\n",
    "plt.barh(Y, X_women, facecolor=\"None\", edgecolor='#2ca79b')\n",
    "plt.barh(Y, X_men, facecolor=\"None\", edgecolor='#a52e3b')\n",
    "\n",
    "for x, y, label in zip(X_women, Y, np.concatenate((np.empty(10, dtype=\"U\") , np.flip(Y1,0)))):\n",
    "    plt.text(x-0.1, y, label, ha='right', va= 'center', color=\"black\", fontsize=13)\n",
    "for x, y, label in zip(X_men, Y, np.concatenate((np.flip(Y2,0), np.empty(10, dtype=\"U\")))):\n",
    "    plt.text(x+0.2, y, label, ha='left', va= 'center', color=\"black\", fontsize=13)\n",
    "\n",
    "\n",
    "plt.title(title, fontsize=17, y=1.09)\n",
    "plt.suptitle(subtitle + subtitle2, fontsize=14, y=1.05)\n",
    "plt.axvline(x=0, color=\"black\")\n",
    "plt.ylim(-.5, 19.6)\n",
    "plt.yticks(())\n",
    "plt.xlim(-12, 13.5)\n",
    "plt.show()"
   ]
  },
  {
   "cell_type": "code",
   "execution_count": null,
   "metadata": {},
   "outputs": [],
   "source": []
  },
  {
   "cell_type": "code",
   "execution_count": null,
   "metadata": {},
   "outputs": [],
   "source": []
  }
 ],
 "metadata": {
  "kernelspec": {
   "display_name": "Python 3",
   "language": "python",
   "name": "python3"
  },
  "language_info": {
   "codemirror_mode": {
    "name": "ipython",
    "version": 3
   },
   "file_extension": ".py",
   "mimetype": "text/x-python",
   "name": "python",
   "nbconvert_exporter": "python",
   "pygments_lexer": "ipython3",
   "version": "3.6.5"
  },
  "varInspector": {
   "cols": {
    "lenName": 16,
    "lenType": 16,
    "lenVar": 40
   },
   "kernels_config": {
    "python": {
     "delete_cmd_postfix": "",
     "delete_cmd_prefix": "del ",
     "library": "var_list.py",
     "varRefreshCmd": "print(var_dic_list())"
    },
    "r": {
     "delete_cmd_postfix": ") ",
     "delete_cmd_prefix": "rm(",
     "library": "var_list.r",
     "varRefreshCmd": "cat(var_dic_list()) "
    }
   },
   "types_to_exclude": [
    "module",
    "function",
    "builtin_function_or_method",
    "instance",
    "_Feature"
   ],
   "window_display": false
  }
 },
 "nbformat": 4,
 "nbformat_minor": 2
}
