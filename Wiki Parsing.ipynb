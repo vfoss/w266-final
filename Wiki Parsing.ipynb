{
 "cells": [
  {
   "cell_type": "code",
   "execution_count": 1,
   "metadata": {},
   "outputs": [],
   "source": [
    "import xml.etree.cElementTree as ET\n",
    "from IPython.display import clear_output\n",
    "from ipywidgets import FloatProgress, IntText\n",
    "from IPython.display import display\n",
    "from nltk.tokenize.stanford import StanfordTokenizer\n",
    "from nltk.tokenize import word_tokenize\n",
    "import nltk\n",
    "import time\n",
    "import re\n",
    "import pandas as pd\n",
    "import collections\n",
    "from math import log \n",
    "import matplotlib.pyplot as plt\n",
    "import numpy as np"
   ]
  },
  {
   "cell_type": "code",
   "execution_count": null,
   "metadata": {
    "collapsed": true
   },
   "outputs": [],
   "source": [
    "#nltk.download()"
   ]
  },
  {
   "cell_type": "markdown",
   "metadata": {},
   "source": [
    "# Extracting Articles from Specific Categories\n",
    "\n",
    "This is my first attempt at processing the Wikipedia dump.  It streamingly parses the Wikipedia XML and processes any article with a category tag that contains the specified strings.  Currently, it just writes the body of the articles to both a single file and a category specific file.  It probably should also do the tokenization, but doesn't yet."
   ]
  },
  {
   "cell_type": "code",
   "execution_count": 7,
   "metadata": {
    "collapsed": true
   },
   "outputs": [],
   "source": [
    "class ArticleProcessor:\n",
    "    \n",
    "    def __init__(self, categories):\n",
    "        self.categories = categories        \n",
    "        self.global_matcher = re.compile(\"\\[\\[Category:[^\\]]*(\" + \n",
    "                                         \"|\".join(categories) + \n",
    "                                         \")[^\\]]*\", re.IGNORECASE)\n",
    "        self.category_matcher = {}\n",
    "        self.article_writer = {}\n",
    "        self.global_writer = open(\"data/all-articles\", \"w\")\n",
    "        for category in self.categories:\n",
    "            self.category_matcher[category] = re.compile(\"\\[\\[Category:[^\\]]*\" + \n",
    "                                                         category + \n",
    "                                                         \"[^\\]]*\", re.IGNORECASE)\n",
    "            self.article_writer[category] = open(\"data/\" + category + \"-articles\", \"w\")\n",
    "            \n",
    "    def is_article_of_interest(self, article_text):\n",
    "        return self.global_matcher.search(article_text)\n",
    "\n",
    "    def process_article(self, article_text):\n",
    "        self.global_writer.write(article_text)\n",
    "        self.global_writer.write(\"\\n\")\n",
    "        for category in self.categories:\n",
    "            if self.category_matcher[category].search(article_text):\n",
    "                self.article_writer[category].write(article_text)\n",
    "                self.article_writer[category].write(\"\\n\")\n",
    "    \n",
    "    def close_all(self):\n",
    "        self.global_writer.close()\n",
    "        for writer in self.article_writer.values():\n",
    "            writer.close()\n",
    "    "
   ]
  },
  {
   "cell_type": "code",
   "execution_count": 10,
   "metadata": {},
   "outputs": [
    {
     "data": {
      "application/vnd.jupyter.widget-view+json": {
       "model_id": "7d400b5563d145e8bc9973d3d331497b",
       "version_major": 2,
       "version_minor": 0
      },
      "text/plain": [
       "A Jupyter Widget"
      ]
     },
     "metadata": {},
     "output_type": "display_data"
    },
    {
     "data": {
      "application/vnd.jupyter.widget-view+json": {
       "model_id": "f3c1ec1d3c62421eaf29cf924126f38c",
       "version_major": 2,
       "version_minor": 0
      },
      "text/plain": [
       "A Jupyter Widget"
      ]
     },
     "metadata": {},
     "output_type": "display_data"
    },
    {
     "data": {
      "application/vnd.jupyter.widget-view+json": {
       "model_id": "b4c65b3e106148d6a4193acf90e6f695",
       "version_major": 2,
       "version_minor": 0
      },
      "text/plain": [
       "A Jupyter Widget"
      ]
     },
     "metadata": {},
     "output_type": "display_data"
    },
    {
     "name": "stdout",
     "output_type": "stream",
     "text": [
      "Articles: 17773690 Time: 5338.332955360413 seconds\n"
     ]
    }
   ],
   "source": [
    "#Don't run this\n",
    "\n",
    "p = ET.iterparse(\"data/enwiki-20170820-pages-articles.xml\", \n",
    "                 events=(\"start\", \"end\"))\n",
    "\n",
    "start = time.time()\n",
    "article_count = 0\n",
    "root = None\n",
    "f = FloatProgress(min=0, max=17773690)\n",
    "t = IntText(value=0, description=\"Articles\")\n",
    "m = IntText(value=0, description=\"Matching Articles\")\n",
    "display(t, m, f)\n",
    "\n",
    "processor = ArticleProcessor([\"sportspeople\",\n",
    "                              \"artists\",\n",
    "                              \"politicians\",\n",
    "                              \"military personnel\",\n",
    "                              \"scientist\",\n",
    "                              #sportmanager\n",
    "                              #cleric\n",
    "                              \"monarch\",\n",
    "                              \"Fictional\\ characters\",\n",
    "                              \"nobility\",\n",
    "                              \"criminals\",\n",
    "                              \"judges\"\n",
    "                              \n",
    "                             ])\n",
    "try:\n",
    "    \n",
    "    for event, elem in p:\n",
    "        if root == None:\n",
    "            root = elem\n",
    "        if event == \"end\" and elem.tag == '{http://www.mediawiki.org/xml/export-0.10/}text':\n",
    "            article_count += 1\n",
    "            if article_count % 1000 == 0:\n",
    "                f.value = article_count\n",
    "                t.value = article_count\n",
    "            if elem.text and processor.is_article_of_interest(elem.text):\n",
    "                m.value += 1 \n",
    "                processor.process_article(elem.text)\n",
    "            root.clear()\n",
    "finally:\n",
    "    processor.close_all()\n",
    "    print(\"Articles:\", article_count, \"Time:\", (time.time() - start), \"seconds\")"
   ]
  },
  {
   "cell_type": "markdown",
   "metadata": {
    "collapsed": true
   },
   "source": [
    "# Extracting Articles with Gender Labels"
   ]
  },
  {
   "cell_type": "code",
   "execution_count": 2,
   "metadata": {},
   "outputs": [
    {
     "data": {
      "text/html": [
       "<div>\n",
       "<style scoped>\n",
       "    .dataframe tbody tr th:only-of-type {\n",
       "        vertical-align: middle;\n",
       "    }\n",
       "\n",
       "    .dataframe tbody tr th {\n",
       "        vertical-align: top;\n",
       "    }\n",
       "\n",
       "    .dataframe thead th {\n",
       "        text-align: right;\n",
       "    }\n",
       "</style>\n",
       "<table border=\"1\" class=\"dataframe\">\n",
       "  <thead>\n",
       "    <tr style=\"text-align: right;\">\n",
       "      <th></th>\n",
       "      <th>wiki id</th>\n",
       "      <th>gender</th>\n",
       "      <th>name</th>\n",
       "    </tr>\n",
       "  </thead>\n",
       "  <tbody>\n",
       "    <tr>\n",
       "      <th>0</th>\n",
       "      <td>307</td>\n",
       "      <td>MALE</td>\n",
       "      <td>Abraham Lincoln</td>\n",
       "    </tr>\n",
       "    <tr>\n",
       "      <th>1</th>\n",
       "      <td>339</td>\n",
       "      <td>FEMALE</td>\n",
       "      <td>Ayn Rand</td>\n",
       "    </tr>\n",
       "    <tr>\n",
       "      <th>2</th>\n",
       "      <td>340</td>\n",
       "      <td>MALE</td>\n",
       "      <td>Alain Connes</td>\n",
       "    </tr>\n",
       "    <tr>\n",
       "      <th>3</th>\n",
       "      <td>344</td>\n",
       "      <td>MALE</td>\n",
       "      <td>Allan Dwan</td>\n",
       "    </tr>\n",
       "    <tr>\n",
       "      <th>4</th>\n",
       "      <td>595</td>\n",
       "      <td>MALE</td>\n",
       "      <td>Andre Agassi</td>\n",
       "    </tr>\n",
       "    <tr>\n",
       "      <th>5</th>\n",
       "      <td>628</td>\n",
       "      <td>MALE</td>\n",
       "      <td>Aldous Huxley</td>\n",
       "    </tr>\n",
       "    <tr>\n",
       "      <th>6</th>\n",
       "      <td>676</td>\n",
       "      <td>MALE</td>\n",
       "      <td>Andrei Tarkovsky</td>\n",
       "    </tr>\n",
       "    <tr>\n",
       "      <th>7</th>\n",
       "      <td>700</td>\n",
       "      <td>MALE</td>\n",
       "      <td>Arthur Schopenhauer</td>\n",
       "    </tr>\n",
       "    <tr>\n",
       "      <th>8</th>\n",
       "      <td>711</td>\n",
       "      <td>MALE</td>\n",
       "      <td>Albert Sidney Johnston</td>\n",
       "    </tr>\n",
       "    <tr>\n",
       "      <th>9</th>\n",
       "      <td>736</td>\n",
       "      <td>MALE</td>\n",
       "      <td>Albert Einstein</td>\n",
       "    </tr>\n",
       "  </tbody>\n",
       "</table>\n",
       "</div>"
      ],
      "text/plain": [
       "   wiki id  gender                    name\n",
       "0      307    MALE         Abraham Lincoln\n",
       "1      339  FEMALE                Ayn Rand\n",
       "2      340    MALE            Alain Connes\n",
       "3      344    MALE              Allan Dwan\n",
       "4      595    MALE            Andre Agassi\n",
       "5      628    MALE           Aldous Huxley\n",
       "6      676    MALE        Andrei Tarkovsky\n",
       "7      700    MALE     Arthur Schopenhauer\n",
       "8      711    MALE  Albert Sidney Johnston\n",
       "9      736    MALE         Albert Einstein"
      ]
     },
     "execution_count": 2,
     "metadata": {},
     "output_type": "execute_result"
    }
   ],
   "source": [
    "gender_label_table = pd.read_csv(\"data/wiki.genders.txt\", sep='\\t')\n",
    "gender_label_table.head(10)"
   ]
  },
  {
   "cell_type": "code",
   "execution_count": 3,
   "metadata": {},
   "outputs": [
    {
     "data": {
      "text/plain": [
       "862171"
      ]
     },
     "execution_count": 3,
     "metadata": {},
     "output_type": "execute_result"
    }
   ],
   "source": [
    "wiki_ids_with_gender = set([str(x) for x in gender_label_table[\"wiki id\"]])\n",
    "len(gender_label_table)"
   ]
  },
  {
   "cell_type": "code",
   "execution_count": 4,
   "metadata": {},
   "outputs": [],
   "source": [
    "is_male = {}\n",
    "for _, row in gender_label_table.iterrows():\n",
    "    is_male[str(row[\"wiki id\"])] = (row[\"gender\"] == 'MALE')"
   ]
  },
  {
   "cell_type": "code",
   "execution_count": 5,
   "metadata": {},
   "outputs": [
    {
     "data": {
      "text/plain": [
       "True"
      ]
     },
     "execution_count": 5,
     "metadata": {},
     "output_type": "execute_result"
    }
   ],
   "source": [
    "is_male[\"700\"]"
   ]
  },
  {
   "cell_type": "code",
   "execution_count": 6,
   "metadata": {},
   "outputs": [
    {
     "data": {
      "application/vnd.jupyter.widget-view+json": {
       "model_id": "e92857b6359346d39e2724c1ef3b516f",
       "version_major": 2,
       "version_minor": 0
      },
      "text/html": [
       "<p>Failed to display Jupyter Widget of type <code>IntText</code>.</p>\n",
       "<p>\n",
       "  If you're reading this message in the Jupyter Notebook or JupyterLab Notebook, it may mean\n",
       "  that the widgets JavaScript is still loading. If this message persists, it\n",
       "  likely means that the widgets JavaScript library is either not installed or\n",
       "  not enabled. See the <a href=\"https://ipywidgets.readthedocs.io/en/stable/user_install.html\">Jupyter\n",
       "  Widgets Documentation</a> for setup instructions.\n",
       "</p>\n",
       "<p>\n",
       "  If you're reading this message in another frontend (for example, a static\n",
       "  rendering on GitHub or <a href=\"https://nbviewer.jupyter.org/\">NBViewer</a>),\n",
       "  it may mean that your frontend doesn't currently support widgets.\n",
       "</p>\n"
      ],
      "text/plain": [
       "IntText(value=0, description='Articles')"
      ]
     },
     "metadata": {},
     "output_type": "display_data"
    },
    {
     "data": {
      "application/vnd.jupyter.widget-view+json": {
       "model_id": "d47269160d964169b24c344292ab9be2",
       "version_major": 2,
       "version_minor": 0
      },
      "text/html": [
       "<p>Failed to display Jupyter Widget of type <code>IntText</code>.</p>\n",
       "<p>\n",
       "  If you're reading this message in the Jupyter Notebook or JupyterLab Notebook, it may mean\n",
       "  that the widgets JavaScript is still loading. If this message persists, it\n",
       "  likely means that the widgets JavaScript library is either not installed or\n",
       "  not enabled. See the <a href=\"https://ipywidgets.readthedocs.io/en/stable/user_install.html\">Jupyter\n",
       "  Widgets Documentation</a> for setup instructions.\n",
       "</p>\n",
       "<p>\n",
       "  If you're reading this message in another frontend (for example, a static\n",
       "  rendering on GitHub or <a href=\"https://nbviewer.jupyter.org/\">NBViewer</a>),\n",
       "  it may mean that your frontend doesn't currently support widgets.\n",
       "</p>\n"
      ],
      "text/plain": [
       "IntText(value=0, description='Matching Articles')"
      ]
     },
     "metadata": {},
     "output_type": "display_data"
    },
    {
     "data": {
      "application/vnd.jupyter.widget-view+json": {
       "model_id": "28670ef7b9e5476bbb3cf2dd1b1a1918",
       "version_major": 2,
       "version_minor": 0
      },
      "text/html": [
       "<p>Failed to display Jupyter Widget of type <code>FloatProgress</code>.</p>\n",
       "<p>\n",
       "  If you're reading this message in the Jupyter Notebook or JupyterLab Notebook, it may mean\n",
       "  that the widgets JavaScript is still loading. If this message persists, it\n",
       "  likely means that the widgets JavaScript library is either not installed or\n",
       "  not enabled. See the <a href=\"https://ipywidgets.readthedocs.io/en/stable/user_install.html\">Jupyter\n",
       "  Widgets Documentation</a> for setup instructions.\n",
       "</p>\n",
       "<p>\n",
       "  If you're reading this message in another frontend (for example, a static\n",
       "  rendering on GitHub or <a href=\"https://nbviewer.jupyter.org/\">NBViewer</a>),\n",
       "  it may mean that your frontend doesn't currently support widgets.\n",
       "</p>\n"
      ],
      "text/plain": [
       "FloatProgress(value=0.0, max=17773690.0)"
      ]
     },
     "metadata": {},
     "output_type": "display_data"
    },
    {
     "name": "stderr",
     "output_type": "stream",
     "text": [
      "IOPub message rate exceeded.\n",
      "The notebook server will temporarily stop sending output\n",
      "to the client in order to avoid crashing it.\n",
      "To change this limit, set the config variable\n",
      "`--NotebookApp.iopub_msg_rate_limit`.\n",
      "\n",
      "Current values:\n",
      "NotebookApp.iopub_msg_rate_limit=1000.0 (msgs/sec)\n",
      "NotebookApp.rate_limit_window=3.0 (secs)\n",
      "\n",
      "IOPub message rate exceeded.\n",
      "The notebook server will temporarily stop sending output\n",
      "to the client in order to avoid crashing it.\n",
      "To change this limit, set the config variable\n",
      "`--NotebookApp.iopub_msg_rate_limit`.\n",
      "\n",
      "Current values:\n",
      "NotebookApp.iopub_msg_rate_limit=1000.0 (msgs/sec)\n",
      "NotebookApp.rate_limit_window=3.0 (secs)\n",
      "\n",
      "IOPub message rate exceeded.\n",
      "The notebook server will temporarily stop sending output\n",
      "to the client in order to avoid crashing it.\n",
      "To change this limit, set the config variable\n",
      "`--NotebookApp.iopub_msg_rate_limit`.\n",
      "\n",
      "Current values:\n",
      "NotebookApp.iopub_msg_rate_limit=1000.0 (msgs/sec)\n",
      "NotebookApp.rate_limit_window=3.0 (secs)\n",
      "\n",
      "IOPub message rate exceeded.\n",
      "The notebook server will temporarily stop sending output\n",
      "to the client in order to avoid crashing it.\n",
      "To change this limit, set the config variable\n",
      "`--NotebookApp.iopub_msg_rate_limit`.\n",
      "\n",
      "Current values:\n",
      "NotebookApp.iopub_msg_rate_limit=1000.0 (msgs/sec)\n",
      "NotebookApp.rate_limit_window=3.0 (secs)\n",
      "\n",
      "IOPub message rate exceeded.\n",
      "The notebook server will temporarily stop sending output\n",
      "to the client in order to avoid crashing it.\n",
      "To change this limit, set the config variable\n",
      "`--NotebookApp.iopub_msg_rate_limit`.\n",
      "\n",
      "Current values:\n",
      "NotebookApp.iopub_msg_rate_limit=1000.0 (msgs/sec)\n",
      "NotebookApp.rate_limit_window=3.0 (secs)\n",
      "\n",
      "IOPub message rate exceeded.\n",
      "The notebook server will temporarily stop sending output\n",
      "to the client in order to avoid crashing it.\n",
      "To change this limit, set the config variable\n",
      "`--NotebookApp.iopub_msg_rate_limit`.\n",
      "\n",
      "Current values:\n",
      "NotebookApp.iopub_msg_rate_limit=1000.0 (msgs/sec)\n",
      "NotebookApp.rate_limit_window=3.0 (secs)\n",
      "\n",
      "IOPub message rate exceeded.\n",
      "The notebook server will temporarily stop sending output\n",
      "to the client in order to avoid crashing it.\n",
      "To change this limit, set the config variable\n",
      "`--NotebookApp.iopub_msg_rate_limit`.\n",
      "\n",
      "Current values:\n",
      "NotebookApp.iopub_msg_rate_limit=1000.0 (msgs/sec)\n",
      "NotebookApp.rate_limit_window=3.0 (secs)\n",
      "\n",
      "IOPub message rate exceeded.\n",
      "The notebook server will temporarily stop sending output\n",
      "to the client in order to avoid crashing it.\n",
      "To change this limit, set the config variable\n",
      "`--NotebookApp.iopub_msg_rate_limit`.\n",
      "\n",
      "Current values:\n",
      "NotebookApp.iopub_msg_rate_limit=1000.0 (msgs/sec)\n",
      "NotebookApp.rate_limit_window=3.0 (secs)\n",
      "\n",
      "IOPub message rate exceeded.\n",
      "The notebook server will temporarily stop sending output\n",
      "to the client in order to avoid crashing it.\n",
      "To change this limit, set the config variable\n",
      "`--NotebookApp.iopub_msg_rate_limit`.\n",
      "\n",
      "Current values:\n",
      "NotebookApp.iopub_msg_rate_limit=1000.0 (msgs/sec)\n",
      "NotebookApp.rate_limit_window=3.0 (secs)\n",
      "\n",
      "IOPub message rate exceeded.\n",
      "The notebook server will temporarily stop sending output\n",
      "to the client in order to avoid crashing it.\n",
      "To change this limit, set the config variable\n",
      "`--NotebookApp.iopub_msg_rate_limit`.\n",
      "\n",
      "Current values:\n",
      "NotebookApp.iopub_msg_rate_limit=1000.0 (msgs/sec)\n",
      "NotebookApp.rate_limit_window=3.0 (secs)\n",
      "\n",
      "IOPub message rate exceeded.\n",
      "The notebook server will temporarily stop sending output\n",
      "to the client in order to avoid crashing it.\n",
      "To change this limit, set the config variable\n",
      "`--NotebookApp.iopub_msg_rate_limit`.\n",
      "\n",
      "Current values:\n",
      "NotebookApp.iopub_msg_rate_limit=1000.0 (msgs/sec)\n",
      "NotebookApp.rate_limit_window=3.0 (secs)\n",
      "\n",
      "IOPub message rate exceeded.\n",
      "The notebook server will temporarily stop sending output\n",
      "to the client in order to avoid crashing it.\n",
      "To change this limit, set the config variable\n",
      "`--NotebookApp.iopub_msg_rate_limit`.\n",
      "\n",
      "Current values:\n",
      "NotebookApp.iopub_msg_rate_limit=1000.0 (msgs/sec)\n",
      "NotebookApp.rate_limit_window=3.0 (secs)\n",
      "\n",
      "IOPub message rate exceeded.\n",
      "The notebook server will temporarily stop sending output\n",
      "to the client in order to avoid crashing it.\n",
      "To change this limit, set the config variable\n",
      "`--NotebookApp.iopub_msg_rate_limit`.\n",
      "\n",
      "Current values:\n",
      "NotebookApp.iopub_msg_rate_limit=1000.0 (msgs/sec)\n",
      "NotebookApp.rate_limit_window=3.0 (secs)\n",
      "\n"
     ]
    },
    {
     "name": "stdout",
     "output_type": "stream",
     "text": [
      "Articles: 17773690 Time: 1406.9675903320312 seconds\n"
     ]
    }
   ],
   "source": [
    "p = ET.iterparse(\"data/enwiki-20170820-pages-articles.xml\", \n",
    "                 events=(\"start\", \"end\"))\n",
    "\n",
    "start = time.time()\n",
    "article_count = 0\n",
    "root = None\n",
    "f = FloatProgress(min=0, max=17773690)\n",
    "t = IntText(value=0, description=\"Articles\")\n",
    "m = IntText(value=0, description=\"Matching Articles\")\n",
    "display(t, m, f)\n",
    "\n",
    "article = None\n",
    "id = None\n",
    "\n",
    "article_writer = open(\"data/gendered-labeled-articles\", \"w\")\n",
    "\n",
    "try:\n",
    "    is_current_article_labeled = False\n",
    "    for event, elem in p:\n",
    "        if root == None:\n",
    "            root = elem\n",
    "        if event == \"start\" and elem.tag == '{http://www.mediawiki.org/xml/export-0.10/}page':\n",
    "            id = None\n",
    "        if id == None and event == \"end\" and elem.tag == '{http://www.mediawiki.org/xml/export-0.10/}id':\n",
    "            is_current_article_labeled = (elem.text in wiki_ids_with_gender)\n",
    "            id = elem.text\n",
    "        if event == \"end\" and elem.tag == '{http://www.mediawiki.org/xml/export-0.10/}text':\n",
    "            article_count += 1\n",
    "            if article_count % 1000 == 0:\n",
    "                f.value = article_count\n",
    "                t.value = article_count\n",
    "            if is_current_article_labeled and elem.text:\n",
    "                m.value += 1 \n",
    "                article = elem.text\n",
    "                article_writer.write(id)\n",
    "                article_writer.write(' ')\n",
    "                article_writer.write(article.replace('\\n', ' '))\n",
    "                article_writer.write('\\n')\n",
    "            root.clear()\n",
    "finally:\n",
    "    article_writer.close()\n",
    "    print(\"Articles:\", article_count, \"Time:\", (time.time() - start), \"seconds\")"
   ]
  },
  {
   "cell_type": "markdown",
   "metadata": {},
   "source": [
    "Once this completes, we have a file where each line starts with an article ID and is followed by the full markdown text of the article.  For speed, I'm cleaning it up with this command line chain of seds:\n",
    "\n",
    "```\n",
    "cat gendered-labeled-articles | sed 's/[^a-zA-Z0-9]/ /g' | \\\n",
    "sed 's/\\s\\{2,\\}/ /g' | \\\n",
    "tr '[:upper:]' '[:lower:]' > \\\n",
    "gendered-labeled-articles.stripped\n",
    "```\n",
    "\n",
    "That takes about 17.5 minutes to run.  This reduces the file from 5.8GB to 5.1GB.\n",
    "\n",
    "# Creating a Vocabulary"
   ]
  },
  {
   "cell_type": "code",
   "execution_count": 44,
   "metadata": {},
   "outputs": [
    {
     "data": {
      "application/vnd.jupyter.widget-view+json": {
       "model_id": "688b287e830a45d599d4e290c4dd3717",
       "version_major": 2,
       "version_minor": 0
      },
      "text/plain": [
       "A Jupyter Widget"
      ]
     },
     "metadata": {},
     "output_type": "display_data"
    },
    {
     "data": {
      "application/vnd.jupyter.widget-view+json": {
       "model_id": "a5b40b93957d4548bdb030f6bff151aa",
       "version_major": 2,
       "version_minor": 0
      },
      "text/plain": [
       "A Jupyter Widget"
      ]
     },
     "metadata": {},
     "output_type": "display_data"
    },
    {
     "name": "stdout",
     "output_type": "stream",
     "text": [
      "Articles: 850399 Time: 430.8352212905884 seconds\n"
     ]
    }
   ],
   "source": [
    "#Don't run this\n",
    "\n",
    "fp = FloatProgress(min=0, max=850399)\n",
    "uw = IntText(value=0, description=\"Unique\")\n",
    "display(fp, uw)\n",
    "article_count = 0\n",
    "word_count = 0\n",
    "\n",
    "\n",
    "article_ids = set()\n",
    "vocab_mapping = {}\n",
    "vocab_writer = open(\"data/vocab\", \"w\")\n",
    "\n",
    "start = time.time()\n",
    "try:\n",
    "    with open(\"data/gendered-labeled-articles.stripped\", 'r') as f:\n",
    "        for line in f:\n",
    "            article_count += 1\n",
    "            if article_count % 1000 == 0:\n",
    "                fp.value = article_count\n",
    "                uw.value = word_count\n",
    "            words = line.split()\n",
    "            article_ids.add(words[0])\n",
    "            for word in words[1:]:\n",
    "                val = vocab_mapping.get(word, -1)\n",
    "                if val == -1:\n",
    "                    word_count += 1\n",
    "                    vocab_mapping[word] = word_count\n",
    "                    vocab_writer.write(word + \" \" + str(word_count) + \"\\n\")\n",
    "\n",
    "finally:        \n",
    "    vocab_writer.close()\n",
    "    print(\"Articles:\", article_count, \"Time:\", (time.time() - start), \"seconds\")"
   ]
  },
  {
   "cell_type": "code",
   "execution_count": 31,
   "metadata": {},
   "outputs": [
    {
     "data": {
      "text/plain": [
       "7869208"
      ]
     },
     "execution_count": 31,
     "metadata": {},
     "output_type": "execute_result"
    }
   ],
   "source": [
    "len(vocab_mapping)"
   ]
  },
  {
   "cell_type": "code",
   "execution_count": 6,
   "metadata": {},
   "outputs": [
    {
     "data": {
      "application/vnd.jupyter.widget-view+json": {
       "model_id": "9e373c163ed94de2b1149a23777abae9",
       "version_major": 2,
       "version_minor": 0
      },
      "text/html": [
       "<p>Failed to display Jupyter Widget of type <code>FloatProgress</code>.</p>\n",
       "<p>\n",
       "  If you're reading this message in the Jupyter Notebook or JupyterLab Notebook, it may mean\n",
       "  that the widgets JavaScript is still loading. If this message persists, it\n",
       "  likely means that the widgets JavaScript library is either not installed or\n",
       "  not enabled. See the <a href=\"https://ipywidgets.readthedocs.io/en/stable/user_install.html\">Jupyter\n",
       "  Widgets Documentation</a> for setup instructions.\n",
       "</p>\n",
       "<p>\n",
       "  If you're reading this message in another frontend (for example, a static\n",
       "  rendering on GitHub or <a href=\"https://nbviewer.jupyter.org/\">NBViewer</a>),\n",
       "  it may mean that your frontend doesn't currently support widgets.\n",
       "</p>\n"
      ],
      "text/plain": [
       "FloatProgress(value=0.0, max=850399.0)"
      ]
     },
     "metadata": {},
     "output_type": "display_data"
    },
    {
     "data": {
      "application/vnd.jupyter.widget-view+json": {
       "model_id": "c09392b6374c4e7187fe4657d31a3dcd",
       "version_major": 2,
       "version_minor": 0
      },
      "text/html": [
       "<p>Failed to display Jupyter Widget of type <code>IntText</code>.</p>\n",
       "<p>\n",
       "  If you're reading this message in the Jupyter Notebook or JupyterLab Notebook, it may mean\n",
       "  that the widgets JavaScript is still loading. If this message persists, it\n",
       "  likely means that the widgets JavaScript library is either not installed or\n",
       "  not enabled. See the <a href=\"https://ipywidgets.readthedocs.io/en/stable/user_install.html\">Jupyter\n",
       "  Widgets Documentation</a> for setup instructions.\n",
       "</p>\n",
       "<p>\n",
       "  If you're reading this message in another frontend (for example, a static\n",
       "  rendering on GitHub or <a href=\"https://nbviewer.jupyter.org/\">NBViewer</a>),\n",
       "  it may mean that your frontend doesn't currently support widgets.\n",
       "</p>\n"
      ],
      "text/plain": [
       "IntText(value=0, description='Unique')"
      ]
     },
     "metadata": {},
     "output_type": "display_data"
    },
    {
     "data": {
      "application/vnd.jupyter.widget-view+json": {
       "model_id": "7404abae16a54c398bfc3bdbb248d40d",
       "version_major": 2,
       "version_minor": 0
      },
      "text/html": [
       "<p>Failed to display Jupyter Widget of type <code>IntText</code>.</p>\n",
       "<p>\n",
       "  If you're reading this message in the Jupyter Notebook or JupyterLab Notebook, it may mean\n",
       "  that the widgets JavaScript is still loading. If this message persists, it\n",
       "  likely means that the widgets JavaScript library is either not installed or\n",
       "  not enabled. See the <a href=\"https://ipywidgets.readthedocs.io/en/stable/user_install.html\">Jupyter\n",
       "  Widgets Documentation</a> for setup instructions.\n",
       "</p>\n",
       "<p>\n",
       "  If you're reading this message in another frontend (for example, a static\n",
       "  rendering on GitHub or <a href=\"https://nbviewer.jupyter.org/\">NBViewer</a>),\n",
       "  it may mean that your frontend doesn't currently support widgets.\n",
       "</p>\n"
      ],
      "text/plain": [
       "IntText(value=0, description='Unique')"
      ]
     },
     "metadata": {},
     "output_type": "display_data"
    },
    {
     "name": "stderr",
     "output_type": "stream",
     "text": [
      "IOPub message rate exceeded.\n",
      "The notebook server will temporarily stop sending output\n",
      "to the client in order to avoid crashing it.\n",
      "To change this limit, set the config variable\n",
      "`--NotebookApp.iopub_msg_rate_limit`.\n",
      "\n",
      "Current values:\n",
      "NotebookApp.iopub_msg_rate_limit=1000.0 (msgs/sec)\n",
      "NotebookApp.rate_limit_window=3.0 (secs)\n",
      "\n",
      "IOPub message rate exceeded.\n",
      "The notebook server will temporarily stop sending output\n",
      "to the client in order to avoid crashing it.\n",
      "To change this limit, set the config variable\n",
      "`--NotebookApp.iopub_msg_rate_limit`.\n",
      "\n",
      "Current values:\n",
      "NotebookApp.iopub_msg_rate_limit=1000.0 (msgs/sec)\n",
      "NotebookApp.rate_limit_window=3.0 (secs)\n",
      "\n",
      "IOPub message rate exceeded.\n",
      "The notebook server will temporarily stop sending output\n",
      "to the client in order to avoid crashing it.\n",
      "To change this limit, set the config variable\n",
      "`--NotebookApp.iopub_msg_rate_limit`.\n",
      "\n",
      "Current values:\n",
      "NotebookApp.iopub_msg_rate_limit=1000.0 (msgs/sec)\n",
      "NotebookApp.rate_limit_window=3.0 (secs)\n",
      "\n",
      "IOPub message rate exceeded.\n",
      "The notebook server will temporarily stop sending output\n",
      "to the client in order to avoid crashing it.\n",
      "To change this limit, set the config variable\n",
      "`--NotebookApp.iopub_msg_rate_limit`.\n",
      "\n",
      "Current values:\n",
      "NotebookApp.iopub_msg_rate_limit=1000.0 (msgs/sec)\n",
      "NotebookApp.rate_limit_window=3.0 (secs)\n",
      "\n",
      "IOPub message rate exceeded.\n",
      "The notebook server will temporarily stop sending output\n",
      "to the client in order to avoid crashing it.\n",
      "To change this limit, set the config variable\n",
      "`--NotebookApp.iopub_msg_rate_limit`.\n",
      "\n",
      "Current values:\n",
      "NotebookApp.iopub_msg_rate_limit=1000.0 (msgs/sec)\n",
      "NotebookApp.rate_limit_window=3.0 (secs)\n",
      "\n",
      "IOPub message rate exceeded.\n",
      "The notebook server will temporarily stop sending output\n",
      "to the client in order to avoid crashing it.\n",
      "To change this limit, set the config variable\n",
      "`--NotebookApp.iopub_msg_rate_limit`.\n",
      "\n",
      "Current values:\n",
      "NotebookApp.iopub_msg_rate_limit=1000.0 (msgs/sec)\n",
      "NotebookApp.rate_limit_window=3.0 (secs)\n",
      "\n",
      "IOPub message rate exceeded.\n",
      "The notebook server will temporarily stop sending output\n",
      "to the client in order to avoid crashing it.\n",
      "To change this limit, set the config variable\n",
      "`--NotebookApp.iopub_msg_rate_limit`.\n",
      "\n",
      "Current values:\n",
      "NotebookApp.iopub_msg_rate_limit=1000.0 (msgs/sec)\n",
      "NotebookApp.rate_limit_window=3.0 (secs)\n",
      "\n",
      "IOPub message rate exceeded.\n",
      "The notebook server will temporarily stop sending output\n",
      "to the client in order to avoid crashing it.\n",
      "To change this limit, set the config variable\n",
      "`--NotebookApp.iopub_msg_rate_limit`.\n",
      "\n",
      "Current values:\n",
      "NotebookApp.iopub_msg_rate_limit=1000.0 (msgs/sec)\n",
      "NotebookApp.rate_limit_window=3.0 (secs)\n",
      "\n",
      "IOPub message rate exceeded.\n",
      "The notebook server will temporarily stop sending output\n",
      "to the client in order to avoid crashing it.\n",
      "To change this limit, set the config variable\n",
      "`--NotebookApp.iopub_msg_rate_limit`.\n",
      "\n",
      "Current values:\n",
      "NotebookApp.iopub_msg_rate_limit=1000.0 (msgs/sec)\n",
      "NotebookApp.rate_limit_window=3.0 (secs)\n",
      "\n",
      "IOPub message rate exceeded.\n",
      "The notebook server will temporarily stop sending output\n",
      "to the client in order to avoid crashing it.\n",
      "To change this limit, set the config variable\n",
      "`--NotebookApp.iopub_msg_rate_limit`.\n",
      "\n",
      "Current values:\n",
      "NotebookApp.iopub_msg_rate_limit=1000.0 (msgs/sec)\n",
      "NotebookApp.rate_limit_window=3.0 (secs)\n",
      "\n",
      "IOPub message rate exceeded.\n",
      "The notebook server will temporarily stop sending output\n",
      "to the client in order to avoid crashing it.\n",
      "To change this limit, set the config variable\n",
      "`--NotebookApp.iopub_msg_rate_limit`.\n",
      "\n",
      "Current values:\n",
      "NotebookApp.iopub_msg_rate_limit=1000.0 (msgs/sec)\n",
      "NotebookApp.rate_limit_window=3.0 (secs)\n",
      "\n",
      "IOPub message rate exceeded.\n",
      "The notebook server will temporarily stop sending output\n",
      "to the client in order to avoid crashing it.\n",
      "To change this limit, set the config variable\n",
      "`--NotebookApp.iopub_msg_rate_limit`.\n",
      "\n",
      "Current values:\n",
      "NotebookApp.iopub_msg_rate_limit=1000.0 (msgs/sec)\n",
      "NotebookApp.rate_limit_window=3.0 (secs)\n",
      "\n",
      "IOPub message rate exceeded.\n",
      "The notebook server will temporarily stop sending output\n",
      "to the client in order to avoid crashing it.\n",
      "To change this limit, set the config variable\n",
      "`--NotebookApp.iopub_msg_rate_limit`.\n",
      "\n",
      "Current values:\n",
      "NotebookApp.iopub_msg_rate_limit=1000.0 (msgs/sec)\n",
      "NotebookApp.rate_limit_window=3.0 (secs)\n",
      "\n",
      "IOPub message rate exceeded.\n",
      "The notebook server will temporarily stop sending output\n",
      "to the client in order to avoid crashing it.\n",
      "To change this limit, set the config variable\n",
      "`--NotebookApp.iopub_msg_rate_limit`.\n",
      "\n",
      "Current values:\n",
      "NotebookApp.iopub_msg_rate_limit=1000.0 (msgs/sec)\n",
      "NotebookApp.rate_limit_window=3.0 (secs)\n",
      "\n",
      "IOPub message rate exceeded.\n",
      "The notebook server will temporarily stop sending output\n",
      "to the client in order to avoid crashing it.\n",
      "To change this limit, set the config variable\n",
      "`--NotebookApp.iopub_msg_rate_limit`.\n",
      "\n",
      "Current values:\n",
      "NotebookApp.iopub_msg_rate_limit=1000.0 (msgs/sec)\n",
      "NotebookApp.rate_limit_window=3.0 (secs)\n",
      "\n",
      "IOPub message rate exceeded.\n",
      "The notebook server will temporarily stop sending output\n",
      "to the client in order to avoid crashing it.\n",
      "To change this limit, set the config variable\n",
      "`--NotebookApp.iopub_msg_rate_limit`.\n",
      "\n",
      "Current values:\n",
      "NotebookApp.iopub_msg_rate_limit=1000.0 (msgs/sec)\n",
      "NotebookApp.rate_limit_window=3.0 (secs)\n",
      "\n",
      "IOPub message rate exceeded.\n",
      "The notebook server will temporarily stop sending output\n",
      "to the client in order to avoid crashing it.\n",
      "To change this limit, set the config variable\n",
      "`--NotebookApp.iopub_msg_rate_limit`.\n",
      "\n",
      "Current values:\n",
      "NotebookApp.iopub_msg_rate_limit=1000.0 (msgs/sec)\n",
      "NotebookApp.rate_limit_window=3.0 (secs)\n",
      "\n",
      "IOPub message rate exceeded.\n",
      "The notebook server will temporarily stop sending output\n",
      "to the client in order to avoid crashing it.\n",
      "To change this limit, set the config variable\n",
      "`--NotebookApp.iopub_msg_rate_limit`.\n",
      "\n",
      "Current values:\n",
      "NotebookApp.iopub_msg_rate_limit=1000.0 (msgs/sec)\n",
      "NotebookApp.rate_limit_window=3.0 (secs)\n",
      "\n",
      "IOPub message rate exceeded.\n",
      "The notebook server will temporarily stop sending output\n",
      "to the client in order to avoid crashing it.\n",
      "To change this limit, set the config variable\n",
      "`--NotebookApp.iopub_msg_rate_limit`.\n",
      "\n",
      "Current values:\n",
      "NotebookApp.iopub_msg_rate_limit=1000.0 (msgs/sec)\n",
      "NotebookApp.rate_limit_window=3.0 (secs)\n",
      "\n",
      "IOPub message rate exceeded.\n",
      "The notebook server will temporarily stop sending output\n",
      "to the client in order to avoid crashing it.\n",
      "To change this limit, set the config variable\n",
      "`--NotebookApp.iopub_msg_rate_limit`.\n",
      "\n",
      "Current values:\n",
      "NotebookApp.iopub_msg_rate_limit=1000.0 (msgs/sec)\n",
      "NotebookApp.rate_limit_window=3.0 (secs)\n",
      "\n",
      "IOPub message rate exceeded.\n",
      "The notebook server will temporarily stop sending output\n",
      "to the client in order to avoid crashing it.\n",
      "To change this limit, set the config variable\n",
      "`--NotebookApp.iopub_msg_rate_limit`.\n",
      "\n",
      "Current values:\n",
      "NotebookApp.iopub_msg_rate_limit=1000.0 (msgs/sec)\n",
      "NotebookApp.rate_limit_window=3.0 (secs)\n",
      "\n",
      "IOPub message rate exceeded.\n",
      "The notebook server will temporarily stop sending output\n",
      "to the client in order to avoid crashing it.\n",
      "To change this limit, set the config variable\n",
      "`--NotebookApp.iopub_msg_rate_limit`.\n",
      "\n",
      "Current values:\n",
      "NotebookApp.iopub_msg_rate_limit=1000.0 (msgs/sec)\n",
      "NotebookApp.rate_limit_window=3.0 (secs)\n",
      "\n",
      "IOPub message rate exceeded.\n",
      "The notebook server will temporarily stop sending output\n",
      "to the client in order to avoid crashing it.\n",
      "To change this limit, set the config variable\n",
      "`--NotebookApp.iopub_msg_rate_limit`.\n",
      "\n",
      "Current values:\n",
      "NotebookApp.iopub_msg_rate_limit=1000.0 (msgs/sec)\n",
      "NotebookApp.rate_limit_window=3.0 (secs)\n",
      "\n",
      "IOPub message rate exceeded.\n",
      "The notebook server will temporarily stop sending output\n",
      "to the client in order to avoid crashing it.\n",
      "To change this limit, set the config variable\n",
      "`--NotebookApp.iopub_msg_rate_limit`.\n",
      "\n",
      "Current values:\n",
      "NotebookApp.iopub_msg_rate_limit=1000.0 (msgs/sec)\n",
      "NotebookApp.rate_limit_window=3.0 (secs)\n",
      "\n",
      "IOPub message rate exceeded.\n",
      "The notebook server will temporarily stop sending output\n",
      "to the client in order to avoid crashing it.\n",
      "To change this limit, set the config variable\n",
      "`--NotebookApp.iopub_msg_rate_limit`.\n",
      "\n",
      "Current values:\n",
      "NotebookApp.iopub_msg_rate_limit=1000.0 (msgs/sec)\n",
      "NotebookApp.rate_limit_window=3.0 (secs)\n",
      "\n",
      "IOPub message rate exceeded.\n",
      "The notebook server will temporarily stop sending output\n",
      "to the client in order to avoid crashing it.\n",
      "To change this limit, set the config variable\n",
      "`--NotebookApp.iopub_msg_rate_limit`.\n",
      "\n",
      "Current values:\n",
      "NotebookApp.iopub_msg_rate_limit=1000.0 (msgs/sec)\n",
      "NotebookApp.rate_limit_window=3.0 (secs)\n",
      "\n"
     ]
    },
    {
     "name": "stderr",
     "output_type": "stream",
     "text": [
      "IOPub message rate exceeded.\n",
      "The notebook server will temporarily stop sending output\n",
      "to the client in order to avoid crashing it.\n",
      "To change this limit, set the config variable\n",
      "`--NotebookApp.iopub_msg_rate_limit`.\n",
      "\n",
      "Current values:\n",
      "NotebookApp.iopub_msg_rate_limit=1000.0 (msgs/sec)\n",
      "NotebookApp.rate_limit_window=3.0 (secs)\n",
      "\n",
      "IOPub message rate exceeded.\n",
      "The notebook server will temporarily stop sending output\n",
      "to the client in order to avoid crashing it.\n",
      "To change this limit, set the config variable\n",
      "`--NotebookApp.iopub_msg_rate_limit`.\n",
      "\n",
      "Current values:\n",
      "NotebookApp.iopub_msg_rate_limit=1000.0 (msgs/sec)\n",
      "NotebookApp.rate_limit_window=3.0 (secs)\n",
      "\n",
      "IOPub message rate exceeded.\n",
      "The notebook server will temporarily stop sending output\n",
      "to the client in order to avoid crashing it.\n",
      "To change this limit, set the config variable\n",
      "`--NotebookApp.iopub_msg_rate_limit`.\n",
      "\n",
      "Current values:\n",
      "NotebookApp.iopub_msg_rate_limit=1000.0 (msgs/sec)\n",
      "NotebookApp.rate_limit_window=3.0 (secs)\n",
      "\n",
      "IOPub message rate exceeded.\n",
      "The notebook server will temporarily stop sending output\n",
      "to the client in order to avoid crashing it.\n",
      "To change this limit, set the config variable\n",
      "`--NotebookApp.iopub_msg_rate_limit`.\n",
      "\n",
      "Current values:\n",
      "NotebookApp.iopub_msg_rate_limit=1000.0 (msgs/sec)\n",
      "NotebookApp.rate_limit_window=3.0 (secs)\n",
      "\n",
      "IOPub message rate exceeded.\n",
      "The notebook server will temporarily stop sending output\n",
      "to the client in order to avoid crashing it.\n",
      "To change this limit, set the config variable\n",
      "`--NotebookApp.iopub_msg_rate_limit`.\n",
      "\n",
      "Current values:\n",
      "NotebookApp.iopub_msg_rate_limit=1000.0 (msgs/sec)\n",
      "NotebookApp.rate_limit_window=3.0 (secs)\n",
      "\n",
      "IOPub message rate exceeded.\n",
      "The notebook server will temporarily stop sending output\n",
      "to the client in order to avoid crashing it.\n",
      "To change this limit, set the config variable\n",
      "`--NotebookApp.iopub_msg_rate_limit`.\n",
      "\n",
      "Current values:\n",
      "NotebookApp.iopub_msg_rate_limit=1000.0 (msgs/sec)\n",
      "NotebookApp.rate_limit_window=3.0 (secs)\n",
      "\n",
      "IOPub message rate exceeded.\n",
      "The notebook server will temporarily stop sending output\n",
      "to the client in order to avoid crashing it.\n",
      "To change this limit, set the config variable\n",
      "`--NotebookApp.iopub_msg_rate_limit`.\n",
      "\n",
      "Current values:\n",
      "NotebookApp.iopub_msg_rate_limit=1000.0 (msgs/sec)\n",
      "NotebookApp.rate_limit_window=3.0 (secs)\n",
      "\n",
      "IOPub message rate exceeded.\n",
      "The notebook server will temporarily stop sending output\n",
      "to the client in order to avoid crashing it.\n",
      "To change this limit, set the config variable\n",
      "`--NotebookApp.iopub_msg_rate_limit`.\n",
      "\n",
      "Current values:\n",
      "NotebookApp.iopub_msg_rate_limit=1000.0 (msgs/sec)\n",
      "NotebookApp.rate_limit_window=3.0 (secs)\n",
      "\n",
      "IOPub message rate exceeded.\n",
      "The notebook server will temporarily stop sending output\n",
      "to the client in order to avoid crashing it.\n",
      "To change this limit, set the config variable\n",
      "`--NotebookApp.iopub_msg_rate_limit`.\n",
      "\n",
      "Current values:\n",
      "NotebookApp.iopub_msg_rate_limit=1000.0 (msgs/sec)\n",
      "NotebookApp.rate_limit_window=3.0 (secs)\n",
      "\n",
      "IOPub message rate exceeded.\n",
      "The notebook server will temporarily stop sending output\n",
      "to the client in order to avoid crashing it.\n",
      "To change this limit, set the config variable\n",
      "`--NotebookApp.iopub_msg_rate_limit`.\n",
      "\n",
      "Current values:\n",
      "NotebookApp.iopub_msg_rate_limit=1000.0 (msgs/sec)\n",
      "NotebookApp.rate_limit_window=3.0 (secs)\n",
      "\n",
      "IOPub message rate exceeded.\n",
      "The notebook server will temporarily stop sending output\n",
      "to the client in order to avoid crashing it.\n",
      "To change this limit, set the config variable\n",
      "`--NotebookApp.iopub_msg_rate_limit`.\n",
      "\n",
      "Current values:\n",
      "NotebookApp.iopub_msg_rate_limit=1000.0 (msgs/sec)\n",
      "NotebookApp.rate_limit_window=3.0 (secs)\n",
      "\n",
      "IOPub message rate exceeded.\n",
      "The notebook server will temporarily stop sending output\n",
      "to the client in order to avoid crashing it.\n",
      "To change this limit, set the config variable\n",
      "`--NotebookApp.iopub_msg_rate_limit`.\n",
      "\n",
      "Current values:\n",
      "NotebookApp.iopub_msg_rate_limit=1000.0 (msgs/sec)\n",
      "NotebookApp.rate_limit_window=3.0 (secs)\n",
      "\n",
      "IOPub message rate exceeded.\n",
      "The notebook server will temporarily stop sending output\n",
      "to the client in order to avoid crashing it.\n",
      "To change this limit, set the config variable\n",
      "`--NotebookApp.iopub_msg_rate_limit`.\n",
      "\n",
      "Current values:\n",
      "NotebookApp.iopub_msg_rate_limit=1000.0 (msgs/sec)\n",
      "NotebookApp.rate_limit_window=3.0 (secs)\n",
      "\n",
      "IOPub message rate exceeded.\n",
      "The notebook server will temporarily stop sending output\n",
      "to the client in order to avoid crashing it.\n",
      "To change this limit, set the config variable\n",
      "`--NotebookApp.iopub_msg_rate_limit`.\n",
      "\n",
      "Current values:\n",
      "NotebookApp.iopub_msg_rate_limit=1000.0 (msgs/sec)\n",
      "NotebookApp.rate_limit_window=3.0 (secs)\n",
      "\n",
      "IOPub message rate exceeded.\n",
      "The notebook server will temporarily stop sending output\n",
      "to the client in order to avoid crashing it.\n",
      "To change this limit, set the config variable\n",
      "`--NotebookApp.iopub_msg_rate_limit`.\n",
      "\n",
      "Current values:\n",
      "NotebookApp.iopub_msg_rate_limit=1000.0 (msgs/sec)\n",
      "NotebookApp.rate_limit_window=3.0 (secs)\n",
      "\n",
      "IOPub message rate exceeded.\n",
      "The notebook server will temporarily stop sending output\n",
      "to the client in order to avoid crashing it.\n",
      "To change this limit, set the config variable\n",
      "`--NotebookApp.iopub_msg_rate_limit`.\n",
      "\n",
      "Current values:\n",
      "NotebookApp.iopub_msg_rate_limit=1000.0 (msgs/sec)\n",
      "NotebookApp.rate_limit_window=3.0 (secs)\n",
      "\n",
      "IOPub message rate exceeded.\n",
      "The notebook server will temporarily stop sending output\n",
      "to the client in order to avoid crashing it.\n",
      "To change this limit, set the config variable\n",
      "`--NotebookApp.iopub_msg_rate_limit`.\n",
      "\n",
      "Current values:\n",
      "NotebookApp.iopub_msg_rate_limit=1000.0 (msgs/sec)\n",
      "NotebookApp.rate_limit_window=3.0 (secs)\n",
      "\n",
      "IOPub message rate exceeded.\n",
      "The notebook server will temporarily stop sending output\n",
      "to the client in order to avoid crashing it.\n",
      "To change this limit, set the config variable\n",
      "`--NotebookApp.iopub_msg_rate_limit`.\n",
      "\n",
      "Current values:\n",
      "NotebookApp.iopub_msg_rate_limit=1000.0 (msgs/sec)\n",
      "NotebookApp.rate_limit_window=3.0 (secs)\n",
      "\n",
      "IOPub message rate exceeded.\n",
      "The notebook server will temporarily stop sending output\n",
      "to the client in order to avoid crashing it.\n",
      "To change this limit, set the config variable\n",
      "`--NotebookApp.iopub_msg_rate_limit`.\n",
      "\n",
      "Current values:\n",
      "NotebookApp.iopub_msg_rate_limit=1000.0 (msgs/sec)\n",
      "NotebookApp.rate_limit_window=3.0 (secs)\n",
      "\n",
      "IOPub message rate exceeded.\n",
      "The notebook server will temporarily stop sending output\n",
      "to the client in order to avoid crashing it.\n",
      "To change this limit, set the config variable\n",
      "`--NotebookApp.iopub_msg_rate_limit`.\n",
      "\n",
      "Current values:\n",
      "NotebookApp.iopub_msg_rate_limit=1000.0 (msgs/sec)\n",
      "NotebookApp.rate_limit_window=3.0 (secs)\n",
      "\n",
      "IOPub message rate exceeded.\n",
      "The notebook server will temporarily stop sending output\n",
      "to the client in order to avoid crashing it.\n",
      "To change this limit, set the config variable\n",
      "`--NotebookApp.iopub_msg_rate_limit`.\n",
      "\n",
      "Current values:\n",
      "NotebookApp.iopub_msg_rate_limit=1000.0 (msgs/sec)\n",
      "NotebookApp.rate_limit_window=3.0 (secs)\n",
      "\n",
      "IOPub message rate exceeded.\n",
      "The notebook server will temporarily stop sending output\n",
      "to the client in order to avoid crashing it.\n",
      "To change this limit, set the config variable\n",
      "`--NotebookApp.iopub_msg_rate_limit`.\n",
      "\n",
      "Current values:\n",
      "NotebookApp.iopub_msg_rate_limit=1000.0 (msgs/sec)\n",
      "NotebookApp.rate_limit_window=3.0 (secs)\n",
      "\n",
      "IOPub message rate exceeded.\n",
      "The notebook server will temporarily stop sending output\n",
      "to the client in order to avoid crashing it.\n",
      "To change this limit, set the config variable\n",
      "`--NotebookApp.iopub_msg_rate_limit`.\n",
      "\n",
      "Current values:\n",
      "NotebookApp.iopub_msg_rate_limit=1000.0 (msgs/sec)\n",
      "NotebookApp.rate_limit_window=3.0 (secs)\n",
      "\n",
      "IOPub message rate exceeded.\n",
      "The notebook server will temporarily stop sending output\n",
      "to the client in order to avoid crashing it.\n",
      "To change this limit, set the config variable\n",
      "`--NotebookApp.iopub_msg_rate_limit`.\n",
      "\n",
      "Current values:\n",
      "NotebookApp.iopub_msg_rate_limit=1000.0 (msgs/sec)\n",
      "NotebookApp.rate_limit_window=3.0 (secs)\n",
      "\n",
      "IOPub message rate exceeded.\n",
      "The notebook server will temporarily stop sending output\n",
      "to the client in order to avoid crashing it.\n",
      "To change this limit, set the config variable\n",
      "`--NotebookApp.iopub_msg_rate_limit`.\n",
      "\n",
      "Current values:\n",
      "NotebookApp.iopub_msg_rate_limit=1000.0 (msgs/sec)\n",
      "NotebookApp.rate_limit_window=3.0 (secs)\n",
      "\n",
      "IOPub message rate exceeded.\n",
      "The notebook server will temporarily stop sending output\n",
      "to the client in order to avoid crashing it.\n",
      "To change this limit, set the config variable\n",
      "`--NotebookApp.iopub_msg_rate_limit`.\n",
      "\n",
      "Current values:\n",
      "NotebookApp.iopub_msg_rate_limit=1000.0 (msgs/sec)\n",
      "NotebookApp.rate_limit_window=3.0 (secs)\n",
      "\n"
     ]
    },
    {
     "name": "stderr",
     "output_type": "stream",
     "text": [
      "IOPub message rate exceeded.\n",
      "The notebook server will temporarily stop sending output\n",
      "to the client in order to avoid crashing it.\n",
      "To change this limit, set the config variable\n",
      "`--NotebookApp.iopub_msg_rate_limit`.\n",
      "\n",
      "Current values:\n",
      "NotebookApp.iopub_msg_rate_limit=1000.0 (msgs/sec)\n",
      "NotebookApp.rate_limit_window=3.0 (secs)\n",
      "\n",
      "IOPub message rate exceeded.\n",
      "The notebook server will temporarily stop sending output\n",
      "to the client in order to avoid crashing it.\n",
      "To change this limit, set the config variable\n",
      "`--NotebookApp.iopub_msg_rate_limit`.\n",
      "\n",
      "Current values:\n",
      "NotebookApp.iopub_msg_rate_limit=1000.0 (msgs/sec)\n",
      "NotebookApp.rate_limit_window=3.0 (secs)\n",
      "\n",
      "IOPub message rate exceeded.\n",
      "The notebook server will temporarily stop sending output\n",
      "to the client in order to avoid crashing it.\n",
      "To change this limit, set the config variable\n",
      "`--NotebookApp.iopub_msg_rate_limit`.\n",
      "\n",
      "Current values:\n",
      "NotebookApp.iopub_msg_rate_limit=1000.0 (msgs/sec)\n",
      "NotebookApp.rate_limit_window=3.0 (secs)\n",
      "\n",
      "IOPub message rate exceeded.\n",
      "The notebook server will temporarily stop sending output\n",
      "to the client in order to avoid crashing it.\n",
      "To change this limit, set the config variable\n",
      "`--NotebookApp.iopub_msg_rate_limit`.\n",
      "\n",
      "Current values:\n",
      "NotebookApp.iopub_msg_rate_limit=1000.0 (msgs/sec)\n",
      "NotebookApp.rate_limit_window=3.0 (secs)\n",
      "\n",
      "IOPub message rate exceeded.\n",
      "The notebook server will temporarily stop sending output\n",
      "to the client in order to avoid crashing it.\n",
      "To change this limit, set the config variable\n",
      "`--NotebookApp.iopub_msg_rate_limit`.\n",
      "\n",
      "Current values:\n",
      "NotebookApp.iopub_msg_rate_limit=1000.0 (msgs/sec)\n",
      "NotebookApp.rate_limit_window=3.0 (secs)\n",
      "\n",
      "IOPub message rate exceeded.\n",
      "The notebook server will temporarily stop sending output\n",
      "to the client in order to avoid crashing it.\n",
      "To change this limit, set the config variable\n",
      "`--NotebookApp.iopub_msg_rate_limit`.\n",
      "\n",
      "Current values:\n",
      "NotebookApp.iopub_msg_rate_limit=1000.0 (msgs/sec)\n",
      "NotebookApp.rate_limit_window=3.0 (secs)\n",
      "\n",
      "IOPub message rate exceeded.\n",
      "The notebook server will temporarily stop sending output\n",
      "to the client in order to avoid crashing it.\n",
      "To change this limit, set the config variable\n",
      "`--NotebookApp.iopub_msg_rate_limit`.\n",
      "\n",
      "Current values:\n",
      "NotebookApp.iopub_msg_rate_limit=1000.0 (msgs/sec)\n",
      "NotebookApp.rate_limit_window=3.0 (secs)\n",
      "\n",
      "IOPub message rate exceeded.\n",
      "The notebook server will temporarily stop sending output\n",
      "to the client in order to avoid crashing it.\n",
      "To change this limit, set the config variable\n",
      "`--NotebookApp.iopub_msg_rate_limit`.\n",
      "\n",
      "Current values:\n",
      "NotebookApp.iopub_msg_rate_limit=1000.0 (msgs/sec)\n",
      "NotebookApp.rate_limit_window=3.0 (secs)\n",
      "\n"
     ]
    }
   ],
   "source": [
    "fp = FloatProgress(min=0, max=850399)\n",
    "male_articles = IntText(value=0, description=\"Unique\")\n",
    "female_articles = IntText(value=0, description=\"Unique\")\n",
    "display(fp, male_articles, female_articles)\n",
    "article_count = 0\n",
    "\n",
    "male_counter = collections.Counter()\n",
    "female_counter = collections.Counter()\n",
    "\n",
    "start = time.time()\n",
    "try:\n",
    "    with open(\"data/gendered-labeled-articles.stripped\", 'r') as f:\n",
    "        for line in f:\n",
    "            article_count += 1\n",
    "            if article_count % 1000 == 0:\n",
    "                fp.value = article_count\n",
    "            words = line.split()\n",
    "            if is_male[words[0]]:\n",
    "                male_articles.value += 1\n",
    "                male_counter.update(words[1:])\n",
    "            else:\n",
    "                female_articles.value += 1\n",
    "                female_counter.update(words[1:])\n",
    "finally:    \n",
    "    print(\"Articles:\", article_count, \"Time:\", (time.time() - start), \"seconds\")"
   ]
  },
  {
   "cell_type": "code",
   "execution_count": null,
   "metadata": {},
   "outputs": [],
   "source": [
    "all_counter = male_counter + female_counter\n",
    "all_counter.most_common(25)"
   ]
  },
  {
   "cell_type": "code",
   "execution_count": null,
   "metadata": {},
   "outputs": [],
   "source": [
    "class PMICalculator:\n",
    "    \n",
    "    def __init__(self, counter1, counter2, n1, n2):\n",
    "        self.counter1 = counter1\n",
    "        self.counter2 = counter2\n",
    "        self.n1 = n1\n",
    "        self.n2 = n2\n",
    "        self.lpc1 = log(n1 / (n1 + n2))\n",
    "\n",
    "    def pmi(self, word):\n",
    "        try:\n",
    "            return (log(self.counter1[word]) - \n",
    "            self.lpc1 -\n",
    "            log(self.counter1[word] + self.counter2[word]))\n",
    "        except ValueError:\n",
    "            return 0\n"
   ]
  },
  {
   "cell_type": "code",
   "execution_count": null,
   "metadata": {},
   "outputs": [],
   "source": [
    "pc = PMICalculator(female_counter, male_counter, 130576, 718413)"
   ]
  },
  {
   "cell_type": "code",
   "execution_count": null,
   "metadata": {},
   "outputs": [],
   "source": [
    "pc.pmi(\"his\")"
   ]
  },
  {
   "cell_type": "code",
   "execution_count": null,
   "metadata": {},
   "outputs": [],
   "source": [
    "pc.pmi(\"she\")"
   ]
  },
  {
   "cell_type": "code",
   "execution_count": null,
   "metadata": {},
   "outputs": [],
   "source": [
    "pc.pmi(\"president\")"
   ]
  },
  {
   "cell_type": "code",
   "execution_count": null,
   "metadata": {},
   "outputs": [],
   "source": [
    "top_words = all_counter.most_common(5000)\n",
    "top_words[-5:]"
   ]
  },
  {
   "cell_type": "code",
   "execution_count": null,
   "metadata": {},
   "outputs": [],
   "source": [
    "top_words_with_pmi = [(p[0], p[1], pc.pmi(p[0])) for p in top_words]"
   ]
  },
  {
   "cell_type": "code",
   "execution_count": null,
   "metadata": {},
   "outputs": [],
   "source": [
    "top_words_with_pmi"
   ]
  },
  {
   "cell_type": "code",
   "execution_count": 172,
   "metadata": {
    "collapsed": true
   },
   "outputs": [],
   "source": [
    "pmi_per_year = [(i, pc.pmi(str(i))) for i in range(1900, 2015)]"
   ]
  },
  {
   "cell_type": "code",
   "execution_count": 178,
   "metadata": {},
   "outputs": [
    {
     "data": {
      "image/png": "[encoded data removed]",
      "text/plain": [
       "<matplotlib.figure.Figure at 0x7fbcd75929b0>"
      ]
     },
     "metadata": {},
     "output_type": "display_data"
    }
   ],
   "source": [
    "plt.plot(range(1900,2015), [pc.pmi(str(i)) for i in range(1900, 2015)], 'ro')\n",
    "#plt.axis([0, 6, 0, 20])\n",
    "plt.xlabel('Year Token')\n",
    "plt.ylabel('PMI with Women Articles')\n",
    "#plt.title('Histogram of IQ')\n",
    "plt.show()"
   ]
  },
  {
   "cell_type": "code",
   "execution_count": 182,
   "metadata": {
    "collapsed": true
   },
   "outputs": [],
   "source": [
    "top_words_with_pmi.sort(key = lambda x: x[-1])"
   ]
  },
  {
   "cell_type": "code",
   "execution_count": 189,
   "metadata": {
    "scrolled": false
   },
   "outputs": [
    {
     "data": {
      "text/plain": [
       "[('nbay', 26272, -7.611021034611001),\n",
       " ('soccerbase', 48215, -6.714110080527057),\n",
       " ('touchdowns', 21743, -5.717061075755479),\n",
       " ('cfb', 41858, -5.591893589120769),\n",
       " ('cfl', 27482, -4.883459824010785),\n",
       " ('ahl', 48558, -4.728768699616124),\n",
       " ('basho', 27121, -4.485825215739609),\n",
       " ('phillies', 18151, -4.408029612896608),\n",
       " ('ffffbf', 22239, -4.308870589754527),\n",
       " ('touchdown', 20951, -4.146025227102477),\n",
       " ('nhl', 152440, -3.980216647530143),\n",
       " ('packers', 17685, -3.8653300367238232),\n",
       " ('mlb', 112927, -3.765953985535786),\n",
       " ('nrl', 17001, -3.7100535643968486),\n",
       " ('ffdf9f', 30040, -3.667509684331198),\n",
       " ('dfdfdf', 30974, -3.6090002204332388),\n",
       " ('redskins', 17049, -3.541022692597691),\n",
       " ('sumo', 17618, -3.47376878974522),\n",
       " ('nfl', 198100, -3.362192971339228),\n",
       " ('braves', 21585, -3.3201713681263234),\n",
       " ('ligue', 20050, -3.3153947643584134),\n",
       " ('atp', 23513, -3.2587440084557056),\n",
       " ('calcio', 36112, -3.251651673848447),\n",
       " ('cardinals', 41157, -3.2000989189914497),\n",
       " ('hurling', 42983, -3.1796980729197557)]"
      ]
     },
     "execution_count": 189,
     "metadata": {},
     "output_type": "execute_result"
    }
   ],
   "source": [
    "top_words_with_pmi[:25]"
   ]
  },
  {
   "cell_type": "code",
   "execution_count": 188,
   "metadata": {},
   "outputs": [
    {
     "data": {
      "text/plain": [
       "[('girl', 81774, 1.3043311692138673),\n",
       " ('karen', 18868, 1.3107377579413537),\n",
       " ('rachel', 19619, 1.320925870895616),\n",
       " ('jennifer', 24554, 1.3246692332215506),\n",
       " ('amy', 21268, 1.3468364575604284),\n",
       " ('laura', 28393, 1.3497051699823768),\n",
       " ('kate', 25335, 1.361659806311657),\n",
       " ('julie', 19482, 1.3677288569117696),\n",
       " ('lisa', 24538, 1.3794512862249828),\n",
       " ('gender', 20206, 1.3821934743321176),\n",
       " ('woman', 117209, 1.4085554659874795),\n",
       " ('gymnastics', 27011, 1.4361599930835922),\n",
       " ('girls', 57627, 1.443666437110494),\n",
       " ('jessica', 17538, 1.4518054969917902),\n",
       " ('michelle', 17688, 1.4548538222469443),\n",
       " ('miss', 83631, 1.4843674303589847),\n",
       " ('husband', 75006, 1.509566866723068),\n",
       " ('ladies', 25061, 1.5567496105259568),\n",
       " ('actress', 147860, 1.7006927238502563),\n",
       " ('her', 1308263, 1.7244667675788659),\n",
       " ('women', 532471, 1.742348800649344),\n",
       " ('female', 123970, 1.7434816438590204),\n",
       " ('herself', 41532, 1.75370262315033),\n",
       " ('she', 1412916, 1.7940272570088585),\n",
       " ('actresses', 93472, 1.8524058451615915)]"
      ]
     },
     "execution_count": 188,
     "metadata": {},
     "output_type": "execute_result"
    }
   ],
   "source": [
    "top_words_with_pmi[-25:]"
   ]
  },
  {
   "cell_type": "code",
   "execution_count": 190,
   "metadata": {},
   "outputs": [
    {
     "data": {
      "text/plain": [
       "-0.057060278138187925"
      ]
     },
     "execution_count": 190,
     "metadata": {},
     "output_type": "execute_result"
    }
   ],
   "source": [
    "pc.pmi(\"wife\")"
   ]
  },
  {
   "cell_type": "code",
   "execution_count": 191,
   "metadata": {},
   "outputs": [
    {
     "data": {
      "text/plain": [
       "1.509566866723068"
      ]
     },
     "execution_count": 191,
     "metadata": {},
     "output_type": "execute_result"
    }
   ],
   "source": [
    "pc.pmi(\"husband\")"
   ]
  },
  {
   "cell_type": "code",
   "execution_count": 193,
   "metadata": {},
   "outputs": [
    {
     "data": {
      "text/plain": [
       "-1.3782836948463633"
      ]
     },
     "execution_count": 193,
     "metadata": {},
     "output_type": "execute_result"
    }
   ],
   "source": [
    "pc.pmi(\"calculus\")"
   ]
  },
  {
   "cell_type": "code",
   "execution_count": 215,
   "metadata": {},
   "outputs": [
    {
     "data": {
      "text/plain": [
       "-0.43455580425201745"
      ]
     },
     "execution_count": 215,
     "metadata": {},
     "output_type": "execute_result"
    }
   ],
   "source": [
    "pc.pmi(\"algebra\")"
   ]
  },
  {
   "cell_type": "code",
   "execution_count": 216,
   "metadata": {},
   "outputs": [
    {
     "data": {
      "text/plain": [
       "-0.7521868352706473"
      ]
     },
     "execution_count": 216,
     "metadata": {},
     "output_type": "execute_result"
    }
   ],
   "source": [
    "pc.pmi(\"geometry\")"
   ]
  },
  {
   "cell_type": "code",
   "execution_count": 217,
   "metadata": {},
   "outputs": [
    {
     "data": {
      "text/plain": [
       "-0.9148179789333222"
      ]
     },
     "execution_count": 217,
     "metadata": {},
     "output_type": "execute_result"
    }
   ],
   "source": [
    "pc.pmi(\"manifold\")"
   ]
  },
  {
   "cell_type": "code",
   "execution_count": 218,
   "metadata": {},
   "outputs": [
    {
     "data": {
      "text/plain": [
       "-0.8668498910403404"
      ]
     },
     "execution_count": 218,
     "metadata": {},
     "output_type": "execute_result"
    }
   ],
   "source": [
    "pc.pmi(\"vector\")"
   ]
  },
  {
   "cell_type": "code",
   "execution_count": 208,
   "metadata": {},
   "outputs": [
    {
     "data": {
      "text/plain": [
       "-0.438609525439805"
      ]
     },
     "execution_count": 208,
     "metadata": {},
     "output_type": "execute_result"
    }
   ],
   "source": [
    "pc.pmi(\"killed\")"
   ]
  },
  {
   "cell_type": "code",
   "execution_count": 205,
   "metadata": {},
   "outputs": [
    {
     "data": {
      "text/plain": [
       "-0.24261275656700754"
      ]
     },
     "execution_count": 205,
     "metadata": {},
     "output_type": "execute_result"
    }
   ],
   "source": [
    "pc.pmi(\"python\")"
   ]
  },
  {
   "cell_type": "code",
   "execution_count": 206,
   "metadata": {},
   "outputs": [
    {
     "data": {
      "text/plain": [
       "-0.3288831679724957"
      ]
     },
     "execution_count": 206,
     "metadata": {},
     "output_type": "execute_result"
    }
   ],
   "source": [
    "pc.pmi(\"java\")"
   ]
  },
  {
   "cell_type": "code",
   "execution_count": 210,
   "metadata": {},
   "outputs": [
    {
     "data": {
      "text/plain": [
       "-1.0698052654783705"
      ]
     },
     "execution_count": 210,
     "metadata": {},
     "output_type": "execute_result"
    }
   ],
   "source": [
    "pc.pmi(\"c\")"
   ]
  },
  {
   "cell_type": "code",
   "execution_count": 211,
   "metadata": {},
   "outputs": [
    {
     "data": {
      "text/plain": [
       "-0.5527119286370876"
      ]
     },
     "execution_count": 211,
     "metadata": {},
     "output_type": "execute_result"
    }
   ],
   "source": [
    "pc.pmi(\"javascript\")"
   ]
  },
  {
   "cell_type": "code",
   "execution_count": 213,
   "metadata": {},
   "outputs": [
    {
     "data": {
      "text/plain": [
       "0"
      ]
     },
     "execution_count": 213,
     "metadata": {},
     "output_type": "execute_result"
    }
   ],
   "source": [
    "pc.pmi(\"adascript\")"
   ]
  },
  {
   "cell_type": "code",
   "execution_count": 219,
   "metadata": {},
   "outputs": [
    {
     "data": {
      "text/plain": [
       "[0.07980790465355447, -0.4304942959128377, 1.1057827364354074]"
      ]
     },
     "execution_count": 219,
     "metadata": {},
     "output_type": "execute_result"
    }
   ],
   "source": [
    "[pc.pmi(word) for word in ['racist', 'bigot', 'sexist']]"
   ]
  },
  {
   "cell_type": "markdown",
   "metadata": {},
   "source": [
    "# Category Filtering"
   ]
  },
  {
   "cell_type": "code",
   "execution_count": null,
   "metadata": {},
   "outputs": [],
   "source": [
    "fp = FloatProgress(min=0, max=850399)\n",
    "cc = IntText(value=0, description=\"Categories\")\n",
    "display(cc, fp)\n",
    "article_count = 0\n",
    "category_counts = None\n",
    "\n",
    "matcher = re.compile(\"\\[\\[Category:([^\\]]*)\", re.IGNORECASE)\n",
    "\n",
    "category_to_articles = collections.defaultdict(list)\n",
    "\n",
    "with open(\"data/gendered-labeled-articles\", 'r') as f:\n",
    "    for line in f:\n",
    "        article_count += 1\n",
    "        if article_count % 1000 == 0:\n",
    "            fp.value = article_count\n",
    "            cc.value = len(category_to_articles)\n",
    "        article_id = int(line.split(\" \", 1)[0])\n",
    "        for category in matcher.findall(line):\n",
    "            category_to_articles[category].append(article_id)"
   ]
  },
  {
   "cell_type": "code",
   "execution_count": null,
   "metadata": {},
   "outputs": [],
   "source": [
    "topic_to_articles = collections.defaultdict(set)\n",
    "topic_patterns = {\n",
    "    \"programming\": re.compile(\"software|programmer\"),\n",
    "    \"sports\": re.compile(\"athlete|sportspeople\"),\n",
    "    \"artists\": re.compile(\"artist\"),\n",
    "    \"scientist\": re.compile(\"scientist\"),\n",
    "    \"fictional\": re.compile(\"fictional\"),\n",
    "    \"monarch\": re.compile(\"king|queen|monarch|royal|prince|princess\"),\n",
    "    \n",
    "    \n",
    "    #                          \"politicians\",\n",
    "     #                         \"military personnel\",\n",
    "\n",
    "                              #sportmanager\n",
    "                              #cleric\n",
    "       #                       \"monarch\",\n",
    "        #                      \"Fictional\\ characters\",\n",
    "         #                     \"nobility\",\n",
    "          #                    \"criminals\",\n",
    "           #                   \"judges\"\n",
    "    \n",
    "}\n",
    "\n",
    "\n",
    "for k,v in category_to_articles.items():\n",
    "    for topic, pattern in topic_patterns.items():\n",
    "        if pattern.search(k):\n",
    "            topic_to_articles[topic].update(v)\n",
    "            \n",
    "[(k, len(v)) for (k,v) in topic_to_articles.items()]"
   ]
  },
  {
   "cell_type": "code",
   "execution_count": 9,
   "metadata": {},
   "outputs": [
    {
     "data": {
      "application/vnd.jupyter.widget-view+json": {
       "model_id": "0b570bd234784e8c9f030709e70271ab",
       "version_major": 2,
       "version_minor": 0
      },
      "text/html": [
       "<p>Failed to display Jupyter Widget of type <code>FloatProgress</code>.</p>\n",
       "<p>\n",
       "  If you're reading this message in the Jupyter Notebook or JupyterLab Notebook, it may mean\n",
       "  that the widgets JavaScript is still loading. If this message persists, it\n",
       "  likely means that the widgets JavaScript library is either not installed or\n",
       "  not enabled. See the <a href=\"https://ipywidgets.readthedocs.io/en/stable/user_install.html\">Jupyter\n",
       "  Widgets Documentation</a> for setup instructions.\n",
       "</p>\n",
       "<p>\n",
       "  If you're reading this message in another frontend (for example, a static\n",
       "  rendering on GitHub or <a href=\"https://nbviewer.jupyter.org/\">NBViewer</a>),\n",
       "  it may mean that your frontend doesn't currently support widgets.\n",
       "</p>\n"
      ],
      "text/plain": [
       "FloatProgress(value=0.0, max=850399.0)"
      ]
     },
     "metadata": {},
     "output_type": "display_data"
    },
    {
     "name": "stdout",
     "output_type": "stream",
     "text": [
      "Articles: 850399 Time: 7.9872894287109375 seconds\n"
     ]
    }
   ],
   "source": [
    "fp = FloatProgress(min=0, max=850399)\n",
    "display(fp)\n",
    "article_count = 0\n",
    "\n",
    "topic_writers = {topic: open(\"data/topic-\" + topic + \"words\", 'w') for topic in topic_to_articles.keys()}\n",
    "\n",
    "start = time.time()\n",
    "try:\n",
    "    with open(\"data/gendered-labeled-arlticles.stripped\", 'r') as f:\n",
    "        for line in f:\n",
    "            article_count += 1\n",
    "            if article_count % 1000 == 0:\n",
    "                fp.value = article_count\n",
    "            article_id, words = line.split(\" \", 1)\n",
    "            for topic, ids in topic_to_articles.items():\n",
    "                if article_id in ids:\n",
    "                    topic_writers[topic].write(words)\n",
    "                    topic_writers[topic].write(\"\\n\")\n",
    "\n",
    "finally:        \n",
    "    for writer in topic_writers.values():\n",
    "        writer.close()\n",
    "    print(\"Articles:\", article_count, \"Time:\", (time.time() - start), \"seconds\")"
   ]
  },
  {
   "cell_type": "code",
   "execution_count": 21,
   "metadata": {},
   "outputs": [
    {
     "data": {
      "text/plain": [
       "2"
      ]
     },
     "execution_count": 21,
     "metadata": {},
     "output_type": "execute_result"
    }
   ],
   "source": [
    "1+1"
   ]
  },
  {
   "cell_type": "code",
   "execution_count": 7,
   "metadata": {},
   "outputs": [],
   "source": [
    "def parse_glove_file(file_path, ndim):\n",
    "    # File path inside archive\n",
    "    inner_path = \"glove.6B.{:d}d.txt\".format(ndim)\n",
    "    print(\"Parsing file: {:s}:{:s}\".format(file_path, inner_path))\n",
    "    # Count lines to pre-allocate memory\n",
    "    line_count = 0\n",
    "    with open(file_path, 'r') as f:\n",
    "        for line in f:\n",
    "            line_count += 1\n",
    "    print(\"Found {:,} words.\".format(line_count))\n",
    "    \n",
    "    # Pre-allocate vectors as a contiguous array\n",
    "    W = np.zeros((line_count, ndim), dtype=np.float32)\n",
    "    words = []\n",
    "\n",
    "    print(\"Parsing vectors... \", end=\"\")\n",
    "    with open(file_path, 'r') as f:\n",
    "        for i, line in enumerate(f):\n",
    "            word, numbers = line.split(maxsplit=1)\n",
    "            words.append(word)\n",
    "            W[i] = np.fromstring(numbers, dtype=np.float32, sep=\" \")\n",
    "    \n",
    "    print(\"Done! (W.shape = {:s})\".format(str(W.shape)))\n",
    "    return words, W\n",
    "\n",
    "def find_nn_cos(v, Wv, k=10):\n",
    "    cos_similarity = np.dot(Wv, v) / (np.linalg.norm(v) * np.linalg.norm(Wv, axis=1))\n",
    "    nns = np.argsort(cos_similarity)[-k:]\n",
    "    return (nns, cos_similarity[nns])\n",
    "\n",
    "def analogy(vA, vB, vC, Wv, k=5):\n",
    "    return find_nn_cos(vB - vA + vC, Wv, k)\n",
    "\n",
    "class Glove:\n",
    "    \n",
    "    def __init__(self, file_path, ndim):\n",
    "        self.words, self.W = parse_glove_file(file_path, ndim)\n",
    "        self.word_index = {}\n",
    "        for i, word in enumerate(self.words):\n",
    "            self.word_index[word] = i\n",
    "            \n",
    "    def vector(self, word):\n",
    "        return self.W[self.word_index[word]]\n",
    "    \n",
    "    def analogy(self, a, b, c, k=5):\n",
    "        return [self.words[i] for i in analogy(self.vector(a), self.vector(b), self.vector(c), self.W, k)[0]]"
   ]
  },
  {
   "cell_type": "code",
   "execution_count": null,
   "metadata": {},
   "outputs": [],
   "source": []
  },
  {
   "cell_type": "code",
   "execution_count": 14,
   "metadata": {},
   "outputs": [
    {
     "name": "stdout",
     "output_type": "stream",
     "text": [
      "Parsing file: data/glove/topic-artistswords-vectors.txt:glove.6B.200d.txt\n",
      "Found 172,878 words.\n",
      "Parsing vectors... Done! (W.shape = (172878, 200))\n",
      "Parsing file: data/glove/topic-monarchwords-vectors.txt:glove.6B.200d.txt\n",
      "Found 101,333 words.\n",
      "Parsing vectors... Done! (W.shape = (101333, 200))\n",
      "Parsing file: data/glove/topic-programmingwords-vectors.txt:glove.6B.200d.txt\n",
      "Found 17,607 words.\n",
      "Parsing vectors... Done! (W.shape = (17607, 200))\n",
      "Parsing file: data/glove/topic-scientistwords-vectors.txt:glove.6B.200d.txt\n",
      "Found 81,276 words.\n",
      "Parsing vectors... Done! (W.shape = (81276, 200))\n",
      "Parsing file: data/glove/topic-sportswords-vectors.txt:glove.6B.200d.txt\n",
      "Found 91,223 words.\n",
      "Parsing vectors... Done! (W.shape = (91223, 200))\n"
     ]
    }
   ],
   "source": [
    "glove = {}\n",
    "topics = [\"artists\", \"monarch\", \"programming\", \"scientist\", \"sports\"]\n",
    "glove = {topic: Glove(\"data/glove/topic-\" + topic + \"words-vectors.txt\", 200) for topic in topics}"
   ]
  },
  {
   "cell_type": "code",
   "execution_count": 16,
   "metadata": {},
   "outputs": [
    {
     "name": "stdout",
     "output_type": "stream",
     "text": [
      "Parsing file: data/glove/glove.6B.200d.txt:glove.6B.200d.txt\n",
      "Found 400,001 words.\n",
      "Parsing vectors... Done! (W.shape = (400001, 200))\n"
     ]
    }
   ],
   "source": [
    "glove[\"all\"] = Glove(\"data/glove/glove.6B.200d.txt\", 200)"
   ]
  },
  {
   "cell_type": "code",
   "execution_count": 18,
   "metadata": {},
   "outputs": [
    {
     "data": {
      "text/plain": [
       "['she', 'contemporary', 'her', 'women', 'modern']"
      ]
     },
     "execution_count": 18,
     "metadata": {},
     "output_type": "execute_result"
    }
   ],
   "source": [
    "glove[\"artists\"].analogy(\"he\", \"she\", \"modern\")"
   ]
  },
  {
   "cell_type": "code",
   "execution_count": 20,
   "metadata": {},
   "outputs": [
    {
     "data": {
      "text/plain": [
       "['acrylic', 'oil', 'painting', 'painted', 'paint']"
      ]
     },
     "execution_count": 20,
     "metadata": {},
     "output_type": "execute_result"
    }
   ],
   "source": [
    "glove[\"artists\"].analogy(\"man\", \"woman\", \"paint\")"
   ]
  },
  {
   "cell_type": "code",
   "execution_count": 88,
   "metadata": {},
   "outputs": [
    {
     "data": {
      "text/plain": [
       "(17607, 200)"
      ]
     },
     "execution_count": 88,
     "metadata": {},
     "output_type": "execute_result"
    }
   ],
   "source": [
    "glove[\"programming\"].W.shape"
   ]
  },
  {
   "cell_type": "code",
   "execution_count": 134,
   "metadata": {},
   "outputs": [],
   "source": [
    "def find_nn_cos_with_threshold(a, b, x, Wv, threshold = 0.6):\n",
    "    ab = a - b\n",
    "    xys = Wv - x\n",
    "    cos_similarity = np.dot(xys, ab) / (np.linalg.norm(ab) * np.linalg.norm(xys, axis=1))\n",
    "    nn = np.nanargmax(cos_similarity)\n",
    "    return (nn, cos_similarity[nn])\n",
    "\n",
    "def find_all_pairs_with_threshold(a, b, Wv, threshold):\n",
    "    matches = []\n",
    "    for i in range(Wv.shape[0]):\n",
    "    #for i in range(50):\n",
    "        if i % 1000 == 0:\n",
    "            print(i)\n",
    "        j, d = find_nn_cos_with_threshold(a, b, Wv[i], Wv, threshold)\n",
    "        if d > threshold:\n",
    "            matches += [(i, j, d)]\n",
    "        \n",
    "    return matches"
   ]
  },
  {
   "cell_type": "code",
   "execution_count": 137,
   "metadata": {},
   "outputs": [
    {
     "name": "stdout",
     "output_type": "stream",
     "text": [
      "0\n"
     ]
    },
    {
     "name": "stderr",
     "output_type": "stream",
     "text": [
      "/home/madereth/anaconda3/envs/w266-env/lib/python3.6/site-packages/ipykernel_launcher.py:4: RuntimeWarning: invalid value encountered in true_divide\n",
      "  after removing the cwd from sys.path.\n"
     ]
    },
    {
     "name": "stdout",
     "output_type": "stream",
     "text": [
      "1000\n",
      "2000\n",
      "3000\n",
      "4000\n",
      "5000\n",
      "6000\n",
      "7000\n",
      "8000\n",
      "9000\n",
      "10000\n",
      "11000\n",
      "12000\n",
      "13000\n",
      "14000\n",
      "15000\n",
      "16000\n",
      "17000\n",
      "18000\n",
      "19000\n",
      "20000\n",
      "21000\n",
      "22000\n",
      "23000\n",
      "24000\n",
      "25000\n",
      "26000\n",
      "27000\n",
      "28000\n",
      "29000\n",
      "30000\n",
      "31000\n",
      "32000\n",
      "33000\n",
      "34000\n",
      "35000\n",
      "36000\n",
      "37000\n",
      "38000\n",
      "39000\n",
      "40000\n",
      "41000\n",
      "42000\n",
      "43000\n",
      "44000\n",
      "45000\n",
      "46000\n",
      "47000\n",
      "48000\n",
      "49000\n",
      "50000\n",
      "51000\n",
      "52000\n",
      "53000\n",
      "54000\n",
      "55000\n",
      "56000\n",
      "57000\n",
      "58000\n",
      "59000\n",
      "60000\n",
      "61000\n",
      "62000\n",
      "63000\n",
      "64000\n",
      "65000\n",
      "66000\n",
      "67000\n",
      "68000\n",
      "69000\n",
      "70000\n",
      "71000\n",
      "72000\n",
      "73000\n",
      "74000\n",
      "75000\n",
      "76000\n",
      "77000\n",
      "78000\n",
      "79000\n",
      "80000\n",
      "81000\n",
      "82000\n",
      "83000\n",
      "84000\n",
      "85000\n",
      "86000\n",
      "87000\n",
      "88000\n",
      "89000\n",
      "90000\n",
      "91000\n"
     ]
    }
   ],
   "source": [
    "gsports = glove[\"sports\"]\n",
    "msports = find_all_pairs_with_threshold(gsports.vector(\"she\"),\n",
    "                                  gsports.vector(\"he\"),\n",
    "                                  gsports.W,\n",
    "                                  0.5)"
   ]
  },
  {
   "cell_type": "code",
   "execution_count": 131,
   "metadata": {},
   "outputs": [
    {
     "name": "stdout",
     "output_type": "stream",
     "text": [
      "0\n"
     ]
    },
    {
     "name": "stderr",
     "output_type": "stream",
     "text": [
      "/home/madereth/anaconda3/envs/w266-env/lib/python3.6/site-packages/ipykernel_launcher.py:4: RuntimeWarning: invalid value encountered in true_divide\n",
      "  after removing the cwd from sys.path.\n"
     ]
    },
    {
     "name": "stdout",
     "output_type": "stream",
     "text": [
      "100\n",
      "200\n",
      "300\n",
      "400\n",
      "500\n",
      "600\n",
      "700\n",
      "800\n",
      "900\n",
      "1000\n",
      "1100\n",
      "1200\n",
      "1300\n",
      "1400\n",
      "1500\n",
      "1600\n",
      "1700\n",
      "1800\n",
      "1900\n",
      "2000\n",
      "2100\n",
      "2200\n",
      "2300\n",
      "2400\n",
      "2500\n",
      "2600\n",
      "2700\n",
      "2800\n",
      "2900\n",
      "3000\n",
      "3100\n",
      "3200\n",
      "3300\n",
      "3400\n",
      "3500\n",
      "3600\n",
      "3700\n",
      "3800\n",
      "3900\n",
      "4000\n",
      "4100\n",
      "4200\n",
      "4300\n",
      "4400\n",
      "4500\n",
      "4600\n",
      "4700\n",
      "4800\n",
      "4900\n",
      "5000\n",
      "5100\n",
      "5200\n",
      "5300\n",
      "5400\n",
      "5500\n",
      "5600\n",
      "5700\n",
      "5800\n",
      "5900\n",
      "6000\n",
      "6100\n",
      "6200\n",
      "6300\n",
      "6400\n",
      "6500\n",
      "6600\n",
      "6700\n",
      "6800\n",
      "6900\n",
      "7000\n",
      "7100\n",
      "7200\n",
      "7300\n",
      "7400\n",
      "7500\n",
      "7600\n",
      "7700\n",
      "7800\n",
      "7900\n",
      "8000\n",
      "8100\n",
      "8200\n",
      "8300\n",
      "8400\n",
      "8500\n",
      "8600\n",
      "8700\n",
      "8800\n",
      "8900\n",
      "9000\n",
      "9100\n",
      "9200\n",
      "9300\n",
      "9400\n",
      "9500\n",
      "9600\n",
      "9700\n",
      "9800\n",
      "9900\n",
      "10000\n",
      "10100\n",
      "10200\n",
      "10300\n",
      "10400\n",
      "10500\n",
      "10600\n",
      "10700\n",
      "10800\n",
      "10900\n",
      "11000\n",
      "11100\n",
      "11200\n",
      "11300\n",
      "11400\n",
      "11500\n",
      "11600\n",
      "11700\n",
      "11800\n",
      "11900\n",
      "12000\n",
      "12100\n",
      "12200\n",
      "12300\n",
      "12400\n",
      "12500\n",
      "12600\n",
      "12700\n",
      "12800\n",
      "12900\n",
      "13000\n",
      "13100\n",
      "13200\n",
      "13300\n",
      "13400\n",
      "13500\n",
      "13600\n",
      "13700\n",
      "13800\n",
      "13900\n",
      "14000\n",
      "14100\n",
      "14200\n",
      "14300\n",
      "14400\n",
      "14500\n",
      "14600\n",
      "14700\n",
      "14800\n",
      "14900\n",
      "15000\n",
      "15100\n",
      "15200\n",
      "15300\n",
      "15400\n",
      "15500\n",
      "15600\n",
      "15700\n",
      "15800\n",
      "15900\n",
      "16000\n",
      "16100\n",
      "16200\n",
      "16300\n",
      "16400\n",
      "16500\n",
      "16600\n",
      "16700\n",
      "16800\n",
      "16900\n",
      "17000\n",
      "17100\n",
      "17200\n",
      "17300\n",
      "17400\n",
      "17500\n",
      "17600\n"
     ]
    }
   ],
   "source": [
    "g = glove[\"programming\"]\n",
    "m = find_all_pairs_with_threshold(g.vector(\"she\"),\n",
    "                                  g.vector(\"he\"),\n",
    "                                  g.W,\n",
    "                                  0.5)"
   ]
  },
  {
   "cell_type": "code",
   "execution_count": 132,
   "metadata": {},
   "outputs": [
    {
     "data": {
      "text/plain": [
       "[(17, 235, 1.0000001),\n",
       " (27, 262, 0.6511974),\n",
       " (69, 235, 0.5440264),\n",
       " (194, 235, 0.6359928),\n",
       " (11554, 10886, 0.51645917)]"
      ]
     },
     "execution_count": 132,
     "metadata": {},
     "output_type": "execute_result"
    }
   ],
   "source": [
    "m"
   ]
  },
  {
   "cell_type": "code",
   "execution_count": 133,
   "metadata": {},
   "outputs": [
    {
     "data": {
      "text/plain": [
       "[('he', 'she', 1.0000001),\n",
       " ('his', 'her', 0.6511974),\n",
       " ('also', 'she', 0.5440264),\n",
       " ('where', 'she', 0.6359928),\n",
       " ('usflinfo', 'businessinsiderbio', 0.51645917)]"
      ]
     },
     "execution_count": 133,
     "metadata": {},
     "output_type": "execute_result"
    }
   ],
   "source": [
    "[(g.words[i[0]],g.words[i[1]], i[2]) for i in m]"
   ]
  },
  {
   "cell_type": "code",
   "execution_count": 135,
   "metadata": {},
   "outputs": [
    {
     "name": "stdout",
     "output_type": "stream",
     "text": [
      "0\n"
     ]
    },
    {
     "name": "stderr",
     "output_type": "stream",
     "text": [
      "/home/madereth/anaconda3/envs/w266-env/lib/python3.6/site-packages/ipykernel_launcher.py:4: RuntimeWarning: invalid value encountered in true_divide\n",
      "  after removing the cwd from sys.path.\n"
     ]
    },
    {
     "name": "stdout",
     "output_type": "stream",
     "text": [
      "1000\n",
      "2000\n",
      "3000\n",
      "4000\n",
      "5000\n",
      "6000\n",
      "7000\n",
      "8000\n",
      "9000\n",
      "10000\n",
      "11000\n",
      "12000\n",
      "13000\n",
      "14000\n",
      "15000\n",
      "16000\n",
      "17000\n",
      "18000\n",
      "19000\n",
      "20000\n",
      "21000\n",
      "22000\n",
      "23000\n",
      "24000\n",
      "25000\n",
      "26000\n",
      "27000\n",
      "28000\n",
      "29000\n",
      "30000\n",
      "31000\n",
      "32000\n",
      "33000\n",
      "34000\n",
      "35000\n",
      "36000\n",
      "37000\n",
      "38000\n",
      "39000\n",
      "40000\n",
      "41000\n",
      "42000\n",
      "43000\n",
      "44000\n",
      "45000\n",
      "46000\n",
      "47000\n",
      "48000\n",
      "49000\n",
      "50000\n",
      "51000\n",
      "52000\n",
      "53000\n",
      "54000\n",
      "55000\n",
      "56000\n",
      "57000\n",
      "58000\n",
      "59000\n",
      "60000\n",
      "61000\n",
      "62000\n",
      "63000\n",
      "64000\n",
      "65000\n",
      "66000\n",
      "67000\n",
      "68000\n",
      "69000\n",
      "70000\n",
      "71000\n",
      "72000\n",
      "73000\n",
      "74000\n",
      "75000\n",
      "76000\n",
      "77000\n",
      "78000\n",
      "79000\n",
      "80000\n",
      "81000\n"
     ]
    }
   ],
   "source": [
    "g = glove[\"scientist\"]\n",
    "ms = find_all_pairs_with_threshold(g.vector(\"she\"),\n",
    "                                  g.vector(\"he\"),\n",
    "                                  g.W,\n",
    "                                  0.5)"
   ]
  },
  {
   "cell_type": "code",
   "execution_count": 136,
   "metadata": {},
   "outputs": [
    {
     "data": {
      "text/plain": [
       "[('the', 'she', 0.5233252),\n",
       " ('of', 'she', 0.5472787),\n",
       " ('in', 'she', 0.5727447),\n",
       " ('to', 'her', 0.5099384),\n",
       " ('he', 'she', 1.0),\n",
       " ('was', 'she', 0.51960063),\n",
       " ('for', 'she', 0.54781663),\n",
       " ('his', 'her', 0.8312228),\n",
       " ('which', 'she', 0.5803153),\n",
       " ('also', 'she', 0.6061445),\n",
       " ('this', 'her', 0.5041148),\n",
       " ('had', 'she', 0.5384969),\n",
       " ('one', 'she', 0.5130893),\n",
       " ('were', 'her', 0.52489454),\n",
       " ('may', 'she', 0.50021696),\n",
       " ('years', 'she', 0.52327156),\n",
       " ('been', 'she', 0.51635003),\n",
       " ('but', 'her', 0.5574061),\n",
       " ('published', 'her', 0.5312385),\n",
       " ('where', 'she', 0.6118564),\n",
       " ('became', 'she', 0.5249684),\n",
       " ('during', 'she', 0.53547204),\n",
       " ('later', 'she', 0.568919),\n",
       " ('him', 'her', 0.5112731),\n",
       " ('when', 'she', 0.5515992),\n",
       " ('then', 'she', 0.5205146),\n",
       " ('many', 'her', 0.5007815),\n",
       " ('there', 'she', 0.52698076),\n",
       " ('some', 'her', 0.5207492),\n",
       " ('worked', 'she', 0.5267218),\n",
       " ('made', 'her', 0.5040406),\n",
       " ('these', 'her', 0.5011051),\n",
       " ('while', 'she', 0.51094985),\n",
       " ('since', 'she', 0.53882056),\n",
       " ('until', 'she', 0.50220066),\n",
       " ('served', 'she', 0.5474284),\n",
       " ('several', 'she', 0.5128531),\n",
       " ('both', 'her', 0.5040101),\n",
       " ('developed', 'she', 0.508755),\n",
       " ('joined', 'she', 0.50012165),\n",
       " ('himself', 'herself', 0.5572429),\n",
       " ('came', 'her', 0.502092),\n",
       " ('jifeng', 'wtec', 0.52548295),\n",
       " ('relinquished', 'fothforlano2011', 0.5702163),\n",
       " ('psb549', 'fothforlano2011', 0.51440054),\n",
       " ('adhered', 'recited', 0.50013304),\n",
       " ('comedies', 'recited', 0.5021876),\n",
       " ('bubbling', 'wtec', 0.5302785),\n",
       " ('heinkel', 'persevered', 0.5065342),\n",
       " ('baronetcy', 'persevered', 0.5031335),\n",
       " ('baignet', 'fothforlano2011', 0.5658149),\n",
       " ('mantua', 'persevered', 0.51178986),\n",
       " ('psb547', 'fothforlano2011', 0.56944746),\n",
       " ('europlanet', 'wtec', 0.51437986),\n",
       " ('purposefully', 'journalen', 0.5026232),\n",
       " ('sneli', 'kexpinterview', 0.50219923),\n",
       " ('avramov1', 'fothforlano2011', 0.50773406),\n",
       " ('dmnp', 'kexpinterview', 0.50371075),\n",
       " ('familiarized', 'persevered', 0.5105505),\n",
       " ('fld', 'fothforlano2011', 0.5059941),\n",
       " ('ivxxxix', 'benedictsto', 0.50758857),\n",
       " ('karl512', 'kexpinterview', 0.5100727),\n",
       " ('cmu01', 'fothforlano2011', 0.55806065),\n",
       " ('psb543', 'fothforlano2011', 0.57245505),\n",
       " ('roundworms', 'wtec', 0.5084353),\n",
       " ('lycee', 'persevered', 0.5251625),\n",
       " ('psb542', 'fothforlano2011', 0.606217),\n",
       " ('psb548', 'fothforlano2011', 0.5879178),\n",
       " ('tabulated', 'recited', 0.52302545),\n",
       " ('wral', 'benedictsto', 0.5555965),\n",
       " ('bezahra', 'roanokecollegepress', 0.54864943),\n",
       " ('haaretz1', 'fothforlano2011', 0.53749377),\n",
       " ('international320', 'fothforlano2011', 0.5260462),\n",
       " ('newgenbio', 'benedictsto', 0.5405012),\n",
       " ('obita', 'roanokecollegepress', 0.5174571),\n",
       " ('odnb1', 'fothforlano2011', 0.5480099),\n",
       " ('patronized', 'recited', 0.5188191),\n",
       " ('psb544', 'nationalreviewkathryn', 0.53083944),\n",
       " ('scorpions', 'fothforlano2011', 0.5227347),\n",
       " ('sustprofile', 'fothforlano2011', 0.56675524),\n",
       " ('Şimonca', 'benedictsto', 0.5225617),\n",
       " ('aaho', 'journalen', 0.5170722),\n",
       " ('aasmi', 'fothforlano2011', 0.5184842),\n",
       " ('availed', 'persevered', 0.53828984),\n",
       " ('chided', 'persevered', 0.51200044),\n",
       " ('dinghy', 'persevered', 0.5044191),\n",
       " ('gilbert02', 'fothforlano2011', 0.5294218),\n",
       " ('ivxxxiii', 'roanokecollegepress', 0.5067938),\n",
       " ('ntb', 'fothforlano2011', 0.5403402),\n",
       " ('odnb2', 'fothforlano2011', 0.52316755),\n",
       " ('pietermaritzburg', 'persevered', 0.5264419),\n",
       " ('reprised', 'fothforlano2011', 0.503084),\n",
       " ('thoroughness', 'wtec', 0.5213962),\n",
       " ('tuxen', 'benedictsto', 0.503642),\n",
       " ('wollearn', 'fothforlano2011', 0.52885705)]"
      ]
     },
     "execution_count": 136,
     "metadata": {},
     "output_type": "execute_result"
    }
   ],
   "source": [
    "[(g.words[i[0]],g.words[i[1]], i[2]) for i in ms]"
   ]
  },
  {
   "cell_type": "code",
   "execution_count": 138,
   "metadata": {},
   "outputs": [
    {
     "data": {
      "text/plain": [
       "[('the', 'she', 0.579172),\n",
       " ('in', 'she', 0.55628306),\n",
       " ('ref', 'she', 0.54113567),\n",
       " ('and', 'she', 0.54077613),\n",
       " ('of', 'she', 0.53934544),\n",
       " ('a', 'she', 0.5583278),\n",
       " ('to', 'she', 0.5515262),\n",
       " ('http', 'she', 0.5076464),\n",
       " ('he', 'she', 1.0),\n",
       " ('for', 'she', 0.54486716),\n",
       " ('url', 'she', 0.5016218),\n",
       " ('cite', 'she', 0.53249764),\n",
       " ('was', 'she', 0.66509193),\n",
       " ('on', 'she', 0.56037706),\n",
       " ('his', 'her', 0.8940843),\n",
       " ('accessdate', 'she', 0.5294304),\n",
       " ('with', 'she', 0.6024914),\n",
       " ('first', 'she', 0.53099513),\n",
       " ('season', 'she', 0.5237535),\n",
       " ('league', 'she', 0.51617336),\n",
       " ('as', 'she', 0.63189346),\n",
       " ('men', 'women', 0.52905464),\n",
       " ('10', 'she', 0.5487249),\n",
       " ('5', 'she', 0.5192066),\n",
       " ('by', 'she', 0.52440053),\n",
       " ('12', 'she', 0.5518395),\n",
       " ('11', 'she', 0.56885874),\n",
       " ('club', 'she', 0.5129539),\n",
       " ('after', 'she', 0.59224343),\n",
       " ('that', 'she', 0.66932565),\n",
       " ('august', 'she', 0.5687072),\n",
       " ('an', 'she', 0.53950995),\n",
       " ('career', 'she', 0.55999166),\n",
       " ('work', 'she', 0.5178626),\n",
       " ('july', 'she', 0.55886763),\n",
       " ('8', 'she', 0.5347986),\n",
       " ('won', 'she', 0.5589703),\n",
       " ('time', 'she', 0.5126725),\n",
       " ('13', 'she', 0.5388511),\n",
       " ('20', 'she', 0.50311404),\n",
       " ('may', 'she', 0.5705042),\n",
       " ('january', 'she', 0.566734),\n",
       " ('june', 'she', 0.5494728),\n",
       " ('14', 'she', 0.53432494),\n",
       " ('15', 'she', 0.52460426),\n",
       " ('9', 'she', 0.5224163),\n",
       " ('16', 'she', 0.55426985),\n",
       " ('september', 'she', 0.58551604),\n",
       " ('march', 'she', 0.57070434),\n",
       " ('also', 'she', 0.6987141),\n",
       " ('17', 'she', 0.5393983),\n",
       " ('against', 'she', 0.5364902),\n",
       " ('one', 'she', 0.59934896),\n",
       " ('two', 'she', 0.6125996),\n",
       " ('april', 'she', 0.5677047),\n",
       " ('played', 'she', 0.6109378),\n",
       " ('october', 'she', 0.57293385),\n",
       " ('february', 'she', 0.5550094),\n",
       " ('21', 'she', 0.506869),\n",
       " ('had', 'she', 0.6477691),\n",
       " ('november', 'she', 0.5723685),\n",
       " ('18', 'she', 0.5419483),\n",
       " ('december', 'she', 0.5851945),\n",
       " ('it', 'she', 0.5135647),\n",
       " ('19', 'she', 0.5527859),\n",
       " ('second', 'she', 0.5434445),\n",
       " ('23', 'she', 0.5099889),\n",
       " ('but', 'she', 0.68821704),\n",
       " ('who', 'she', 0.56507206),\n",
       " ('22', 'she', 0.5130135),\n",
       " ('24', 'she', 0.50619435),\n",
       " ('game', 'she', 0.54787546),\n",
       " ('25', 'she', 0.5295107),\n",
       " ('30', 'she', 0.52398926),\n",
       " ('up', 'she', 0.539704),\n",
       " ('27', 'she', 0.5345747),\n",
       " ('28', 'she', 0.5341827),\n",
       " ('26', 'she', 0.52227974),\n",
       " ('29', 'she', 0.51955646),\n",
       " ('years', 'she', 0.549423),\n",
       " ('1999', 'she', 0.5013601),\n",
       " ('not', 'she', 0.5341195),\n",
       " ('during', 'she', 0.623261),\n",
       " ('three', 'she', 0.55752623),\n",
       " ('which', 'she', 0.6197448),\n",
       " ('made', 'her', 0.62518984),\n",
       " ('him', 'her', 0.67044705),\n",
       " ('has', 'she', 0.53701407),\n",
       " ('out', 'she', 0.5202438),\n",
       " ('over', 'she', 0.5324733),\n",
       " ('before', 'she', 0.5287382),\n",
       " ('where', 'she', 0.6944412),\n",
       " ('31', 'she', 0.51619786),\n",
       " ('1997', 'she', 0.5133096),\n",
       " ('be', 'she', 0.5161933),\n",
       " ('this', 'she', 0.56554306),\n",
       " ('when', 'she', 0.6614316),\n",
       " ('scored', 'she', 0.5401209),\n",
       " ('only', 'she', 0.51327515),\n",
       " ('finished', 'she', 0.552914),\n",
       " ('later', 'she', 0.69688374),\n",
       " ('end', 'she', 0.5128192),\n",
       " ('were', 'she', 0.5408808),\n",
       " ('four', 'she', 0.55653024),\n",
       " ('former', 'she', 0.5048808),\n",
       " ('play', 'she', 0.5438143),\n",
       " ('playing', 'she', 0.54047686),\n",
       " ('third', 'she', 0.514622),\n",
       " ('signed', 'she', 0.58311933),\n",
       " ('their', 'her', 0.56544673),\n",
       " ('would', 'she', 0.5839583),\n",
       " ('back', 'she', 0.52583075),\n",
       " ('then', 'she', 0.6508393),\n",
       " ('debut', 'she', 0.5456306),\n",
       " ('contract', 'she', 0.5612896),\n",
       " ('home', 'she', 0.51983213),\n",
       " ('following', 'she', 0.5994905),\n",
       " ('became', 'she', 0.5877889),\n",
       " ('they', 'she', 0.53393406),\n",
       " ('into', 'she', 0.5014889),\n",
       " ('both', 'she', 0.56407005),\n",
       " ('most', 'she', 0.52982634),\n",
       " ('have', 'she', 0.54428524),\n",
       " ('been', 'she', 0.5470756),\n",
       " ('more', 'she', 0.53722775),\n",
       " ('being', 'she', 0.6158609),\n",
       " ('while', 'her', 0.6093814),\n",
       " ('however', 'she', 0.56096584),\n",
       " ('did', 'she', 0.5112971),\n",
       " ('five', 'she', 0.55458415),\n",
       " ('off', 'her', 0.51206666),\n",
       " ('again', 'she', 0.60793245),\n",
       " ('early', 'she', 0.59329),\n",
       " ('manager', 'she', 0.5226288),\n",
       " ('part', 'she', 0.5203587),\n",
       " ('took', 'she', 0.5364619),\n",
       " ('until', 'she', 0.6108756),\n",
       " ('scoring', 'she', 0.52963895),\n",
       " ('came', 'she', 0.5407095),\n",
       " ('returned', 'she', 0.5740939),\n",
       " ('six', 'she', 0.5434029),\n",
       " ('joined', 'she', 0.5720797),\n",
       " ('went', 'she', 0.5874814),\n",
       " ('side', 'she', 0.53495836),\n",
       " ('started', 'she', 0.54365736),\n",
       " ('since', 'she', 0.56288236),\n",
       " ('head', 'she', 0.50968504),\n",
       " ('serie', 'she', 0.5128376),\n",
       " ('well', 'she', 0.6170354),\n",
       " ('began', 'she', 0.51575136),\n",
       " ('deal', 'she', 0.5145981),\n",
       " ('next', 'she', 0.52808076),\n",
       " ('footballer', 'she', 0.50074047),\n",
       " ('just', 'she', 0.53443146),\n",
       " ('return', 'her', 0.5094534),\n",
       " ('seasons', 'she', 0.54976016),\n",
       " ('moved', 'she', 0.54324865),\n",
       " ('said', 'she', 0.52893126),\n",
       " ('another', 'she', 0.5728946),\n",
       " ('led', 'she', 0.5430461),\n",
       " ('having', 'she', 0.60188854),\n",
       " ('there', 'she', 0.57683605),\n",
       " ('same', 'she', 0.55330455),\n",
       " ('despite', 'her', 0.55130446),\n",
       " ('johnson', 'she', 0.5059558),\n",
       " ('known', 'she', 0.5447069),\n",
       " ('seven', 'she', 0.50856555),\n",
       " ('days', 'she', 0.54559594),\n",
       " ('father', 'her', 0.56770396),\n",
       " ('still', 'she', 0.55226415),\n",
       " ('several', 'she', 0.5426365),\n",
       " ('brother', 'sister', 0.5468202),\n",
       " ('making', 'her', 0.56378365),\n",
       " ('released', 'her', 0.52989584),\n",
       " ('them', 'she', 0.5633349),\n",
       " ('because', 'she', 0.5281626),\n",
       " ('could', 'she', 0.54805696),\n",
       " ('called', 'she', 0.55457455),\n",
       " ('ended', 'she', 0.52385163),\n",
       " ('months', 'she', 0.5051946),\n",
       " ('starting', 'she', 0.5120178),\n",
       " ('move', 'her', 0.50342774),\n",
       " ('although', 'she', 0.5754556),\n",
       " ('late', 'she', 0.5177169),\n",
       " ('himself', 'she', 0.54321116),\n",
       " ('hit', 'she', 0.5491018),\n",
       " ('many', 'she', 0.53120613),\n",
       " ('plays', 'she', 0.5052599),\n",
       " ('needed', 'she', 0.54249156),\n",
       " ('some', 'she', 0.53190166),\n",
       " ('leading', 'she', 0.50129443),\n",
       " ('along', 'she', 0.535262),\n",
       " ('signing', 'she', 0.50639397),\n",
       " ('never', 'she', 0.5544864),\n",
       " ('giants', 'she', 0.5263767),\n",
       " ('once', 'she', 0.5666841),\n",
       " ('helped', 'she', 0.50938946),\n",
       " ('ball', 'she', 0.5157628),\n",
       " ('spent', 'she', 0.572317),\n",
       " ('campaign', 'she', 0.5025246),\n",
       " ('twice', 'she', 0.51539254),\n",
       " ('without', 'her', 0.5117553),\n",
       " ('served', 'she', 0.54131436),\n",
       " ('continued', 'she', 0.51438737),\n",
       " ('become', 'she', 0.5116476),\n",
       " ('saw', 'she', 0.5329279),\n",
       " ('going', 'she', 0.500112),\n",
       " ('agent', 'she', 0.5135391),\n",
       " ('eventually', 'she', 0.52904606),\n",
       " ('own', 'her', 0.5456018),\n",
       " ('worked', 'she', 0.5358004),\n",
       " ('even', 'she', 0.5538841),\n",
       " ('included', 'she', 0.5231765),\n",
       " ('got', 'she', 0.52179307),\n",
       " ('used', 'she', 0.51363796),\n",
       " ('each', 'she', 0.5056055),\n",
       " ('such', 'she', 0.5017099),\n",
       " ('though', 'she', 0.5830479),\n",
       " ('participated', 'she', 0.5082962),\n",
       " ('managed', 'she', 0.51684785),\n",
       " ('decided', 'she', 0.5017851),\n",
       " ('few', 'she', 0.5051269),\n",
       " ('plate', 'she', 0.5171092),\n",
       " ('prior', 'she', 0.533207),\n",
       " ('followed', 'she', 0.5476807),\n",
       " ('subsequently', 'she', 0.5369748),\n",
       " ('joining', 'she', 0.5083621),\n",
       " ('able', 'she', 0.5003742),\n",
       " ('remained', 'she', 0.56903505),\n",
       " ('sent', 'she', 0.5241089),\n",
       " ('previously', 'she', 0.5223881),\n",
       " ('leaving', 'she', 0.5050916),\n",
       " ('claimed', 'she', 0.5110634),\n",
       " ('spell', 'she', 0.52004516),\n",
       " ('offensive', 'she', 0.50221086),\n",
       " ('addition', 'she', 0.5370049),\n",
       " ('moving', 'she', 0.50678754),\n",
       " ('instead', 'she', 0.5239799),\n",
       " ('stay', 'she', 0.5042624),\n",
       " ('whom', 'she', 0.5247077),\n",
       " ('often', 'she', 0.5113497),\n",
       " ('promoted', 'she', 0.51141727),\n",
       " ('brought', 'her', 0.51839703),\n",
       " ('initially', 'she', 0.53276813),\n",
       " ('franchise', 'she', 0.51567256),\n",
       " ('beginning', 'she', 0.52632385),\n",
       " ('sold', 'she', 0.51486236),\n",
       " ('pitch', 'she', 0.50092894),\n",
       " ('immediately', 'she', 0.5262939),\n",
       " ('picked', 'she', 0.5136176),\n",
       " ('stint', 'she', 0.50816613),\n",
       " ('phillies', 'she', 0.5243347),\n",
       " ('stood', 'she', 0.51328534),\n",
       " ('stayed', 'she', 0.5132445),\n",
       " ('whilst', 'she', 0.5259596),\n",
       " ('believed', 'she', 0.50342435),\n",
       " ('spending', 'she', 0.52002525),\n",
       " ('impressed', 'she', 0.50359756),\n",
       " ('arrived', 'she', 0.5200055),\n",
       " ('pistons', 'she', 0.5011432),\n",
       " ('claiming', 'she', 0.5047266),\n",
       " ('newton', 'she', 0.50049776),\n",
       " ('minors', 'she', 0.518329),\n",
       " ('duties', 'her', 0.50433046),\n",
       " ('occasionally', 'she', 0.5008765),\n",
       " ('wished', 'she', 0.50546896),\n",
       " ('wherever', 'porter42', 0.5453666),\n",
       " ('understands', 'sycv', 0.5126913),\n",
       " ('thrived', 'sycv', 0.5121255),\n",
       " ('maninredbandana', 'wilkinsboyle2009', 0.5305104),\n",
       " ('ucdavisaggies1', 'wilkinsboyle2009', 0.52210623),\n",
       " ('mrever', 'porter42', 0.5723449),\n",
       " ('bikeraceinfo1', 'wilkinsboyle2009', 0.51265454),\n",
       " ('efcprofile', 'nbcolympics1', 0.5111421),\n",
       " ('lifebehindcamera', 'wilkinsboyle2009', 0.5237975),\n",
       " ('mite', 'nbcolympics1', 0.50126016),\n",
       " ('nyteskenazi', 'porter42', 0.50645953),\n",
       " ('laweekly1', 'porter42', 0.5074456),\n",
       " ('walleghem1', 'wilkinsboyle2009', 0.64398706),\n",
       " ('chany1', 'porter42', 0.60785705),\n",
       " ('coutts', 'sycv', 0.5216865),\n",
       " ('jpress', 'wilkinsboyle2009', 0.5064631),\n",
       " ('jsonline1', 'nbcolympics1', 0.5370488),\n",
       " ('mtts', 'wilkinsboyle2009', 0.52615964),\n",
       " ('naseem', 'dorovskikh', 0.52766347),\n",
       " ('news13', 'porter42', 0.50106704),\n",
       " ('officialbiography', 'sycv', 0.5121208),\n",
       " ('persevered', 'sycv', 0.5380598),\n",
       " ('tights', 'porter42', 0.51199245),\n",
       " ('vaprus', 'wezemaal', 0.5007104),\n",
       " ('abc23', 'wilkinsboyle2009', 0.5576614),\n",
       " ('blackmore', 'porter42', 0.5251892),\n",
       " ('dn2804010', 'wilkinsboyle2009', 0.5275391),\n",
       " ('dvow1', 'porter42', 0.507223),\n",
       " ('forgave', 'sycv', 0.5528283),\n",
       " ('hjkltwop', 'porter42', 0.5014857),\n",
       " ('listens', 'sycv', 0.5119384),\n",
       " ('lotbb', 'lat890226', 0.5040006),\n",
       " ('nyt1998', 'porter42', 0.5331628),\n",
       " ('rotary9500', 'sycv', 0.51620704),\n",
       " ('thesetpieces', 'porter42', 0.5023137),\n",
       " ('alienated', 'porter42', 0.54671013),\n",
       " ('bankroll', 'sycv', 0.5912225),\n",
       " ('bbc19980909', 'porter42', 0.5499926),\n",
       " ('bbcksb161213', 'sycv', 0.5681827),\n",
       " ('biginterview', 'porter42', 0.56392694),\n",
       " ('defilippis', 'sycv', 0.50484717),\n",
       " ('fcsbat', 'sycv', 0.50774395),\n",
       " ('fixes', 'bhardwaj', 0.5067098),\n",
       " ('kozokin', 'lagging', 0.5326069),\n",
       " ('landsbergersteinitzpapers', 'porter42', 0.5000229),\n",
       " ('layden15may', 'sycv', 0.61584604),\n",
       " ('likeafricans', 'wilkinsboyle2009', 0.5864866),\n",
       " ('mdppsw', 'porter42', 0.50098246),\n",
       " ('mercurynews1', 'nbcolympics1', 0.5196123),\n",
       " ('philly1', 'nbcolympics1', 0.5015608),\n",
       " ('pqarchiver2002', 'sycv', 0.51975113),\n",
       " ('qiietlyhome', 'wilkinsboyle2009', 0.5555348),\n",
       " ('racingmuseum1', 'lat890226', 0.52077407),\n",
       " ('smithinterview', 'sycv', 0.52946234),\n",
       " ('sunsentinelturmoil', 'porter42', 0.505741),\n",
       " ('tpprof', 'sycv', 0.5112719),\n",
       " ('unicanberra', 'wilkinsboyle2009', 0.5873754),\n",
       " ('uslacrosse1', 'wilkinsboyle2009', 0.6219428),\n",
       " ('wallet', 'dorovskikh', 0.51915884),\n",
       " ('100random', 'sycv', 0.5106348),\n",
       " ('affirming', 'dorovskikh', 0.5328588),\n",
       " ('antoivat', 'sycv', 0.5742443),\n",
       " ('arse', 'sycv', 0.51915765),\n",
       " ('disposition', 'lagging', 0.5032666),\n",
       " ('fausports2', 'porter42', 0.5091014),\n",
       " ('favors', 'sycv', 0.53458905),\n",
       " ('gs020203', 'wilkinsboyle2009', 0.586246),\n",
       " ('hurdled', 'lagging', 0.50710225),\n",
       " ('lasbat', 'porter42', 0.5081586),\n",
       " ('massappeal1', 'wilkinsboyle2009', 0.519926),\n",
       " ('mercedes2010', 'wilkinsboyle2009', 0.5354146),\n",
       " ('more2008fallno', 'porter42', 0.5020747),\n",
       " ('officialbio', 'wilkinsboyle2009', 0.5015953),\n",
       " ('pfrbw', 'porter42', 0.51428187),\n",
       " ('relished', 'sycv', 0.6011399),\n",
       " ('rta', 'sycv', 0.53034395),\n",
       " ('skippered', 'sycv', 0.55362594),\n",
       " ('sunscoaster', 'wilkinsboyle2009', 0.5360463),\n",
       " ('uclabruins1', 'lat890226', 0.5478715),\n",
       " ('volleyhall1', 'wilkinsboyle2009', 0.55966264),\n",
       " ('wirtualnapolska', 'porter42', 0.5213794),\n",
       " ('ablbuzz137', 'sycv', 0.5314075),\n",
       " ('actatheltic', 'sycv', 0.51521534),\n",
       " ('aif0801', 'porter42', 0.60728276),\n",
       " ('arnoldstrongmanclassic1', 'sycv', 0.5390015),\n",
       " ('arrs8948', 'wilkinsboyle2009', 0.5177669),\n",
       " ('campbellnews', 'porter42', 0.5256819),\n",
       " ('corpse', 'dorovskikh', 0.5106842),\n",
       " ('coskun', 'sycv', 0.5102903),\n",
       " ('coupland', 'porter42', 0.50369513),\n",
       " ('fromklmore', 'lat890226', 0.5318104),\n",
       " ('gatherings', 'sycv', 0.57517374),\n",
       " ('guardian2007', 'sycv', 0.53771704),\n",
       " ('in141125', 'sycv', 0.512045),\n",
       " ('jhvonline9556', 'porter42', 0.5798681),\n",
       " ('lamming', 'sycv', 0.5068068),\n",
       " ('lanc', 'sycv', 0.51012605),\n",
       " ('liherald1', 'porter42', 0.57170457),\n",
       " ('nytimes2004', 'wilkinsboyle2009', 0.5159166),\n",
       " ('preached', 'sycv', 0.5074939),\n",
       " ('ref2', 'lewellen2004', 0.5108454),\n",
       " ('sn42007', 'wilkinsboyle2009', 0.50116146),\n",
       " ('swainepage20', 'porter42', 0.5332495),\n",
       " ('tafapsistbh', 'sycv', 0.5555395),\n",
       " ('theisraelproject1', 'wilkinsboyle2009', 0.5120807),\n",
       " ('thejewishweek2', 'wilkinsboyle2009', 0.56543636),\n",
       " ('tkpsu', 'sycv', 0.5005657),\n",
       " ('truus', 'rapide', 0.5145789),\n",
       " ('wenna', 'porter42', 0.5895032),\n",
       " ('windup', 'dorovskikh', 0.53868026),\n",
       " ('auk', 'sycv', 0.53556794),\n",
       " ('australianpolice', 'sycv', 0.6037976),\n",
       " ('biglongdiseasename', 'sycv', 0.5357094),\n",
       " ('blazeissue3', 'porter42', 0.5800016),\n",
       " ('coh', 'wilkinsboyle2009', 0.5588239),\n",
       " ('communblog', 'wilkinsboyle2009', 0.5330364),\n",
       " ('confortola', 'rapide', 0.51345545),\n",
       " ('dues', 'porter42', 0.508155),\n",
       " ('earlycontract', 'wilkinsboyle2009', 0.508629),\n",
       " ('ffksupporter1', 'porter42', 0.51359904),\n",
       " ('forbes2006', 'porter42', 0.5465144),\n",
       " ('gdcgjmiwtl', 'porter42', 0.5031566),\n",
       " ('gestured', 'sycv', 0.5312343),\n",
       " ('gfactfile', 'sycv', 0.5009193),\n",
       " ('google2768', 'wilkinsboyle2009', 0.5436084),\n",
       " ('gs101205', 'porter42', 0.5218307),\n",
       " ('gshm', 'sycv', 0.5806141),\n",
       " ('gvshf', 'wilkinsboyle2009', 0.606432),\n",
       " ('hanbin', 'porter42', 0.5647498),\n",
       " ('hoglan', 'upped', 0.5458724),\n",
       " ('iaaf2013', 'sycv', 0.52723014),\n",
       " ('ie03072005', 'sycv', 0.5576288),\n",
       " ('imbault', 'wezemaal', 0.5403048),\n",
       " ('joints', 'sycv', 0.5060589),\n",
       " ('jta130219', 'sycv', 0.55917317),\n",
       " ('landau124', 'ifscover', 0.5135489),\n",
       " ('latimes1994', 'sycv', 0.5280667),\n",
       " ('lvw', 'sycv', 0.5110319),\n",
       " ('nbastats', 'sycv', 0.59132034),\n",
       " ('nddaily', 'lat890226', 0.52490413),\n",
       " ('ndrhof', 'sycv', 0.5329843),\n",
       " ('nyt11', 'wilkinsboyle2009', 0.5000755),\n",
       " ('nyt981116', 'sycv', 0.50584763),\n",
       " ('nytimes1990', 'wilkinsboyle2009', 0.52587545),\n",
       " ('nzherald1', 'porter42', 0.5161139),\n",
       " ('oralhist1', 'sycv', 0.54319215),\n",
       " ('p235', 'wilkinsboyle2009', 0.5432393),\n",
       " ('patros', 'dorovskikh', 0.5398536),\n",
       " ('poundage', 'porter42', 0.508121),\n",
       " ('pqarchiver2004', 'porter42', 0.51236147),\n",
       " ('roundly', 'dorovskikh', 0.5108283),\n",
       " ('s2001w', 'porter42', 0.5067496),\n",
       " ('scott255', 'sycv', 0.5334303),\n",
       " ('sharpercollegecareer', 'porter42', 0.5231643),\n",
       " ('skillfully', 'porter42', 0.54270095),\n",
       " ('sme090125', 'porter42', 0.5172386),\n",
       " ('st060405', 'sycv', 0.5205882),\n",
       " ('stuff1', 'nbcolympics1', 0.5627073),\n",
       " ('surfs', 'porter42', 0.5429922),\n",
       " ('tailend', 'sycv', 0.5617783),\n",
       " ('tenthings', 'wilkinsboyle2009', 0.52083474),\n",
       " ('theplainsman1', 'sycv', 0.53555506),\n",
       " ('ulbio', 'sycv', 0.5726579),\n",
       " ('varies', 'sycv', 0.5876053),\n",
       " ('vastu', 'lagging', 0.5394073),\n",
       " ('wertheim20120211', 'porter42', 0.5038177),\n",
       " ('yesyes', 'sycv', 0.513808)]"
      ]
     },
     "execution_count": 138,
     "metadata": {},
     "output_type": "execute_result"
    }
   ],
   "source": [
    "[(gsports.words[i[0]],gsports.words[i[1]], i[2]) for i in msports]"
   ]
  },
  {
   "cell_type": "code",
   "execution_count": 26,
   "metadata": {},
   "outputs": [
    {
     "data": {
      "text/plain": [
       "['hockey', 'volleyball', 'soccer', 'basketball', 'football']"
      ]
     },
     "execution_count": 26,
     "metadata": {},
     "output_type": "execute_result"
    }
   ],
   "source": [
    "glove[\"all\"].analogy(\"he\", \"she\", \"football\")"
   ]
  },
  {
   "cell_type": "code",
   "execution_count": 30,
   "metadata": {},
   "outputs": [
    {
     "data": {
      "text/plain": [
       "['presidents', 'presidential', 'clinton', 'vice', 'president']"
      ]
     },
     "execution_count": 30,
     "metadata": {},
     "output_type": "execute_result"
    }
   ],
   "source": [
    "glove[\"all\"].analogy(\"he\", \"she\", \"president\")"
   ]
  },
  {
   "cell_type": "code",
   "execution_count": 32,
   "metadata": {},
   "outputs": [
    {
     "data": {
      "text/plain": [
       "(array([7186,  702, 1606, 2938,   71,   67,  808, 1749,  300,  787]),\n",
       " array([0.621892  , 0.63576126, 0.64200103, 0.6599604 , 0.7238898 ,\n",
       "        0.72987235, 0.737804  , 0.74939495, 0.80364037, 0.86988366],\n",
       "       dtype=float32))"
      ]
     },
     "execution_count": 32,
     "metadata": {},
     "output_type": "execute_result"
    }
   ],
   "source": [
    "find_nn_cos(glove[\"all\"].vector(\"she\") - glove[\"all\"].vector(\"he\") + glove[\"all\"].vector(\"man\"), glove[\"all\"].W)"
   ]
  },
  {
   "cell_type": "code",
   "execution_count": 34,
   "metadata": {},
   "outputs": [],
   "source": [
    "W = glove[\"all\"].W"
   ]
  },
  {
   "cell_type": "code",
   "execution_count": 59,
   "metadata": {},
   "outputs": [],
   "source": [
    "m = []"
   ]
  },
  {
   "cell_type": "code",
   "execution_count": 58,
   "metadata": {},
   "outputs": [
    {
     "name": "stderr",
     "output_type": "stream",
     "text": [
      "/home/madereth/anaconda3/envs/w266-env/lib/python3.6/site-packages/ipykernel_launcher.py:4: RuntimeWarning: invalid value encountered in true_divide\n",
      "  after removing the cwd from sys.path.\n",
      "/home/madereth/anaconda3/envs/w266-env/lib/python3.6/site-packages/ipykernel_launcher.py:6: RuntimeWarning: invalid value encountered in greater\n",
      "  \n"
     ]
    },
    {
     "data": {
      "text/plain": [
       "(array([[  67],\n",
       "        [  71],\n",
       "        [ 787],\n",
       "        [ 808],\n",
       "        [1749],\n",
       "        [2003],\n",
       "        [2890],\n",
       "        [2938]]), array([[0.58033943],\n",
       "        [0.59222955],\n",
       "        [0.680215  ],\n",
       "        [0.5694386 ],\n",
       "        [0.57762533],\n",
       "        [0.52214944],\n",
       "        [0.5175899 ],\n",
       "        [0.53039855]], dtype=float32))"
      ]
     },
     "execution_count": 58,
     "metadata": {},
     "output_type": "execute_result"
    }
   ],
   "source": [
    "find_nn_cos_with_threshold(glove[\"all\"].vector(\"she\"),\n",
    "                          glove[\"all\"].vector(\"he\"),\n",
    "                          glove[\"all\"].vector(\"man\"),\n",
    "                          glove[\"all\"].W)"
   ]
  },
  {
   "cell_type": "code",
   "execution_count": 42,
   "metadata": {},
   "outputs": [
    {
     "data": {
      "text/plain": [
       "['pregnant',\n",
       " 'actress',\n",
       " 'sister',\n",
       " 'herself',\n",
       " 'mother',\n",
       " 'girl',\n",
       " 'she',\n",
       " 'her',\n",
       " 'woman',\n",
       " 'man']"
      ]
     },
     "execution_count": 42,
     "metadata": {},
     "output_type": "execute_result"
    }
   ],
   "source": [
    "[glove[\"all\"].words[i] for i in [5508, 2890, 2003, 2938,  808, 1749,   67,   71,  787,  300]]"
   ]
  },
  {
   "cell_type": "code",
   "execution_count": 63,
   "metadata": {},
   "outputs": [],
   "source": [
    "m += [1]"
   ]
  },
  {
   "cell_type": "code",
   "execution_count": 64,
   "metadata": {},
   "outputs": [
    {
     "data": {
      "text/plain": [
       "[1, 1]"
      ]
     },
     "execution_count": 64,
     "metadata": {},
     "output_type": "execute_result"
    }
   ],
   "source": [
    "m\n"
   ]
  }
 ],
 "metadata": {
  "kernelspec": {
   "display_name": "Python 3",
   "language": "python",
   "name": "python3"
  },
  "language_info": {
   "codemirror_mode": {
    "name": "ipython",
    "version": 3
   },
   "file_extension": ".py",
   "mimetype": "text/x-python",
   "name": "python",
   "nbconvert_exporter": "python",
   "pygments_lexer": "ipython3",
   "version": "3.6.4"
  }
 },
 "nbformat": 4,
 "nbformat_minor": 2
}
