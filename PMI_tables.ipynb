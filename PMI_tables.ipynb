{
 "cells": [
  {
   "cell_type": "markdown",
   "metadata": {},
   "source": [
    "# PMI tables"
   ]
  },
  {
   "cell_type": "code",
   "execution_count": 1,
   "metadata": {},
   "outputs": [],
   "source": [
    "import time\n",
    "import collections\n",
    "import pickle\n",
    "import numpy as np\n",
    "import pandas as pd\n",
    "from math import log\n",
    "import matplotlib.pyplot as plt"
   ]
  },
  {
   "cell_type": "code",
   "execution_count": 2,
   "metadata": {},
   "outputs": [],
   "source": [
    "def save_object(obj, filename):\n",
    "    with open(filename, 'wb') as outfile:  \n",
    "        pickle.dump(obj, outfile, pickle.HIGHEST_PROTOCOL)"
   ]
  },
  {
   "cell_type": "code",
   "execution_count": 10,
   "metadata": {},
   "outputs": [],
   "source": [
    "class PMICalculator:\n",
    "    \n",
    "    def __init__(self, counter1, counter2, n1, n2):\n",
    "        self.counter1 = counter1\n",
    "        self.counter2 = counter2\n",
    "        self.n1 = n1\n",
    "        self.n2 = n2\n",
    "        self.lpc1 = log(n1 / (n1 + n2))\n",
    "\n",
    "    def pmi(self, word):\n",
    "        try:\n",
    "            return (log(self.counter1[word]) - \n",
    "            self.lpc1 -\n",
    "            log(self.counter1[word] + self.counter2[word]))\n",
    "        except ValueError:\n",
    "            return 0"
   ]
  },
  {
   "cell_type": "code",
   "execution_count": 33,
   "metadata": {},
   "outputs": [],
   "source": [
    "def minmax(val_list):\n",
    "    min_val = min(val_list)\n",
    "    max_val = max(val_list)\n",
    "    return (min_val, max_val)"
   ]
  },
  {
   "cell_type": "code",
   "execution_count": 5,
   "metadata": {},
   "outputs": [],
   "source": [
    "# Load male_bigrams_master:\n",
    "with open('data/bigrams/male_bigrams_master.pkl', 'rb') as infile:\n",
    "    male_bigrams = pickle.load(infile)\n",
    "for k in set(k for k,v in male_bigrams.items() if v < 10):\n",
    "    del male_bigrams[k]"
   ]
  },
  {
   "cell_type": "code",
   "execution_count": 6,
   "metadata": {},
   "outputs": [],
   "source": [
    "# Load female_bigrams_master:\n",
    "with open('data/bigrams/female_bigrams_master.pkl', 'rb') as infile:\n",
    "    female_bigrams = pickle.load(infile)\n",
    "for k in set(k for k,v in female_bigrams.items() if v < 10):\n",
    "    del female_bigrams[k]"
   ]
  },
  {
   "cell_type": "code",
   "execution_count": 7,
   "metadata": {},
   "outputs": [],
   "source": [
    "all_bigrams = male_bigrams + female_bigrams\n",
    "\n",
    "# We remove all tokens appearing fewer than 500 times for this analysis\n",
    "for k in set(k for k,v in all_bigrams.items() if v < 500):\n",
    "    del all_bigrams[k]"
   ]
  },
  {
   "cell_type": "code",
   "execution_count": 8,
   "metadata": {},
   "outputs": [],
   "source": [
    "# Load the unigram counters (all categories)\n",
    "with open('data/female_counter.pkl', 'rb') as infile:\n",
    "    female_counter = pickle.load(infile)\n",
    "with open('data/male_counter.pkl', 'rb') as infile:\n",
    "    male_counter = pickle.load(infile)\n",
    "for k in set(k for k,v in male_counter.items() if v < 10):\n",
    "    del male_counter[k]\n",
    "for k in set(k for k,v in female_counter.items() if v < 10):\n",
    "    del female_counter[k]"
   ]
  },
  {
   "cell_type": "code",
   "execution_count": 9,
   "metadata": {},
   "outputs": [],
   "source": [
    "all_unigrams = male_counter + female_counter\n",
    "\n",
    "# We remove all tokens appearing fewer than 500 times for this analysis\n",
    "for k in set(k for k,v in all_unigrams.items() if v < 500):\n",
    "    del all_unigrams[k]"
   ]
  },
  {
   "cell_type": "code",
   "execution_count": 10,
   "metadata": {},
   "outputs": [],
   "source": [
    "pc2 = PMICalculator(female_bigrams, male_bigrams, 130576, 718413)\n",
    "\n",
    "bigrams_with_pmi = [(p[0], p[1], pc2.pmi(p[0])) for p in list(all_bigrams.items())]\n",
    "bigrams_with_pmi.sort(key = lambda x: x[-1])"
   ]
  },
  {
   "cell_type": "code",
   "execution_count": 9,
   "metadata": {},
   "outputs": [
    {
     "data": {
      "text/plain": [
       "[(('she', 'beat'), 1136, 1.872090797081209),\n",
       " (('soviet', 'female'), 523, 1.872090797081209),\n",
       " (('her', 'teammates'), 569, 1.872090797081209),\n",
       " (('relay', 'women'), 569, 1.872090797081209),\n",
       " (('cup', 'women'), 982, 1.872090797081209),\n",
       " (('com', 'sewtatour'), 669, 1.872090797081209),\n",
       " (('romantic', 'times'), 553, 1.872090797081209),\n",
       " (('name', 'linda'), 616, 1.872090797081209),\n",
       " (('wnba', 'draft'), 1177, 1.872090797081209),\n",
       " (('chinese', 'female'), 1151, 1.872090797081209),\n",
       " (('expatriate', 'women'), 982, 1.872090797081209),\n",
       " (('anna', 'sui'), 613, 1.872090797081209),\n",
       " (('women', 'historians'), 723, 1.872090797081209),\n",
       " (('titleholder', 'name'), 1074, 1.872090797081209),\n",
       " (('ladies', 'european'), 1309, 1.872090797081209),\n",
       " (('virginia', 'slims'), 683, 1.872090797081209),\n",
       " (('sportswomen', 'category'), 561, 1.872090797081209),\n",
       " (('teen', 'usa'), 1214, 1.872090797081209),\n",
       " (('futures', 'tour'), 704, 1.872090797081209),\n",
       " (('women', 'basketball'), 553, 1.872090797081209),\n",
       " (('female', 'fencers'), 690, 1.872090797081209),\n",
       " (('female', 'playback'), 713, 1.872090797081209),\n",
       " (('background', 'f88379'), 1093, 1.872090797081209),\n",
       " (('background', 'addfad'), 2395, 1.872090797081209),\n",
       " (('team', 'women'), 725, 1.872090797081209),\n",
       " (('85', 'legend'), 632, 1.872090797081209),\n",
       " (('f0f8ff', 'bgcolor'), 2955, 1.872090797081209),\n",
       " (('0', 'wta'), 723, 1.872090797081209),\n",
       " (('world', 'rhythmic'), 1275, 1.872090797081209),\n",
       " (('ccccff', '15'), 501, 1.872090797081209),\n",
       " (('fivb', 'women'), 683, 1.872090797081209),\n",
       " (('www', 'mmarising'), 742, 1.872090797081209),\n",
       " (('addfad', 'style'), 1052, 1.872090797081209),\n",
       " (('euro', '2013'), 682, 1.872090797081209),\n",
       " (('camogie', 'championship'), 521, 1.872090797081209)]"
      ]
     },
     "execution_count": 9,
     "metadata": {},
     "output_type": "execute_result"
    }
   ],
   "source": [
    "# Women\n",
    "women_top_pmi = bigrams_with_pmi[-2000:]\n",
    "women_top_pmi[-35:]"
   ]
  },
  {
   "cell_type": "code",
   "execution_count": 10,
   "metadata": {},
   "outputs": [
    {
     "data": {
      "text/plain": [
       "[(('season', 'he'), 92920, -7.169508117004767),\n",
       " (('c', 'season'), 89374, -7.130599021242945),\n",
       " (('nhl', 'season'), 107596, -6.941459231976644),\n",
       " (('english', 'male'), 51900, -6.5870879992744005),\n",
       " (('class', 'cricket'), 40502, -6.3391205647118145),\n",
       " (('nfl', 'draft'), 41359, -6.273047884071101),\n",
       " (('town', 'f'), 111024, -6.248903314591642),\n",
       " (('championships', 'men'), 43722, -6.248566532355593),\n",
       " (('league', 'one'), 39728, -6.078663381051481),\n",
       " (('port', 'vale'), 30684, -6.061510555199607),\n",
       " (('male', 'television'), 38810, -6.055285097666484),\n",
       " (('county', 'f'), 26149, -5.996890337768831),\n",
       " (('i', 'men'), 31265, -5.99325709313219),\n",
       " (('pro', 'bowl'), 30146, -5.956810076501267),\n",
       " (('football', 'season'), 52560, -5.906577402718968),\n",
       " (('win', 'small'), 25146, -5.862468047273548),\n",
       " (('he', 'finished'), 69450, -5.842284346616135),\n",
       " (('player', 'he'), 27615, -5.789074227792543),\n",
       " (('politician', 'he'), 20515, -5.754235714801033),\n",
       " (('american', 'male'), 181008, -5.745569341352899),\n",
       " (('category', 'male'), 82872, -5.715292112373362),\n",
       " (('he', 'earned'), 48878, -5.706116054528685),\n",
       " (('uefa', 'cup'), 23379, -5.702596015642463),\n",
       " (('male', 'film'), 46678, -5.700883613152014),\n",
       " (('he', 'played'), 305842, -5.664982909827931),\n",
       " (('cleveland', 'browns'), 18089, -5.628383407626381),\n",
       " (('team', 'he'), 32481, -5.625948027001635),\n",
       " (('he', 'competed'), 24643, -5.601100036786418),\n",
       " (('athletic', 'f'), 32770, -5.580738965445212),\n",
       " (('2005', 'he'), 40560, -5.560393010835911)]"
      ]
     },
     "execution_count": 10,
     "metadata": {},
     "output_type": "execute_result"
    }
   ],
   "source": [
    "# Men\n",
    "men_top_pmi = bigrams_with_pmi[:2000]\n",
    "men_top_pmi[:30]"
   ]
  },
  {
   "cell_type": "code",
   "execution_count": 11,
   "metadata": {},
   "outputs": [],
   "source": [
    "pc1 = PMICalculator(female_counter, male_counter, 130576, 718413)\n",
    "\n",
    "unigrams_with_pmi = [(p[0], p[1], pc1.pmi(p[0])) for p in list(all_unigrams.items())]\n",
    "unigrams_with_pmi.sort(key = lambda x: x[-1])"
   ]
  },
  {
   "cell_type": "code",
   "execution_count": 12,
   "metadata": {},
   "outputs": [],
   "source": [
    "all_tokens_pmi = [(x[0], x[2]) for x in bigrams_with_pmi] + [(x[0], x[2]) for x in unigrams_with_pmi]"
   ]
  },
  {
   "cell_type": "code",
   "execution_count": 6,
   "metadata": {},
   "outputs": [],
   "source": [
    "# save_object(all_tokens_pmi, 'data/all_tokens_pmi.pkl')\n",
    "# Load all_tokens_pmi:\n",
    "with open('data/all_tokens_pmi.pkl', 'rb') as infile:\n",
    "    all_tokens_pmi = pickle.load(infile)"
   ]
  },
  {
   "cell_type": "code",
   "execution_count": null,
   "metadata": {},
   "outputs": [],
   "source": []
  },
  {
   "cell_type": "code",
   "execution_count": 12,
   "metadata": {},
   "outputs": [
    {
     "data": {
      "text/plain": [
       "[(('season', 'he'), 92920, -7.169508117004767),\n",
       " (('c', 'season'), 89374, -7.130599021242945),\n",
       " (('nhl', 'season'), 107596, -6.941459231976644),\n",
       " (('english', 'male'), 51900, -6.5870879992744005),\n",
       " (('class', 'cricket'), 40502, -6.3391205647118145),\n",
       " (('nfl', 'draft'), 41359, -6.273047884071101),\n",
       " (('town', 'f'), 111024, -6.248903314591642),\n",
       " (('championships', 'men'), 43722, -6.248566532355593),\n",
       " (('league', 'one'), 39728, -6.078663381051481),\n",
       " (('port', 'vale'), 30684, -6.061510555199607),\n",
       " (('male', 'television'), 38810, -6.055285097666484),\n",
       " (('county', 'f'), 26149, -5.996890337768831),\n",
       " (('i', 'men'), 31265, -5.99325709313219),\n",
       " (('pro', 'bowl'), 30146, -5.956810076501267),\n",
       " (('football', 'season'), 52560, -5.906577402718968),\n",
       " (('win', 'small'), 25146, -5.862468047273548),\n",
       " (('he', 'finished'), 69450, -5.842284346616135),\n",
       " (('player', 'he'), 27615, -5.789074227792543),\n",
       " (('politician', 'he'), 20515, -5.754235714801033),\n",
       " (('american', 'male'), 181008, -5.745569341352899),\n",
       " ('touchdowns', 21743, -5.717061075755479),\n",
       " (('category', 'male'), 82872, -5.715292112373362),\n",
       " (('he', 'earned'), 48878, -5.706116054528685),\n",
       " (('uefa', 'cup'), 23379, -5.702596015642463),\n",
       " (('male', 'film'), 46678, -5.700883613152014)]"
      ]
     },
     "execution_count": 12,
     "metadata": {},
     "output_type": "execute_result"
    }
   ],
   "source": [
    "men_top_pmi.extend(unigrams_with_pmi[:2000])\n",
    "men_top_pmi.sort(key = lambda x: x[-1])\n",
    "men_top_pmi = men_top_pmi[:2000]\n",
    "men_top_pmi[:25]"
   ]
  },
  {
   "cell_type": "code",
   "execution_count": 13,
   "metadata": {},
   "outputs": [],
   "source": [
    "women_top_pmi.extend(unigrams_with_pmi[-2000:])\n",
    "women_top_pmi.sort(key = lambda x: x[-1], reverse=True)\n",
    "women_top_pmi = women_top_pmi[:2000]"
   ]
  },
  {
   "cell_type": "code",
   "execution_count": 14,
   "metadata": {},
   "outputs": [
    {
     "data": {
      "text/plain": [
       "[(('she', 'achieved'), 1092, 1.872090797081209),\n",
       " (('her', 'greatest'), 730, 1.872090797081209),\n",
       " (('1976', 'she'), 1316, 1.872090797081209),\n",
       " (('she', 'teamed'), 641, 1.872090797081209),\n",
       " (('illustrated', 'swimsuit'), 576, 1.872090797081209),\n",
       " (('sexiest', 'women'), 972, 1.872090797081209),\n",
       " (('age', 'she'), 1244, 1.872090797081209),\n",
       " (('1971', 'she'), 1045, 1.872090797081209),\n",
       " (('her', 'post'), 682, 1.872090797081209),\n",
       " (('women', 'short'), 1297, 1.872090797081209),\n",
       " (('nurses', 'category'), 758, 1.872090797081209),\n",
       " (('19', 'she'), 504, 1.872090797081209),\n",
       " (('her', 'poems'), 1245, 1.872090797081209),\n",
       " (('completing', 'her'), 1309, 1.872090797081209),\n",
       " (('anne', 'category'), 857, 1.872090797081209),\n",
       " (('her', 'popularity'), 744, 1.872090797081209),\n",
       " (('she', 'created'), 2290, 1.872090797081209),\n",
       " (('she', 'majored'), 713, 1.872090797081209),\n",
       " (('landed', 'her'), 504, 1.872090797081209),\n",
       " (('featured', 'her'), 553, 1.872090797081209),\n",
       " (('her', 'talent'), 798, 1.872090797081209),\n",
       " (('1994', 'she'), 2386, 1.872090797081209),\n",
       " (('female', 'pop'), 1731, 1.872090797081209),\n",
       " (('her', 'views'), 519, 1.872090797081209),\n",
       " (('1965', 'she'), 894, 1.872090797081209),\n",
       " (('as', 'herself'), 1527, 1.872090797081209),\n",
       " (('1990s', 'she'), 1372, 1.872090797081209),\n",
       " (('1980s', 'she'), 1428, 1.872090797081209),\n",
       " (('1977', 'she'), 1239, 1.872090797081209),\n",
       " (('1978', 'she'), 1313, 1.872090797081209),\n",
       " (('1984', 'she'), 1541, 1.872090797081209),\n",
       " (('established', 'herself'), 569, 1.872090797081209),\n",
       " (('release', 'her'), 521, 1.872090797081209),\n",
       " (('elections', 'she'), 515, 1.872090797081209),\n",
       " (('her', 'colleagues'), 676, 1.872090797081209),\n",
       " (('her', 'junior'), 954, 1.872090797081209),\n",
       " (('1992', 'she'), 2071, 1.872090797081209),\n",
       " (('tour', 'she'), 641, 1.872090797081209),\n",
       " (('french', 'female'), 1082, 1.872090797081209),\n",
       " (('french', 'actresses'), 709, 1.872090797081209),\n",
       " (('guest', 'actress'), 548, 1.872090797081209),\n",
       " (('women', 'photographers'), 982, 1.872090797081209),\n",
       " (('established', 'her'), 626, 1.872090797081209),\n",
       " (('producer', 'she'), 597, 1.872090797081209),\n",
       " (('she', 'reprised'), 741, 1.872090797081209),\n",
       " (('female', 'actor'), 843, 1.872090797081209),\n",
       " (('her', 'degree'), 795, 1.872090797081209),\n",
       " (('stage', 'she'), 676, 1.872090797081209),\n",
       " (('she', 'collaborated'), 1040, 1.872090797081209),\n",
       " (('final', 'she'), 1019, 1.872090797081209)]"
      ]
     },
     "execution_count": 14,
     "metadata": {},
     "output_type": "execute_result"
    }
   ],
   "source": [
    "women_top_pmi[:50]"
   ]
  },
  {
   "cell_type": "code",
   "execution_count": 15,
   "metadata": {},
   "outputs": [],
   "source": [
    "women_top_pmi.reverse()\n",
    "master_pmi = men_top_pmi + women_top_pmi"
   ]
  },
  {
   "cell_type": "code",
   "execution_count": null,
   "metadata": {},
   "outputs": [],
   "source": []
  },
  {
   "cell_type": "code",
   "execution_count": 7,
   "metadata": {},
   "outputs": [],
   "source": [
    "# Load category-specific bigram counters:\n",
    "with open('data/bigrams/female_sports.pkl', 'rb') as infile:\n",
    "    female_sports = pickle.load(infile)\n",
    "with open('data/bigrams/female_monarch.pkl', 'rb') as infile:\n",
    "    female_monarch = pickle.load(infile)\n",
    "with open('data/bigrams/female_scientist.pkl', 'rb') as infile:\n",
    "    female_scientist = pickle.load(infile)\n",
    "with open('data/bigrams/female_artists.pkl', 'rb') as infile:\n",
    "    female_artists = pickle.load(infile)\n",
    "with open('data/bigrams/female_programming.pkl', 'rb') as infile:\n",
    "    female_programming = pickle.load(infile)\n",
    "with open('data/bigrams/male_programming.pkl', 'rb') as infile:\n",
    "    male_programming = pickle.load(infile)\n",
    "with open('data/bigrams/male_scientist.pkl', 'rb') as infile:\n",
    "    male_scientist = pickle.load(infile)\n",
    "with open('data/bigrams/male_sports.pkl', 'rb') as infile:\n",
    "    male_sports = pickle.load(infile)\n",
    "with open('data/bigrams/male_artists.pkl', 'rb') as infile:\n",
    "    male_artists = pickle.load(infile)\n",
    "with open('data/bigrams/male_monarch.pkl', 'rb') as infile:\n",
    "    male_monarch = pickle.load(infile)"
   ]
  },
  {
   "cell_type": "code",
   "execution_count": 8,
   "metadata": {},
   "outputs": [],
   "source": [
    "# Load category-specific unigram counters\n",
    "with open('data/bigrams/female_sports_u.pkl', 'rb') as infile:\n",
    "    female_sports_u = pickle.load(infile)\n",
    "with open('data/bigrams/female_monarch_u.pkl', 'rb') as infile:\n",
    "    female_monarch_u = pickle.load(infile)\n",
    "with open('data/bigrams/female_scientist_u.pkl', 'rb') as infile:\n",
    "    female_scientist_u = pickle.load(infile)\n",
    "with open('data/bigrams/female_artists_u.pkl', 'rb') as infile:\n",
    "    female_artists_u = pickle.load(infile)\n",
    "with open('data/bigrams/female_programming_u.pkl', 'rb') as infile:\n",
    "    female_programming_u = pickle.load(infile)\n",
    "with open('data/bigrams/male_programming_u.pkl', 'rb') as infile:\n",
    "    male_programming_u = pickle.load(infile)\n",
    "with open('data/bigrams/male_scientist_u.pkl', 'rb') as infile:\n",
    "    male_scientist_u = pickle.load(infile)\n",
    "with open('data/bigrams/male_sports_u.pkl', 'rb') as infile:\n",
    "    male_sports_u = pickle.load(infile)\n",
    "with open('data/bigrams/male_artists_u.pkl', 'rb') as infile:\n",
    "    male_artists_u = pickle.load(infile)\n",
    "with open('data/bigrams/male_monarch_u.pkl', 'rb') as infile:\n",
    "    male_monarch_u = pickle.load(infile)"
   ]
  },
  {
   "cell_type": "code",
   "execution_count": 11,
   "metadata": {},
   "outputs": [],
   "source": [
    "pc_sports = PMICalculator(female_sports + female_sports_u, male_sports + male_sports_u, 5145, 17528)\n",
    "pc_scientist = PMICalculator(female_scientist + female_scientist_u, male_scientist + male_scientist_u, 1946, 8438)"
   ]
  },
  {
   "cell_type": "code",
   "execution_count": 22,
   "metadata": {},
   "outputs": [],
   "source": [
    "pc_artists = PMICalculator(female_artists + female_artists_u, male_artists + male_artists_u, 8484, 21781)\n",
    "pc_programming = PMICalculator(female_programming + female_programming_u, male_programming + male_programming_u, 52, 995)"
   ]
  },
  {
   "cell_type": "code",
   "execution_count": 23,
   "metadata": {},
   "outputs": [
    {
     "data": {
      "text/plain": [
       "3.002440492289109"
      ]
     },
     "execution_count": 23,
     "metadata": {},
     "output_type": "execute_result"
    }
   ],
   "source": [
    "pc_programming.pmi(('first', 'woman'))"
   ]
  },
  {
   "cell_type": "code",
   "execution_count": 24,
   "metadata": {},
   "outputs": [
    {
     "data": {
      "text/plain": [
       "2.309293311729164"
      ]
     },
     "execution_count": 24,
     "metadata": {},
     "output_type": "execute_result"
    }
   ],
   "source": [
    "pc_programming.pmi(('feminist'))"
   ]
  },
  {
   "cell_type": "code",
   "execution_count": 25,
   "metadata": {},
   "outputs": [
    {
     "data": {
      "text/plain": [
       "0.7688482707820157"
      ]
     },
     "execution_count": 25,
     "metadata": {},
     "output_type": "execute_result"
    }
   ],
   "source": [
    "pc_programming.pmi(('married'))"
   ]
  },
  {
   "cell_type": "code",
   "execution_count": 26,
   "metadata": {},
   "outputs": [
    {
     "data": {
      "text/plain": [
       "0.5422264550914813"
      ]
     },
     "execution_count": 26,
     "metadata": {},
     "output_type": "execute_result"
    }
   ],
   "source": [
    "pc_programming.pmi(('family'))"
   ]
  },
  {
   "cell_type": "code",
   "execution_count": 18,
   "metadata": {},
   "outputs": [
    {
     "data": {
      "text/plain": [
       "1.4587582620791872"
      ]
     },
     "execution_count": 18,
     "metadata": {},
     "output_type": "execute_result"
    }
   ],
   "source": [
    "pc_monarch.pmi(('first', 'woman'))"
   ]
  },
  {
   "cell_type": "code",
   "execution_count": 19,
   "metadata": {},
   "outputs": [
    {
     "data": {
      "text/plain": [
       "1.3052452153794434"
      ]
     },
     "execution_count": 19,
     "metadata": {},
     "output_type": "execute_result"
    }
   ],
   "source": [
    "pc_monarch.pmi(('feminist'))"
   ]
  },
  {
   "cell_type": "code",
   "execution_count": 20,
   "metadata": {},
   "outputs": [
    {
     "data": {
      "text/plain": [
       "0.6198305167052709"
      ]
     },
     "execution_count": 20,
     "metadata": {},
     "output_type": "execute_result"
    }
   ],
   "source": [
    "pc_monarch.pmi(('married'))"
   ]
  },
  {
   "cell_type": "code",
   "execution_count": 21,
   "metadata": {},
   "outputs": [
    {
     "data": {
      "text/plain": [
       "0.542421352033104"
      ]
     },
     "execution_count": 21,
     "metadata": {},
     "output_type": "execute_result"
    }
   ],
   "source": [
    "pc_monarch.pmi(('family'))"
   ]
  },
  {
   "cell_type": "code",
   "execution_count": 39,
   "metadata": {},
   "outputs": [
    {
     "data": {
      "text/plain": [
       "0.1664861693851174"
      ]
     },
     "execution_count": 39,
     "metadata": {},
     "output_type": "execute_result"
    }
   ],
   "source": [
    "pc_artists.pmi(('first','person'))"
   ]
  },
  {
   "cell_type": "code",
   "execution_count": 38,
   "metadata": {},
   "outputs": [
    {
     "data": {
      "text/plain": [
       "0.30688794809018294"
      ]
     },
     "execution_count": 38,
     "metadata": {},
     "output_type": "execute_result"
    }
   ],
   "source": [
    "pc_scientist.pmi(('first','person'))"
   ]
  },
  {
   "cell_type": "code",
   "execution_count": 35,
   "metadata": {},
   "outputs": [
    {
     "data": {
      "text/plain": [
       "-0.01790269005587497"
      ]
     },
     "execution_count": 35,
     "metadata": {},
     "output_type": "execute_result"
    }
   ],
   "source": [
    "pc_monarch.pmi(('first','person'))"
   ]
  },
  {
   "cell_type": "code",
   "execution_count": 36,
   "metadata": {},
   "outputs": [
    {
     "data": {
      "text/plain": [
       "-0.48483668079602094"
      ]
     },
     "execution_count": 36,
     "metadata": {},
     "output_type": "execute_result"
    }
   ],
   "source": [
    "pc_sports.pmi(('first','person'))"
   ]
  },
  {
   "cell_type": "code",
   "execution_count": 37,
   "metadata": {},
   "outputs": [
    {
     "data": {
      "text/plain": [
       "-0.7587596234044529"
      ]
     },
     "execution_count": 37,
     "metadata": {},
     "output_type": "execute_result"
    }
   ],
   "source": [
    "pc_programming.pmi(('first','person'))"
   ]
  },
  {
   "cell_type": "code",
   "execution_count": null,
   "metadata": {},
   "outputs": [],
   "source": []
  },
  {
   "cell_type": "code",
   "execution_count": 38,
   "metadata": {},
   "outputs": [
    {
     "data": {
      "text/plain": [
       "(-6.985273607088316, 1.483149419958493)"
      ]
     },
     "execution_count": 38,
     "metadata": {},
     "output_type": "execute_result"
    }
   ],
   "source": [
    "all_sports = female_sports + female_sports_u + male_sports + male_sports_u\n",
    "for k in set(k for k,v in all_sports.items() if v < 200):\n",
    "    del all_sports[k]\n",
    "sports_with_pmi = [(p[0], pc_sports.pmi(p[0])) for p in list(all_sports.items())]\n",
    "minmax([i[1] for i in sports_with_pmi])"
   ]
  },
  {
   "cell_type": "code",
   "execution_count": 39,
   "metadata": {},
   "outputs": [
    {
     "data": {
      "text/plain": [
       "(-7.310186473808795, 1.5990677570825893)"
      ]
     },
     "execution_count": 39,
     "metadata": {},
     "output_type": "execute_result"
    }
   ],
   "source": [
    "all_monarch = female_monarch + female_monarch_u + male_monarch + male_monarch_u\n",
    "for k in set(k for k,v in all_monarch.items() if v < 200):\n",
    "    del all_monarch[k]\n",
    "monarch_with_pmi = [(p[0], pc_monarch.pmi(p[0])) for p in list(all_monarch.items())]\n",
    "minmax([i[1] for i in monarch_with_pmi])"
   ]
  },
  {
   "cell_type": "code",
   "execution_count": 40,
   "metadata": {},
   "outputs": [
    {
     "data": {
      "text/plain": [
       "(-3.1001181023244597, 2.9792375952094456)"
      ]
     },
     "execution_count": 40,
     "metadata": {},
     "output_type": "execute_result"
    }
   ],
   "source": [
    "all_programming = female_programming + female_programming_u + male_programming + male_programming_u\n",
    "for k in set(k for k,v in all_programming.items() if v < 200):\n",
    "    del all_programming[k]\n",
    "programming_with_pmi = [(p[0], pc_programming.pmi(p[0])) for p in list(all_programming.items())]\n",
    "minmax([i[1] for i in programming_with_pmi])"
   ]
  },
  {
   "cell_type": "code",
   "execution_count": null,
   "metadata": {},
   "outputs": [],
   "source": []
  },
  {
   "cell_type": "code",
   "execution_count": 41,
   "metadata": {},
   "outputs": [
    {
     "data": {
      "text/plain": [
       "(-5.259907033730637, 1.6744901761979216)"
      ]
     },
     "execution_count": 41,
     "metadata": {},
     "output_type": "execute_result"
    }
   ],
   "source": [
    "all_scientist = female_scientist + female_scientist_u + male_scientist + male_scientist_u\n",
    "for k in set(k for k,v in all_scientist.items() if v < 200):\n",
    "    del all_scientist[k]\n",
    "scientist_with_pmi = [(p[0], pc_scientist.pmi(p[0])) for p in list(all_scientist.items())]\n",
    "minmax([i[1] for i in scientist_with_pmi])"
   ]
  },
  {
   "cell_type": "code",
   "execution_count": 42,
   "metadata": {},
   "outputs": [
    {
     "data": {
      "text/plain": [
       "(-6.247340065028609, 1.2718098926412154)"
      ]
     },
     "execution_count": 42,
     "metadata": {},
     "output_type": "execute_result"
    }
   ],
   "source": [
    "all_artists = female_artists + female_artists_u + male_artists + male_artists_u\n",
    "for k in set(k for k,v in all_artists.items() if v < 200):\n",
    "    del all_artists[k]\n",
    "artists_with_pmi = [(p[0], pc_artists.pmi(p[0])) for p in list(all_artists.items())]\n",
    "minmax([i[1] for i in artists_with_pmi])"
   ]
  },
  {
   "cell_type": "code",
   "execution_count": null,
   "metadata": {},
   "outputs": [],
   "source": []
  },
  {
   "cell_type": "code",
   "execution_count": 29,
   "metadata": {},
   "outputs": [],
   "source": [
    "# save_object(master_pmi, 'data/master_pmi.pkl')"
   ]
  },
  {
   "cell_type": "code",
   "execution_count": 4,
   "metadata": {},
   "outputs": [],
   "source": [
    "# Load master_pmi:\n",
    "with open('data/master_pmi.pkl', 'rb') as infile:\n",
    "    master_pmi = pickle.load(infile)"
   ]
  },
  {
   "cell_type": "code",
   "execution_count": 8,
   "metadata": {},
   "outputs": [
    {
     "data": {
      "text/html": [
       "<div>\n",
       "<style scoped>\n",
       "    .dataframe tbody tr th:only-of-type {\n",
       "        vertical-align: middle;\n",
       "    }\n",
       "\n",
       "    .dataframe tbody tr th {\n",
       "        vertical-align: top;\n",
       "    }\n",
       "\n",
       "    .dataframe thead th {\n",
       "        text-align: right;\n",
       "    }\n",
       "</style>\n",
       "<table border=\"1\" class=\"dataframe\">\n",
       "  <thead>\n",
       "    <tr style=\"text-align: right;\">\n",
       "      <th></th>\n",
       "      <th>Token</th>\n",
       "      <th>PMI - All bios</th>\n",
       "      <th>PMI - Sports</th>\n",
       "    </tr>\n",
       "  </thead>\n",
       "  <tbody>\n",
       "    <tr>\n",
       "      <th>0</th>\n",
       "      <td>(season, he)</td>\n",
       "      <td>-7.169508</td>\n",
       "      <td>0.0</td>\n",
       "    </tr>\n",
       "    <tr>\n",
       "      <th>1</th>\n",
       "      <td>(c, season)</td>\n",
       "      <td>-7.130599</td>\n",
       "      <td>0.0</td>\n",
       "    </tr>\n",
       "    <tr>\n",
       "      <th>2</th>\n",
       "      <td>(nhl, season)</td>\n",
       "      <td>-6.941459</td>\n",
       "      <td>0.0</td>\n",
       "    </tr>\n",
       "    <tr>\n",
       "      <th>3</th>\n",
       "      <td>(english, male)</td>\n",
       "      <td>-6.587088</td>\n",
       "      <td>0.0</td>\n",
       "    </tr>\n",
       "    <tr>\n",
       "      <th>4</th>\n",
       "      <td>(class, cricket)</td>\n",
       "      <td>-6.339121</td>\n",
       "      <td>0.0</td>\n",
       "    </tr>\n",
       "  </tbody>\n",
       "</table>\n",
       "</div>"
      ],
      "text/plain": [
       "              Token  PMI - All bios  PMI - Sports\n",
       "0      (season, he)       -7.169508           0.0\n",
       "1       (c, season)       -7.130599           0.0\n",
       "2     (nhl, season)       -6.941459           0.0\n",
       "3   (english, male)       -6.587088           0.0\n",
       "4  (class, cricket)       -6.339121           0.0"
      ]
     },
     "execution_count": 8,
     "metadata": {},
     "output_type": "execute_result"
    }
   ],
   "source": [
    "new_master_pmi = [(x[0], x[2]) for x in master_pmi]\n",
    "df = pd.DataFrame(new_master_pmi, columns=[\"Token\", \"PMI - All bios\"])\n",
    "df[\"PMI - Sports\"] = [pc_sports.pmi(i[0]) for i in master_pmi]\n",
    "df.head()"
   ]
  },
  {
   "cell_type": "code",
   "execution_count": 9,
   "metadata": {},
   "outputs": [],
   "source": [
    "df[\"PMI - Scientists\"] = [pc_scientist.pmi(i[0]) for i in master_pmi]"
   ]
  },
  {
   "cell_type": "code",
   "execution_count": 11,
   "metadata": {},
   "outputs": [],
   "source": [
    "df[\"PMI - Artists\"] = [pc_artists.pmi(i[0]) for i in master_pmi]\n",
    "df[\"PMI - Programming\"] = [pc_programming.pmi(i[0]) for i in master_pmi]"
   ]
  },
  {
   "cell_type": "code",
   "execution_count": 2,
   "metadata": {},
   "outputs": [],
   "source": [
    "# Load master_pmi:\n",
    "with open('data/df.pkl', 'rb') as infile:\n",
    "    df = pickle.load(infile)"
   ]
  },
  {
   "cell_type": "code",
   "execution_count": 4,
   "metadata": {},
   "outputs": [
    {
     "data": {
      "text/html": [
       "<div>\n",
       "<style scoped>\n",
       "    .dataframe tbody tr th:only-of-type {\n",
       "        vertical-align: middle;\n",
       "    }\n",
       "\n",
       "    .dataframe tbody tr th {\n",
       "        vertical-align: top;\n",
       "    }\n",
       "\n",
       "    .dataframe thead th {\n",
       "        text-align: right;\n",
       "    }\n",
       "</style>\n",
       "<table border=\"1\" class=\"dataframe\">\n",
       "  <thead>\n",
       "    <tr style=\"text-align: right;\">\n",
       "      <th></th>\n",
       "      <th>Token</th>\n",
       "      <th>PMI - All bios</th>\n",
       "      <th>PMI - Sports</th>\n",
       "      <th>PMI - Scientists</th>\n",
       "      <th>PMI - Artists</th>\n",
       "      <th>PMI - Programming</th>\n",
       "      <th>PMI - Monarch</th>\n",
       "    </tr>\n",
       "  </thead>\n",
       "  <tbody>\n",
       "    <tr>\n",
       "      <th>0</th>\n",
       "      <td>(season, he)</td>\n",
       "      <td>-7.169508</td>\n",
       "      <td>0.000000</td>\n",
       "      <td>0.000000</td>\n",
       "      <td>-3.419538</td>\n",
       "      <td>0.0</td>\n",
       "      <td>-4.606266</td>\n",
       "    </tr>\n",
       "    <tr>\n",
       "      <th>1</th>\n",
       "      <td>(c, season)</td>\n",
       "      <td>-7.130599</td>\n",
       "      <td>0.000000</td>\n",
       "      <td>0.000000</td>\n",
       "      <td>-1.436240</td>\n",
       "      <td>0.0</td>\n",
       "      <td>0.000000</td>\n",
       "    </tr>\n",
       "    <tr>\n",
       "      <th>2</th>\n",
       "      <td>(nhl, season)</td>\n",
       "      <td>-6.941459</td>\n",
       "      <td>0.000000</td>\n",
       "      <td>0.000000</td>\n",
       "      <td>-2.640213</td>\n",
       "      <td>0.0</td>\n",
       "      <td>0.000000</td>\n",
       "    </tr>\n",
       "    <tr>\n",
       "      <th>3</th>\n",
       "      <td>(english, male)</td>\n",
       "      <td>-6.587088</td>\n",
       "      <td>0.000000</td>\n",
       "      <td>0.000000</td>\n",
       "      <td>0.000000</td>\n",
       "      <td>0.0</td>\n",
       "      <td>-3.267669</td>\n",
       "    </tr>\n",
       "    <tr>\n",
       "      <th>4</th>\n",
       "      <td>(class, cricket)</td>\n",
       "      <td>-6.339121</td>\n",
       "      <td>0.000000</td>\n",
       "      <td>0.000000</td>\n",
       "      <td>0.000000</td>\n",
       "      <td>0.0</td>\n",
       "      <td>0.000000</td>\n",
       "    </tr>\n",
       "    <tr>\n",
       "      <th>5</th>\n",
       "      <td>(nfl, draft)</td>\n",
       "      <td>-6.273048</td>\n",
       "      <td>0.000000</td>\n",
       "      <td>0.000000</td>\n",
       "      <td>0.000000</td>\n",
       "      <td>0.0</td>\n",
       "      <td>0.000000</td>\n",
       "    </tr>\n",
       "    <tr>\n",
       "      <th>6</th>\n",
       "      <td>(town, f)</td>\n",
       "      <td>-6.248903</td>\n",
       "      <td>-6.985274</td>\n",
       "      <td>0.000000</td>\n",
       "      <td>0.000000</td>\n",
       "      <td>0.0</td>\n",
       "      <td>0.000000</td>\n",
       "    </tr>\n",
       "    <tr>\n",
       "      <th>7</th>\n",
       "      <td>(championships, men)</td>\n",
       "      <td>-6.248567</td>\n",
       "      <td>-6.464293</td>\n",
       "      <td>0.000000</td>\n",
       "      <td>0.000000</td>\n",
       "      <td>0.0</td>\n",
       "      <td>-2.339906</td>\n",
       "    </tr>\n",
       "    <tr>\n",
       "      <th>8</th>\n",
       "      <td>(league, one)</td>\n",
       "      <td>-6.078663</td>\n",
       "      <td>-6.411541</td>\n",
       "      <td>0.000000</td>\n",
       "      <td>-1.126085</td>\n",
       "      <td>0.0</td>\n",
       "      <td>0.000000</td>\n",
       "    </tr>\n",
       "    <tr>\n",
       "      <th>9</th>\n",
       "      <td>(port, vale)</td>\n",
       "      <td>-6.061511</td>\n",
       "      <td>0.000000</td>\n",
       "      <td>0.000000</td>\n",
       "      <td>0.000000</td>\n",
       "      <td>0.0</td>\n",
       "      <td>0.000000</td>\n",
       "    </tr>\n",
       "    <tr>\n",
       "      <th>10</th>\n",
       "      <td>(male, television)</td>\n",
       "      <td>-6.055285</td>\n",
       "      <td>0.000000</td>\n",
       "      <td>0.000000</td>\n",
       "      <td>-5.010457</td>\n",
       "      <td>0.0</td>\n",
       "      <td>0.000000</td>\n",
       "    </tr>\n",
       "    <tr>\n",
       "      <th>11</th>\n",
       "      <td>(county, f)</td>\n",
       "      <td>-5.996890</td>\n",
       "      <td>0.000000</td>\n",
       "      <td>0.000000</td>\n",
       "      <td>0.000000</td>\n",
       "      <td>0.0</td>\n",
       "      <td>0.000000</td>\n",
       "    </tr>\n",
       "    <tr>\n",
       "      <th>12</th>\n",
       "      <td>(i, men)</td>\n",
       "      <td>-5.993257</td>\n",
       "      <td>-5.304696</td>\n",
       "      <td>0.000000</td>\n",
       "      <td>0.000000</td>\n",
       "      <td>0.0</td>\n",
       "      <td>0.000000</td>\n",
       "    </tr>\n",
       "    <tr>\n",
       "      <th>13</th>\n",
       "      <td>(pro, bowl)</td>\n",
       "      <td>-5.956810</td>\n",
       "      <td>0.000000</td>\n",
       "      <td>0.000000</td>\n",
       "      <td>0.000000</td>\n",
       "      <td>0.0</td>\n",
       "      <td>0.000000</td>\n",
       "    </tr>\n",
       "    <tr>\n",
       "      <th>14</th>\n",
       "      <td>(football, season)</td>\n",
       "      <td>-5.906577</td>\n",
       "      <td>-5.707527</td>\n",
       "      <td>0.000000</td>\n",
       "      <td>0.460880</td>\n",
       "      <td>0.0</td>\n",
       "      <td>0.000000</td>\n",
       "    </tr>\n",
       "    <tr>\n",
       "      <th>15</th>\n",
       "      <td>(win, small)</td>\n",
       "      <td>-5.862468</td>\n",
       "      <td>0.000000</td>\n",
       "      <td>0.000000</td>\n",
       "      <td>0.000000</td>\n",
       "      <td>0.0</td>\n",
       "      <td>0.000000</td>\n",
       "    </tr>\n",
       "    <tr>\n",
       "      <th>16</th>\n",
       "      <td>(he, finished)</td>\n",
       "      <td>-5.842284</td>\n",
       "      <td>0.000000</td>\n",
       "      <td>0.000000</td>\n",
       "      <td>-4.070524</td>\n",
       "      <td>0.0</td>\n",
       "      <td>-4.558273</td>\n",
       "    </tr>\n",
       "    <tr>\n",
       "      <th>17</th>\n",
       "      <td>(player, he)</td>\n",
       "      <td>-5.789074</td>\n",
       "      <td>-4.450421</td>\n",
       "      <td>0.000000</td>\n",
       "      <td>0.000000</td>\n",
       "      <td>0.0</td>\n",
       "      <td>0.000000</td>\n",
       "    </tr>\n",
       "    <tr>\n",
       "      <th>18</th>\n",
       "      <td>(politician, he)</td>\n",
       "      <td>-5.754236</td>\n",
       "      <td>0.000000</td>\n",
       "      <td>0.000000</td>\n",
       "      <td>0.000000</td>\n",
       "      <td>0.0</td>\n",
       "      <td>0.000000</td>\n",
       "    </tr>\n",
       "    <tr>\n",
       "      <th>19</th>\n",
       "      <td>(american, male)</td>\n",
       "      <td>-5.745569</td>\n",
       "      <td>-5.741604</td>\n",
       "      <td>0.000000</td>\n",
       "      <td>-5.742491</td>\n",
       "      <td>0.0</td>\n",
       "      <td>-3.042623</td>\n",
       "    </tr>\n",
       "    <tr>\n",
       "      <th>20</th>\n",
       "      <td>touchdowns</td>\n",
       "      <td>-5.717061</td>\n",
       "      <td>-5.021139</td>\n",
       "      <td>0.000000</td>\n",
       "      <td>0.000000</td>\n",
       "      <td>0.0</td>\n",
       "      <td>0.000000</td>\n",
       "    </tr>\n",
       "    <tr>\n",
       "      <th>21</th>\n",
       "      <td>(category, male)</td>\n",
       "      <td>-5.715292</td>\n",
       "      <td>0.000000</td>\n",
       "      <td>-2.719959</td>\n",
       "      <td>-6.081912</td>\n",
       "      <td>0.0</td>\n",
       "      <td>-4.288560</td>\n",
       "    </tr>\n",
       "    <tr>\n",
       "      <th>22</th>\n",
       "      <td>(he, earned)</td>\n",
       "      <td>-5.706116</td>\n",
       "      <td>-5.266782</td>\n",
       "      <td>-4.732390</td>\n",
       "      <td>-4.324758</td>\n",
       "      <td>0.0</td>\n",
       "      <td>-4.041151</td>\n",
       "    </tr>\n",
       "    <tr>\n",
       "      <th>23</th>\n",
       "      <td>(uefa, cup)</td>\n",
       "      <td>-5.702596</td>\n",
       "      <td>-4.666031</td>\n",
       "      <td>0.000000</td>\n",
       "      <td>0.000000</td>\n",
       "      <td>0.0</td>\n",
       "      <td>0.000000</td>\n",
       "    </tr>\n",
       "    <tr>\n",
       "      <th>24</th>\n",
       "      <td>(male, film)</td>\n",
       "      <td>-5.700884</td>\n",
       "      <td>0.000000</td>\n",
       "      <td>0.000000</td>\n",
       "      <td>-5.318491</td>\n",
       "      <td>0.0</td>\n",
       "      <td>-2.563049</td>\n",
       "    </tr>\n",
       "    <tr>\n",
       "      <th>25</th>\n",
       "      <td>(he, played)</td>\n",
       "      <td>-5.664983</td>\n",
       "      <td>-6.067643</td>\n",
       "      <td>-3.315942</td>\n",
       "      <td>-3.724726</td>\n",
       "      <td>0.0</td>\n",
       "      <td>-5.418340</td>\n",
       "    </tr>\n",
       "    <tr>\n",
       "      <th>26</th>\n",
       "      <td>(cleveland, browns)</td>\n",
       "      <td>-5.628383</td>\n",
       "      <td>0.000000</td>\n",
       "      <td>0.000000</td>\n",
       "      <td>-0.337628</td>\n",
       "      <td>0.0</td>\n",
       "      <td>0.000000</td>\n",
       "    </tr>\n",
       "    <tr>\n",
       "      <th>27</th>\n",
       "      <td>(team, he)</td>\n",
       "      <td>-5.625948</td>\n",
       "      <td>-3.994011</td>\n",
       "      <td>-1.851870</td>\n",
       "      <td>0.000000</td>\n",
       "      <td>0.0</td>\n",
       "      <td>0.000000</td>\n",
       "    </tr>\n",
       "    <tr>\n",
       "      <th>28</th>\n",
       "      <td>(he, competed)</td>\n",
       "      <td>-5.601100</td>\n",
       "      <td>-4.926751</td>\n",
       "      <td>0.000000</td>\n",
       "      <td>-4.784974</td>\n",
       "      <td>0.0</td>\n",
       "      <td>0.000000</td>\n",
       "    </tr>\n",
       "    <tr>\n",
       "      <th>29</th>\n",
       "      <td>cfb</td>\n",
       "      <td>-5.591894</td>\n",
       "      <td>-5.136035</td>\n",
       "      <td>-1.692806</td>\n",
       "      <td>0.000000</td>\n",
       "      <td>0.0</td>\n",
       "      <td>0.000000</td>\n",
       "    </tr>\n",
       "    <tr>\n",
       "      <th>30</th>\n",
       "      <td>(athletic, f)</td>\n",
       "      <td>-5.580739</td>\n",
       "      <td>-4.667453</td>\n",
       "      <td>0.000000</td>\n",
       "      <td>-1.126085</td>\n",
       "      <td>0.0</td>\n",
       "      <td>0.000000</td>\n",
       "    </tr>\n",
       "    <tr>\n",
       "      <th>31</th>\n",
       "      <td>(2005, he)</td>\n",
       "      <td>-5.560393</td>\n",
       "      <td>0.000000</td>\n",
       "      <td>0.000000</td>\n",
       "      <td>-5.406532</td>\n",
       "      <td>0.0</td>\n",
       "      <td>-3.415827</td>\n",
       "    </tr>\n",
       "    <tr>\n",
       "      <th>32</th>\n",
       "      <td>(he, graduated)</td>\n",
       "      <td>-5.549041</td>\n",
       "      <td>-4.923731</td>\n",
       "      <td>-4.331863</td>\n",
       "      <td>-4.358505</td>\n",
       "      <td>0.0</td>\n",
       "      <td>-4.445446</td>\n",
       "    </tr>\n",
       "    <tr>\n",
       "      <th>33</th>\n",
       "      <td>(biography, he)</td>\n",
       "      <td>-5.542904</td>\n",
       "      <td>0.000000</td>\n",
       "      <td>0.000000</td>\n",
       "      <td>0.000000</td>\n",
       "      <td>0.0</td>\n",
       "      <td>0.000000</td>\n",
       "    </tr>\n",
       "    <tr>\n",
       "      <th>34</th>\n",
       "      <td>(male, actors)</td>\n",
       "      <td>-5.534933</td>\n",
       "      <td>0.000000</td>\n",
       "      <td>0.000000</td>\n",
       "      <td>-5.478121</td>\n",
       "      <td>0.0</td>\n",
       "      <td>-4.277540</td>\n",
       "    </tr>\n",
       "    <tr>\n",
       "      <th>35</th>\n",
       "      <td>(segunda, división)</td>\n",
       "      <td>-5.518850</td>\n",
       "      <td>-4.118442</td>\n",
       "      <td>0.000000</td>\n",
       "      <td>0.000000</td>\n",
       "      <td>0.0</td>\n",
       "      <td>0.000000</td>\n",
       "    </tr>\n",
       "    <tr>\n",
       "      <th>36</th>\n",
       "      <td>(hurling, championship)</td>\n",
       "      <td>-5.509804</td>\n",
       "      <td>-1.301862</td>\n",
       "      <td>0.000000</td>\n",
       "      <td>0.000000</td>\n",
       "      <td>0.0</td>\n",
       "      <td>0.000000</td>\n",
       "    </tr>\n",
       "    <tr>\n",
       "      <th>37</th>\n",
       "      <td>(football, teams)</td>\n",
       "      <td>-5.499327</td>\n",
       "      <td>-4.610420</td>\n",
       "      <td>0.000000</td>\n",
       "      <td>0.000000</td>\n",
       "      <td>0.0</td>\n",
       "      <td>-5.137422</td>\n",
       "    </tr>\n",
       "    <tr>\n",
       "      <th>38</th>\n",
       "      <td>(canadian, male)</td>\n",
       "      <td>-5.471865</td>\n",
       "      <td>0.000000</td>\n",
       "      <td>0.000000</td>\n",
       "      <td>-4.401513</td>\n",
       "      <td>0.0</td>\n",
       "      <td>0.000000</td>\n",
       "    </tr>\n",
       "    <tr>\n",
       "      <th>39</th>\n",
       "      <td>(baseball, all)</td>\n",
       "      <td>-5.444748</td>\n",
       "      <td>-4.735451</td>\n",
       "      <td>0.000000</td>\n",
       "      <td>-0.552739</td>\n",
       "      <td>0.0</td>\n",
       "      <td>0.000000</td>\n",
       "    </tr>\n",
       "    <tr>\n",
       "      <th>40</th>\n",
       "      <td>(concacaf, gold)</td>\n",
       "      <td>-5.433220</td>\n",
       "      <td>-4.446971</td>\n",
       "      <td>0.000000</td>\n",
       "      <td>1.271810</td>\n",
       "      <td>0.0</td>\n",
       "      <td>0.000000</td>\n",
       "    </tr>\n",
       "    <tr>\n",
       "      <th>41</th>\n",
       "      <td>(david, category)</td>\n",
       "      <td>-5.428136</td>\n",
       "      <td>0.000000</td>\n",
       "      <td>0.000000</td>\n",
       "      <td>-3.629754</td>\n",
       "      <td>0.0</td>\n",
       "      <td>-2.651342</td>\n",
       "    </tr>\n",
       "    <tr>\n",
       "      <th>42</th>\n",
       "      <td>(he, studied)</td>\n",
       "      <td>-5.413835</td>\n",
       "      <td>0.000000</td>\n",
       "      <td>-4.718264</td>\n",
       "      <td>-4.409913</td>\n",
       "      <td>0.0</td>\n",
       "      <td>-4.443101</td>\n",
       "    </tr>\n",
       "    <tr>\n",
       "      <th>43</th>\n",
       "      <td>(derby, county)</td>\n",
       "      <td>-5.408656</td>\n",
       "      <td>0.000000</td>\n",
       "      <td>0.000000</td>\n",
       "      <td>0.000000</td>\n",
       "      <td>0.0</td>\n",
       "      <td>0.000000</td>\n",
       "    </tr>\n",
       "    <tr>\n",
       "      <th>44</th>\n",
       "      <td>(buffalo, bills)</td>\n",
       "      <td>-5.387217</td>\n",
       "      <td>0.000000</td>\n",
       "      <td>0.000000</td>\n",
       "      <td>0.000000</td>\n",
       "      <td>0.0</td>\n",
       "      <td>0.000000</td>\n",
       "    </tr>\n",
       "    <tr>\n",
       "      <th>45</th>\n",
       "      <td>(county, cricket)</td>\n",
       "      <td>-5.381391</td>\n",
       "      <td>-4.034303</td>\n",
       "      <td>0.000000</td>\n",
       "      <td>-0.519950</td>\n",
       "      <td>0.0</td>\n",
       "      <td>-5.838742</td>\n",
       "    </tr>\n",
       "    <tr>\n",
       "      <th>46</th>\n",
       "      <td>(club, players)</td>\n",
       "      <td>-5.369464</td>\n",
       "      <td>-2.310733</td>\n",
       "      <td>0.000000</td>\n",
       "      <td>0.000000</td>\n",
       "      <td>0.0</td>\n",
       "      <td>0.000000</td>\n",
       "    </tr>\n",
       "    <tr>\n",
       "      <th>47</th>\n",
       "      <td>(1990, he)</td>\n",
       "      <td>-5.354482</td>\n",
       "      <td>0.000000</td>\n",
       "      <td>-3.598509</td>\n",
       "      <td>-4.605926</td>\n",
       "      <td>0.0</td>\n",
       "      <td>0.000000</td>\n",
       "    </tr>\n",
       "    <tr>\n",
       "      <th>48</th>\n",
       "      <td>(nfl, season)</td>\n",
       "      <td>-5.340632</td>\n",
       "      <td>-5.314233</td>\n",
       "      <td>0.000000</td>\n",
       "      <td>-1.199111</td>\n",
       "      <td>0.0</td>\n",
       "      <td>0.000000</td>\n",
       "    </tr>\n",
       "    <tr>\n",
       "      <th>49</th>\n",
       "      <td>(minnesota, vikings)</td>\n",
       "      <td>-5.336361</td>\n",
       "      <td>0.000000</td>\n",
       "      <td>0.000000</td>\n",
       "      <td>-1.402339</td>\n",
       "      <td>0.0</td>\n",
       "      <td>0.000000</td>\n",
       "    </tr>\n",
       "  </tbody>\n",
       "</table>\n",
       "</div>"
      ],
      "text/plain": [
       "                      Token  PMI - All bios  PMI - Sports  PMI - Scientists  \\\n",
       "0              (season, he)       -7.169508      0.000000          0.000000   \n",
       "1               (c, season)       -7.130599      0.000000          0.000000   \n",
       "2             (nhl, season)       -6.941459      0.000000          0.000000   \n",
       "3           (english, male)       -6.587088      0.000000          0.000000   \n",
       "4          (class, cricket)       -6.339121      0.000000          0.000000   \n",
       "5              (nfl, draft)       -6.273048      0.000000          0.000000   \n",
       "6                 (town, f)       -6.248903     -6.985274          0.000000   \n",
       "7      (championships, men)       -6.248567     -6.464293          0.000000   \n",
       "8             (league, one)       -6.078663     -6.411541          0.000000   \n",
       "9              (port, vale)       -6.061511      0.000000          0.000000   \n",
       "10       (male, television)       -6.055285      0.000000          0.000000   \n",
       "11              (county, f)       -5.996890      0.000000          0.000000   \n",
       "12                 (i, men)       -5.993257     -5.304696          0.000000   \n",
       "13              (pro, bowl)       -5.956810      0.000000          0.000000   \n",
       "14       (football, season)       -5.906577     -5.707527          0.000000   \n",
       "15             (win, small)       -5.862468      0.000000          0.000000   \n",
       "16           (he, finished)       -5.842284      0.000000          0.000000   \n",
       "17             (player, he)       -5.789074     -4.450421          0.000000   \n",
       "18         (politician, he)       -5.754236      0.000000          0.000000   \n",
       "19         (american, male)       -5.745569     -5.741604          0.000000   \n",
       "20               touchdowns       -5.717061     -5.021139          0.000000   \n",
       "21         (category, male)       -5.715292      0.000000         -2.719959   \n",
       "22             (he, earned)       -5.706116     -5.266782         -4.732390   \n",
       "23              (uefa, cup)       -5.702596     -4.666031          0.000000   \n",
       "24             (male, film)       -5.700884      0.000000          0.000000   \n",
       "25             (he, played)       -5.664983     -6.067643         -3.315942   \n",
       "26      (cleveland, browns)       -5.628383      0.000000          0.000000   \n",
       "27               (team, he)       -5.625948     -3.994011         -1.851870   \n",
       "28           (he, competed)       -5.601100     -4.926751          0.000000   \n",
       "29                      cfb       -5.591894     -5.136035         -1.692806   \n",
       "30            (athletic, f)       -5.580739     -4.667453          0.000000   \n",
       "31               (2005, he)       -5.560393      0.000000          0.000000   \n",
       "32          (he, graduated)       -5.549041     -4.923731         -4.331863   \n",
       "33          (biography, he)       -5.542904      0.000000          0.000000   \n",
       "34           (male, actors)       -5.534933      0.000000          0.000000   \n",
       "35      (segunda, división)       -5.518850     -4.118442          0.000000   \n",
       "36  (hurling, championship)       -5.509804     -1.301862          0.000000   \n",
       "37        (football, teams)       -5.499327     -4.610420          0.000000   \n",
       "38         (canadian, male)       -5.471865      0.000000          0.000000   \n",
       "39          (baseball, all)       -5.444748     -4.735451          0.000000   \n",
       "40         (concacaf, gold)       -5.433220     -4.446971          0.000000   \n",
       "41        (david, category)       -5.428136      0.000000          0.000000   \n",
       "42            (he, studied)       -5.413835      0.000000         -4.718264   \n",
       "43          (derby, county)       -5.408656      0.000000          0.000000   \n",
       "44         (buffalo, bills)       -5.387217      0.000000          0.000000   \n",
       "45        (county, cricket)       -5.381391     -4.034303          0.000000   \n",
       "46          (club, players)       -5.369464     -2.310733          0.000000   \n",
       "47               (1990, he)       -5.354482      0.000000         -3.598509   \n",
       "48            (nfl, season)       -5.340632     -5.314233          0.000000   \n",
       "49     (minnesota, vikings)       -5.336361      0.000000          0.000000   \n",
       "\n",
       "    PMI - Artists  PMI - Programming  PMI - Monarch  \n",
       "0       -3.419538                0.0      -4.606266  \n",
       "1       -1.436240                0.0       0.000000  \n",
       "2       -2.640213                0.0       0.000000  \n",
       "3        0.000000                0.0      -3.267669  \n",
       "4        0.000000                0.0       0.000000  \n",
       "5        0.000000                0.0       0.000000  \n",
       "6        0.000000                0.0       0.000000  \n",
       "7        0.000000                0.0      -2.339906  \n",
       "8       -1.126085                0.0       0.000000  \n",
       "9        0.000000                0.0       0.000000  \n",
       "10      -5.010457                0.0       0.000000  \n",
       "11       0.000000                0.0       0.000000  \n",
       "12       0.000000                0.0       0.000000  \n",
       "13       0.000000                0.0       0.000000  \n",
       "14       0.460880                0.0       0.000000  \n",
       "15       0.000000                0.0       0.000000  \n",
       "16      -4.070524                0.0      -4.558273  \n",
       "17       0.000000                0.0       0.000000  \n",
       "18       0.000000                0.0       0.000000  \n",
       "19      -5.742491                0.0      -3.042623  \n",
       "20       0.000000                0.0       0.000000  \n",
       "21      -6.081912                0.0      -4.288560  \n",
       "22      -4.324758                0.0      -4.041151  \n",
       "23       0.000000                0.0       0.000000  \n",
       "24      -5.318491                0.0      -2.563049  \n",
       "25      -3.724726                0.0      -5.418340  \n",
       "26      -0.337628                0.0       0.000000  \n",
       "27       0.000000                0.0       0.000000  \n",
       "28      -4.784974                0.0       0.000000  \n",
       "29       0.000000                0.0       0.000000  \n",
       "30      -1.126085                0.0       0.000000  \n",
       "31      -5.406532                0.0      -3.415827  \n",
       "32      -4.358505                0.0      -4.445446  \n",
       "33       0.000000                0.0       0.000000  \n",
       "34      -5.478121                0.0      -4.277540  \n",
       "35       0.000000                0.0       0.000000  \n",
       "36       0.000000                0.0       0.000000  \n",
       "37       0.000000                0.0      -5.137422  \n",
       "38      -4.401513                0.0       0.000000  \n",
       "39      -0.552739                0.0       0.000000  \n",
       "40       1.271810                0.0       0.000000  \n",
       "41      -3.629754                0.0      -2.651342  \n",
       "42      -4.409913                0.0      -4.443101  \n",
       "43       0.000000                0.0       0.000000  \n",
       "44       0.000000                0.0       0.000000  \n",
       "45      -0.519950                0.0      -5.838742  \n",
       "46       0.000000                0.0       0.000000  \n",
       "47      -4.605926                0.0       0.000000  \n",
       "48      -1.199111                0.0       0.000000  \n",
       "49      -1.402339                0.0       0.000000  "
      ]
     },
     "execution_count": 4,
     "metadata": {},
     "output_type": "execute_result"
    }
   ],
   "source": [
    "df.head(50)"
   ]
  },
  {
   "cell_type": "code",
   "execution_count": 5,
   "metadata": {},
   "outputs": [
    {
     "data": {
      "text/html": [
       "<div>\n",
       "<style scoped>\n",
       "    .dataframe tbody tr th:only-of-type {\n",
       "        vertical-align: middle;\n",
       "    }\n",
       "\n",
       "    .dataframe tbody tr th {\n",
       "        vertical-align: top;\n",
       "    }\n",
       "\n",
       "    .dataframe thead th {\n",
       "        text-align: right;\n",
       "    }\n",
       "</style>\n",
       "<table border=\"1\" class=\"dataframe\">\n",
       "  <thead>\n",
       "    <tr style=\"text-align: right;\">\n",
       "      <th></th>\n",
       "      <th>Token</th>\n",
       "      <th>PMI - All bios</th>\n",
       "      <th>PMI - Sports</th>\n",
       "      <th>PMI - Scientists</th>\n",
       "      <th>PMI - Artists</th>\n",
       "      <th>PMI - Programming</th>\n",
       "      <th>PMI - Monarch</th>\n",
       "    </tr>\n",
       "  </thead>\n",
       "  <tbody>\n",
       "    <tr>\n",
       "      <th>3950</th>\n",
       "      <td>(final, she)</td>\n",
       "      <td>1.872091</td>\n",
       "      <td>1.483149</td>\n",
       "      <td>0.00000</td>\n",
       "      <td>1.271810</td>\n",
       "      <td>0.000000</td>\n",
       "      <td>1.611338</td>\n",
       "    </tr>\n",
       "    <tr>\n",
       "      <th>3951</th>\n",
       "      <td>(she, collaborated)</td>\n",
       "      <td>1.872091</td>\n",
       "      <td>1.483149</td>\n",
       "      <td>1.67449</td>\n",
       "      <td>1.258064</td>\n",
       "      <td>0.000000</td>\n",
       "      <td>1.611338</td>\n",
       "    </tr>\n",
       "    <tr>\n",
       "      <th>3952</th>\n",
       "      <td>(stage, she)</td>\n",
       "      <td>1.872091</td>\n",
       "      <td>1.483149</td>\n",
       "      <td>1.67449</td>\n",
       "      <td>1.271810</td>\n",
       "      <td>0.000000</td>\n",
       "      <td>1.611338</td>\n",
       "    </tr>\n",
       "    <tr>\n",
       "      <th>3953</th>\n",
       "      <td>(her, degree)</td>\n",
       "      <td>1.872091</td>\n",
       "      <td>1.483149</td>\n",
       "      <td>1.67449</td>\n",
       "      <td>1.271810</td>\n",
       "      <td>0.000000</td>\n",
       "      <td>1.611338</td>\n",
       "    </tr>\n",
       "    <tr>\n",
       "      <th>3954</th>\n",
       "      <td>(female, actor)</td>\n",
       "      <td>1.872091</td>\n",
       "      <td>0.000000</td>\n",
       "      <td>1.67449</td>\n",
       "      <td>1.271810</td>\n",
       "      <td>0.000000</td>\n",
       "      <td>1.611338</td>\n",
       "    </tr>\n",
       "    <tr>\n",
       "      <th>3955</th>\n",
       "      <td>(she, reprised)</td>\n",
       "      <td>1.872091</td>\n",
       "      <td>0.000000</td>\n",
       "      <td>0.00000</td>\n",
       "      <td>1.271810</td>\n",
       "      <td>0.000000</td>\n",
       "      <td>1.611338</td>\n",
       "    </tr>\n",
       "    <tr>\n",
       "      <th>3956</th>\n",
       "      <td>(producer, she)</td>\n",
       "      <td>1.872091</td>\n",
       "      <td>0.000000</td>\n",
       "      <td>1.67449</td>\n",
       "      <td>1.271810</td>\n",
       "      <td>0.000000</td>\n",
       "      <td>1.611338</td>\n",
       "    </tr>\n",
       "    <tr>\n",
       "      <th>3957</th>\n",
       "      <td>(established, her)</td>\n",
       "      <td>1.872091</td>\n",
       "      <td>1.483149</td>\n",
       "      <td>1.67449</td>\n",
       "      <td>1.271810</td>\n",
       "      <td>0.000000</td>\n",
       "      <td>1.611338</td>\n",
       "    </tr>\n",
       "    <tr>\n",
       "      <th>3958</th>\n",
       "      <td>(women, photographers)</td>\n",
       "      <td>1.872091</td>\n",
       "      <td>0.000000</td>\n",
       "      <td>1.67449</td>\n",
       "      <td>1.271810</td>\n",
       "      <td>0.000000</td>\n",
       "      <td>1.611338</td>\n",
       "    </tr>\n",
       "    <tr>\n",
       "      <th>3959</th>\n",
       "      <td>(guest, actress)</td>\n",
       "      <td>1.872091</td>\n",
       "      <td>1.483149</td>\n",
       "      <td>0.00000</td>\n",
       "      <td>1.271810</td>\n",
       "      <td>0.000000</td>\n",
       "      <td>1.611338</td>\n",
       "    </tr>\n",
       "    <tr>\n",
       "      <th>3960</th>\n",
       "      <td>(french, actresses)</td>\n",
       "      <td>1.872091</td>\n",
       "      <td>0.000000</td>\n",
       "      <td>0.00000</td>\n",
       "      <td>1.271810</td>\n",
       "      <td>0.000000</td>\n",
       "      <td>1.611338</td>\n",
       "    </tr>\n",
       "    <tr>\n",
       "      <th>3961</th>\n",
       "      <td>(french, female)</td>\n",
       "      <td>1.872091</td>\n",
       "      <td>1.483149</td>\n",
       "      <td>0.00000</td>\n",
       "      <td>1.271810</td>\n",
       "      <td>0.000000</td>\n",
       "      <td>1.611338</td>\n",
       "    </tr>\n",
       "    <tr>\n",
       "      <th>3962</th>\n",
       "      <td>(tour, she)</td>\n",
       "      <td>1.872091</td>\n",
       "      <td>1.483149</td>\n",
       "      <td>1.67449</td>\n",
       "      <td>1.271810</td>\n",
       "      <td>0.000000</td>\n",
       "      <td>1.611338</td>\n",
       "    </tr>\n",
       "    <tr>\n",
       "      <th>3963</th>\n",
       "      <td>(1992, she)</td>\n",
       "      <td>1.872091</td>\n",
       "      <td>1.483149</td>\n",
       "      <td>1.67449</td>\n",
       "      <td>1.247712</td>\n",
       "      <td>0.000000</td>\n",
       "      <td>1.611338</td>\n",
       "    </tr>\n",
       "    <tr>\n",
       "      <th>3964</th>\n",
       "      <td>(her, junior)</td>\n",
       "      <td>1.872091</td>\n",
       "      <td>1.425991</td>\n",
       "      <td>1.67449</td>\n",
       "      <td>1.271810</td>\n",
       "      <td>3.002440</td>\n",
       "      <td>1.611338</td>\n",
       "    </tr>\n",
       "    <tr>\n",
       "      <th>3965</th>\n",
       "      <td>(her, colleagues)</td>\n",
       "      <td>1.872091</td>\n",
       "      <td>1.483149</td>\n",
       "      <td>1.67449</td>\n",
       "      <td>1.271810</td>\n",
       "      <td>3.002440</td>\n",
       "      <td>1.611338</td>\n",
       "    </tr>\n",
       "    <tr>\n",
       "      <th>3966</th>\n",
       "      <td>(elections, she)</td>\n",
       "      <td>1.872091</td>\n",
       "      <td>1.483149</td>\n",
       "      <td>1.67449</td>\n",
       "      <td>0.000000</td>\n",
       "      <td>0.000000</td>\n",
       "      <td>1.611338</td>\n",
       "    </tr>\n",
       "    <tr>\n",
       "      <th>3967</th>\n",
       "      <td>(release, her)</td>\n",
       "      <td>1.872091</td>\n",
       "      <td>1.483149</td>\n",
       "      <td>1.67449</td>\n",
       "      <td>1.271810</td>\n",
       "      <td>0.000000</td>\n",
       "      <td>1.611338</td>\n",
       "    </tr>\n",
       "    <tr>\n",
       "      <th>3968</th>\n",
       "      <td>(established, herself)</td>\n",
       "      <td>1.872091</td>\n",
       "      <td>1.483149</td>\n",
       "      <td>1.67449</td>\n",
       "      <td>1.271810</td>\n",
       "      <td>0.000000</td>\n",
       "      <td>1.611338</td>\n",
       "    </tr>\n",
       "    <tr>\n",
       "      <th>3969</th>\n",
       "      <td>(1984, she)</td>\n",
       "      <td>1.872091</td>\n",
       "      <td>1.483149</td>\n",
       "      <td>1.67449</td>\n",
       "      <td>1.242611</td>\n",
       "      <td>3.002440</td>\n",
       "      <td>1.464734</td>\n",
       "    </tr>\n",
       "    <tr>\n",
       "      <th>3970</th>\n",
       "      <td>(1978, she)</td>\n",
       "      <td>1.872091</td>\n",
       "      <td>1.483149</td>\n",
       "      <td>1.67449</td>\n",
       "      <td>1.271810</td>\n",
       "      <td>0.000000</td>\n",
       "      <td>1.611338</td>\n",
       "    </tr>\n",
       "    <tr>\n",
       "      <th>3971</th>\n",
       "      <td>(1977, she)</td>\n",
       "      <td>1.872091</td>\n",
       "      <td>1.483149</td>\n",
       "      <td>1.67449</td>\n",
       "      <td>1.218157</td>\n",
       "      <td>2.714758</td>\n",
       "      <td>1.611338</td>\n",
       "    </tr>\n",
       "    <tr>\n",
       "      <th>3972</th>\n",
       "      <td>(1980s, she)</td>\n",
       "      <td>1.872091</td>\n",
       "      <td>1.483149</td>\n",
       "      <td>1.67449</td>\n",
       "      <td>1.271810</td>\n",
       "      <td>0.000000</td>\n",
       "      <td>1.611338</td>\n",
       "    </tr>\n",
       "    <tr>\n",
       "      <th>3973</th>\n",
       "      <td>(1990s, she)</td>\n",
       "      <td>1.872091</td>\n",
       "      <td>1.483149</td>\n",
       "      <td>1.67449</td>\n",
       "      <td>1.271810</td>\n",
       "      <td>0.000000</td>\n",
       "      <td>1.611338</td>\n",
       "    </tr>\n",
       "    <tr>\n",
       "      <th>3974</th>\n",
       "      <td>(as, herself)</td>\n",
       "      <td>1.872091</td>\n",
       "      <td>1.483149</td>\n",
       "      <td>1.67449</td>\n",
       "      <td>1.271810</td>\n",
       "      <td>0.000000</td>\n",
       "      <td>1.611338</td>\n",
       "    </tr>\n",
       "    <tr>\n",
       "      <th>3975</th>\n",
       "      <td>(1965, she)</td>\n",
       "      <td>1.872091</td>\n",
       "      <td>1.483149</td>\n",
       "      <td>1.67449</td>\n",
       "      <td>1.192561</td>\n",
       "      <td>3.002440</td>\n",
       "      <td>1.611338</td>\n",
       "    </tr>\n",
       "    <tr>\n",
       "      <th>3976</th>\n",
       "      <td>(her, views)</td>\n",
       "      <td>1.872091</td>\n",
       "      <td>1.483149</td>\n",
       "      <td>1.67449</td>\n",
       "      <td>1.271810</td>\n",
       "      <td>0.000000</td>\n",
       "      <td>1.502139</td>\n",
       "    </tr>\n",
       "    <tr>\n",
       "      <th>3977</th>\n",
       "      <td>(female, pop)</td>\n",
       "      <td>1.872091</td>\n",
       "      <td>1.483149</td>\n",
       "      <td>0.00000</td>\n",
       "      <td>1.263579</td>\n",
       "      <td>0.000000</td>\n",
       "      <td>1.611338</td>\n",
       "    </tr>\n",
       "    <tr>\n",
       "      <th>3978</th>\n",
       "      <td>(1994, she)</td>\n",
       "      <td>1.872091</td>\n",
       "      <td>1.483149</td>\n",
       "      <td>1.67449</td>\n",
       "      <td>1.271810</td>\n",
       "      <td>3.002440</td>\n",
       "      <td>1.509555</td>\n",
       "    </tr>\n",
       "    <tr>\n",
       "      <th>3979</th>\n",
       "      <td>(her, talent)</td>\n",
       "      <td>1.872091</td>\n",
       "      <td>1.483149</td>\n",
       "      <td>1.67449</td>\n",
       "      <td>1.271810</td>\n",
       "      <td>0.000000</td>\n",
       "      <td>1.611338</td>\n",
       "    </tr>\n",
       "    <tr>\n",
       "      <th>3980</th>\n",
       "      <td>(featured, her)</td>\n",
       "      <td>1.872091</td>\n",
       "      <td>1.483149</td>\n",
       "      <td>1.67449</td>\n",
       "      <td>1.239807</td>\n",
       "      <td>3.002440</td>\n",
       "      <td>1.611338</td>\n",
       "    </tr>\n",
       "    <tr>\n",
       "      <th>3981</th>\n",
       "      <td>(landed, her)</td>\n",
       "      <td>1.872091</td>\n",
       "      <td>1.483149</td>\n",
       "      <td>1.67449</td>\n",
       "      <td>1.271810</td>\n",
       "      <td>0.000000</td>\n",
       "      <td>1.611338</td>\n",
       "    </tr>\n",
       "    <tr>\n",
       "      <th>3982</th>\n",
       "      <td>(she, majored)</td>\n",
       "      <td>1.872091</td>\n",
       "      <td>1.483149</td>\n",
       "      <td>1.67449</td>\n",
       "      <td>1.271810</td>\n",
       "      <td>3.002440</td>\n",
       "      <td>1.611338</td>\n",
       "    </tr>\n",
       "    <tr>\n",
       "      <th>3983</th>\n",
       "      <td>(she, created)</td>\n",
       "      <td>1.872091</td>\n",
       "      <td>1.483149</td>\n",
       "      <td>1.67449</td>\n",
       "      <td>1.261115</td>\n",
       "      <td>3.002440</td>\n",
       "      <td>1.611338</td>\n",
       "    </tr>\n",
       "    <tr>\n",
       "      <th>3984</th>\n",
       "      <td>(her, popularity)</td>\n",
       "      <td>1.872091</td>\n",
       "      <td>1.483149</td>\n",
       "      <td>1.67449</td>\n",
       "      <td>1.271810</td>\n",
       "      <td>0.000000</td>\n",
       "      <td>1.611338</td>\n",
       "    </tr>\n",
       "    <tr>\n",
       "      <th>3985</th>\n",
       "      <td>(anne, category)</td>\n",
       "      <td>1.872091</td>\n",
       "      <td>1.483149</td>\n",
       "      <td>1.67449</td>\n",
       "      <td>1.271810</td>\n",
       "      <td>3.002440</td>\n",
       "      <td>1.611338</td>\n",
       "    </tr>\n",
       "    <tr>\n",
       "      <th>3986</th>\n",
       "      <td>(completing, her)</td>\n",
       "      <td>1.872091</td>\n",
       "      <td>1.483149</td>\n",
       "      <td>1.67449</td>\n",
       "      <td>1.271810</td>\n",
       "      <td>3.002440</td>\n",
       "      <td>1.611338</td>\n",
       "    </tr>\n",
       "    <tr>\n",
       "      <th>3987</th>\n",
       "      <td>(her, poems)</td>\n",
       "      <td>1.872091</td>\n",
       "      <td>1.483149</td>\n",
       "      <td>1.67449</td>\n",
       "      <td>1.271810</td>\n",
       "      <td>0.000000</td>\n",
       "      <td>1.611338</td>\n",
       "    </tr>\n",
       "    <tr>\n",
       "      <th>3988</th>\n",
       "      <td>(19, she)</td>\n",
       "      <td>1.872091</td>\n",
       "      <td>1.483149</td>\n",
       "      <td>1.67449</td>\n",
       "      <td>1.271810</td>\n",
       "      <td>3.002440</td>\n",
       "      <td>1.611338</td>\n",
       "    </tr>\n",
       "    <tr>\n",
       "      <th>3989</th>\n",
       "      <td>(nurses, category)</td>\n",
       "      <td>1.872091</td>\n",
       "      <td>1.483149</td>\n",
       "      <td>1.67449</td>\n",
       "      <td>1.271810</td>\n",
       "      <td>0.000000</td>\n",
       "      <td>1.611338</td>\n",
       "    </tr>\n",
       "    <tr>\n",
       "      <th>3990</th>\n",
       "      <td>(women, short)</td>\n",
       "      <td>1.872091</td>\n",
       "      <td>0.000000</td>\n",
       "      <td>1.67449</td>\n",
       "      <td>1.271810</td>\n",
       "      <td>0.000000</td>\n",
       "      <td>1.611338</td>\n",
       "    </tr>\n",
       "    <tr>\n",
       "      <th>3991</th>\n",
       "      <td>(her, post)</td>\n",
       "      <td>1.872091</td>\n",
       "      <td>1.483149</td>\n",
       "      <td>1.67449</td>\n",
       "      <td>1.271810</td>\n",
       "      <td>3.002440</td>\n",
       "      <td>1.374949</td>\n",
       "    </tr>\n",
       "    <tr>\n",
       "      <th>3992</th>\n",
       "      <td>(1971, she)</td>\n",
       "      <td>1.872091</td>\n",
       "      <td>1.483149</td>\n",
       "      <td>1.67449</td>\n",
       "      <td>1.271810</td>\n",
       "      <td>0.000000</td>\n",
       "      <td>1.611338</td>\n",
       "    </tr>\n",
       "    <tr>\n",
       "      <th>3993</th>\n",
       "      <td>(age, she)</td>\n",
       "      <td>1.872091</td>\n",
       "      <td>1.483149</td>\n",
       "      <td>1.67449</td>\n",
       "      <td>1.271810</td>\n",
       "      <td>3.002440</td>\n",
       "      <td>1.611338</td>\n",
       "    </tr>\n",
       "    <tr>\n",
       "      <th>3994</th>\n",
       "      <td>(sexiest, women)</td>\n",
       "      <td>1.872091</td>\n",
       "      <td>1.483149</td>\n",
       "      <td>0.00000</td>\n",
       "      <td>1.271810</td>\n",
       "      <td>0.000000</td>\n",
       "      <td>1.611338</td>\n",
       "    </tr>\n",
       "    <tr>\n",
       "      <th>3995</th>\n",
       "      <td>(illustrated, swimsuit)</td>\n",
       "      <td>1.872091</td>\n",
       "      <td>1.483149</td>\n",
       "      <td>0.00000</td>\n",
       "      <td>1.271810</td>\n",
       "      <td>0.000000</td>\n",
       "      <td>0.000000</td>\n",
       "    </tr>\n",
       "    <tr>\n",
       "      <th>3996</th>\n",
       "      <td>(she, teamed)</td>\n",
       "      <td>1.872091</td>\n",
       "      <td>1.483149</td>\n",
       "      <td>1.67449</td>\n",
       "      <td>1.271810</td>\n",
       "      <td>3.002440</td>\n",
       "      <td>1.611338</td>\n",
       "    </tr>\n",
       "    <tr>\n",
       "      <th>3997</th>\n",
       "      <td>(1976, she)</td>\n",
       "      <td>1.872091</td>\n",
       "      <td>1.483149</td>\n",
       "      <td>1.67449</td>\n",
       "      <td>1.221258</td>\n",
       "      <td>0.000000</td>\n",
       "      <td>1.611338</td>\n",
       "    </tr>\n",
       "    <tr>\n",
       "      <th>3998</th>\n",
       "      <td>(her, greatest)</td>\n",
       "      <td>1.872091</td>\n",
       "      <td>1.483149</td>\n",
       "      <td>1.67449</td>\n",
       "      <td>1.237908</td>\n",
       "      <td>0.000000</td>\n",
       "      <td>1.448819</td>\n",
       "    </tr>\n",
       "    <tr>\n",
       "      <th>3999</th>\n",
       "      <td>(she, achieved)</td>\n",
       "      <td>1.872091</td>\n",
       "      <td>1.483149</td>\n",
       "      <td>1.67449</td>\n",
       "      <td>1.271810</td>\n",
       "      <td>0.000000</td>\n",
       "      <td>1.611338</td>\n",
       "    </tr>\n",
       "  </tbody>\n",
       "</table>\n",
       "</div>"
      ],
      "text/plain": [
       "                        Token  PMI - All bios  PMI - Sports  PMI - Scientists  \\\n",
       "3950             (final, she)        1.872091      1.483149           0.00000   \n",
       "3951      (she, collaborated)        1.872091      1.483149           1.67449   \n",
       "3952             (stage, she)        1.872091      1.483149           1.67449   \n",
       "3953            (her, degree)        1.872091      1.483149           1.67449   \n",
       "3954          (female, actor)        1.872091      0.000000           1.67449   \n",
       "3955          (she, reprised)        1.872091      0.000000           0.00000   \n",
       "3956          (producer, she)        1.872091      0.000000           1.67449   \n",
       "3957       (established, her)        1.872091      1.483149           1.67449   \n",
       "3958   (women, photographers)        1.872091      0.000000           1.67449   \n",
       "3959         (guest, actress)        1.872091      1.483149           0.00000   \n",
       "3960      (french, actresses)        1.872091      0.000000           0.00000   \n",
       "3961         (french, female)        1.872091      1.483149           0.00000   \n",
       "3962              (tour, she)        1.872091      1.483149           1.67449   \n",
       "3963              (1992, she)        1.872091      1.483149           1.67449   \n",
       "3964            (her, junior)        1.872091      1.425991           1.67449   \n",
       "3965        (her, colleagues)        1.872091      1.483149           1.67449   \n",
       "3966         (elections, she)        1.872091      1.483149           1.67449   \n",
       "3967           (release, her)        1.872091      1.483149           1.67449   \n",
       "3968   (established, herself)        1.872091      1.483149           1.67449   \n",
       "3969              (1984, she)        1.872091      1.483149           1.67449   \n",
       "3970              (1978, she)        1.872091      1.483149           1.67449   \n",
       "3971              (1977, she)        1.872091      1.483149           1.67449   \n",
       "3972             (1980s, she)        1.872091      1.483149           1.67449   \n",
       "3973             (1990s, she)        1.872091      1.483149           1.67449   \n",
       "3974            (as, herself)        1.872091      1.483149           1.67449   \n",
       "3975              (1965, she)        1.872091      1.483149           1.67449   \n",
       "3976             (her, views)        1.872091      1.483149           1.67449   \n",
       "3977            (female, pop)        1.872091      1.483149           0.00000   \n",
       "3978              (1994, she)        1.872091      1.483149           1.67449   \n",
       "3979            (her, talent)        1.872091      1.483149           1.67449   \n",
       "3980          (featured, her)        1.872091      1.483149           1.67449   \n",
       "3981            (landed, her)        1.872091      1.483149           1.67449   \n",
       "3982           (she, majored)        1.872091      1.483149           1.67449   \n",
       "3983           (she, created)        1.872091      1.483149           1.67449   \n",
       "3984        (her, popularity)        1.872091      1.483149           1.67449   \n",
       "3985         (anne, category)        1.872091      1.483149           1.67449   \n",
       "3986        (completing, her)        1.872091      1.483149           1.67449   \n",
       "3987             (her, poems)        1.872091      1.483149           1.67449   \n",
       "3988                (19, she)        1.872091      1.483149           1.67449   \n",
       "3989       (nurses, category)        1.872091      1.483149           1.67449   \n",
       "3990           (women, short)        1.872091      0.000000           1.67449   \n",
       "3991              (her, post)        1.872091      1.483149           1.67449   \n",
       "3992              (1971, she)        1.872091      1.483149           1.67449   \n",
       "3993               (age, she)        1.872091      1.483149           1.67449   \n",
       "3994         (sexiest, women)        1.872091      1.483149           0.00000   \n",
       "3995  (illustrated, swimsuit)        1.872091      1.483149           0.00000   \n",
       "3996            (she, teamed)        1.872091      1.483149           1.67449   \n",
       "3997              (1976, she)        1.872091      1.483149           1.67449   \n",
       "3998          (her, greatest)        1.872091      1.483149           1.67449   \n",
       "3999          (she, achieved)        1.872091      1.483149           1.67449   \n",
       "\n",
       "      PMI - Artists  PMI - Programming  PMI - Monarch  \n",
       "3950       1.271810           0.000000       1.611338  \n",
       "3951       1.258064           0.000000       1.611338  \n",
       "3952       1.271810           0.000000       1.611338  \n",
       "3953       1.271810           0.000000       1.611338  \n",
       "3954       1.271810           0.000000       1.611338  \n",
       "3955       1.271810           0.000000       1.611338  \n",
       "3956       1.271810           0.000000       1.611338  \n",
       "3957       1.271810           0.000000       1.611338  \n",
       "3958       1.271810           0.000000       1.611338  \n",
       "3959       1.271810           0.000000       1.611338  \n",
       "3960       1.271810           0.000000       1.611338  \n",
       "3961       1.271810           0.000000       1.611338  \n",
       "3962       1.271810           0.000000       1.611338  \n",
       "3963       1.247712           0.000000       1.611338  \n",
       "3964       1.271810           3.002440       1.611338  \n",
       "3965       1.271810           3.002440       1.611338  \n",
       "3966       0.000000           0.000000       1.611338  \n",
       "3967       1.271810           0.000000       1.611338  \n",
       "3968       1.271810           0.000000       1.611338  \n",
       "3969       1.242611           3.002440       1.464734  \n",
       "3970       1.271810           0.000000       1.611338  \n",
       "3971       1.218157           2.714758       1.611338  \n",
       "3972       1.271810           0.000000       1.611338  \n",
       "3973       1.271810           0.000000       1.611338  \n",
       "3974       1.271810           0.000000       1.611338  \n",
       "3975       1.192561           3.002440       1.611338  \n",
       "3976       1.271810           0.000000       1.502139  \n",
       "3977       1.263579           0.000000       1.611338  \n",
       "3978       1.271810           3.002440       1.509555  \n",
       "3979       1.271810           0.000000       1.611338  \n",
       "3980       1.239807           3.002440       1.611338  \n",
       "3981       1.271810           0.000000       1.611338  \n",
       "3982       1.271810           3.002440       1.611338  \n",
       "3983       1.261115           3.002440       1.611338  \n",
       "3984       1.271810           0.000000       1.611338  \n",
       "3985       1.271810           3.002440       1.611338  \n",
       "3986       1.271810           3.002440       1.611338  \n",
       "3987       1.271810           0.000000       1.611338  \n",
       "3988       1.271810           3.002440       1.611338  \n",
       "3989       1.271810           0.000000       1.611338  \n",
       "3990       1.271810           0.000000       1.611338  \n",
       "3991       1.271810           3.002440       1.374949  \n",
       "3992       1.271810           0.000000       1.611338  \n",
       "3993       1.271810           3.002440       1.611338  \n",
       "3994       1.271810           0.000000       1.611338  \n",
       "3995       1.271810           0.000000       0.000000  \n",
       "3996       1.271810           3.002440       1.611338  \n",
       "3997       1.221258           0.000000       1.611338  \n",
       "3998       1.237908           0.000000       1.448819  \n",
       "3999       1.271810           0.000000       1.611338  "
      ]
     },
     "execution_count": 5,
     "metadata": {},
     "output_type": "execute_result"
    }
   ],
   "source": [
    "df.tail(50)"
   ]
  },
  {
   "cell_type": "code",
   "execution_count": 17,
   "metadata": {},
   "outputs": [],
   "source": [
    "pc_monarch = PMICalculator(female_monarch + female_monarch_u, male_monarch + male_monarch_u, 2524, 10120)"
   ]
  },
  {
   "cell_type": "code",
   "execution_count": 15,
   "metadata": {},
   "outputs": [],
   "source": [
    "df[\"PMI - Monarch\"] = [pc_monarch.pmi(i[0]) for i in master_pmi]"
   ]
  },
  {
   "cell_type": "code",
   "execution_count": 17,
   "metadata": {},
   "outputs": [
    {
     "data": {
      "text/html": [
       "<div>\n",
       "<style scoped>\n",
       "    .dataframe tbody tr th:only-of-type {\n",
       "        vertical-align: middle;\n",
       "    }\n",
       "\n",
       "    .dataframe tbody tr th {\n",
       "        vertical-align: top;\n",
       "    }\n",
       "\n",
       "    .dataframe thead th {\n",
       "        text-align: right;\n",
       "    }\n",
       "</style>\n",
       "<table border=\"1\" class=\"dataframe\">\n",
       "  <thead>\n",
       "    <tr style=\"text-align: right;\">\n",
       "      <th></th>\n",
       "      <th>Token</th>\n",
       "      <th>PMI - All bios</th>\n",
       "      <th>PMI - Sports</th>\n",
       "      <th>PMI - Scientists</th>\n",
       "      <th>PMI - Artists</th>\n",
       "      <th>PMI - Programming</th>\n",
       "      <th>PMI - Monarch</th>\n",
       "    </tr>\n",
       "  </thead>\n",
       "  <tbody>\n",
       "    <tr>\n",
       "      <th>0</th>\n",
       "      <td>(season, he)</td>\n",
       "      <td>-7.169508</td>\n",
       "      <td>0.0</td>\n",
       "      <td>0.0</td>\n",
       "      <td>-3.419538</td>\n",
       "      <td>0.0</td>\n",
       "      <td>-4.606266</td>\n",
       "    </tr>\n",
       "    <tr>\n",
       "      <th>1</th>\n",
       "      <td>(c, season)</td>\n",
       "      <td>-7.130599</td>\n",
       "      <td>0.0</td>\n",
       "      <td>0.0</td>\n",
       "      <td>-1.436240</td>\n",
       "      <td>0.0</td>\n",
       "      <td>0.000000</td>\n",
       "    </tr>\n",
       "    <tr>\n",
       "      <th>2</th>\n",
       "      <td>(nhl, season)</td>\n",
       "      <td>-6.941459</td>\n",
       "      <td>0.0</td>\n",
       "      <td>0.0</td>\n",
       "      <td>-2.640213</td>\n",
       "      <td>0.0</td>\n",
       "      <td>0.000000</td>\n",
       "    </tr>\n",
       "    <tr>\n",
       "      <th>3</th>\n",
       "      <td>(english, male)</td>\n",
       "      <td>-6.587088</td>\n",
       "      <td>0.0</td>\n",
       "      <td>0.0</td>\n",
       "      <td>0.000000</td>\n",
       "      <td>0.0</td>\n",
       "      <td>-3.267669</td>\n",
       "    </tr>\n",
       "    <tr>\n",
       "      <th>4</th>\n",
       "      <td>(class, cricket)</td>\n",
       "      <td>-6.339121</td>\n",
       "      <td>0.0</td>\n",
       "      <td>0.0</td>\n",
       "      <td>0.000000</td>\n",
       "      <td>0.0</td>\n",
       "      <td>0.000000</td>\n",
       "    </tr>\n",
       "  </tbody>\n",
       "</table>\n",
       "</div>"
      ],
      "text/plain": [
       "              Token  PMI - All bios  PMI - Sports  PMI - Scientists  \\\n",
       "0      (season, he)       -7.169508           0.0               0.0   \n",
       "1       (c, season)       -7.130599           0.0               0.0   \n",
       "2     (nhl, season)       -6.941459           0.0               0.0   \n",
       "3   (english, male)       -6.587088           0.0               0.0   \n",
       "4  (class, cricket)       -6.339121           0.0               0.0   \n",
       "\n",
       "   PMI - Artists  PMI - Programming  PMI - Monarch  \n",
       "0      -3.419538                0.0      -4.606266  \n",
       "1      -1.436240                0.0       0.000000  \n",
       "2      -2.640213                0.0       0.000000  \n",
       "3       0.000000                0.0      -3.267669  \n",
       "4       0.000000                0.0       0.000000  "
      ]
     },
     "execution_count": 17,
     "metadata": {},
     "output_type": "execute_result"
    }
   ],
   "source": [
    "df.head()"
   ]
  },
  {
   "cell_type": "code",
   "execution_count": 18,
   "metadata": {},
   "outputs": [],
   "source": [
    "# save_object(df, 'data/df.pkl')"
   ]
  },
  {
   "cell_type": "code",
   "execution_count": 13,
   "metadata": {},
   "outputs": [
    {
     "data": {
      "text/plain": [
       "272367"
      ]
     },
     "execution_count": 13,
     "metadata": {},
     "output_type": "execute_result"
    }
   ],
   "source": [
    "len(all_tokens_pmi)"
   ]
  },
  {
   "cell_type": "code",
   "execution_count": 20,
   "metadata": {},
   "outputs": [
    {
     "data": {
      "image/png": "[encoded data removed]",
      "text/plain": [
       "<Figure size 504x504 with 1 Axes>"
      ]
     },
     "metadata": {},
     "output_type": "display_data"
    }
   ],
   "source": [
    "x = [pc_sports.pmi(i[0]) - i[1] for i in all_tokens_pmi]\n",
    "# x = df['PMI - Sports'] - df['PMI - All bios']\n",
    "plt.figure(figsize=(7,7))\n",
    "plt.hist(x, bins=25, align='mid', edgecolor='white')\n",
    "plt.xlim(xmin=-7.5, xmax = 7.5)\n",
    "# plt.ylim(ymax = 1550)\n",
    "plt.xlabel('Change in PMI from global corpus')\n",
    "plt.ylabel('Count of tokens')\n",
    "plt.title(\"Histogram of changes in PMI values from global corpus to Category: Sports\")\n",
    "plt.show()"
   ]
  },
  {
   "cell_type": "code",
   "execution_count": 21,
   "metadata": {},
   "outputs": [
    {
     "data": {
      "image/png": "[encoded data removed]",
      "text/plain": [
       "<Figure size 504x504 with 1 Axes>"
      ]
     },
     "metadata": {},
     "output_type": "display_data"
    }
   ],
   "source": [
    "y = [pc_scientist.pmi(i[0]) - i[1] for i in all_tokens_pmi]\n",
    "\n",
    "# y = df['PMI - Scientists'] - df['PMI - All bios']\n",
    "plt.figure(figsize=(7,7))\n",
    "plt.hist(y, bins=25, align='mid', edgecolor='white')\n",
    "plt.xlim(xmin=-7.5, xmax = 7.5)\n",
    "# plt.ylim(ymax = 1550)\n",
    "plt.xlabel('Change in PMI from global corpus')\n",
    "plt.ylabel('Count of tokens')\n",
    "plt.title(\"Histogram of changes in PMI values from global corpus to Category: Scientist\")\n",
    "plt.show()"
   ]
  },
  {
   "cell_type": "code",
   "execution_count": 22,
   "metadata": {},
   "outputs": [
    {
     "data": {
      "image/png": "[encoded data removed]",
      "text/plain": [
       "<Figure size 504x504 with 1 Axes>"
      ]
     },
     "metadata": {},
     "output_type": "display_data"
    }
   ],
   "source": [
    "y = [pc_artists.pmi(i[0]) - i[1] for i in all_tokens_pmi]\n",
    "plt.figure(figsize=(7,7))\n",
    "plt.hist(y, bins=25, align='mid', edgecolor='white')\n",
    "plt.xlim(xmin=-7.5, xmax = 7.5)\n",
    "plt.xlabel('Change in PMI from global corpus')\n",
    "plt.ylabel('Count of tokens')\n",
    "plt.title(\"Histogram of changes in PMI values from global corpus to Category: Artist\")\n",
    "plt.show()"
   ]
  },
  {
   "cell_type": "code",
   "execution_count": 23,
   "metadata": {},
   "outputs": [
    {
     "data": {
      "image/png": "[encoded data removed]",
      "text/plain": [
       "<Figure size 504x504 with 1 Axes>"
      ]
     },
     "metadata": {},
     "output_type": "display_data"
    }
   ],
   "source": [
    "y = [pc_monarch.pmi(i[0]) - i[1] for i in all_tokens_pmi]\n",
    "plt.figure(figsize=(7,7))\n",
    "plt.hist(y, bins=25, align='mid', edgecolor='white')\n",
    "plt.xlim(xmin=-7.5, xmax = 7.5)\n",
    "plt.xlabel('Change in PMI from global corpus')\n",
    "plt.ylabel('Count of tokens')\n",
    "plt.title(\"Histogram of changes in PMI values from global corpus to Category: Monarch\")\n",
    "plt.show()"
   ]
  },
  {
   "cell_type": "code",
   "execution_count": 24,
   "metadata": {},
   "outputs": [
    {
     "data": {
      "image/png": "[encoded data removed]",
      "text/plain": [
       "<Figure size 504x504 with 1 Axes>"
      ]
     },
     "metadata": {},
     "output_type": "display_data"
    }
   ],
   "source": [
    "y = [pc_programming.pmi(i[0]) - i[1] for i in all_tokens_pmi]\n",
    "plt.figure(figsize=(7,7))\n",
    "plt.hist(y, bins=25, align='mid', edgecolor='white')\n",
    "plt.xlim(xmin=-7.5, xmax = 7.5)\n",
    "plt.xlabel('Change in PMI from global corpus')\n",
    "plt.ylabel('Count of tokens')\n",
    "plt.title(\"Histogram of changes in PMI values from global corpus to Category: Programming\")\n",
    "plt.show()"
   ]
  },
  {
   "cell_type": "code",
   "execution_count": 32,
   "metadata": {},
   "outputs": [
    {
     "data": {
      "image/png": "[encoded data removed]",
      "text/plain": [
       "<Figure size 576x504 with 1 Axes>"
      ]
     },
     "metadata": {},
     "output_type": "display_data"
    }
   ],
   "source": [
    "data = [[pc_artists.pmi(i[0]) - i[1] for i in all_tokens_pmi],\n",
    "        [pc_sports.pmi(i[0]) - i[1] for i in all_tokens_pmi],\n",
    "        [pc_monarch.pmi(i[0]) - i[1] for i in all_tokens_pmi],\n",
    "        [pc_scientist.pmi(i[0]) - i[1] for i in all_tokens_pmi],\n",
    "        [pc_programming.pmi(i[0]) - i[1] for i in all_tokens_pmi]\n",
    "       ]\n",
    "\n",
    "plt.figure(figsize=(8,7))\n",
    "plt.boxplot(data)\n",
    "plt.xticks([1,2,3,4,5], ['Art', 'Sports', 'Monarchs', 'Science', 'Programming'], fontsize=12)\n",
    "plt.title(\"Changes in PMI values from global corpus to category-limited\", fontsize=16)\n",
    "plt.ylabel('Change in PMI from global corpus', fontsize=13)\n",
    "plt.show()"
   ]
  },
  {
   "cell_type": "code",
   "execution_count": 35,
   "metadata": {},
   "outputs": [
    {
     "data": {
      "text/plain": [
       "(-7.169508117004767, 1.872090797081209)"
      ]
     },
     "execution_count": 35,
     "metadata": {},
     "output_type": "execute_result"
    }
   ],
   "source": [
    "minmax([i[1] for i in all_tokens_pmi])"
   ]
  },
  {
   "cell_type": "code",
   "execution_count": null,
   "metadata": {},
   "outputs": [],
   "source": []
  }
 ],
 "metadata": {
  "kernelspec": {
   "display_name": "Python 3",
   "language": "python",
   "name": "python3"
  },
  "language_info": {
   "codemirror_mode": {
    "name": "ipython",
    "version": 3
   },
   "file_extension": ".py",
   "mimetype": "text/x-python",
   "name": "python",
   "nbconvert_exporter": "python",
   "pygments_lexer": "ipython3",
   "version": "3.6.5"
  },
  "varInspector": {
   "cols": {
    "lenName": 16,
    "lenType": 16,
    "lenVar": 40
   },
   "kernels_config": {
    "python": {
     "delete_cmd_postfix": "",
     "delete_cmd_prefix": "del ",
     "library": "var_list.py",
     "varRefreshCmd": "print(var_dic_list())"
    },
    "r": {
     "delete_cmd_postfix": ") ",
     "delete_cmd_prefix": "rm(",
     "library": "var_list.r",
     "varRefreshCmd": "cat(var_dic_list()) "
    }
   },
   "types_to_exclude": [
    "module",
    "function",
    "builtin_function_or_method",
    "instance",
    "_Feature"
   ],
   "window_display": false
  }
 },
 "nbformat": 4,
 "nbformat_minor": 2
}
